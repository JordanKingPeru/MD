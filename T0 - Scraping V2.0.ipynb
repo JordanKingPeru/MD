{
 "cells": [
  {
   "cell_type": "code",
   "execution_count": 1,
   "metadata": {},
   "outputs": [],
   "source": [
    "from bs4 import BeautifulSoup\n",
    "import requests\n",
    "import pandas as pd\n",
    "import os"
   ]
  },
  {
   "cell_type": "code",
   "execution_count": 4,
   "metadata": {},
   "outputs": [],
   "source": [
    "mainpath = \"D:/Archivos Jordan Rodriguez/Retos/11.SrMD/04.Scraping/\"\n",
    "filename = \"md.csv\"\n",
    "fullpath = os.path.join(mainpath,filename)"
   ]
  },
  {
   "cell_type": "code",
   "execution_count": 5,
   "metadata": {},
   "outputs": [
    {
     "data": {
      "text/html": [
       "<div>\n",
       "<style scoped>\n",
       "    .dataframe tbody tr th:only-of-type {\n",
       "        vertical-align: middle;\n",
       "    }\n",
       "\n",
       "    .dataframe tbody tr th {\n",
       "        vertical-align: top;\n",
       "    }\n",
       "\n",
       "    .dataframe thead th {\n",
       "        text-align: right;\n",
       "    }\n",
       "</style>\n",
       "<table border=\"1\" class=\"dataframe\">\n",
       "  <thead>\n",
       "    <tr style=\"text-align: right;\">\n",
       "      <th></th>\n",
       "      <th>sitio</th>\n",
       "      <th>url</th>\n",
       "    </tr>\n",
       "  </thead>\n",
       "  <tbody>\n",
       "    <tr>\n",
       "      <th>0</th>\n",
       "      <td>rpp</td>\n",
       "      <td>http://www.rpp.com.pe/2014-09-10-relacion-de-m...</td>\n",
       "    </tr>\n",
       "    <tr>\n",
       "      <th>1</th>\n",
       "      <td>rpp</td>\n",
       "      <td>http://www.rpp.com.pe/2014-09-30-mauricio-diez...</td>\n",
       "    </tr>\n",
       "    <tr>\n",
       "      <th>2</th>\n",
       "      <td>rpp</td>\n",
       "      <td>https://rpp.pe/famosos/celebridades/mauricio-d...</td>\n",
       "    </tr>\n",
       "    <tr>\n",
       "      <th>3</th>\n",
       "      <td>rpp</td>\n",
       "      <td>https://rpp.pe/famosos/chollywood/brad-pizza-f...</td>\n",
       "    </tr>\n",
       "    <tr>\n",
       "      <th>4</th>\n",
       "      <td>rpp</td>\n",
       "      <td>https://rpp.pe/famosos/chollywood/leslie-casti...</td>\n",
       "    </tr>\n",
       "  </tbody>\n",
       "</table>\n",
       "</div>"
      ],
      "text/plain": [
       "  sitio                                                url\n",
       "0   rpp  http://www.rpp.com.pe/2014-09-10-relacion-de-m...\n",
       "1   rpp  http://www.rpp.com.pe/2014-09-30-mauricio-diez...\n",
       "2   rpp  https://rpp.pe/famosos/celebridades/mauricio-d...\n",
       "3   rpp  https://rpp.pe/famosos/chollywood/brad-pizza-f...\n",
       "4   rpp  https://rpp.pe/famosos/chollywood/leslie-casti..."
      ]
     },
     "execution_count": 5,
     "metadata": {},
     "output_type": "execute_result"
    }
   ],
   "source": [
    "data = pd.read_csv(fullpath,sep=';')\n",
    "data.head()"
   ]
  },
  {
   "cell_type": "code",
   "execution_count": 84,
   "metadata": {
    "scrolled": true
   },
   "outputs": [
    {
     "name": "stderr",
     "output_type": "stream",
     "text": [
      "C:\\ProgramData\\Anaconda3\\lib\\site-packages\\urllib3\\connectionpool.py:858: InsecureRequestWarning: Unverified HTTPS request is being made. Adding certificate verification is strongly advised. See: https://urllib3.readthedocs.io/en/latest/advanced-usage.html#ssl-warnings\n",
      "  InsecureRequestWarning)\n"
     ]
    },
    {
     "name": "stdout",
     "output_type": "stream",
     "text": [
      "0\n"
     ]
    },
    {
     "ename": "AttributeError",
     "evalue": "'NoneType' object has no attribute 'find'",
     "output_type": "error",
     "traceback": [
      "\u001b[1;31m---------------------------------------------------------------------------\u001b[0m",
      "\u001b[1;31mAttributeError\u001b[0m                            Traceback (most recent call last)",
      "\u001b[1;32m<ipython-input-84-2c8c86883253>\u001b[0m in \u001b[0;36m<module>\u001b[1;34m()\u001b[0m\n\u001b[0;32m     12\u001b[0m         \u001b[0mhtml\u001b[0m \u001b[1;33m=\u001b[0m \u001b[0mBeautifulSoup\u001b[0m\u001b[1;33m(\u001b[0m\u001b[0mreq\u001b[0m\u001b[1;33m.\u001b[0m\u001b[0mtext\u001b[0m\u001b[1;33m,\u001b[0m \u001b[1;34m\"html.parser\"\u001b[0m\u001b[1;33m)\u001b[0m\u001b[1;33m\u001b[0m\u001b[0m\n\u001b[0;32m     13\u001b[0m         \u001b[0mheader\u001b[0m \u001b[1;33m=\u001b[0m \u001b[0mhtml\u001b[0m\u001b[1;33m.\u001b[0m\u001b[0mfind\u001b[0m\u001b[1;33m(\u001b[0m\u001b[1;34m'header'\u001b[0m\u001b[1;33m,\u001b[0m\u001b[0mclass_\u001b[0m\u001b[1;33m=\u001b[0m\u001b[1;34m'story-header'\u001b[0m\u001b[1;33m)\u001b[0m\u001b[1;33m\u001b[0m\u001b[0m\n\u001b[1;32m---> 14\u001b[1;33m         \u001b[0mtitulo\u001b[0m\u001b[1;33m.\u001b[0m\u001b[0mappend\u001b[0m\u001b[1;33m(\u001b[0m\u001b[0mheader\u001b[0m\u001b[1;33m.\u001b[0m\u001b[0mfind\u001b[0m\u001b[1;33m(\u001b[0m\u001b[1;34m'h1'\u001b[0m\u001b[1;33m,\u001b[0m\u001b[0mitemprop\u001b[0m\u001b[1;33m=\u001b[0m\u001b[1;34m'headline'\u001b[0m\u001b[1;33m)\u001b[0m\u001b[1;33m.\u001b[0m\u001b[0mgetText\u001b[0m\u001b[1;33m(\u001b[0m\u001b[1;33m)\u001b[0m\u001b[1;33m)\u001b[0m\u001b[1;33m\u001b[0m\u001b[0m\n\u001b[0m\u001b[0;32m     15\u001b[0m         \u001b[0mresumen\u001b[0m\u001b[1;33m.\u001b[0m\u001b[0mappend\u001b[0m\u001b[1;33m(\u001b[0m\u001b[0mheader\u001b[0m\u001b[1;33m.\u001b[0m\u001b[0mfind\u001b[0m\u001b[1;33m(\u001b[0m\u001b[1;34m'div'\u001b[0m\u001b[1;33m,\u001b[0m\u001b[0mclass_\u001b[0m\u001b[1;33m=\u001b[0m\u001b[1;34m'sumary'\u001b[0m\u001b[1;33m)\u001b[0m\u001b[1;33m.\u001b[0m\u001b[0mgetText\u001b[0m\u001b[1;33m(\u001b[0m\u001b[1;33m)\u001b[0m\u001b[1;33m)\u001b[0m\u001b[1;33m\u001b[0m\u001b[0m\n\u001b[0;32m     16\u001b[0m         \u001b[0mfecha\u001b[0m\u001b[1;33m.\u001b[0m\u001b[0mappend\u001b[0m\u001b[1;33m(\u001b[0m\u001b[0mheader\u001b[0m\u001b[1;33m.\u001b[0m\u001b[0mfind\u001b[0m\u001b[1;33m(\u001b[0m\u001b[1;34m'time'\u001b[0m\u001b[1;33m)\u001b[0m\u001b[1;33m.\u001b[0m\u001b[0mgetText\u001b[0m\u001b[1;33m(\u001b[0m\u001b[1;33m)\u001b[0m\u001b[1;33m)\u001b[0m\u001b[1;33m\u001b[0m\u001b[0m\n",
      "\u001b[1;31mAttributeError\u001b[0m: 'NoneType' object has no attribute 'find'"
     ]
    }
   ],
   "source": [
    "titulo = []\n",
    "resumen = []\n",
    "fecha = []\n",
    "noticia = []\n",
    "proxies = {\"https\": \"https://pxsis.sunat.peru:8080\"}\n",
    "for i in range(len(data)):\n",
    "    url = data[\"url\"][i]\n",
    "    req = requests.get(url, proxies = proxies, verify = False)\n",
    "    status_code = req.status_code\n",
    "    if status_code == 200:\n",
    "        print(i)\n",
    "        html = BeautifulSoup(req.text, \"html.parser\")\n",
    "        header = html.find('header',class_='story-header')\n",
    "        titulo.append(header.find('h1',itemprop='headline').getText())\n",
    "        resumen.append(header.find('div',class_='sumary').getText())\n",
    "        fecha.append(header.find('time').getText())\n",
    "\n",
    "        #Identifica el cuerpo del artículo\n",
    "        contenido = html.find('div',itemprop = 'articleBody')\n",
    "        texto = contenido.find_all('p')\n",
    "        index = []\n",
    "        for i,entrada in enumerate(texto):\n",
    "            index.append(entrada.getText())\n",
    "        noticia.append(\" \".join(index))\n",
    "        \n",
    "        \n",
    "MD = pd.DataFrame({\n",
    "    \"Título\": titulo,\n",
    "    \"Fecha\": fecha,\n",
    "    \"Resumen\": resumen,\n",
    "    \"Contenido\": noticia\n",
    "    })\n",
    "\n",
    "MD.to_excel(fullpath + \"scra_su.xlsx\")"
   ]
  },
  {
   "cell_type": "code",
   "execution_count": 155,
   "metadata": {},
   "outputs": [],
   "source": [
    "\n",
    "url = \"https://rpp.pe/famosos/chollywood/mauricio-diez-canseco-vuelve-a-la-television-este-sabado-noticia-714285\"\n",
    "req = requests.get(url)"
   ]
  },
  {
   "cell_type": "code",
   "execution_count": 7,
   "metadata": {
    "collapsed": true
   },
   "outputs": [
    {
     "ename": "AttributeError",
     "evalue": "'NoneType' object has no attribute 'find'",
     "output_type": "error",
     "traceback": [
      "\u001b[1;31m---------------------------------------------------------------------------\u001b[0m",
      "\u001b[1;31mAttributeError\u001b[0m                            Traceback (most recent call last)",
      "\u001b[1;32m<ipython-input-7-abe19be3c377>\u001b[0m in \u001b[0;36m<module>\u001b[1;34m()\u001b[0m\n\u001b[0;32m      4\u001b[0m \u001b[1;31m#Identifica la cabecera que contiene la información del título, el resumen y la fecha\u001b[0m\u001b[1;33m\u001b[0m\u001b[1;33m\u001b[0m\u001b[0m\n\u001b[0;32m      5\u001b[0m \u001b[0mheader\u001b[0m \u001b[1;33m=\u001b[0m \u001b[0mhtml\u001b[0m\u001b[1;33m.\u001b[0m\u001b[0mfind\u001b[0m\u001b[1;33m(\u001b[0m\u001b[1;34m'header'\u001b[0m\u001b[1;33m,\u001b[0m\u001b[0mclass_\u001b[0m\u001b[1;33m=\u001b[0m\u001b[1;34m'story-header'\u001b[0m\u001b[1;33m)\u001b[0m\u001b[1;33m\u001b[0m\u001b[0m\n\u001b[1;32m----> 6\u001b[1;33m \u001b[0mtitulo\u001b[0m \u001b[1;33m=\u001b[0m \u001b[0mheader\u001b[0m\u001b[1;33m.\u001b[0m\u001b[0mfind\u001b[0m\u001b[1;33m(\u001b[0m\u001b[1;34m'h1'\u001b[0m\u001b[1;33m,\u001b[0m\u001b[0mitemprop\u001b[0m\u001b[1;33m=\u001b[0m\u001b[1;34m'headline'\u001b[0m\u001b[1;33m)\u001b[0m\u001b[1;33m.\u001b[0m\u001b[0mgetText\u001b[0m\u001b[1;33m(\u001b[0m\u001b[1;33m)\u001b[0m\u001b[1;33m\u001b[0m\u001b[0m\n\u001b[0m\u001b[0;32m      7\u001b[0m \u001b[0mresumen\u001b[0m \u001b[1;33m=\u001b[0m \u001b[0mheader\u001b[0m\u001b[1;33m.\u001b[0m\u001b[0mfind\u001b[0m\u001b[1;33m(\u001b[0m\u001b[1;34m'div'\u001b[0m\u001b[1;33m,\u001b[0m\u001b[0mclass_\u001b[0m\u001b[1;33m=\u001b[0m\u001b[1;34m'sumary'\u001b[0m\u001b[1;33m)\u001b[0m\u001b[1;33m.\u001b[0m\u001b[0mgetText\u001b[0m\u001b[1;33m(\u001b[0m\u001b[1;33m)\u001b[0m\u001b[1;33m\u001b[0m\u001b[0m\n\u001b[0;32m      8\u001b[0m \u001b[0mfecha\u001b[0m \u001b[1;33m=\u001b[0m \u001b[0mheader\u001b[0m\u001b[1;33m.\u001b[0m\u001b[0mfind\u001b[0m\u001b[1;33m(\u001b[0m\u001b[1;34m'time'\u001b[0m\u001b[1;33m)\u001b[0m\u001b[1;33m.\u001b[0m\u001b[0mgetText\u001b[0m\u001b[1;33m(\u001b[0m\u001b[1;33m)\u001b[0m\u001b[1;33m\u001b[0m\u001b[0m\n",
      "\u001b[1;31mAttributeError\u001b[0m: 'NoneType' object has no attribute 'find'"
     ]
    }
   ],
   "source": [
    "#Para RPP Noticias\n",
    "#Se extrae el código html de la url solicitada\n",
    "html = BeautifulSoup(req.text, \"html.parser\")\n",
    "#Identifica la cabecera que contiene la información del título, el resumen y la fecha\n",
    "header = html.find('header',class_='story-header')\n",
    "titulo = header.find('h1',itemprop='headline').getText()\n",
    "resumen = header.find('div',class_='sumary').getText()\n",
    "fecha = header.find('time').getText()\n",
    "\n",
    "#Identifica el cuerpo del artículo\n",
    "contenido = html.find('div',itemprop = 'articleBody')\n",
    "texto = contenido.find_all('p')\n",
    "index = []\n",
    "for i,entrada in enumerate(texto):\n",
    "   index.append(entrada.getText())\n",
    "noticia = \" \".join(index)\n",
    "\n",
    "#Creamos el data frame de los resultados\n",
    "\n",
    "MD = pd.DataFrame({\n",
    "    \"Título\": titulo,\n",
    "    \"Fecha\": fecha,\n",
    "    \"Resumen\": resumen,\n",
    "    \"Contenido\": noticia\n",
    "    }, index = [0])\n",
    "MD\n"
   ]
  },
  {
   "cell_type": "code",
   "execution_count": 3,
   "metadata": {},
   "outputs": [],
   "source": [
    "from selenium import webdriver"
   ]
  },
  {
   "cell_type": "code",
   "execution_count": 24,
   "metadata": {},
   "outputs": [
    {
     "name": "stdout",
     "output_type": "stream",
     "text": [
      "Ingrese el personaje buscado: Jordan King\n"
     ]
    }
   ],
   "source": [
    "search_query = input(\"Ingrese el personaje buscado: \")\n",
    "search_query = search_query.replace(' ','+') #Cambiar los espacios por + para formato de búsqueda\n",
    "executable_path = \"D:/Cursos/Sunat/11.scraping/chromedriver\"\n",
    "#browser = webdriver.Chrome(executable_path=executable_path)"
   ]
  },
  {
   "cell_type": "code",
   "execution_count": 20,
   "metadata": {
    "collapsed": true
   },
   "outputs": [
    {
     "ename": "InvalidSelectorException",
     "evalue": "Message: invalid selector: Unable to locate an element with the xpath expression  because of the following error:\nSyntaxError: Failed to execute 'evaluate' on 'Document': The string '' is not a valid XPath expression.\n  (Session info: chrome=68.0.3440.106)\n  (Driver info: chromedriver=2.41.578737 (49da6702b16031c40d63e5618de03a32ff6c197e),platform=Windows NT 10.0.17134 x86_64)\n",
     "output_type": "error",
     "traceback": [
      "\u001b[1;31m---------------------------------------------------------------------------\u001b[0m",
      "\u001b[1;31mInvalidSelectorException\u001b[0m                  Traceback (most recent call last)",
      "\u001b[1;32m<ipython-input-20-73d43f4b7702>\u001b[0m in \u001b[0;36m<module>\u001b[1;34m()\u001b[0m\n\u001b[0;32m      1\u001b[0m \u001b[0mbrowser\u001b[0m\u001b[1;33m.\u001b[0m\u001b[0mget\u001b[0m\u001b[1;33m(\u001b[0m\u001b[1;34m\"https://www.google.com/search?q=\"\u001b[0m \u001b[1;33m+\u001b[0m \u001b[0msearch_query\u001b[0m \u001b[1;33m+\u001b[0m \u001b[1;34m\"&start=0\"\u001b[0m\u001b[1;33m)\u001b[0m\u001b[1;33m\u001b[0m\u001b[0m\n\u001b[1;32m----> 2\u001b[1;33m \u001b[0mmatched_elements\u001b[0m \u001b[1;33m=\u001b[0m \u001b[0mbrowser\u001b[0m\u001b[1;33m.\u001b[0m\u001b[0mfind_elements_by_xpath\u001b[0m\u001b[1;33m(\u001b[0m\u001b[1;34m''\u001b[0m\u001b[1;33m)\u001b[0m\u001b[1;33m\u001b[0m\u001b[0m\n\u001b[0m\u001b[0;32m      3\u001b[0m \u001b[0mmatched_elements\u001b[0m\u001b[1;33m[\u001b[0m\u001b[1;36m0\u001b[0m\u001b[1;33m]\u001b[0m\u001b[1;33m.\u001b[0m\u001b[0mclick\u001b[0m\u001b[1;33m(\u001b[0m\u001b[1;33m)\u001b[0m\u001b[1;33m\u001b[0m\u001b[0m\n",
      "\u001b[1;32mD:\\ProgramData\\Anaconda3\\lib\\site-packages\\selenium\\webdriver\\remote\\webdriver.py\u001b[0m in \u001b[0;36mfind_elements_by_xpath\u001b[1;34m(self, xpath)\u001b[0m\n\u001b[0;32m    407\u001b[0m             \u001b[0melements\u001b[0m \u001b[1;33m=\u001b[0m \u001b[0mdriver\u001b[0m\u001b[1;33m.\u001b[0m\u001b[0mfind_elements_by_xpath\u001b[0m\u001b[1;33m(\u001b[0m\u001b[1;34m\"//div[contains(@class, 'foo')]\"\u001b[0m\u001b[1;33m)\u001b[0m\u001b[1;33m\u001b[0m\u001b[0m\n\u001b[0;32m    408\u001b[0m         \"\"\"\n\u001b[1;32m--> 409\u001b[1;33m         \u001b[1;32mreturn\u001b[0m \u001b[0mself\u001b[0m\u001b[1;33m.\u001b[0m\u001b[0mfind_elements\u001b[0m\u001b[1;33m(\u001b[0m\u001b[0mby\u001b[0m\u001b[1;33m=\u001b[0m\u001b[0mBy\u001b[0m\u001b[1;33m.\u001b[0m\u001b[0mXPATH\u001b[0m\u001b[1;33m,\u001b[0m \u001b[0mvalue\u001b[0m\u001b[1;33m=\u001b[0m\u001b[0mxpath\u001b[0m\u001b[1;33m)\u001b[0m\u001b[1;33m\u001b[0m\u001b[0m\n\u001b[0m\u001b[0;32m    410\u001b[0m \u001b[1;33m\u001b[0m\u001b[0m\n\u001b[0;32m    411\u001b[0m     \u001b[1;32mdef\u001b[0m \u001b[0mfind_element_by_link_text\u001b[0m\u001b[1;33m(\u001b[0m\u001b[0mself\u001b[0m\u001b[1;33m,\u001b[0m \u001b[0mlink_text\u001b[0m\u001b[1;33m)\u001b[0m\u001b[1;33m:\u001b[0m\u001b[1;33m\u001b[0m\u001b[0m\n",
      "\u001b[1;32mD:\\ProgramData\\Anaconda3\\lib\\site-packages\\selenium\\webdriver\\remote\\webdriver.py\u001b[0m in \u001b[0;36mfind_elements\u001b[1;34m(self, by, value)\u001b[0m\n\u001b[0;32m    993\u001b[0m         return self.execute(Command.FIND_ELEMENTS, {\n\u001b[0;32m    994\u001b[0m             \u001b[1;34m'using'\u001b[0m\u001b[1;33m:\u001b[0m \u001b[0mby\u001b[0m\u001b[1;33m,\u001b[0m\u001b[1;33m\u001b[0m\u001b[0m\n\u001b[1;32m--> 995\u001b[1;33m             'value': value})['value'] or []\n\u001b[0m\u001b[0;32m    996\u001b[0m \u001b[1;33m\u001b[0m\u001b[0m\n\u001b[0;32m    997\u001b[0m     \u001b[1;33m@\u001b[0m\u001b[0mproperty\u001b[0m\u001b[1;33m\u001b[0m\u001b[0m\n",
      "\u001b[1;32mD:\\ProgramData\\Anaconda3\\lib\\site-packages\\selenium\\webdriver\\remote\\webdriver.py\u001b[0m in \u001b[0;36mexecute\u001b[1;34m(self, driver_command, params)\u001b[0m\n\u001b[0;32m    318\u001b[0m         \u001b[0mresponse\u001b[0m \u001b[1;33m=\u001b[0m \u001b[0mself\u001b[0m\u001b[1;33m.\u001b[0m\u001b[0mcommand_executor\u001b[0m\u001b[1;33m.\u001b[0m\u001b[0mexecute\u001b[0m\u001b[1;33m(\u001b[0m\u001b[0mdriver_command\u001b[0m\u001b[1;33m,\u001b[0m \u001b[0mparams\u001b[0m\u001b[1;33m)\u001b[0m\u001b[1;33m\u001b[0m\u001b[0m\n\u001b[0;32m    319\u001b[0m         \u001b[1;32mif\u001b[0m \u001b[0mresponse\u001b[0m\u001b[1;33m:\u001b[0m\u001b[1;33m\u001b[0m\u001b[0m\n\u001b[1;32m--> 320\u001b[1;33m             \u001b[0mself\u001b[0m\u001b[1;33m.\u001b[0m\u001b[0merror_handler\u001b[0m\u001b[1;33m.\u001b[0m\u001b[0mcheck_response\u001b[0m\u001b[1;33m(\u001b[0m\u001b[0mresponse\u001b[0m\u001b[1;33m)\u001b[0m\u001b[1;33m\u001b[0m\u001b[0m\n\u001b[0m\u001b[0;32m    321\u001b[0m             response['value'] = self._unwrap_value(\n\u001b[0;32m    322\u001b[0m                 response.get('value', None))\n",
      "\u001b[1;32mD:\\ProgramData\\Anaconda3\\lib\\site-packages\\selenium\\webdriver\\remote\\errorhandler.py\u001b[0m in \u001b[0;36mcheck_response\u001b[1;34m(self, response)\u001b[0m\n\u001b[0;32m    240\u001b[0m                 \u001b[0malert_text\u001b[0m \u001b[1;33m=\u001b[0m \u001b[0mvalue\u001b[0m\u001b[1;33m[\u001b[0m\u001b[1;34m'alert'\u001b[0m\u001b[1;33m]\u001b[0m\u001b[1;33m.\u001b[0m\u001b[0mget\u001b[0m\u001b[1;33m(\u001b[0m\u001b[1;34m'text'\u001b[0m\u001b[1;33m)\u001b[0m\u001b[1;33m\u001b[0m\u001b[0m\n\u001b[0;32m    241\u001b[0m             \u001b[1;32mraise\u001b[0m \u001b[0mexception_class\u001b[0m\u001b[1;33m(\u001b[0m\u001b[0mmessage\u001b[0m\u001b[1;33m,\u001b[0m \u001b[0mscreen\u001b[0m\u001b[1;33m,\u001b[0m \u001b[0mstacktrace\u001b[0m\u001b[1;33m,\u001b[0m \u001b[0malert_text\u001b[0m\u001b[1;33m)\u001b[0m\u001b[1;33m\u001b[0m\u001b[0m\n\u001b[1;32m--> 242\u001b[1;33m         \u001b[1;32mraise\u001b[0m \u001b[0mexception_class\u001b[0m\u001b[1;33m(\u001b[0m\u001b[0mmessage\u001b[0m\u001b[1;33m,\u001b[0m \u001b[0mscreen\u001b[0m\u001b[1;33m,\u001b[0m \u001b[0mstacktrace\u001b[0m\u001b[1;33m)\u001b[0m\u001b[1;33m\u001b[0m\u001b[0m\n\u001b[0m\u001b[0;32m    243\u001b[0m \u001b[1;33m\u001b[0m\u001b[0m\n\u001b[0;32m    244\u001b[0m     \u001b[1;32mdef\u001b[0m \u001b[0m_value_or_default\u001b[0m\u001b[1;33m(\u001b[0m\u001b[0mself\u001b[0m\u001b[1;33m,\u001b[0m \u001b[0mobj\u001b[0m\u001b[1;33m,\u001b[0m \u001b[0mkey\u001b[0m\u001b[1;33m,\u001b[0m \u001b[0mdefault\u001b[0m\u001b[1;33m)\u001b[0m\u001b[1;33m:\u001b[0m\u001b[1;33m\u001b[0m\u001b[0m\n",
      "\u001b[1;31mInvalidSelectorException\u001b[0m: Message: invalid selector: Unable to locate an element with the xpath expression  because of the following error:\nSyntaxError: Failed to execute 'evaluate' on 'Document': The string '' is not a valid XPath expression.\n  (Session info: chrome=68.0.3440.106)\n  (Driver info: chromedriver=2.41.578737 (49da6702b16031c40d63e5618de03a32ff6c197e),platform=Windows NT 10.0.17134 x86_64)\n"
     ]
    }
   ],
   "source": [
    "browser.get(\"https://www.google.com/search?q=\" + search_query + \"&start=0\")\n",
    "matched_elements = browser.find_elements_by_xpath('')\n",
    "matched_elements[0].click()"
   ]
  },
  {
   "cell_type": "code",
   "execution_count": 60,
   "metadata": {},
   "outputs": [],
   "source": [
    "# -*- coding: utf-8 -*- \n",
    "from selenium import webdriver\n",
    "from selenium.webdriver.common.by import By\n",
    "from selenium.webdriver.support.wait import WebDriverWait\n",
    "from selenium.webdriver.support import expected_conditions as EC\n",
    "import os\n",
    " \n",
    "def ir_paginas_blancas_web(cadena):\n",
    "    driver = webdriver.Chrome(executable_path=executable_path)\n",
    "    #Página a la que queremos acceder\n",
    "    driver.get(\"http://www.paginasblancas.pe\")\n",
    "    lista_datos = []\n",
    "    try:\n",
    "        #Verificamos si el elemento con ID=\"nName\" ya está cargado, este elemento es la caja de texto donde se hacen las busquedas\n",
    "        WebDriverWait(driver, 5).until(EC.presence_of_element_located((By.ID, \"nName\")))\n",
    "        #Obtenemos la caja de texto de busquedas\n",
    "        input_nombre = driver.find_element_by_id(\"nName\")\n",
    "        #Enviamos la cadena que estamos buscando\n",
    "        input_nombre.send_keys(cadena)\n",
    "        #Obtenemos el botón que ejecuta la búsqueda\n",
    "        boton = driver.find_element_by_id(\"btnSrchName\")\n",
    "        #Damos click al botón\n",
    "        boton.click()\n",
    "    except:\n",
    "        #Mostramos este mensaje en caso de que se presente algún problema\n",
    "        print(\"El elemento no está presente\")        \n",
    "    try:\n",
    "        #Si se encuentran resultados la página los muestra en elementos de nombre \"m-results-business\"\n",
    "        #Para ello esperamos que estos elementos se carguen para proceder a consultarlos\n",
    "        WebDriverWait(driver, 5).until(EC.presence_of_all_elements_located((By.CLASS_NAME, \"m-results-business\")))\n",
    "    except:\n",
    "        print('Elementos no encontrados')\n",
    "    #Obtenemos en una lista los elementos encontrados\n",
    "    resultados = driver.find_elements_by_class_name(\"m-results-business\")            \n",
    "    for resultado in resultados:\n",
    "        #En cada uno de los elementos encontrados buscamos un elemento interno que tiene por nombre info\n",
    "        datos = resultado.find_element_by_class_name(\"info\")\n",
    "        #Dentro del elemento interno encontrado buscamos aquellos elementos que son enlaces(etiqueta <a>)\n",
    "        nombre = datos.find_element_by_tag_name('a')\n",
    "        #Comprobamos si la cadena que buscamos coincide con la razón social o el nombre mostrado por la página\n",
    "        if nombre.text.upper().find(cadena)!=-1 or cadena.find(nombre.text.upper())!=-1:\n",
    "            #Obtenemos la parte de la dirección\n",
    "            span = datos.find_elements_by_tag_name('span')\n",
    "            direccion = span[2].text\n",
    "            partes_ubigeo = span[3].text.split('-')\n",
    "            distrito = partes_ubigeo[0].strip()\n",
    "            try:\n",
    "                departamento = partes_ubigeo[1].strip()\n",
    "            except:\n",
    "                departamento = '-'\n",
    "        #Obtenemos los Datos telefonicos para ello debemos simular el click en el botón que dice \"Ver Teléfono\"\n",
    "        boton_telefono = resultado.find_element_by_class_name(\"m-button--results-business--icon\")\n",
    "        boton_telefono.click()\n",
    "        #Obtenemos los teléfonos que se muestran como enlaces\n",
    "        enlaces = resultado.find_elements_by_tag_name('a')\n",
    "        telefono = enlaces[1].text.replace(' ', '')\n",
    "        #Finalmente metemos en una lista de listas los datos obtenidos\n",
    "        lista_datos.append([nombre,nombre.text,direccion,distrito,departamento,telefono])\n",
    "                 \n",
    "    driver.close()\n",
    "    return lista_datos\n",
    " \n",
    "#def main():\n",
    "    #print (ir_paginas_blancas_web('UNIVERSIDAD DE LIMA'))\n",
    "         \n",
    "#main()"
   ]
  },
  {
   "cell_type": "code",
   "execution_count": 61,
   "metadata": {
    "collapsed": true
   },
   "outputs": [
    {
     "data": {
      "text/plain": [
       "[[<selenium.webdriver.remote.webelement.WebElement (session=\"c1cb3acb59bb84b044d69e08e735ac93\", element=\"0.8308728190076407-17\")>,\n",
       "  'Universidad Alas Peruanas',\n",
       "  'Av. San Felipe 1109',\n",
       "  'Jesús María',\n",
       "  'Lima',\n",
       "  'http://www.uap.edu.pe'],\n",
       " [<selenium.webdriver.remote.webelement.WebElement (session=\"c1cb3acb59bb84b044d69e08e735ac93\", element=\"0.8308728190076407-40\")>,\n",
       "  'Universidad Catolica Santo Toribio De Mogrovejo',\n",
       "  'Avenida Panamericana Norte, 855',\n",
       "  'Lambayeque',\n",
       "  '-',\n",
       "  'http://www.usat.edu.pe'],\n",
       " [<selenium.webdriver.remote.webelement.WebElement (session=\"c1cb3acb59bb84b044d69e08e735ac93\", element=\"0.8308728190076407-62\")>,\n",
       "  'Universidad De Lima',\n",
       "  'Avenida Javier Prado, 46',\n",
       "  'Santiago de Surco',\n",
       "  'Lima',\n",
       "  'http://www.ulima.edu.pe'],\n",
       " [<selenium.webdriver.remote.webelement.WebElement (session=\"c1cb3acb59bb84b044d69e08e735ac93\", element=\"0.8308728190076407-86\")>,\n",
       "  'Universidad De Lima',\n",
       "  'Avenida Javier Prado Este - Cdra. 46 s/n - Monterrico',\n",
       "  'Santiago de Surco',\n",
       "  'Lima',\n",
       "  'http://www.ulima.edu.pe'],\n",
       " [<selenium.webdriver.remote.webelement.WebElement (session=\"c1cb3acb59bb84b044d69e08e735ac93\", element=\"0.8308728190076407-109\")>,\n",
       "  'Universidad De Lima',\n",
       "  'Avenida Javier Prado Este - Cdra. 46 - Monterrico',\n",
       "  'Santiago de Surco',\n",
       "  'Lima',\n",
       "  'http://www.ulima.edu.pe'],\n",
       " [<selenium.webdriver.remote.webelement.WebElement (session=\"c1cb3acb59bb84b044d69e08e735ac93\", element=\"0.8308728190076407-133\")>,\n",
       "  'Universidad De Piura',\n",
       "  'Pasaje Mártir Olaya 162',\n",
       "  'Miraflores',\n",
       "  'Lima',\n",
       "  'http://www.campuslima.udep.edu.pe'],\n",
       " [<selenium.webdriver.remote.webelement.WebElement (session=\"c1cb3acb59bb84b044d69e08e735ac93\", element=\"0.8308728190076407-155\")>,\n",
       "  'Universidad De Piura',\n",
       "  'Av. Ramón Mujica 131 - Urb. San Eduardo',\n",
       "  'Piura',\n",
       "  'Piura',\n",
       "  'http://www.campuslima.udep.edu.pe'],\n",
       " [<selenium.webdriver.remote.webelement.WebElement (session=\"c1cb3acb59bb84b044d69e08e735ac93\", element=\"0.8308728190076407-176\")>,\n",
       "  'Universidad De Piura',\n",
       "  'Avenida Ramón Mugica, 131 - Urb. San Eduardo',\n",
       "  'Piura',\n",
       "  '-',\n",
       "  'http://www.udep.edu.pe'],\n",
       " [<selenium.webdriver.remote.webelement.WebElement (session=\"c1cb3acb59bb84b044d69e08e735ac93\", element=\"0.8308728190076407-197\")>,\n",
       "  'Universidad De Piura',\n",
       "  'Jirón Aldebaran, 160 - Urb. Lima Polo Hunt',\n",
       "  'Santiago de Surco',\n",
       "  'Lima',\n",
       "  'http://www.udep.edu.pe'],\n",
       " [<selenium.webdriver.remote.webelement.WebElement (session=\"c1cb3acb59bb84b044d69e08e735ac93\", element=\"0.8308728190076407-218\")>,\n",
       "  'Universidad De San Martin De Porres',\n",
       "  'Avenida La Calandrias , 100 - Ciudad Universitaria',\n",
       "  'Santa Anita',\n",
       "  'Lima',\n",
       "  'http://www.usmp.edu.pe'],\n",
       " [<selenium.webdriver.remote.webelement.WebElement (session=\"c1cb3acb59bb84b044d69e08e735ac93\", element=\"0.8308728190076407-240\")>,\n",
       "  'Universidad De San Martin De Porres',\n",
       "  'Jirón Las Calandrias, 151 - Urb. Santa Anita',\n",
       "  'Santa Anita',\n",
       "  'Lima',\n",
       "  'http://www.usmp.edu.pe'],\n",
       " [<selenium.webdriver.remote.webelement.WebElement (session=\"c1cb3acb59bb84b044d69e08e735ac93\", element=\"0.8308728190076407-263\")>,\n",
       "  'Universidad Nacional De Piura',\n",
       "  'Campus Universitario s/n - Urb. Miraflores',\n",
       "  'Piura',\n",
       "  '-',\n",
       "  'http://www.unp.edu.pe'],\n",
       " [<selenium.webdriver.remote.webelement.WebElement (session=\"c1cb3acb59bb84b044d69e08e735ac93\", element=\"0.8308728190076407-285\")>,\n",
       "  'Universidad Nacional Pedro Ruiz Gallo',\n",
       "  'Ciudad Universitaria s/n',\n",
       "  'Lambayeque',\n",
       "  '-',\n",
       "  'http://www.unprg.edu.pe'],\n",
       " [<selenium.webdriver.remote.webelement.WebElement (session=\"c1cb3acb59bb84b044d69e08e735ac93\", element=\"0.8308728190076407-306\")>,\n",
       "  'Universidad Peruana Union',\n",
       "  'Carretera Central - Km. 19 - Ñaña',\n",
       "  'Lima',\n",
       "  '-',\n",
       "  'http://www.upeu.edu.pe'],\n",
       " [<selenium.webdriver.remote.webelement.WebElement (session=\"c1cb3acb59bb84b044d69e08e735ac93\", element=\"0.8308728190076407-329\")>,\n",
       "  'Universidad San Ignacio De Loyola',\n",
       "  'Avenida La Fontana, 550',\n",
       "  'La Molina',\n",
       "  'Lima',\n",
       "  'http://www.usil.edu.pe']]"
      ]
     },
     "execution_count": 61,
     "metadata": {},
     "output_type": "execute_result"
    }
   ],
   "source": [
    "ir_paginas_blancas_web('UNIVERSIDAD')"
   ]
  },
  {
   "cell_type": "code",
   "execution_count": 265,
   "metadata": {},
   "outputs": [
    {
     "name": "stdout",
     "output_type": "stream",
     "text": [
      "culminó\n"
     ]
    }
   ],
   "source": [
    "# -*- coding: utf-8 -*- \n",
    "import pandas as pd\n",
    "from selenium import webdriver\n",
    "from selenium.webdriver.common.by import By\n",
    "from selenium.webdriver.support.wait import WebDriverWait\n",
    "from selenium.webdriver.support import expected_conditions as EC\n",
    "from selenium.common.exceptions import NoSuchElementException\n",
    "import os\n",
    "import time \n",
    "\n",
    "#proxies = {\"https\": \"https://pxsis.sunat.peru:8080\"}\n",
    "cadena = '\"Mauricio Diez Canseco\" site:larepublica.pe'\n",
    "executable_path = \"D:/Archivos Jordan Rodriguez/Retos/11.SrMD/04.Scraping/chromedriver\"\n",
    "num_paginas = 34\n",
    "#def ir_paginas_blancas_web(cadena):\n",
    "driver = webdriver.Chrome(executable_path=executable_path)\n",
    "driver.get(\"https://www.google.com/\")\n",
    "#Página a la que queremos acceder\n",
    "\n",
    "#Verificamos si el elemento con ID=\"nName\" ya está cargado, este elemento es la caja de texto donde se hacen las busquedas\n",
    "WebDriverWait(driver, 5).until(EC.presence_of_element_located((By.ID, \"lst-ib\")))\n",
    "    #Obtenemos la caja de texto de busquedas\n",
    "input_nombre = driver.find_element_by_id(\"lst-ib\")\n",
    "#Enviamos la cadena que estamos buscando\n",
    "input_nombre.send_keys(cadena)\n",
    "#Obtenemos el botón que ejecuta la búsqueda\n",
    "boton = driver.find_element_by_name(\"btnK\")\n",
    "boton.click()   \n",
    "\n",
    "WebDriverWait(driver, 5).until(EC.presence_of_all_elements_located((By.ID, \"search\")))\n",
    "resultados = driver.find_element_by_id(\"search\")\n",
    "general = resultados.find_elements_by_class_name(\"g\")\n",
    "nombre = []\n",
    "link = []\n",
    "x=[]\n",
    "for resultado in general:\n",
    "    try:\n",
    "        x=resultado.find_element_by_class_name('r')\n",
    "        nombre.append(x.find_element_by_tag_name('a').get_attribute(\"text\"))\n",
    "        link.append(x.find_element_by_tag_name('a').get_attribute(\"href\"))\n",
    "    except NoSuchElementException:\n",
    "        pass\n",
    "for i in range(num_paginas):\n",
    "    bnext = driver.find_element_by_id('pnnext')\n",
    "    bnext.click()\n",
    "\n",
    "    resultados = driver.find_element_by_id(\"search\")\n",
    "    general = resultados.find_elements_by_class_name(\"g\")\n",
    "    for resultado in general:\n",
    "        try:\n",
    "            x=resultado.find_element_by_class_name('r')\n",
    "            nombre.append(x.find_element_by_tag_name('a').get_attribute(\"text\"))\n",
    "            link.append(x.find_element_by_tag_name('a').get_attribute(\"href\"))\n",
    "        except NoSuchElementException:\n",
    "            pass\n",
    "MD = pd.DataFrame({\n",
    "    \"Título\": nombre,\n",
    "    \"url\": link\n",
    "    })\n",
    "driver.close()\n",
    "print('culminó')"
   ]
  },
  {
   "cell_type": "code",
   "execution_count": 267,
   "metadata": {
    "collapsed": true
   },
   "outputs": [
    {
     "data": {
      "text/html": [
       "<div>\n",
       "<style scoped>\n",
       "    .dataframe tbody tr th:only-of-type {\n",
       "        vertical-align: middle;\n",
       "    }\n",
       "\n",
       "    .dataframe tbody tr th {\n",
       "        vertical-align: top;\n",
       "    }\n",
       "\n",
       "    .dataframe thead th {\n",
       "        text-align: right;\n",
       "    }\n",
       "</style>\n",
       "<table border=\"1\" class=\"dataframe\">\n",
       "  <thead>\n",
       "    <tr style=\"text-align: right;\">\n",
       "      <th></th>\n",
       "      <th>Título</th>\n",
       "      <th>url</th>\n",
       "    </tr>\n",
       "  </thead>\n",
       "  <tbody>\n",
       "    <tr>\n",
       "      <th>0</th>\n",
       "      <td>Facebook: Mauricio Diez Canseco presenta a sus...</td>\n",
       "      <td>https://larepublica.pe/espectaculos/1256281-fa...</td>\n",
       "    </tr>\n",
       "    <tr>\n",
       "      <th>1</th>\n",
       "      <td>Instagram: ella es la primera esposa de Mauric...</td>\n",
       "      <td>https://larepublica.pe/espectaculos/1247333-in...</td>\n",
       "    </tr>\n",
       "    <tr>\n",
       "      <th>2</th>\n",
       "      <td>Hija de Mauricio Diez Canseco remece Instagram...</td>\n",
       "      <td>https://larepublica.pe/espectaculos/1167353-hi...</td>\n",
       "    </tr>\n",
       "    <tr>\n",
       "      <th>3</th>\n",
       "      <td>Instagram: Hija de Mauricio Diez Canseco posa ...</td>\n",
       "      <td>https://larepublica.pe/espectaculos/1238569-in...</td>\n",
       "    </tr>\n",
       "    <tr>\n",
       "      <th>4</th>\n",
       "      <td>Instagram: hija de Mauricio Diez Canseco cauti...</td>\n",
       "      <td>https://larepublica.pe/espectaculos/1149940-in...</td>\n",
       "    </tr>\n",
       "    <tr>\n",
       "      <th>5</th>\n",
       "      <td>Instagram: Hija de Mauricio Diez Canseco prese...</td>\n",
       "      <td>https://larepublica.pe/espectaculos/1270648-in...</td>\n",
       "    </tr>\n",
       "    <tr>\n",
       "      <th>6</th>\n",
       "      <td>Instagram: Mauricio Diez Canseco posa junto a ...</td>\n",
       "      <td>https://larepublica.pe/tendencias/1214488-inst...</td>\n",
       "    </tr>\n",
       "    <tr>\n",
       "      <th>7</th>\n",
       "      <td>Facebook: esta fue la tierna sesión de fotos d...</td>\n",
       "      <td>https://larepublica.pe/espectaculos/1212080-fa...</td>\n",
       "    </tr>\n",
       "    <tr>\n",
       "      <th>8</th>\n",
       "      <td>Instagram: hija de Mauricio Diez Canseco posa ...</td>\n",
       "      <td>https://larepublica.pe/espectaculos/1281044-in...</td>\n",
       "    </tr>\n",
       "    <tr>\n",
       "      <th>9</th>\n",
       "      <td>Mauricio Diez Canseco renuncia a candidatura a...</td>\n",
       "      <td>https://larepublica.pe/espectaculos/703917-mau...</td>\n",
       "    </tr>\n",
       "    <tr>\n",
       "      <th>10</th>\n",
       "      <td>Mauricio Diez Canseco | LaRepublica.pe</td>\n",
       "      <td>https://larepublica.pe/tag/mauricio-diez-canseco</td>\n",
       "    </tr>\n",
       "    <tr>\n",
       "      <th>11</th>\n",
       "      <td>Instagram: Esposa de Mauricio Diez Canseco baj...</td>\n",
       "      <td>https://larepublica.pe/espectaculos/1220523-in...</td>\n",
       "    </tr>\n",
       "    <tr>\n",
       "      <th>12</th>\n",
       "      <td>En Instagram, hija de Mauricio Diez Canseco es...</td>\n",
       "      <td>https://larepublica.pe/espectaculos/1149181-en...</td>\n",
       "    </tr>\n",
       "    <tr>\n",
       "      <th>13</th>\n",
       "      <td>Instagram: hija de Mauricio Diez Canseco enamo...</td>\n",
       "      <td>https://larepublica.pe/espectaculos/1213517-in...</td>\n",
       "    </tr>\n",
       "    <tr>\n",
       "      <th>14</th>\n",
       "      <td>Instagram: hija de Mauricio Diez Canseco cauti...</td>\n",
       "      <td>https://larepublica.pe/amp/espectaculos/114994...</td>\n",
       "    </tr>\n",
       "    <tr>\n",
       "      <th>15</th>\n",
       "      <td>Mauricio Diez Canseco puso en aprietos a Gisel...</td>\n",
       "      <td>https://larepublica.pe/espectaculos/1206444-ma...</td>\n",
       "    </tr>\n",
       "    <tr>\n",
       "      <th>16</th>\n",
       "      <td>Instagram: Leslie Castillo, expareja de Mauric...</td>\n",
       "      <td>https://larepublica.pe/espectaculos/1280410-in...</td>\n",
       "    </tr>\n",
       "    <tr>\n",
       "      <th>17</th>\n",
       "      <td>Falleció el padre del empresario Mauricio Diez...</td>\n",
       "      <td>https://larepublica.pe/espectaculos/849518-fal...</td>\n",
       "    </tr>\n",
       "    <tr>\n",
       "      <th>18</th>\n",
       "      <td>Instagram: las primeras fotos del bebé de Anto...</td>\n",
       "      <td>https://larepublica.pe/espectaculos/1204264-in...</td>\n",
       "    </tr>\n",
       "    <tr>\n",
       "      <th>19</th>\n",
       "      <td>Antonella De Groot, esposa de Mauricio Diez Ca...</td>\n",
       "      <td>https://larepublica.pe/espectaculos/835847-ant...</td>\n",
       "    </tr>\n",
       "    <tr>\n",
       "      <th>20</th>\n",
       "      <td>Facebook: Mauricio Diez Canseco y su esposa ha...</td>\n",
       "      <td>https://larepublica.pe/espectaculos/1161717-fa...</td>\n",
       "    </tr>\n",
       "    <tr>\n",
       "      <th>21</th>\n",
       "      <td>Mauricio Diez Canseco anunció embarazo de su e...</td>\n",
       "      <td>https://larepublica.pe/espectaculos/1068093-ma...</td>\n",
       "    </tr>\n",
       "    <tr>\n",
       "      <th>22</th>\n",
       "      <td>Instagram: Esposa de Mauricio Diez Canseco luc...</td>\n",
       "      <td>https://larepublica.pe/espectaculos/887667-ins...</td>\n",
       "    </tr>\n",
       "    <tr>\n",
       "      <th>23</th>\n",
       "      <td>Así fue la boda de Mauricio Diez Canseco con A...</td>\n",
       "      <td>https://larepublica.pe/espectaculos/767455-asi...</td>\n",
       "    </tr>\n",
       "    <tr>\n",
       "      <th>24</th>\n",
       "      <td>Mauricio Diez Canseco presenta a su nueva pare...</td>\n",
       "      <td>https://larepublica.pe/espectaculos/856248-mau...</td>\n",
       "    </tr>\n",
       "    <tr>\n",
       "      <th>25</th>\n",
       "      <td>El gran gesto de Mauricio Diez Canseco con los...</td>\n",
       "      <td>https://larepublica.pe/espectaculos/860652-el-...</td>\n",
       "    </tr>\n",
       "    <tr>\n",
       "      <th>26</th>\n",
       "      <td>Padre de Antonella de Groot le hizo una gran a...</td>\n",
       "      <td>https://larepublica.pe/espectaculos/767241-pad...</td>\n",
       "    </tr>\n",
       "    <tr>\n",
       "      <th>27</th>\n",
       "      <td>Mauricio Diez Canseco y Andrés Hurtado se enfr...</td>\n",
       "      <td>https://larepublica.pe/espectaculos/1101046-ma...</td>\n",
       "    </tr>\n",
       "    <tr>\n",
       "      <th>28</th>\n",
       "      <td>Mauricio Diez Canseco: todos los amores del 'p...</td>\n",
       "      <td>https://larepublica.pe/espectaculos/767206-mau...</td>\n",
       "    </tr>\n",
       "    <tr>\n",
       "      <th>29</th>\n",
       "      <td>Mauricio Diez Canseco se casará con candidata ...</td>\n",
       "      <td>https://larepublica.pe/espectaculos/764760-mau...</td>\n",
       "    </tr>\n",
       "    <tr>\n",
       "      <th>...</th>\n",
       "      <td>...</td>\n",
       "      <td>...</td>\n",
       "    </tr>\n",
       "    <tr>\n",
       "      <th>319</th>\n",
       "      <td>Musical Juan Palenque vuelve a los escenarios ...</td>\n",
       "      <td>https://larepublica.pe/tendencias/797886-music...</td>\n",
       "    </tr>\n",
       "    <tr>\n",
       "      <th>320</th>\n",
       "      <td>Cupido gaucho. Paula Marijuán y su cónsul enam...</td>\n",
       "      <td>https://larepublica.pe/tendencias/230960-cupid...</td>\n",
       "    </tr>\n",
       "    <tr>\n",
       "      <th>321</th>\n",
       "      <td>Facebook: Anciana lanza insultos racistas a mu...</td>\n",
       "      <td>https://larepublica.pe/tendencias/1212083-face...</td>\n",
       "    </tr>\n",
       "    <tr>\n",
       "      <th>322</th>\n",
       "      <td>Policía perpetra ataque brutal contra periodis...</td>\n",
       "      <td>https://larepublica.pe/politica/336286-policia...</td>\n",
       "    </tr>\n",
       "    <tr>\n",
       "      <th>323</th>\n",
       "      <td>La dieta de los zumos: Bebidas para perder pes...</td>\n",
       "      <td>https://larepublica.pe/salud/545681-la-dieta-d...</td>\n",
       "    </tr>\n",
       "    <tr>\n",
       "      <th>324</th>\n",
       "      <td>Magaly Medina desata rumores en Facebook al pr...</td>\n",
       "      <td>https://larepublica.pe/espectaculos/730100-mag...</td>\n",
       "    </tr>\n",
       "    <tr>\n",
       "      <th>325</th>\n",
       "      <td>Buscan ampliar régimen mypes al resto de empre...</td>\n",
       "      <td>https://larepublica.pe/economia/367194-buscan-...</td>\n",
       "    </tr>\n",
       "    <tr>\n",
       "      <th>326</th>\n",
       "      <td>Los mejores selfies con políticos del 2014 | F...</td>\n",
       "      <td>https://larepublica.pe/archivo/839785-los-mejo...</td>\n",
       "    </tr>\n",
       "    <tr>\n",
       "      <th>327</th>\n",
       "      <td>Alfredo Benavides bajó 21 kilos en nueve días ...</td>\n",
       "      <td>https://larepublica.pe/espectaculos/857774-alf...</td>\n",
       "    </tr>\n",
       "    <tr>\n",
       "      <th>328</th>\n",
       "      <td>DT del Arsenal defiende a Fábregas | LaRepubli...</td>\n",
       "      <td>https://larepublica.pe/deportes/479482-dt-del-...</td>\n",
       "    </tr>\n",
       "    <tr>\n",
       "      <th>329</th>\n",
       "      <td>Firmas con operaciones virtuales pagarán impue...</td>\n",
       "      <td>https://larepublica.pe/economia/818500-firmas-...</td>\n",
       "    </tr>\n",
       "    <tr>\n",
       "      <th>330</th>\n",
       "      <td>Así luce Milett Figueroa tras contraer grave a...</td>\n",
       "      <td>https://larepublica.pe/espectaculos/748951-asi...</td>\n",
       "    </tr>\n",
       "    <tr>\n",
       "      <th>331</th>\n",
       "      <td>Actividad Paranormal 4 debuta tras los pasos d...</td>\n",
       "      <td>https://larepublica.pe/espectaculos/667833-act...</td>\n",
       "    </tr>\n",
       "    <tr>\n",
       "      <th>332</th>\n",
       "      <td>Facebook: Niño resuelve extraño reto matemátic...</td>\n",
       "      <td>https://larepublica.pe/tendencias/1212097-face...</td>\n",
       "    </tr>\n",
       "    <tr>\n",
       "      <th>333</th>\n",
       "      <td>Editoriales son investigadas por Indecopi por ...</td>\n",
       "      <td>https://larepublica.pe/sociedad/526492-editori...</td>\n",
       "    </tr>\n",
       "    <tr>\n",
       "      <th>334</th>\n",
       "      <td>Insisten en invitar a Magaly Medina | LaRepubl...</td>\n",
       "      <td>https://larepublica.pe/tendencias/448192-insis...</td>\n",
       "    </tr>\n",
       "    <tr>\n",
       "      <th>335</th>\n",
       "      <td>Maradona: Quiero volver a Italia como un señor...</td>\n",
       "      <td>https://larepublica.pe/deportes/690534-maradon...</td>\n",
       "    </tr>\n",
       "    <tr>\n",
       "      <th>336</th>\n",
       "      <td>YouTube: exlíder de La Oreja de Van Gogh luce ...</td>\n",
       "      <td>https://larepublica.pe/espectaculos/1213604-yo...</td>\n",
       "    </tr>\n",
       "    <tr>\n",
       "      <th>337</th>\n",
       "      <td>Hoy inauguran puente en Machu Picchu | LaRepub...</td>\n",
       "      <td>https://larepublica.pe/sociedad/267248-hoy-ina...</td>\n",
       "    </tr>\n",
       "    <tr>\n",
       "      <th>338</th>\n",
       "      <td>Vea esta terrorifica falta en el fútbol inglés...</td>\n",
       "      <td>https://larepublica.pe/deportes/698201-vea-est...</td>\n",
       "    </tr>\n",
       "    <tr>\n",
       "      <th>339</th>\n",
       "      <td>El regreso de Kenita Larraín | LaRepublica.pe</td>\n",
       "      <td>https://larepublica.pe/espectaculos/237731-el-...</td>\n",
       "    </tr>\n",
       "    <tr>\n",
       "      <th>340</th>\n",
       "      <td>YouTube: obrero salvó de morir luego de que le...</td>\n",
       "      <td>https://larepublica.pe/mundo/721878-youtube-ob...</td>\n",
       "    </tr>\n",
       "    <tr>\n",
       "      <th>341</th>\n",
       "      <td>Monique Pardo anhela ser ministra de la Mujer ...</td>\n",
       "      <td>https://larepublica.pe/espectaculos/864800-mon...</td>\n",
       "    </tr>\n",
       "    <tr>\n",
       "      <th>342</th>\n",
       "      <td>RATING: Magaly Medina sigue invencible ante Gi...</td>\n",
       "      <td>https://larepublica.pe/espectaculos/836341-rat...</td>\n",
       "    </tr>\n",
       "    <tr>\n",
       "      <th>343</th>\n",
       "      <td>Magaly Medina responde a sus detractores con c...</td>\n",
       "      <td>https://larepublica.pe/espectaculos/724855-mag...</td>\n",
       "    </tr>\n",
       "    <tr>\n",
       "      <th>344</th>\n",
       "      <td>“Lúcar me tiene envidia\" | LaRepublica.pe</td>\n",
       "      <td>https://larepublica.pe/tendencias/239923-lucar...</td>\n",
       "    </tr>\n",
       "    <tr>\n",
       "      <th>345</th>\n",
       "      <td>EDITORIAL / Brutal golpiza a periodistas | LaR...</td>\n",
       "      <td>https://larepublica.pe/politica/336355-editori...</td>\n",
       "    </tr>\n",
       "    <tr>\n",
       "      <th>346</th>\n",
       "      <td>Beto Ortiz opinó sobre el regreso de Sofía Fra...</td>\n",
       "      <td>https://larepublica.pe/28-01-2013/beto-ortiz-o...</td>\n",
       "    </tr>\n",
       "    <tr>\n",
       "      <th>347</th>\n",
       "      <td>¿Michelle Soifer recibió dinero para apoyar a ...</td>\n",
       "      <td>https://larepublica.pe/espectaculos/775390-mic...</td>\n",
       "    </tr>\n",
       "    <tr>\n",
       "      <th>348</th>\n",
       "      <td>Rubia revive 'Alo Gisela' en película '¡Asu ma...</td>\n",
       "      <td>https://larepublica.pe/tendencias/683078-rubia...</td>\n",
       "    </tr>\n",
       "  </tbody>\n",
       "</table>\n",
       "<p>349 rows × 2 columns</p>\n",
       "</div>"
      ],
      "text/plain": [
       "                                                Título  \\\n",
       "0    Facebook: Mauricio Diez Canseco presenta a sus...   \n",
       "1    Instagram: ella es la primera esposa de Mauric...   \n",
       "2    Hija de Mauricio Diez Canseco remece Instagram...   \n",
       "3    Instagram: Hija de Mauricio Diez Canseco posa ...   \n",
       "4    Instagram: hija de Mauricio Diez Canseco cauti...   \n",
       "5    Instagram: Hija de Mauricio Diez Canseco prese...   \n",
       "6    Instagram: Mauricio Diez Canseco posa junto a ...   \n",
       "7    Facebook: esta fue la tierna sesión de fotos d...   \n",
       "8    Instagram: hija de Mauricio Diez Canseco posa ...   \n",
       "9    Mauricio Diez Canseco renuncia a candidatura a...   \n",
       "10              Mauricio Diez Canseco | LaRepublica.pe   \n",
       "11   Instagram: Esposa de Mauricio Diez Canseco baj...   \n",
       "12   En Instagram, hija de Mauricio Diez Canseco es...   \n",
       "13   Instagram: hija de Mauricio Diez Canseco enamo...   \n",
       "14   Instagram: hija de Mauricio Diez Canseco cauti...   \n",
       "15   Mauricio Diez Canseco puso en aprietos a Gisel...   \n",
       "16   Instagram: Leslie Castillo, expareja de Mauric...   \n",
       "17   Falleció el padre del empresario Mauricio Diez...   \n",
       "18   Instagram: las primeras fotos del bebé de Anto...   \n",
       "19   Antonella De Groot, esposa de Mauricio Diez Ca...   \n",
       "20   Facebook: Mauricio Diez Canseco y su esposa ha...   \n",
       "21   Mauricio Diez Canseco anunció embarazo de su e...   \n",
       "22   Instagram: Esposa de Mauricio Diez Canseco luc...   \n",
       "23   Así fue la boda de Mauricio Diez Canseco con A...   \n",
       "24   Mauricio Diez Canseco presenta a su nueva pare...   \n",
       "25   El gran gesto de Mauricio Diez Canseco con los...   \n",
       "26   Padre de Antonella de Groot le hizo una gran a...   \n",
       "27   Mauricio Diez Canseco y Andrés Hurtado se enfr...   \n",
       "28   Mauricio Diez Canseco: todos los amores del 'p...   \n",
       "29   Mauricio Diez Canseco se casará con candidata ...   \n",
       "..                                                 ...   \n",
       "319  Musical Juan Palenque vuelve a los escenarios ...   \n",
       "320  Cupido gaucho. Paula Marijuán y su cónsul enam...   \n",
       "321  Facebook: Anciana lanza insultos racistas a mu...   \n",
       "322  Policía perpetra ataque brutal contra periodis...   \n",
       "323  La dieta de los zumos: Bebidas para perder pes...   \n",
       "324  Magaly Medina desata rumores en Facebook al pr...   \n",
       "325  Buscan ampliar régimen mypes al resto de empre...   \n",
       "326  Los mejores selfies con políticos del 2014 | F...   \n",
       "327  Alfredo Benavides bajó 21 kilos en nueve días ...   \n",
       "328  DT del Arsenal defiende a Fábregas | LaRepubli...   \n",
       "329  Firmas con operaciones virtuales pagarán impue...   \n",
       "330  Así luce Milett Figueroa tras contraer grave a...   \n",
       "331  Actividad Paranormal 4 debuta tras los pasos d...   \n",
       "332  Facebook: Niño resuelve extraño reto matemátic...   \n",
       "333  Editoriales son investigadas por Indecopi por ...   \n",
       "334  Insisten en invitar a Magaly Medina | LaRepubl...   \n",
       "335  Maradona: Quiero volver a Italia como un señor...   \n",
       "336  YouTube: exlíder de La Oreja de Van Gogh luce ...   \n",
       "337  Hoy inauguran puente en Machu Picchu | LaRepub...   \n",
       "338  Vea esta terrorifica falta en el fútbol inglés...   \n",
       "339      El regreso de Kenita Larraín | LaRepublica.pe   \n",
       "340  YouTube: obrero salvó de morir luego de que le...   \n",
       "341  Monique Pardo anhela ser ministra de la Mujer ...   \n",
       "342  RATING: Magaly Medina sigue invencible ante Gi...   \n",
       "343  Magaly Medina responde a sus detractores con c...   \n",
       "344          “Lúcar me tiene envidia\" | LaRepublica.pe   \n",
       "345  EDITORIAL / Brutal golpiza a periodistas | LaR...   \n",
       "346  Beto Ortiz opinó sobre el regreso de Sofía Fra...   \n",
       "347  ¿Michelle Soifer recibió dinero para apoyar a ...   \n",
       "348  Rubia revive 'Alo Gisela' en película '¡Asu ma...   \n",
       "\n",
       "                                                   url  \n",
       "0    https://larepublica.pe/espectaculos/1256281-fa...  \n",
       "1    https://larepublica.pe/espectaculos/1247333-in...  \n",
       "2    https://larepublica.pe/espectaculos/1167353-hi...  \n",
       "3    https://larepublica.pe/espectaculos/1238569-in...  \n",
       "4    https://larepublica.pe/espectaculos/1149940-in...  \n",
       "5    https://larepublica.pe/espectaculos/1270648-in...  \n",
       "6    https://larepublica.pe/tendencias/1214488-inst...  \n",
       "7    https://larepublica.pe/espectaculos/1212080-fa...  \n",
       "8    https://larepublica.pe/espectaculos/1281044-in...  \n",
       "9    https://larepublica.pe/espectaculos/703917-mau...  \n",
       "10    https://larepublica.pe/tag/mauricio-diez-canseco  \n",
       "11   https://larepublica.pe/espectaculos/1220523-in...  \n",
       "12   https://larepublica.pe/espectaculos/1149181-en...  \n",
       "13   https://larepublica.pe/espectaculos/1213517-in...  \n",
       "14   https://larepublica.pe/amp/espectaculos/114994...  \n",
       "15   https://larepublica.pe/espectaculos/1206444-ma...  \n",
       "16   https://larepublica.pe/espectaculos/1280410-in...  \n",
       "17   https://larepublica.pe/espectaculos/849518-fal...  \n",
       "18   https://larepublica.pe/espectaculos/1204264-in...  \n",
       "19   https://larepublica.pe/espectaculos/835847-ant...  \n",
       "20   https://larepublica.pe/espectaculos/1161717-fa...  \n",
       "21   https://larepublica.pe/espectaculos/1068093-ma...  \n",
       "22   https://larepublica.pe/espectaculos/887667-ins...  \n",
       "23   https://larepublica.pe/espectaculos/767455-asi...  \n",
       "24   https://larepublica.pe/espectaculos/856248-mau...  \n",
       "25   https://larepublica.pe/espectaculos/860652-el-...  \n",
       "26   https://larepublica.pe/espectaculos/767241-pad...  \n",
       "27   https://larepublica.pe/espectaculos/1101046-ma...  \n",
       "28   https://larepublica.pe/espectaculos/767206-mau...  \n",
       "29   https://larepublica.pe/espectaculos/764760-mau...  \n",
       "..                                                 ...  \n",
       "319  https://larepublica.pe/tendencias/797886-music...  \n",
       "320  https://larepublica.pe/tendencias/230960-cupid...  \n",
       "321  https://larepublica.pe/tendencias/1212083-face...  \n",
       "322  https://larepublica.pe/politica/336286-policia...  \n",
       "323  https://larepublica.pe/salud/545681-la-dieta-d...  \n",
       "324  https://larepublica.pe/espectaculos/730100-mag...  \n",
       "325  https://larepublica.pe/economia/367194-buscan-...  \n",
       "326  https://larepublica.pe/archivo/839785-los-mejo...  \n",
       "327  https://larepublica.pe/espectaculos/857774-alf...  \n",
       "328  https://larepublica.pe/deportes/479482-dt-del-...  \n",
       "329  https://larepublica.pe/economia/818500-firmas-...  \n",
       "330  https://larepublica.pe/espectaculos/748951-asi...  \n",
       "331  https://larepublica.pe/espectaculos/667833-act...  \n",
       "332  https://larepublica.pe/tendencias/1212097-face...  \n",
       "333  https://larepublica.pe/sociedad/526492-editori...  \n",
       "334  https://larepublica.pe/tendencias/448192-insis...  \n",
       "335  https://larepublica.pe/deportes/690534-maradon...  \n",
       "336  https://larepublica.pe/espectaculos/1213604-yo...  \n",
       "337  https://larepublica.pe/sociedad/267248-hoy-ina...  \n",
       "338  https://larepublica.pe/deportes/698201-vea-est...  \n",
       "339  https://larepublica.pe/espectaculos/237731-el-...  \n",
       "340  https://larepublica.pe/mundo/721878-youtube-ob...  \n",
       "341  https://larepublica.pe/espectaculos/864800-mon...  \n",
       "342  https://larepublica.pe/espectaculos/836341-rat...  \n",
       "343  https://larepublica.pe/espectaculos/724855-mag...  \n",
       "344  https://larepublica.pe/tendencias/239923-lucar...  \n",
       "345  https://larepublica.pe/politica/336355-editori...  \n",
       "346  https://larepublica.pe/28-01-2013/beto-ortiz-o...  \n",
       "347  https://larepublica.pe/espectaculos/775390-mic...  \n",
       "348  https://larepublica.pe/tendencias/683078-rubia...  \n",
       "\n",
       "[349 rows x 2 columns]"
      ]
     },
     "execution_count": 267,
     "metadata": {},
     "output_type": "execute_result"
    }
   ],
   "source": [
    "data = MD\n",
    "data"
   ]
  },
  {
   "cell_type": "code",
   "execution_count": null,
   "metadata": {},
   "outputs": [
    {
     "name": "stderr",
     "output_type": "stream",
     "text": [
      "C:\\ProgramData\\Anaconda3\\lib\\site-packages\\urllib3\\connectionpool.py:858: InsecureRequestWarning: Unverified HTTPS request is being made. Adding certificate verification is strongly advised. See: https://urllib3.readthedocs.io/en/latest/advanced-usage.html#ssl-warnings\n",
      "  InsecureRequestWarning)\n"
     ]
    },
    {
     "name": "stdout",
     "output_type": "stream",
     "text": [
      "0\n"
     ]
    },
    {
     "name": "stderr",
     "output_type": "stream",
     "text": [
      "C:\\ProgramData\\Anaconda3\\lib\\site-packages\\urllib3\\connectionpool.py:858: InsecureRequestWarning: Unverified HTTPS request is being made. Adding certificate verification is strongly advised. See: https://urllib3.readthedocs.io/en/latest/advanced-usage.html#ssl-warnings\n",
      "  InsecureRequestWarning)\n"
     ]
    },
    {
     "name": "stdout",
     "output_type": "stream",
     "text": [
      "1\n"
     ]
    },
    {
     "name": "stderr",
     "output_type": "stream",
     "text": [
      "C:\\ProgramData\\Anaconda3\\lib\\site-packages\\urllib3\\connectionpool.py:858: InsecureRequestWarning: Unverified HTTPS request is being made. Adding certificate verification is strongly advised. See: https://urllib3.readthedocs.io/en/latest/advanced-usage.html#ssl-warnings\n",
      "  InsecureRequestWarning)\n"
     ]
    },
    {
     "name": "stdout",
     "output_type": "stream",
     "text": [
      "2\n"
     ]
    },
    {
     "name": "stderr",
     "output_type": "stream",
     "text": [
      "C:\\ProgramData\\Anaconda3\\lib\\site-packages\\urllib3\\connectionpool.py:858: InsecureRequestWarning: Unverified HTTPS request is being made. Adding certificate verification is strongly advised. See: https://urllib3.readthedocs.io/en/latest/advanced-usage.html#ssl-warnings\n",
      "  InsecureRequestWarning)\n"
     ]
    },
    {
     "name": "stdout",
     "output_type": "stream",
     "text": [
      "3\n"
     ]
    },
    {
     "name": "stderr",
     "output_type": "stream",
     "text": [
      "C:\\ProgramData\\Anaconda3\\lib\\site-packages\\urllib3\\connectionpool.py:858: InsecureRequestWarning: Unverified HTTPS request is being made. Adding certificate verification is strongly advised. See: https://urllib3.readthedocs.io/en/latest/advanced-usage.html#ssl-warnings\n",
      "  InsecureRequestWarning)\n"
     ]
    },
    {
     "name": "stdout",
     "output_type": "stream",
     "text": [
      "4\n"
     ]
    },
    {
     "name": "stderr",
     "output_type": "stream",
     "text": [
      "C:\\ProgramData\\Anaconda3\\lib\\site-packages\\urllib3\\connectionpool.py:858: InsecureRequestWarning: Unverified HTTPS request is being made. Adding certificate verification is strongly advised. See: https://urllib3.readthedocs.io/en/latest/advanced-usage.html#ssl-warnings\n",
      "  InsecureRequestWarning)\n"
     ]
    },
    {
     "name": "stdout",
     "output_type": "stream",
     "text": [
      "5\n"
     ]
    },
    {
     "name": "stderr",
     "output_type": "stream",
     "text": [
      "C:\\ProgramData\\Anaconda3\\lib\\site-packages\\urllib3\\connectionpool.py:858: InsecureRequestWarning: Unverified HTTPS request is being made. Adding certificate verification is strongly advised. See: https://urllib3.readthedocs.io/en/latest/advanced-usage.html#ssl-warnings\n",
      "  InsecureRequestWarning)\n"
     ]
    },
    {
     "name": "stdout",
     "output_type": "stream",
     "text": [
      "6\n"
     ]
    },
    {
     "name": "stderr",
     "output_type": "stream",
     "text": [
      "C:\\ProgramData\\Anaconda3\\lib\\site-packages\\urllib3\\connectionpool.py:858: InsecureRequestWarning: Unverified HTTPS request is being made. Adding certificate verification is strongly advised. See: https://urllib3.readthedocs.io/en/latest/advanced-usage.html#ssl-warnings\n",
      "  InsecureRequestWarning)\n"
     ]
    },
    {
     "name": "stdout",
     "output_type": "stream",
     "text": [
      "7\n"
     ]
    },
    {
     "name": "stderr",
     "output_type": "stream",
     "text": [
      "C:\\ProgramData\\Anaconda3\\lib\\site-packages\\urllib3\\connectionpool.py:858: InsecureRequestWarning: Unverified HTTPS request is being made. Adding certificate verification is strongly advised. See: https://urllib3.readthedocs.io/en/latest/advanced-usage.html#ssl-warnings\n",
      "  InsecureRequestWarning)\n"
     ]
    },
    {
     "name": "stdout",
     "output_type": "stream",
     "text": [
      "8\n"
     ]
    },
    {
     "name": "stderr",
     "output_type": "stream",
     "text": [
      "C:\\ProgramData\\Anaconda3\\lib\\site-packages\\urllib3\\connectionpool.py:858: InsecureRequestWarning: Unverified HTTPS request is being made. Adding certificate verification is strongly advised. See: https://urllib3.readthedocs.io/en/latest/advanced-usage.html#ssl-warnings\n",
      "  InsecureRequestWarning)\n"
     ]
    },
    {
     "name": "stdout",
     "output_type": "stream",
     "text": [
      "9\n"
     ]
    },
    {
     "name": "stderr",
     "output_type": "stream",
     "text": [
      "C:\\ProgramData\\Anaconda3\\lib\\site-packages\\urllib3\\connectionpool.py:858: InsecureRequestWarning: Unverified HTTPS request is being made. Adding certificate verification is strongly advised. See: https://urllib3.readthedocs.io/en/latest/advanced-usage.html#ssl-warnings\n",
      "  InsecureRequestWarning)\n"
     ]
    },
    {
     "name": "stdout",
     "output_type": "stream",
     "text": [
      "10\n"
     ]
    },
    {
     "name": "stderr",
     "output_type": "stream",
     "text": [
      "C:\\ProgramData\\Anaconda3\\lib\\site-packages\\urllib3\\connectionpool.py:858: InsecureRequestWarning: Unverified HTTPS request is being made. Adding certificate verification is strongly advised. See: https://urllib3.readthedocs.io/en/latest/advanced-usage.html#ssl-warnings\n",
      "  InsecureRequestWarning)\n"
     ]
    },
    {
     "name": "stdout",
     "output_type": "stream",
     "text": [
      "11\n"
     ]
    },
    {
     "name": "stderr",
     "output_type": "stream",
     "text": [
      "C:\\ProgramData\\Anaconda3\\lib\\site-packages\\urllib3\\connectionpool.py:858: InsecureRequestWarning: Unverified HTTPS request is being made. Adding certificate verification is strongly advised. See: https://urllib3.readthedocs.io/en/latest/advanced-usage.html#ssl-warnings\n",
      "  InsecureRequestWarning)\n"
     ]
    },
    {
     "name": "stdout",
     "output_type": "stream",
     "text": [
      "12\n"
     ]
    },
    {
     "name": "stderr",
     "output_type": "stream",
     "text": [
      "C:\\ProgramData\\Anaconda3\\lib\\site-packages\\urllib3\\connectionpool.py:858: InsecureRequestWarning: Unverified HTTPS request is being made. Adding certificate verification is strongly advised. See: https://urllib3.readthedocs.io/en/latest/advanced-usage.html#ssl-warnings\n",
      "  InsecureRequestWarning)\n"
     ]
    },
    {
     "name": "stdout",
     "output_type": "stream",
     "text": [
      "13\n"
     ]
    },
    {
     "name": "stderr",
     "output_type": "stream",
     "text": [
      "C:\\ProgramData\\Anaconda3\\lib\\site-packages\\urllib3\\connectionpool.py:858: InsecureRequestWarning: Unverified HTTPS request is being made. Adding certificate verification is strongly advised. See: https://urllib3.readthedocs.io/en/latest/advanced-usage.html#ssl-warnings\n",
      "  InsecureRequestWarning)\n"
     ]
    },
    {
     "name": "stdout",
     "output_type": "stream",
     "text": [
      "14\n"
     ]
    },
    {
     "name": "stderr",
     "output_type": "stream",
     "text": [
      "C:\\ProgramData\\Anaconda3\\lib\\site-packages\\urllib3\\connectionpool.py:858: InsecureRequestWarning: Unverified HTTPS request is being made. Adding certificate verification is strongly advised. See: https://urllib3.readthedocs.io/en/latest/advanced-usage.html#ssl-warnings\n",
      "  InsecureRequestWarning)\n"
     ]
    },
    {
     "name": "stdout",
     "output_type": "stream",
     "text": [
      "15\n"
     ]
    },
    {
     "name": "stderr",
     "output_type": "stream",
     "text": [
      "C:\\ProgramData\\Anaconda3\\lib\\site-packages\\urllib3\\connectionpool.py:858: InsecureRequestWarning: Unverified HTTPS request is being made. Adding certificate verification is strongly advised. See: https://urllib3.readthedocs.io/en/latest/advanced-usage.html#ssl-warnings\n",
      "  InsecureRequestWarning)\n"
     ]
    },
    {
     "name": "stdout",
     "output_type": "stream",
     "text": [
      "16\n"
     ]
    },
    {
     "name": "stderr",
     "output_type": "stream",
     "text": [
      "C:\\ProgramData\\Anaconda3\\lib\\site-packages\\urllib3\\connectionpool.py:858: InsecureRequestWarning: Unverified HTTPS request is being made. Adding certificate verification is strongly advised. See: https://urllib3.readthedocs.io/en/latest/advanced-usage.html#ssl-warnings\n",
      "  InsecureRequestWarning)\n"
     ]
    },
    {
     "name": "stdout",
     "output_type": "stream",
     "text": [
      "17\n"
     ]
    },
    {
     "name": "stderr",
     "output_type": "stream",
     "text": [
      "C:\\ProgramData\\Anaconda3\\lib\\site-packages\\urllib3\\connectionpool.py:858: InsecureRequestWarning: Unverified HTTPS request is being made. Adding certificate verification is strongly advised. See: https://urllib3.readthedocs.io/en/latest/advanced-usage.html#ssl-warnings\n",
      "  InsecureRequestWarning)\n"
     ]
    },
    {
     "name": "stdout",
     "output_type": "stream",
     "text": [
      "18\n"
     ]
    },
    {
     "name": "stderr",
     "output_type": "stream",
     "text": [
      "C:\\ProgramData\\Anaconda3\\lib\\site-packages\\urllib3\\connectionpool.py:858: InsecureRequestWarning: Unverified HTTPS request is being made. Adding certificate verification is strongly advised. See: https://urllib3.readthedocs.io/en/latest/advanced-usage.html#ssl-warnings\n",
      "  InsecureRequestWarning)\n"
     ]
    },
    {
     "name": "stdout",
     "output_type": "stream",
     "text": [
      "19\n"
     ]
    },
    {
     "name": "stderr",
     "output_type": "stream",
     "text": [
      "C:\\ProgramData\\Anaconda3\\lib\\site-packages\\urllib3\\connectionpool.py:858: InsecureRequestWarning: Unverified HTTPS request is being made. Adding certificate verification is strongly advised. See: https://urllib3.readthedocs.io/en/latest/advanced-usage.html#ssl-warnings\n",
      "  InsecureRequestWarning)\n"
     ]
    },
    {
     "name": "stdout",
     "output_type": "stream",
     "text": [
      "20\n"
     ]
    },
    {
     "name": "stderr",
     "output_type": "stream",
     "text": [
      "C:\\ProgramData\\Anaconda3\\lib\\site-packages\\urllib3\\connectionpool.py:858: InsecureRequestWarning: Unverified HTTPS request is being made. Adding certificate verification is strongly advised. See: https://urllib3.readthedocs.io/en/latest/advanced-usage.html#ssl-warnings\n",
      "  InsecureRequestWarning)\n"
     ]
    },
    {
     "name": "stdout",
     "output_type": "stream",
     "text": [
      "21\n"
     ]
    },
    {
     "name": "stderr",
     "output_type": "stream",
     "text": [
      "C:\\ProgramData\\Anaconda3\\lib\\site-packages\\urllib3\\connectionpool.py:858: InsecureRequestWarning: Unverified HTTPS request is being made. Adding certificate verification is strongly advised. See: https://urllib3.readthedocs.io/en/latest/advanced-usage.html#ssl-warnings\n",
      "  InsecureRequestWarning)\n"
     ]
    },
    {
     "name": "stdout",
     "output_type": "stream",
     "text": [
      "22\n"
     ]
    },
    {
     "name": "stderr",
     "output_type": "stream",
     "text": [
      "C:\\ProgramData\\Anaconda3\\lib\\site-packages\\urllib3\\connectionpool.py:858: InsecureRequestWarning: Unverified HTTPS request is being made. Adding certificate verification is strongly advised. See: https://urllib3.readthedocs.io/en/latest/advanced-usage.html#ssl-warnings\n",
      "  InsecureRequestWarning)\n"
     ]
    },
    {
     "name": "stdout",
     "output_type": "stream",
     "text": [
      "23\n"
     ]
    },
    {
     "name": "stderr",
     "output_type": "stream",
     "text": [
      "C:\\ProgramData\\Anaconda3\\lib\\site-packages\\urllib3\\connectionpool.py:858: InsecureRequestWarning: Unverified HTTPS request is being made. Adding certificate verification is strongly advised. See: https://urllib3.readthedocs.io/en/latest/advanced-usage.html#ssl-warnings\n",
      "  InsecureRequestWarning)\n"
     ]
    },
    {
     "name": "stdout",
     "output_type": "stream",
     "text": [
      "24\n"
     ]
    },
    {
     "name": "stderr",
     "output_type": "stream",
     "text": [
      "C:\\ProgramData\\Anaconda3\\lib\\site-packages\\urllib3\\connectionpool.py:858: InsecureRequestWarning: Unverified HTTPS request is being made. Adding certificate verification is strongly advised. See: https://urllib3.readthedocs.io/en/latest/advanced-usage.html#ssl-warnings\n",
      "  InsecureRequestWarning)\n"
     ]
    },
    {
     "name": "stdout",
     "output_type": "stream",
     "text": [
      "25\n"
     ]
    },
    {
     "name": "stderr",
     "output_type": "stream",
     "text": [
      "C:\\ProgramData\\Anaconda3\\lib\\site-packages\\urllib3\\connectionpool.py:858: InsecureRequestWarning: Unverified HTTPS request is being made. Adding certificate verification is strongly advised. See: https://urllib3.readthedocs.io/en/latest/advanced-usage.html#ssl-warnings\n",
      "  InsecureRequestWarning)\n"
     ]
    },
    {
     "name": "stdout",
     "output_type": "stream",
     "text": [
      "26\n"
     ]
    },
    {
     "name": "stderr",
     "output_type": "stream",
     "text": [
      "C:\\ProgramData\\Anaconda3\\lib\\site-packages\\urllib3\\connectionpool.py:858: InsecureRequestWarning: Unverified HTTPS request is being made. Adding certificate verification is strongly advised. See: https://urllib3.readthedocs.io/en/latest/advanced-usage.html#ssl-warnings\n",
      "  InsecureRequestWarning)\n"
     ]
    },
    {
     "name": "stdout",
     "output_type": "stream",
     "text": [
      "27\n"
     ]
    },
    {
     "name": "stderr",
     "output_type": "stream",
     "text": [
      "C:\\ProgramData\\Anaconda3\\lib\\site-packages\\urllib3\\connectionpool.py:858: InsecureRequestWarning: Unverified HTTPS request is being made. Adding certificate verification is strongly advised. See: https://urllib3.readthedocs.io/en/latest/advanced-usage.html#ssl-warnings\n",
      "  InsecureRequestWarning)\n"
     ]
    },
    {
     "name": "stdout",
     "output_type": "stream",
     "text": [
      "28\n"
     ]
    },
    {
     "name": "stderr",
     "output_type": "stream",
     "text": [
      "C:\\ProgramData\\Anaconda3\\lib\\site-packages\\urllib3\\connectionpool.py:858: InsecureRequestWarning: Unverified HTTPS request is being made. Adding certificate verification is strongly advised. See: https://urllib3.readthedocs.io/en/latest/advanced-usage.html#ssl-warnings\n",
      "  InsecureRequestWarning)\n"
     ]
    },
    {
     "name": "stdout",
     "output_type": "stream",
     "text": [
      "29\n"
     ]
    },
    {
     "name": "stderr",
     "output_type": "stream",
     "text": [
      "C:\\ProgramData\\Anaconda3\\lib\\site-packages\\urllib3\\connectionpool.py:858: InsecureRequestWarning: Unverified HTTPS request is being made. Adding certificate verification is strongly advised. See: https://urllib3.readthedocs.io/en/latest/advanced-usage.html#ssl-warnings\n",
      "  InsecureRequestWarning)\n"
     ]
    },
    {
     "name": "stdout",
     "output_type": "stream",
     "text": [
      "30\n"
     ]
    },
    {
     "name": "stderr",
     "output_type": "stream",
     "text": [
      "C:\\ProgramData\\Anaconda3\\lib\\site-packages\\urllib3\\connectionpool.py:858: InsecureRequestWarning: Unverified HTTPS request is being made. Adding certificate verification is strongly advised. See: https://urllib3.readthedocs.io/en/latest/advanced-usage.html#ssl-warnings\n",
      "  InsecureRequestWarning)\n"
     ]
    },
    {
     "name": "stdout",
     "output_type": "stream",
     "text": [
      "31\n"
     ]
    },
    {
     "name": "stderr",
     "output_type": "stream",
     "text": [
      "C:\\ProgramData\\Anaconda3\\lib\\site-packages\\urllib3\\connectionpool.py:858: InsecureRequestWarning: Unverified HTTPS request is being made. Adding certificate verification is strongly advised. See: https://urllib3.readthedocs.io/en/latest/advanced-usage.html#ssl-warnings\n",
      "  InsecureRequestWarning)\n"
     ]
    },
    {
     "name": "stdout",
     "output_type": "stream",
     "text": [
      "32\n"
     ]
    },
    {
     "name": "stderr",
     "output_type": "stream",
     "text": [
      "C:\\ProgramData\\Anaconda3\\lib\\site-packages\\urllib3\\connectionpool.py:858: InsecureRequestWarning: Unverified HTTPS request is being made. Adding certificate verification is strongly advised. See: https://urllib3.readthedocs.io/en/latest/advanced-usage.html#ssl-warnings\n",
      "  InsecureRequestWarning)\n"
     ]
    },
    {
     "name": "stdout",
     "output_type": "stream",
     "text": [
      "33\n"
     ]
    },
    {
     "name": "stderr",
     "output_type": "stream",
     "text": [
      "C:\\ProgramData\\Anaconda3\\lib\\site-packages\\urllib3\\connectionpool.py:858: InsecureRequestWarning: Unverified HTTPS request is being made. Adding certificate verification is strongly advised. See: https://urllib3.readthedocs.io/en/latest/advanced-usage.html#ssl-warnings\n",
      "  InsecureRequestWarning)\n"
     ]
    },
    {
     "name": "stdout",
     "output_type": "stream",
     "text": [
      "34\n",
      "i\n",
      "i\n",
      "i\n",
      "i\n",
      "i\n",
      "i\n",
      "i\n",
      "i\n",
      "i\n",
      "i\n",
      "i\n",
      "i\n",
      "i\n",
      "i\n",
      "i\n",
      "i\n",
      "i\n",
      "i\n"
     ]
    },
    {
     "name": "stderr",
     "output_type": "stream",
     "text": [
      "C:\\ProgramData\\Anaconda3\\lib\\site-packages\\urllib3\\connectionpool.py:858: InsecureRequestWarning: Unverified HTTPS request is being made. Adding certificate verification is strongly advised. See: https://urllib3.readthedocs.io/en/latest/advanced-usage.html#ssl-warnings\n",
      "  InsecureRequestWarning)\n"
     ]
    },
    {
     "name": "stdout",
     "output_type": "stream",
     "text": [
      "35\n"
     ]
    },
    {
     "name": "stderr",
     "output_type": "stream",
     "text": [
      "C:\\ProgramData\\Anaconda3\\lib\\site-packages\\urllib3\\connectionpool.py:858: InsecureRequestWarning: Unverified HTTPS request is being made. Adding certificate verification is strongly advised. See: https://urllib3.readthedocs.io/en/latest/advanced-usage.html#ssl-warnings\n",
      "  InsecureRequestWarning)\n"
     ]
    },
    {
     "name": "stdout",
     "output_type": "stream",
     "text": [
      "36\n"
     ]
    },
    {
     "name": "stderr",
     "output_type": "stream",
     "text": [
      "C:\\ProgramData\\Anaconda3\\lib\\site-packages\\urllib3\\connectionpool.py:858: InsecureRequestWarning: Unverified HTTPS request is being made. Adding certificate verification is strongly advised. See: https://urllib3.readthedocs.io/en/latest/advanced-usage.html#ssl-warnings\n",
      "  InsecureRequestWarning)\n"
     ]
    },
    {
     "name": "stdout",
     "output_type": "stream",
     "text": [
      "37\n"
     ]
    },
    {
     "name": "stderr",
     "output_type": "stream",
     "text": [
      "C:\\ProgramData\\Anaconda3\\lib\\site-packages\\urllib3\\connectionpool.py:858: InsecureRequestWarning: Unverified HTTPS request is being made. Adding certificate verification is strongly advised. See: https://urllib3.readthedocs.io/en/latest/advanced-usage.html#ssl-warnings\n",
      "  InsecureRequestWarning)\n"
     ]
    },
    {
     "name": "stdout",
     "output_type": "stream",
     "text": [
      "38\n"
     ]
    },
    {
     "name": "stderr",
     "output_type": "stream",
     "text": [
      "C:\\ProgramData\\Anaconda3\\lib\\site-packages\\urllib3\\connectionpool.py:858: InsecureRequestWarning: Unverified HTTPS request is being made. Adding certificate verification is strongly advised. See: https://urllib3.readthedocs.io/en/latest/advanced-usage.html#ssl-warnings\n",
      "  InsecureRequestWarning)\n"
     ]
    },
    {
     "name": "stdout",
     "output_type": "stream",
     "text": [
      "39\n"
     ]
    },
    {
     "name": "stderr",
     "output_type": "stream",
     "text": [
      "C:\\ProgramData\\Anaconda3\\lib\\site-packages\\urllib3\\connectionpool.py:858: InsecureRequestWarning: Unverified HTTPS request is being made. Adding certificate verification is strongly advised. See: https://urllib3.readthedocs.io/en/latest/advanced-usage.html#ssl-warnings\n",
      "  InsecureRequestWarning)\n"
     ]
    },
    {
     "name": "stdout",
     "output_type": "stream",
     "text": [
      "40\n"
     ]
    },
    {
     "name": "stderr",
     "output_type": "stream",
     "text": [
      "C:\\ProgramData\\Anaconda3\\lib\\site-packages\\urllib3\\connectionpool.py:858: InsecureRequestWarning: Unverified HTTPS request is being made. Adding certificate verification is strongly advised. See: https://urllib3.readthedocs.io/en/latest/advanced-usage.html#ssl-warnings\n",
      "  InsecureRequestWarning)\n"
     ]
    },
    {
     "name": "stdout",
     "output_type": "stream",
     "text": [
      "41\n"
     ]
    },
    {
     "name": "stderr",
     "output_type": "stream",
     "text": [
      "C:\\ProgramData\\Anaconda3\\lib\\site-packages\\urllib3\\connectionpool.py:858: InsecureRequestWarning: Unverified HTTPS request is being made. Adding certificate verification is strongly advised. See: https://urllib3.readthedocs.io/en/latest/advanced-usage.html#ssl-warnings\n",
      "  InsecureRequestWarning)\n"
     ]
    },
    {
     "name": "stdout",
     "output_type": "stream",
     "text": [
      "42\n"
     ]
    },
    {
     "name": "stderr",
     "output_type": "stream",
     "text": [
      "C:\\ProgramData\\Anaconda3\\lib\\site-packages\\urllib3\\connectionpool.py:858: InsecureRequestWarning: Unverified HTTPS request is being made. Adding certificate verification is strongly advised. See: https://urllib3.readthedocs.io/en/latest/advanced-usage.html#ssl-warnings\n",
      "  InsecureRequestWarning)\n"
     ]
    },
    {
     "name": "stdout",
     "output_type": "stream",
     "text": [
      "43\n"
     ]
    },
    {
     "name": "stderr",
     "output_type": "stream",
     "text": [
      "C:\\ProgramData\\Anaconda3\\lib\\site-packages\\urllib3\\connectionpool.py:858: InsecureRequestWarning: Unverified HTTPS request is being made. Adding certificate verification is strongly advised. See: https://urllib3.readthedocs.io/en/latest/advanced-usage.html#ssl-warnings\n",
      "  InsecureRequestWarning)\n",
      "C:\\ProgramData\\Anaconda3\\lib\\site-packages\\urllib3\\connectionpool.py:858: InsecureRequestWarning: Unverified HTTPS request is being made. Adding certificate verification is strongly advised. See: https://urllib3.readthedocs.io/en/latest/advanced-usage.html#ssl-warnings\n",
      "  InsecureRequestWarning)\n"
     ]
    },
    {
     "name": "stdout",
     "output_type": "stream",
     "text": [
      "44\n"
     ]
    },
    {
     "name": "stderr",
     "output_type": "stream",
     "text": [
      "C:\\ProgramData\\Anaconda3\\lib\\site-packages\\urllib3\\connectionpool.py:858: InsecureRequestWarning: Unverified HTTPS request is being made. Adding certificate verification is strongly advised. See: https://urllib3.readthedocs.io/en/latest/advanced-usage.html#ssl-warnings\n",
      "  InsecureRequestWarning)\n"
     ]
    },
    {
     "name": "stdout",
     "output_type": "stream",
     "text": [
      "45\n"
     ]
    },
    {
     "name": "stderr",
     "output_type": "stream",
     "text": [
      "C:\\ProgramData\\Anaconda3\\lib\\site-packages\\urllib3\\connectionpool.py:858: InsecureRequestWarning: Unverified HTTPS request is being made. Adding certificate verification is strongly advised. See: https://urllib3.readthedocs.io/en/latest/advanced-usage.html#ssl-warnings\n",
      "  InsecureRequestWarning)\n"
     ]
    },
    {
     "name": "stdout",
     "output_type": "stream",
     "text": [
      "46\n"
     ]
    },
    {
     "name": "stderr",
     "output_type": "stream",
     "text": [
      "C:\\ProgramData\\Anaconda3\\lib\\site-packages\\urllib3\\connectionpool.py:858: InsecureRequestWarning: Unverified HTTPS request is being made. Adding certificate verification is strongly advised. See: https://urllib3.readthedocs.io/en/latest/advanced-usage.html#ssl-warnings\n",
      "  InsecureRequestWarning)\n",
      "C:\\ProgramData\\Anaconda3\\lib\\site-packages\\urllib3\\connectionpool.py:858: InsecureRequestWarning: Unverified HTTPS request is being made. Adding certificate verification is strongly advised. See: https://urllib3.readthedocs.io/en/latest/advanced-usage.html#ssl-warnings\n",
      "  InsecureRequestWarning)\n"
     ]
    },
    {
     "name": "stdout",
     "output_type": "stream",
     "text": [
      "47\n"
     ]
    },
    {
     "name": "stderr",
     "output_type": "stream",
     "text": [
      "C:\\ProgramData\\Anaconda3\\lib\\site-packages\\urllib3\\connectionpool.py:858: InsecureRequestWarning: Unverified HTTPS request is being made. Adding certificate verification is strongly advised. See: https://urllib3.readthedocs.io/en/latest/advanced-usage.html#ssl-warnings\n",
      "  InsecureRequestWarning)\n"
     ]
    },
    {
     "name": "stdout",
     "output_type": "stream",
     "text": [
      "48\n"
     ]
    },
    {
     "name": "stderr",
     "output_type": "stream",
     "text": [
      "C:\\ProgramData\\Anaconda3\\lib\\site-packages\\urllib3\\connectionpool.py:858: InsecureRequestWarning: Unverified HTTPS request is being made. Adding certificate verification is strongly advised. See: https://urllib3.readthedocs.io/en/latest/advanced-usage.html#ssl-warnings\n",
      "  InsecureRequestWarning)\n"
     ]
    },
    {
     "name": "stdout",
     "output_type": "stream",
     "text": [
      "49\n",
      "50\n"
     ]
    },
    {
     "name": "stderr",
     "output_type": "stream",
     "text": [
      "C:\\ProgramData\\Anaconda3\\lib\\site-packages\\urllib3\\connectionpool.py:858: InsecureRequestWarning: Unverified HTTPS request is being made. Adding certificate verification is strongly advised. See: https://urllib3.readthedocs.io/en/latest/advanced-usage.html#ssl-warnings\n",
      "  InsecureRequestWarning)\n",
      "C:\\ProgramData\\Anaconda3\\lib\\site-packages\\urllib3\\connectionpool.py:858: InsecureRequestWarning: Unverified HTTPS request is being made. Adding certificate verification is strongly advised. See: https://urllib3.readthedocs.io/en/latest/advanced-usage.html#ssl-warnings\n",
      "  InsecureRequestWarning)\n"
     ]
    },
    {
     "name": "stdout",
     "output_type": "stream",
     "text": [
      "51\n"
     ]
    },
    {
     "name": "stderr",
     "output_type": "stream",
     "text": [
      "C:\\ProgramData\\Anaconda3\\lib\\site-packages\\urllib3\\connectionpool.py:858: InsecureRequestWarning: Unverified HTTPS request is being made. Adding certificate verification is strongly advised. See: https://urllib3.readthedocs.io/en/latest/advanced-usage.html#ssl-warnings\n",
      "  InsecureRequestWarning)\n"
     ]
    },
    {
     "name": "stdout",
     "output_type": "stream",
     "text": [
      "52\n"
     ]
    },
    {
     "name": "stderr",
     "output_type": "stream",
     "text": [
      "C:\\ProgramData\\Anaconda3\\lib\\site-packages\\urllib3\\connectionpool.py:858: InsecureRequestWarning: Unverified HTTPS request is being made. Adding certificate verification is strongly advised. See: https://urllib3.readthedocs.io/en/latest/advanced-usage.html#ssl-warnings\n",
      "  InsecureRequestWarning)\n"
     ]
    },
    {
     "name": "stdout",
     "output_type": "stream",
     "text": [
      "53\n"
     ]
    },
    {
     "name": "stderr",
     "output_type": "stream",
     "text": [
      "C:\\ProgramData\\Anaconda3\\lib\\site-packages\\urllib3\\connectionpool.py:858: InsecureRequestWarning: Unverified HTTPS request is being made. Adding certificate verification is strongly advised. See: https://urllib3.readthedocs.io/en/latest/advanced-usage.html#ssl-warnings\n",
      "  InsecureRequestWarning)\n"
     ]
    },
    {
     "name": "stdout",
     "output_type": "stream",
     "text": [
      "54\n"
     ]
    },
    {
     "name": "stderr",
     "output_type": "stream",
     "text": [
      "C:\\ProgramData\\Anaconda3\\lib\\site-packages\\urllib3\\connectionpool.py:858: InsecureRequestWarning: Unverified HTTPS request is being made. Adding certificate verification is strongly advised. See: https://urllib3.readthedocs.io/en/latest/advanced-usage.html#ssl-warnings\n",
      "  InsecureRequestWarning)\n"
     ]
    },
    {
     "name": "stdout",
     "output_type": "stream",
     "text": [
      "55\n"
     ]
    },
    {
     "name": "stderr",
     "output_type": "stream",
     "text": [
      "C:\\ProgramData\\Anaconda3\\lib\\site-packages\\urllib3\\connectionpool.py:858: InsecureRequestWarning: Unverified HTTPS request is being made. Adding certificate verification is strongly advised. See: https://urllib3.readthedocs.io/en/latest/advanced-usage.html#ssl-warnings\n",
      "  InsecureRequestWarning)\n"
     ]
    },
    {
     "name": "stdout",
     "output_type": "stream",
     "text": [
      "56\n"
     ]
    },
    {
     "name": "stderr",
     "output_type": "stream",
     "text": [
      "C:\\ProgramData\\Anaconda3\\lib\\site-packages\\urllib3\\connectionpool.py:858: InsecureRequestWarning: Unverified HTTPS request is being made. Adding certificate verification is strongly advised. See: https://urllib3.readthedocs.io/en/latest/advanced-usage.html#ssl-warnings\n",
      "  InsecureRequestWarning)\n"
     ]
    },
    {
     "name": "stdout",
     "output_type": "stream",
     "text": [
      "57\n"
     ]
    },
    {
     "name": "stderr",
     "output_type": "stream",
     "text": [
      "C:\\ProgramData\\Anaconda3\\lib\\site-packages\\urllib3\\connectionpool.py:858: InsecureRequestWarning: Unverified HTTPS request is being made. Adding certificate verification is strongly advised. See: https://urllib3.readthedocs.io/en/latest/advanced-usage.html#ssl-warnings\n",
      "  InsecureRequestWarning)\n"
     ]
    },
    {
     "name": "stdout",
     "output_type": "stream",
     "text": [
      "58\n"
     ]
    },
    {
     "name": "stderr",
     "output_type": "stream",
     "text": [
      "C:\\ProgramData\\Anaconda3\\lib\\site-packages\\urllib3\\connectionpool.py:858: InsecureRequestWarning: Unverified HTTPS request is being made. Adding certificate verification is strongly advised. See: https://urllib3.readthedocs.io/en/latest/advanced-usage.html#ssl-warnings\n",
      "  InsecureRequestWarning)\n",
      "C:\\ProgramData\\Anaconda3\\lib\\site-packages\\urllib3\\connectionpool.py:858: InsecureRequestWarning: Unverified HTTPS request is being made. Adding certificate verification is strongly advised. See: https://urllib3.readthedocs.io/en/latest/advanced-usage.html#ssl-warnings\n",
      "  InsecureRequestWarning)\n"
     ]
    },
    {
     "name": "stdout",
     "output_type": "stream",
     "text": [
      "59\n"
     ]
    },
    {
     "name": "stderr",
     "output_type": "stream",
     "text": [
      "C:\\ProgramData\\Anaconda3\\lib\\site-packages\\urllib3\\connectionpool.py:858: InsecureRequestWarning: Unverified HTTPS request is being made. Adding certificate verification is strongly advised. See: https://urllib3.readthedocs.io/en/latest/advanced-usage.html#ssl-warnings\n",
      "  InsecureRequestWarning)\n"
     ]
    },
    {
     "name": "stdout",
     "output_type": "stream",
     "text": [
      "60\n"
     ]
    },
    {
     "name": "stderr",
     "output_type": "stream",
     "text": [
      "C:\\ProgramData\\Anaconda3\\lib\\site-packages\\urllib3\\connectionpool.py:858: InsecureRequestWarning: Unverified HTTPS request is being made. Adding certificate verification is strongly advised. See: https://urllib3.readthedocs.io/en/latest/advanced-usage.html#ssl-warnings\n",
      "  InsecureRequestWarning)\n"
     ]
    },
    {
     "name": "stdout",
     "output_type": "stream",
     "text": [
      "61\n"
     ]
    },
    {
     "name": "stderr",
     "output_type": "stream",
     "text": [
      "C:\\ProgramData\\Anaconda3\\lib\\site-packages\\urllib3\\connectionpool.py:858: InsecureRequestWarning: Unverified HTTPS request is being made. Adding certificate verification is strongly advised. See: https://urllib3.readthedocs.io/en/latest/advanced-usage.html#ssl-warnings\n",
      "  InsecureRequestWarning)\n"
     ]
    }
   ],
   "source": [
    "from bs4 import BeautifulSoup\n",
    "import requests\n",
    "import pandas as pd\n",
    "import os\n",
    "import time\n",
    "\n",
    "mainpath = \"D:/Archivos Jordan Rodriguez/Retos/11.SrMD/04.Scraping/\"\n",
    "filename = \"r_larepublico\"\n",
    "fullpath = os.path.join(mainpath,filename)\n",
    "\n",
    "titulo = []\n",
    "resumen = []\n",
    "fecha = []\n",
    "noticia = []\n",
    "proxies = {\"https\": \"https://pxsis.sunat.peru:8080\"}\n",
    "for i in range(len(data)):\n",
    "    url = data[\"url\"][i]\n",
    "    y = None\n",
    "    while not y:\n",
    "        try:\n",
    "            req = requests.get(url, proxies = proxies, verify = False)\n",
    "            y = 5\n",
    "        except:\n",
    "            time.sleep(5)\n",
    "            print('i')\n",
    "    status_code = req.status_code\n",
    "    if status_code == 200:\n",
    "        print(i)\n",
    "        html = BeautifulSoup(req.text, \"html.parser\")\n",
    "        header=html.find('div',class_=\"post-internal_head\")\n",
    "        try:\n",
    "            titulo.append(header.find('h1',class_=\"post-internal_title\").getText())\n",
    "            resumen.append(header.find('div',class_=\"post-internal_text\").getText())\n",
    "        except:\n",
    "            titulo.append('No encontrado')\n",
    "            resumen.append('No encontrado')\n",
    "        #cabecera = header.find('div',class_=\"post-internal_head\")\n",
    "        try:\n",
    "            fecha.append(header.find('p',class_=\"post-internal_date\").getText())\n",
    "        except:\n",
    "            fecha.append('No encontrado')\n",
    "\n",
    "        #cfecha=html.find('div',class_=\"post-internal_list-social atm_List-social\")\n",
    "        #fecha = cfecha.find('p')\n",
    "        #cuerpo del articulo\n",
    "        try:\n",
    "            contenido=html.find('div',class_=\"col-16-md col-16-sm PostInternalBlockLeft__right\")\n",
    "            texto = contenido.find_all('p')\n",
    "        except:\n",
    "            text = 'No encontrado'\n",
    "        index = []\n",
    "        \n",
    "        for i,entrada in enumerate(texto):\n",
    "            index.append(entrada.getText())\n",
    "        noticia.append(\" \".join(index))\n",
    "    else:\n",
    "        print(\"break\")\n",
    "        time.sleep(10)\n",
    "        pass\n",
    "                \n",
    "MD_2 = pd.DataFrame({\n",
    "    \"Título\": titulo,\n",
    "    \"Resumen\": resumen,\n",
    "    \"Fecha\": fecha,\n",
    "    \"Contenido\": noticia\n",
    "    })\n",
    "\n",
    "MD_2.to_excel(fullpath + \"365a_.xlsx\")\n",
    "        "
   ]
  },
  {
   "cell_type": "code",
   "execution_count": 259,
   "metadata": {},
   "outputs": [],
   "source": [
    "import time\n",
    "time.sleep(5)"
   ]
  },
  {
   "cell_type": "code",
   "execution_count": null,
   "metadata": {},
   "outputs": [],
   "source": []
  },
  {
   "cell_type": "code",
   "execution_count": null,
   "metadata": {},
   "outputs": [],
   "source": []
  }
 ],
 "metadata": {
  "kernelspec": {
   "display_name": "Python 3",
   "language": "python",
   "name": "python3"
  },
  "language_info": {
   "codemirror_mode": {
    "name": "ipython",
    "version": 3
   },
   "file_extension": ".py",
   "mimetype": "text/x-python",
   "name": "python",
   "nbconvert_exporter": "python",
   "pygments_lexer": "ipython3",
   "version": "3.6.5"
  }
 },
 "nbformat": 4,
 "nbformat_minor": 2
}
