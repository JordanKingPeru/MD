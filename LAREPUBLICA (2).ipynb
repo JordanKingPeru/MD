{
 "cells": [
  {
   "cell_type": "code",
   "execution_count": 1,
   "metadata": {},
   "outputs": [],
   "source": [
    "from bs4 import BeautifulSoup\n",
    "import requests\n",
    "import pandas as pd\n",
    "import os"
   ]
  },
  {
   "cell_type": "code",
   "execution_count": 5,
   "metadata": {},
   "outputs": [],
   "source": [
    "mainpath = \"D:/Archivos Jordan Rodriguez/Retos/11.SrMD/04.Scraping/\"\n",
    "filename = \"larepublica.csv\"\n",
    "fullpath = os.path.join(mainpath,filename)"
   ]
  },
  {
   "cell_type": "code",
   "execution_count": 6,
   "metadata": {},
   "outputs": [
    {
     "data": {
      "text/html": [
       "<div>\n",
       "<style scoped>\n",
       "    .dataframe tbody tr th:only-of-type {\n",
       "        vertical-align: middle;\n",
       "    }\n",
       "\n",
       "    .dataframe tbody tr th {\n",
       "        vertical-align: top;\n",
       "    }\n",
       "\n",
       "    .dataframe thead th {\n",
       "        text-align: right;\n",
       "    }\n",
       "</style>\n",
       "<table border=\"1\" class=\"dataframe\">\n",
       "  <thead>\n",
       "    <tr style=\"text-align: right;\">\n",
       "      <th></th>\n",
       "      <th>sitio</th>\n",
       "      <th>url</th>\n",
       "    </tr>\n",
       "  </thead>\n",
       "  <tbody>\n",
       "    <tr>\n",
       "      <th>0</th>\n",
       "      <td>larepublica</td>\n",
       "      <td>https://larepublica.pe/espectaculos/1247333-in...</td>\n",
       "    </tr>\n",
       "    <tr>\n",
       "      <th>1</th>\n",
       "      <td>larepublica</td>\n",
       "      <td>https://larepublica.pe/espectaculos/1256281-fa...</td>\n",
       "    </tr>\n",
       "    <tr>\n",
       "      <th>2</th>\n",
       "      <td>larepublica</td>\n",
       "      <td>https://larepublica.pe/espectaculos/1068093-ma...</td>\n",
       "    </tr>\n",
       "    <tr>\n",
       "      <th>3</th>\n",
       "      <td>larepublica</td>\n",
       "      <td>https://larepublica.pe/espectaculos/767455-asi...</td>\n",
       "    </tr>\n",
       "    <tr>\n",
       "      <th>4</th>\n",
       "      <td>larepublica</td>\n",
       "      <td>https://larepublica.pe/espectaculos/1247333-in...</td>\n",
       "    </tr>\n",
       "    <tr>\n",
       "      <th>5</th>\n",
       "      <td>larepublica</td>\n",
       "      <td>https://larepublica.pe/espectaculos/1167353-hi...</td>\n",
       "    </tr>\n",
       "    <tr>\n",
       "      <th>6</th>\n",
       "      <td>larepublica</td>\n",
       "      <td>https://larepublica.pe/espectaculos/1238569-in...</td>\n",
       "    </tr>\n",
       "    <tr>\n",
       "      <th>7</th>\n",
       "      <td>larepublica</td>\n",
       "      <td>https://larepublica.pe/espectaculos/1270648-in...</td>\n",
       "    </tr>\n",
       "    <tr>\n",
       "      <th>8</th>\n",
       "      <td>larepublica</td>\n",
       "      <td>https://larepublica.pe/espectaculos/767206-mau...</td>\n",
       "    </tr>\n",
       "    <tr>\n",
       "      <th>9</th>\n",
       "      <td>larepublica</td>\n",
       "      <td>https://larepublica.pe/espectaculos/860652-el-...</td>\n",
       "    </tr>\n",
       "  </tbody>\n",
       "</table>\n",
       "</div>"
      ],
      "text/plain": [
       "         sitio                                                url\n",
       "0  larepublica  https://larepublica.pe/espectaculos/1247333-in...\n",
       "1  larepublica  https://larepublica.pe/espectaculos/1256281-fa...\n",
       "2  larepublica  https://larepublica.pe/espectaculos/1068093-ma...\n",
       "3  larepublica  https://larepublica.pe/espectaculos/767455-asi...\n",
       "4  larepublica  https://larepublica.pe/espectaculos/1247333-in...\n",
       "5  larepublica  https://larepublica.pe/espectaculos/1167353-hi...\n",
       "6  larepublica  https://larepublica.pe/espectaculos/1238569-in...\n",
       "7  larepublica  https://larepublica.pe/espectaculos/1270648-in...\n",
       "8  larepublica  https://larepublica.pe/espectaculos/767206-mau...\n",
       "9  larepublica  https://larepublica.pe/espectaculos/860652-el-..."
      ]
     },
     "execution_count": 6,
     "metadata": {},
     "output_type": "execute_result"
    }
   ],
   "source": [
    "data = pd.read_csv(fullpath,sep=',')\n",
    "data.head(10)"
   ]
  },
  {
   "cell_type": "code",
   "execution_count": 8,
   "metadata": {},
   "outputs": [
    {
     "name": "stderr",
     "output_type": "stream",
     "text": [
      "C:\\ProgramData\\Anaconda3\\lib\\site-packages\\urllib3\\connectionpool.py:858: InsecureRequestWarning: Unverified HTTPS request is being made. Adding certificate verification is strongly advised. See: https://urllib3.readthedocs.io/en/latest/advanced-usage.html#ssl-warnings\n",
      "  InsecureRequestWarning)\n"
     ]
    },
    {
     "name": "stdout",
     "output_type": "stream",
     "text": [
      "0\n"
     ]
    },
    {
     "name": "stderr",
     "output_type": "stream",
     "text": [
      "C:\\ProgramData\\Anaconda3\\lib\\site-packages\\urllib3\\connectionpool.py:858: InsecureRequestWarning: Unverified HTTPS request is being made. Adding certificate verification is strongly advised. See: https://urllib3.readthedocs.io/en/latest/advanced-usage.html#ssl-warnings\n",
      "  InsecureRequestWarning)\n"
     ]
    },
    {
     "name": "stdout",
     "output_type": "stream",
     "text": [
      "1\n"
     ]
    },
    {
     "name": "stderr",
     "output_type": "stream",
     "text": [
      "C:\\ProgramData\\Anaconda3\\lib\\site-packages\\urllib3\\connectionpool.py:858: InsecureRequestWarning: Unverified HTTPS request is being made. Adding certificate verification is strongly advised. See: https://urllib3.readthedocs.io/en/latest/advanced-usage.html#ssl-warnings\n",
      "  InsecureRequestWarning)\n"
     ]
    },
    {
     "name": "stdout",
     "output_type": "stream",
     "text": [
      "2\n"
     ]
    },
    {
     "name": "stderr",
     "output_type": "stream",
     "text": [
      "C:\\ProgramData\\Anaconda3\\lib\\site-packages\\urllib3\\connectionpool.py:858: InsecureRequestWarning: Unverified HTTPS request is being made. Adding certificate verification is strongly advised. See: https://urllib3.readthedocs.io/en/latest/advanced-usage.html#ssl-warnings\n",
      "  InsecureRequestWarning)\n"
     ]
    },
    {
     "name": "stdout",
     "output_type": "stream",
     "text": [
      "3\n"
     ]
    },
    {
     "name": "stderr",
     "output_type": "stream",
     "text": [
      "C:\\ProgramData\\Anaconda3\\lib\\site-packages\\urllib3\\connectionpool.py:858: InsecureRequestWarning: Unverified HTTPS request is being made. Adding certificate verification is strongly advised. See: https://urllib3.readthedocs.io/en/latest/advanced-usage.html#ssl-warnings\n",
      "  InsecureRequestWarning)\n"
     ]
    },
    {
     "name": "stdout",
     "output_type": "stream",
     "text": [
      "4\n"
     ]
    },
    {
     "name": "stderr",
     "output_type": "stream",
     "text": [
      "C:\\ProgramData\\Anaconda3\\lib\\site-packages\\urllib3\\connectionpool.py:858: InsecureRequestWarning: Unverified HTTPS request is being made. Adding certificate verification is strongly advised. See: https://urllib3.readthedocs.io/en/latest/advanced-usage.html#ssl-warnings\n",
      "  InsecureRequestWarning)\n"
     ]
    },
    {
     "name": "stdout",
     "output_type": "stream",
     "text": [
      "5\n"
     ]
    },
    {
     "name": "stderr",
     "output_type": "stream",
     "text": [
      "C:\\ProgramData\\Anaconda3\\lib\\site-packages\\urllib3\\connectionpool.py:858: InsecureRequestWarning: Unverified HTTPS request is being made. Adding certificate verification is strongly advised. See: https://urllib3.readthedocs.io/en/latest/advanced-usage.html#ssl-warnings\n",
      "  InsecureRequestWarning)\n"
     ]
    },
    {
     "name": "stdout",
     "output_type": "stream",
     "text": [
      "6\n"
     ]
    },
    {
     "name": "stderr",
     "output_type": "stream",
     "text": [
      "C:\\ProgramData\\Anaconda3\\lib\\site-packages\\urllib3\\connectionpool.py:858: InsecureRequestWarning: Unverified HTTPS request is being made. Adding certificate verification is strongly advised. See: https://urllib3.readthedocs.io/en/latest/advanced-usage.html#ssl-warnings\n",
      "  InsecureRequestWarning)\n"
     ]
    },
    {
     "name": "stdout",
     "output_type": "stream",
     "text": [
      "7\n"
     ]
    },
    {
     "name": "stderr",
     "output_type": "stream",
     "text": [
      "C:\\ProgramData\\Anaconda3\\lib\\site-packages\\urllib3\\connectionpool.py:858: InsecureRequestWarning: Unverified HTTPS request is being made. Adding certificate verification is strongly advised. See: https://urllib3.readthedocs.io/en/latest/advanced-usage.html#ssl-warnings\n",
      "  InsecureRequestWarning)\n"
     ]
    },
    {
     "name": "stdout",
     "output_type": "stream",
     "text": [
      "8\n"
     ]
    },
    {
     "name": "stderr",
     "output_type": "stream",
     "text": [
      "C:\\ProgramData\\Anaconda3\\lib\\site-packages\\urllib3\\connectionpool.py:858: InsecureRequestWarning: Unverified HTTPS request is being made. Adding certificate verification is strongly advised. See: https://urllib3.readthedocs.io/en/latest/advanced-usage.html#ssl-warnings\n",
      "  InsecureRequestWarning)\n"
     ]
    },
    {
     "name": "stdout",
     "output_type": "stream",
     "text": [
      "9\n"
     ]
    },
    {
     "name": "stderr",
     "output_type": "stream",
     "text": [
      "C:\\ProgramData\\Anaconda3\\lib\\site-packages\\urllib3\\connectionpool.py:858: InsecureRequestWarning: Unverified HTTPS request is being made. Adding certificate verification is strongly advised. See: https://urllib3.readthedocs.io/en/latest/advanced-usage.html#ssl-warnings\n",
      "  InsecureRequestWarning)\n"
     ]
    },
    {
     "name": "stdout",
     "output_type": "stream",
     "text": [
      "10\n"
     ]
    },
    {
     "name": "stderr",
     "output_type": "stream",
     "text": [
      "C:\\ProgramData\\Anaconda3\\lib\\site-packages\\urllib3\\connectionpool.py:858: InsecureRequestWarning: Unverified HTTPS request is being made. Adding certificate verification is strongly advised. See: https://urllib3.readthedocs.io/en/latest/advanced-usage.html#ssl-warnings\n",
      "  InsecureRequestWarning)\n"
     ]
    },
    {
     "name": "stdout",
     "output_type": "stream",
     "text": [
      "11\n"
     ]
    }
   ],
   "source": [
    "titulo = []\n",
    "resumen = []\n",
    "fecha = []\n",
    "noticia = []\n",
    "proxies = {\"https\": \"https://pxsis.sunat.peru:8080\"}\n",
    "for i in range(len(data)):\n",
    "    url = data[\"url\"][i]\n",
    "    req = requests.get(url , proxies = proxies, verify = False)\n",
    "    status_code = req.status_code\n",
    "    if status_code == 200:\n",
    "        print(i)\n",
    "        html = BeautifulSoup(req.text, \"html.parser\")\n",
    "        header=html.find('div',class_=\"post-internal_head\")\n",
    "        titulo.append(header.find('h1',class_=\"post-internal_title\").getText())\n",
    "        resumen.append(header.find('div',class_=\"post-internal_text\").getText())\n",
    "        #cabecera = header.find('div',class_=\"post-internal_head\")\n",
    "        fecha.append(header.find('p',class_=\"post-internal_date\").getText())\n",
    "\n",
    "        #fecha\n",
    "        #cfecha=html.find('div',class_=\"post-internal_list-social atm_List-social\")\n",
    "        #fecha = cfecha.find('p')\n",
    "        #cuerpo del articulo\n",
    "        contenido=html.find('div',class_=\"col-16-md col-16-sm PostInternalBlockLeft__right\")\n",
    "        texto = contenido.find_all('p')\n",
    "        index = []\n",
    "        \n",
    "        for i,entrada in enumerate(texto):\n",
    "           index.append(entrada.getText())\n",
    "        noticia.append(\" \".join(index))\n",
    "    else:\n",
    "        print(\"break\")\n",
    "        break\n",
    "                \n",
    "MD = pd.DataFrame({\n",
    "    \"Título\": titulo,\n",
    "    \"Resumen\": resumen,\n",
    "    \"Fecha\": fecha,\n",
    "    \"Contenido\": noticia\n",
    "    })\n",
    "\n",
    "MD.to_excel(fullpath + \"scra_.xlsx\")\n",
    "        "
   ]
  },
  {
   "cell_type": "markdown",
   "metadata": {},
   "source": [
    "### La Republica"
   ]
  },
  {
   "cell_type": "code",
   "execution_count": 13,
   "metadata": {},
   "outputs": [
    {
     "name": "stderr",
     "output_type": "stream",
     "text": [
      "C:\\ProgramData\\Anaconda3\\lib\\site-packages\\urllib3\\connectionpool.py:858: InsecureRequestWarning: Unverified HTTPS request is being made. Adding certificate verification is strongly advised. See: https://urllib3.readthedocs.io/en/latest/advanced-usage.html#ssl-warnings\n",
      "  InsecureRequestWarning)\n"
     ]
    }
   ],
   "source": [
    "proxies = {\"https\": \"https://pxsis.sunat.peru:8080\"}\n",
    "url = \"https://larepublica.pe/espectaculos/767455-asi-fue-la-boda-de-mauricio-diez-canseco-con-antonella-de-groot-32-anos-menor-que-el\"\n",
    "req = requests.get(url , proxies = proxies, verify = False)"
   ]
  },
  {
   "cell_type": "code",
   "execution_count": 14,
   "metadata": {},
   "outputs": [
    {
     "data": {
      "text/plain": [
       "'Mauricio Diez Canseco (52) casó por tercera vez. El último viernes el empresario se unió por la vía legal con la joven modelo Antonella De Groot (20). La ceremonia se realizó pasada las 5:30 p.m. en estricto privado, en una residencia de Santa Eulalia. \\xa0 PUEDES VER:\\xa0Padre de Antonella de Groot le hizo una gran advertencia a Mauricio Diez Canseco | VIDEO \\xa0 La ceremonia fue presidida por el alcalde del distrito. Solo 30 invitados presenciaron la unión civil y como se había anunciado no asistió ningún miembro de la farándula. \\xa0 La pareja fue declarada marido y mujer, a la orilla de un río, en una zona acondicionada especialmente para la ocasión, donde se cuidó cada detalle . \\xa0 Diez Canseco ingresó del brazo de su hija mayor; mientras que la veinteañera lo hizo acompañada de su progenitor Richard De Groot, quien llegó desde Nueva Zelanda para entregarla a su futuro esposo. \\xa0 La novia lucio un sexy vestido color ivory de corte sirena para la ocasión, el cual estuvo acompañado con un velo de 10 metros de largo y un bouquet de rosas blancas y rosadas. El novio uso un tradicional smoking negro. \\xa0 Al finalizar la ceremonia los novios sellaron su amor con un tierno beso y entre aplausos de los invitados. \\xa0 Lo que causa sorpresa es que Diez Canseco haya preferido casarse de manera discreta y acompañado de gente muy cercana, pues es habitual que la vida sentimental del ex conductor de televisión siempre ha sido pública. \\xa0 Los grandes ausentes de la ceremonia civil fueron los hijos menores del empresario fruto de sus relaciones con Daysi Ontaneda y Paula Marijuan. \\xa0 SERÁ SUCESORA \\xa0 Diez Canseco anunció que su ahora esposa podría ser sucesora y terminar administrando sus negocios, aunque eso signifique que sus ex parejas pegaran el grito en el cielo . \\xa0 “Ella estudia administración y negocios internacionales y quiero que en el futuro me ayude y se encargue de liderar todo lo que manejo en mi entorno, mis negocios la parte de ayuda social que hacemos con Rústica y restaurantes que estamos inaugurando. Ella es un diamante en bruto que estoy puliendo”, afirmó.  Mauricio Diez Canseco (52) casó por tercera vez. El último viernes el empresario se unió por la vía legal con la joven modelo Antonella De Groot (20). La ceremonia se realizó pasada las 5:30 p.m. en estricto privado, en una residencia de Santa Eulalia. \\xa0 PUEDES VER:\\xa0Padre de Antonella de Groot le hizo una gran advertencia a Mauricio Diez Canseco | VIDEO \\xa0 La ceremonia fue presidida por el alcalde del distrito. Solo 30 invitados presenciaron la unión civil y como se había anunciado no asistió ningún miembro de la farándula. \\xa0 La pareja fue declarada marido y mujer, a la orilla de un río, en una zona acondicionada especialmente para la ocasión, donde se cuidó cada detalle . \\xa0 Diez Canseco ingresó del brazo de su hija mayor; mientras que la veinteañera lo hizo acompañada de su progenitor Richard De Groot, quien llegó desde Nueva Zelanda para entregarla a su futuro esposo. \\xa0 La novia lucio un sexy vestido color ivory de corte sirena para la ocasión, el cual estuvo acompañado con un velo de 10 metros de largo y un bouquet de rosas blancas y rosadas. El novio uso un tradicional smoking negro. \\xa0 Al finalizar la ceremonia los novios sellaron su amor con un tierno beso y entre aplausos de los invitados. \\xa0 Lo que causa sorpresa es que Diez Canseco haya preferido casarse de manera discreta y acompañado de gente muy cercana, pues es habitual que la vida sentimental del ex conductor de televisión siempre ha sido pública. \\xa0 Los grandes ausentes de la ceremonia civil fueron los hijos menores del empresario fruto de sus relaciones con Daysi Ontaneda y Paula Marijuan. \\xa0 SERÁ SUCESORA \\xa0 Diez Canseco anunció que su ahora esposa podría ser sucesora y terminar administrando sus negocios, aunque eso signifique que sus ex parejas pegaran el grito en el cielo . \\xa0 “Ella estudia administración y negocios internacionales y quiero que en el futuro me ayude y se encargue de liderar todo lo que manejo en mi entorno, mis negocios la parte de ayuda social que hacemos con Rústica y restaurantes que estamos inaugurando. Ella es un diamante en bruto que estoy puliendo”, afirmó.'"
      ]
     },
     "execution_count": 14,
     "metadata": {},
     "output_type": "execute_result"
    }
   ],
   "source": [
    "html = BeautifulSoup(req.text, \"html.parser\")\n",
    "header=html.find('div',class_=\"col-300-offset-md col-14-sm PostInternalBlockLeft\")\n",
    "titulo = header.find('h1',class_=\"post-internal_title\").getText()\n",
    "\n",
    "contenido=html.find('div',class_=\"col-16-md col-16-sm PostInternalBlockLeft__right\")\n",
    "resumen = header.find('div',class_=\"post-internal_text\").getText()\n",
    "texto = contenido.find_all('p')\n",
    "\n",
    "index = []\n",
    "for i,entrada in enumerate(texto):\n",
    "    index.append(entrada.getText())\n",
    "noticia = \" \".join(index)\n",
    "noticia"
   ]
  },
  {
   "cell_type": "code",
   "execution_count": 15,
   "metadata": {},
   "outputs": [
    {
     "data": {
      "text/plain": [
       "'\\n Matrimonio del maduro empresario contó con unos 30 invitados muy cercanos a la pareja.\\n\\n'"
      ]
     },
     "execution_count": 15,
     "metadata": {},
     "output_type": "execute_result"
    }
   ],
   "source": [
    "resumen = header.find('div',class_=\"post-internal_text\").getText()\n",
    "resumen"
   ]
  },
  {
   "cell_type": "code",
   "execution_count": 16,
   "metadata": {
    "collapsed": true
   },
   "outputs": [],
   "source": [
    "cfecha=html.find('div',class_=\"post-internal_list-social atm_List-social\")"
   ]
  },
  {
   "cell_type": "code",
   "execution_count": 17,
   "metadata": {
    "collapsed": true
   },
   "outputs": [],
   "source": [
    "fecha = cfecha.find('p')"
   ]
  },
  {
   "cell_type": "code",
   "execution_count": 18,
   "metadata": {},
   "outputs": [
    {
     "data": {
      "text/plain": [
       "<p class=\"post-internal_date\">\n",
       "\t\t14 May 2016 | 7:38 h\t\t\n",
       "\t</p>"
      ]
     },
     "execution_count": 18,
     "metadata": {},
     "output_type": "execute_result"
    }
   ],
   "source": [
    "fecha"
   ]
  },
  {
   "cell_type": "code",
   "execution_count": 19,
   "metadata": {},
   "outputs": [
    {
     "data": {
      "text/plain": [
       "'\\n\\t\\t14 May 2016 | 7:38 h\\t\\t\\n\\t'"
      ]
     },
     "execution_count": 19,
     "metadata": {},
     "output_type": "execute_result"
    }
   ],
   "source": [
    "cabecera = header.find('div',class_=\"post-internal_head\")\n",
    "\n",
    "cabecera.find('p',class_=\"post-internal_date\").getText()"
   ]
  },
  {
   "cell_type": "code",
   "execution_count": null,
   "metadata": {
    "collapsed": true
   },
   "outputs": [],
   "source": []
  }
 ],
 "metadata": {
  "kernelspec": {
   "display_name": "Python 3",
   "language": "python",
   "name": "python3"
  },
  "language_info": {
   "codemirror_mode": {
    "name": "ipython",
    "version": 3
   },
   "file_extension": ".py",
   "mimetype": "text/x-python",
   "name": "python",
   "nbconvert_exporter": "python",
   "pygments_lexer": "ipython3",
   "version": "3.6.5"
  }
 },
 "nbformat": 4,
 "nbformat_minor": 2
}
