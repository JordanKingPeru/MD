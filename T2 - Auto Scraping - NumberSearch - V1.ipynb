{
 "cells": [
  {
   "cell_type": "code",
   "execution_count": 108,
   "metadata": {},
   "outputs": [
    {
     "name": "stdout",
     "output_type": "stream",
     "text": [
      "culminó\n"
     ]
    }
   ],
   "source": [
    "# -*- coding: utf-8 -*- \n",
    "import pandas as pd\n",
    "from selenium import webdriver\n",
    "from selenium.webdriver.common.by import By\n",
    "from selenium.webdriver.support.wait import WebDriverWait\n",
    "from selenium.webdriver.support import expected_conditions as EC\n",
    "from selenium.common.exceptions import NoSuchElementException\n",
    "import os\n",
    "import time \n",
    "\n",
    "#proxies = {\"https\": \"https://pxsis.sunat.peru:8080\"}\n",
    "cadena = '\"Mauricio Diez Canseco\" site:larepublica.pe'\n",
    "executable_path = \"D:/Archivos Jordan Rodriguez/Retos/11.SrMD/04.Scraping/chromedriver\"\n",
    "num_paginas = 10\n",
    "#def ir_paginas_blancas_web(cadena):\n",
    "driver = webdriver.Chrome(executable_path=executable_path)\n",
    "driver.get(\"https://www.google.com/\")\n",
    "#Página a la que queremos acceder\n",
    "\n",
    "#Verificamos si el elemento con ID=\"nName\" ya está cargado, este elemento es la caja de texto donde se hacen las busquedas\n",
    "WebDriverWait(driver, 5).until(EC.presence_of_element_located((By.ID, \"lst-ib\")))\n",
    "    #Obtenemos la caja de texto de busquedas\n",
    "input_nombre = driver.find_element_by_id(\"lst-ib\")\n",
    "#Enviamos la cadena que estamos buscando\n",
    "input_nombre.send_keys(cadena)\n",
    "#Obtenemos el botón que ejecuta la búsqueda\n",
    "boton = driver.find_element_by_name(\"btnK\")\n",
    "boton.click()   \n",
    "\n",
    "WebDriverWait(driver, 5).until(EC.presence_of_all_elements_located((By.ID, \"search\")))\n",
    "resultados = driver.find_element_by_id(\"resultStats\")\n",
    "general = resultados.find_elements_by_class_name(\"g\")\n",
    "nombre = []\n",
    "link = []\n",
    "x=[]\n",
    "for resultado in general:\n",
    "    try:\n",
    "        x=resultado.find_element_by_class_name('r')\n",
    "        nombre.append(x.find_element_by_tag_name('a').get_attribute(\"text\"))\n",
    "        link.append(x.find_element_by_tag_name('a').get_attribute(\"href\"))\n",
    "    except NoSuchElementException:\n",
    "        pass\n",
    "for i in range(num_paginas):\n",
    "    bnext = driver.find_element_by_id('pnnext')\n",
    "    bnext.click()\n",
    "\n",
    "    resultados = driver.find_element_by_id(\"search\")\n",
    "    general = resultados.find_elements_by_class_name(\"g\")\n",
    "    for resultado in general:\n",
    "        try:\n",
    "            x=resultado.find_element_by_class_name('r')\n",
    "            nombre.append(x.find_element_by_tag_name('a').get_attribute(\"text\"))\n",
    "            link.append(x.find_element_by_tag_name('a').get_attribute(\"href\"))\n",
    "        except NoSuchElementException:\n",
    "            pass\n",
    "MD = pd.DataFrame({\n",
    "    \"Título\": nombre,\n",
    "    \"url\": link\n",
    "    })\n",
    "driver.close()\n",
    "print('culminó')"
   ]
  },
  {
   "cell_type": "code",
   "execution_count": 267,
   "metadata": {
    "collapsed": true
   },
   "outputs": [
    {
     "data": {
      "text/html": [
       "<div>\n",
       "<style scoped>\n",
       "    .dataframe tbody tr th:only-of-type {\n",
       "        vertical-align: middle;\n",
       "    }\n",
       "\n",
       "    .dataframe tbody tr th {\n",
       "        vertical-align: top;\n",
       "    }\n",
       "\n",
       "    .dataframe thead th {\n",
       "        text-align: right;\n",
       "    }\n",
       "</style>\n",
       "<table border=\"1\" class=\"dataframe\">\n",
       "  <thead>\n",
       "    <tr style=\"text-align: right;\">\n",
       "      <th></th>\n",
       "      <th>Título</th>\n",
       "      <th>url</th>\n",
       "    </tr>\n",
       "  </thead>\n",
       "  <tbody>\n",
       "    <tr>\n",
       "      <th>0</th>\n",
       "      <td>Facebook: Mauricio Diez Canseco presenta a sus...</td>\n",
       "      <td>https://larepublica.pe/espectaculos/1256281-fa...</td>\n",
       "    </tr>\n",
       "    <tr>\n",
       "      <th>1</th>\n",
       "      <td>Instagram: ella es la primera esposa de Mauric...</td>\n",
       "      <td>https://larepublica.pe/espectaculos/1247333-in...</td>\n",
       "    </tr>\n",
       "    <tr>\n",
       "      <th>2</th>\n",
       "      <td>Hija de Mauricio Diez Canseco remece Instagram...</td>\n",
       "      <td>https://larepublica.pe/espectaculos/1167353-hi...</td>\n",
       "    </tr>\n",
       "    <tr>\n",
       "      <th>3</th>\n",
       "      <td>Instagram: Hija de Mauricio Diez Canseco posa ...</td>\n",
       "      <td>https://larepublica.pe/espectaculos/1238569-in...</td>\n",
       "    </tr>\n",
       "    <tr>\n",
       "      <th>4</th>\n",
       "      <td>Instagram: hija de Mauricio Diez Canseco cauti...</td>\n",
       "      <td>https://larepublica.pe/espectaculos/1149940-in...</td>\n",
       "    </tr>\n",
       "    <tr>\n",
       "      <th>5</th>\n",
       "      <td>Instagram: Hija de Mauricio Diez Canseco prese...</td>\n",
       "      <td>https://larepublica.pe/espectaculos/1270648-in...</td>\n",
       "    </tr>\n",
       "    <tr>\n",
       "      <th>6</th>\n",
       "      <td>Instagram: Mauricio Diez Canseco posa junto a ...</td>\n",
       "      <td>https://larepublica.pe/tendencias/1214488-inst...</td>\n",
       "    </tr>\n",
       "    <tr>\n",
       "      <th>7</th>\n",
       "      <td>Facebook: esta fue la tierna sesión de fotos d...</td>\n",
       "      <td>https://larepublica.pe/espectaculos/1212080-fa...</td>\n",
       "    </tr>\n",
       "    <tr>\n",
       "      <th>8</th>\n",
       "      <td>Instagram: hija de Mauricio Diez Canseco posa ...</td>\n",
       "      <td>https://larepublica.pe/espectaculos/1281044-in...</td>\n",
       "    </tr>\n",
       "    <tr>\n",
       "      <th>9</th>\n",
       "      <td>Mauricio Diez Canseco renuncia a candidatura a...</td>\n",
       "      <td>https://larepublica.pe/espectaculos/703917-mau...</td>\n",
       "    </tr>\n",
       "    <tr>\n",
       "      <th>10</th>\n",
       "      <td>Mauricio Diez Canseco | LaRepublica.pe</td>\n",
       "      <td>https://larepublica.pe/tag/mauricio-diez-canseco</td>\n",
       "    </tr>\n",
       "    <tr>\n",
       "      <th>11</th>\n",
       "      <td>Instagram: Esposa de Mauricio Diez Canseco baj...</td>\n",
       "      <td>https://larepublica.pe/espectaculos/1220523-in...</td>\n",
       "    </tr>\n",
       "    <tr>\n",
       "      <th>12</th>\n",
       "      <td>En Instagram, hija de Mauricio Diez Canseco es...</td>\n",
       "      <td>https://larepublica.pe/espectaculos/1149181-en...</td>\n",
       "    </tr>\n",
       "    <tr>\n",
       "      <th>13</th>\n",
       "      <td>Instagram: hija de Mauricio Diez Canseco enamo...</td>\n",
       "      <td>https://larepublica.pe/espectaculos/1213517-in...</td>\n",
       "    </tr>\n",
       "    <tr>\n",
       "      <th>14</th>\n",
       "      <td>Instagram: hija de Mauricio Diez Canseco cauti...</td>\n",
       "      <td>https://larepublica.pe/amp/espectaculos/114994...</td>\n",
       "    </tr>\n",
       "    <tr>\n",
       "      <th>15</th>\n",
       "      <td>Mauricio Diez Canseco puso en aprietos a Gisel...</td>\n",
       "      <td>https://larepublica.pe/espectaculos/1206444-ma...</td>\n",
       "    </tr>\n",
       "    <tr>\n",
       "      <th>16</th>\n",
       "      <td>Instagram: Leslie Castillo, expareja de Mauric...</td>\n",
       "      <td>https://larepublica.pe/espectaculos/1280410-in...</td>\n",
       "    </tr>\n",
       "    <tr>\n",
       "      <th>17</th>\n",
       "      <td>Falleció el padre del empresario Mauricio Diez...</td>\n",
       "      <td>https://larepublica.pe/espectaculos/849518-fal...</td>\n",
       "    </tr>\n",
       "    <tr>\n",
       "      <th>18</th>\n",
       "      <td>Instagram: las primeras fotos del bebé de Anto...</td>\n",
       "      <td>https://larepublica.pe/espectaculos/1204264-in...</td>\n",
       "    </tr>\n",
       "    <tr>\n",
       "      <th>19</th>\n",
       "      <td>Antonella De Groot, esposa de Mauricio Diez Ca...</td>\n",
       "      <td>https://larepublica.pe/espectaculos/835847-ant...</td>\n",
       "    </tr>\n",
       "    <tr>\n",
       "      <th>20</th>\n",
       "      <td>Facebook: Mauricio Diez Canseco y su esposa ha...</td>\n",
       "      <td>https://larepublica.pe/espectaculos/1161717-fa...</td>\n",
       "    </tr>\n",
       "    <tr>\n",
       "      <th>21</th>\n",
       "      <td>Mauricio Diez Canseco anunció embarazo de su e...</td>\n",
       "      <td>https://larepublica.pe/espectaculos/1068093-ma...</td>\n",
       "    </tr>\n",
       "    <tr>\n",
       "      <th>22</th>\n",
       "      <td>Instagram: Esposa de Mauricio Diez Canseco luc...</td>\n",
       "      <td>https://larepublica.pe/espectaculos/887667-ins...</td>\n",
       "    </tr>\n",
       "    <tr>\n",
       "      <th>23</th>\n",
       "      <td>Así fue la boda de Mauricio Diez Canseco con A...</td>\n",
       "      <td>https://larepublica.pe/espectaculos/767455-asi...</td>\n",
       "    </tr>\n",
       "    <tr>\n",
       "      <th>24</th>\n",
       "      <td>Mauricio Diez Canseco presenta a su nueva pare...</td>\n",
       "      <td>https://larepublica.pe/espectaculos/856248-mau...</td>\n",
       "    </tr>\n",
       "    <tr>\n",
       "      <th>25</th>\n",
       "      <td>El gran gesto de Mauricio Diez Canseco con los...</td>\n",
       "      <td>https://larepublica.pe/espectaculos/860652-el-...</td>\n",
       "    </tr>\n",
       "    <tr>\n",
       "      <th>26</th>\n",
       "      <td>Padre de Antonella de Groot le hizo una gran a...</td>\n",
       "      <td>https://larepublica.pe/espectaculos/767241-pad...</td>\n",
       "    </tr>\n",
       "    <tr>\n",
       "      <th>27</th>\n",
       "      <td>Mauricio Diez Canseco y Andrés Hurtado se enfr...</td>\n",
       "      <td>https://larepublica.pe/espectaculos/1101046-ma...</td>\n",
       "    </tr>\n",
       "    <tr>\n",
       "      <th>28</th>\n",
       "      <td>Mauricio Diez Canseco: todos los amores del 'p...</td>\n",
       "      <td>https://larepublica.pe/espectaculos/767206-mau...</td>\n",
       "    </tr>\n",
       "    <tr>\n",
       "      <th>29</th>\n",
       "      <td>Mauricio Diez Canseco se casará con candidata ...</td>\n",
       "      <td>https://larepublica.pe/espectaculos/764760-mau...</td>\n",
       "    </tr>\n",
       "    <tr>\n",
       "      <th>...</th>\n",
       "      <td>...</td>\n",
       "      <td>...</td>\n",
       "    </tr>\n",
       "    <tr>\n",
       "      <th>319</th>\n",
       "      <td>Musical Juan Palenque vuelve a los escenarios ...</td>\n",
       "      <td>https://larepublica.pe/tendencias/797886-music...</td>\n",
       "    </tr>\n",
       "    <tr>\n",
       "      <th>320</th>\n",
       "      <td>Cupido gaucho. Paula Marijuán y su cónsul enam...</td>\n",
       "      <td>https://larepublica.pe/tendencias/230960-cupid...</td>\n",
       "    </tr>\n",
       "    <tr>\n",
       "      <th>321</th>\n",
       "      <td>Facebook: Anciana lanza insultos racistas a mu...</td>\n",
       "      <td>https://larepublica.pe/tendencias/1212083-face...</td>\n",
       "    </tr>\n",
       "    <tr>\n",
       "      <th>322</th>\n",
       "      <td>Policía perpetra ataque brutal contra periodis...</td>\n",
       "      <td>https://larepublica.pe/politica/336286-policia...</td>\n",
       "    </tr>\n",
       "    <tr>\n",
       "      <th>323</th>\n",
       "      <td>La dieta de los zumos: Bebidas para perder pes...</td>\n",
       "      <td>https://larepublica.pe/salud/545681-la-dieta-d...</td>\n",
       "    </tr>\n",
       "    <tr>\n",
       "      <th>324</th>\n",
       "      <td>Magaly Medina desata rumores en Facebook al pr...</td>\n",
       "      <td>https://larepublica.pe/espectaculos/730100-mag...</td>\n",
       "    </tr>\n",
       "    <tr>\n",
       "      <th>325</th>\n",
       "      <td>Buscan ampliar régimen mypes al resto de empre...</td>\n",
       "      <td>https://larepublica.pe/economia/367194-buscan-...</td>\n",
       "    </tr>\n",
       "    <tr>\n",
       "      <th>326</th>\n",
       "      <td>Los mejores selfies con políticos del 2014 | F...</td>\n",
       "      <td>https://larepublica.pe/archivo/839785-los-mejo...</td>\n",
       "    </tr>\n",
       "    <tr>\n",
       "      <th>327</th>\n",
       "      <td>Alfredo Benavides bajó 21 kilos en nueve días ...</td>\n",
       "      <td>https://larepublica.pe/espectaculos/857774-alf...</td>\n",
       "    </tr>\n",
       "    <tr>\n",
       "      <th>328</th>\n",
       "      <td>DT del Arsenal defiende a Fábregas | LaRepubli...</td>\n",
       "      <td>https://larepublica.pe/deportes/479482-dt-del-...</td>\n",
       "    </tr>\n",
       "    <tr>\n",
       "      <th>329</th>\n",
       "      <td>Firmas con operaciones virtuales pagarán impue...</td>\n",
       "      <td>https://larepublica.pe/economia/818500-firmas-...</td>\n",
       "    </tr>\n",
       "    <tr>\n",
       "      <th>330</th>\n",
       "      <td>Así luce Milett Figueroa tras contraer grave a...</td>\n",
       "      <td>https://larepublica.pe/espectaculos/748951-asi...</td>\n",
       "    </tr>\n",
       "    <tr>\n",
       "      <th>331</th>\n",
       "      <td>Actividad Paranormal 4 debuta tras los pasos d...</td>\n",
       "      <td>https://larepublica.pe/espectaculos/667833-act...</td>\n",
       "    </tr>\n",
       "    <tr>\n",
       "      <th>332</th>\n",
       "      <td>Facebook: Niño resuelve extraño reto matemátic...</td>\n",
       "      <td>https://larepublica.pe/tendencias/1212097-face...</td>\n",
       "    </tr>\n",
       "    <tr>\n",
       "      <th>333</th>\n",
       "      <td>Editoriales son investigadas por Indecopi por ...</td>\n",
       "      <td>https://larepublica.pe/sociedad/526492-editori...</td>\n",
       "    </tr>\n",
       "    <tr>\n",
       "      <th>334</th>\n",
       "      <td>Insisten en invitar a Magaly Medina | LaRepubl...</td>\n",
       "      <td>https://larepublica.pe/tendencias/448192-insis...</td>\n",
       "    </tr>\n",
       "    <tr>\n",
       "      <th>335</th>\n",
       "      <td>Maradona: Quiero volver a Italia como un señor...</td>\n",
       "      <td>https://larepublica.pe/deportes/690534-maradon...</td>\n",
       "    </tr>\n",
       "    <tr>\n",
       "      <th>336</th>\n",
       "      <td>YouTube: exlíder de La Oreja de Van Gogh luce ...</td>\n",
       "      <td>https://larepublica.pe/espectaculos/1213604-yo...</td>\n",
       "    </tr>\n",
       "    <tr>\n",
       "      <th>337</th>\n",
       "      <td>Hoy inauguran puente en Machu Picchu | LaRepub...</td>\n",
       "      <td>https://larepublica.pe/sociedad/267248-hoy-ina...</td>\n",
       "    </tr>\n",
       "    <tr>\n",
       "      <th>338</th>\n",
       "      <td>Vea esta terrorifica falta en el fútbol inglés...</td>\n",
       "      <td>https://larepublica.pe/deportes/698201-vea-est...</td>\n",
       "    </tr>\n",
       "    <tr>\n",
       "      <th>339</th>\n",
       "      <td>El regreso de Kenita Larraín | LaRepublica.pe</td>\n",
       "      <td>https://larepublica.pe/espectaculos/237731-el-...</td>\n",
       "    </tr>\n",
       "    <tr>\n",
       "      <th>340</th>\n",
       "      <td>YouTube: obrero salvó de morir luego de que le...</td>\n",
       "      <td>https://larepublica.pe/mundo/721878-youtube-ob...</td>\n",
       "    </tr>\n",
       "    <tr>\n",
       "      <th>341</th>\n",
       "      <td>Monique Pardo anhela ser ministra de la Mujer ...</td>\n",
       "      <td>https://larepublica.pe/espectaculos/864800-mon...</td>\n",
       "    </tr>\n",
       "    <tr>\n",
       "      <th>342</th>\n",
       "      <td>RATING: Magaly Medina sigue invencible ante Gi...</td>\n",
       "      <td>https://larepublica.pe/espectaculos/836341-rat...</td>\n",
       "    </tr>\n",
       "    <tr>\n",
       "      <th>343</th>\n",
       "      <td>Magaly Medina responde a sus detractores con c...</td>\n",
       "      <td>https://larepublica.pe/espectaculos/724855-mag...</td>\n",
       "    </tr>\n",
       "    <tr>\n",
       "      <th>344</th>\n",
       "      <td>“Lúcar me tiene envidia\" | LaRepublica.pe</td>\n",
       "      <td>https://larepublica.pe/tendencias/239923-lucar...</td>\n",
       "    </tr>\n",
       "    <tr>\n",
       "      <th>345</th>\n",
       "      <td>EDITORIAL / Brutal golpiza a periodistas | LaR...</td>\n",
       "      <td>https://larepublica.pe/politica/336355-editori...</td>\n",
       "    </tr>\n",
       "    <tr>\n",
       "      <th>346</th>\n",
       "      <td>Beto Ortiz opinó sobre el regreso de Sofía Fra...</td>\n",
       "      <td>https://larepublica.pe/28-01-2013/beto-ortiz-o...</td>\n",
       "    </tr>\n",
       "    <tr>\n",
       "      <th>347</th>\n",
       "      <td>¿Michelle Soifer recibió dinero para apoyar a ...</td>\n",
       "      <td>https://larepublica.pe/espectaculos/775390-mic...</td>\n",
       "    </tr>\n",
       "    <tr>\n",
       "      <th>348</th>\n",
       "      <td>Rubia revive 'Alo Gisela' en película '¡Asu ma...</td>\n",
       "      <td>https://larepublica.pe/tendencias/683078-rubia...</td>\n",
       "    </tr>\n",
       "  </tbody>\n",
       "</table>\n",
       "<p>349 rows × 2 columns</p>\n",
       "</div>"
      ],
      "text/plain": [
       "                                                Título  \\\n",
       "0    Facebook: Mauricio Diez Canseco presenta a sus...   \n",
       "1    Instagram: ella es la primera esposa de Mauric...   \n",
       "2    Hija de Mauricio Diez Canseco remece Instagram...   \n",
       "3    Instagram: Hija de Mauricio Diez Canseco posa ...   \n",
       "4    Instagram: hija de Mauricio Diez Canseco cauti...   \n",
       "5    Instagram: Hija de Mauricio Diez Canseco prese...   \n",
       "6    Instagram: Mauricio Diez Canseco posa junto a ...   \n",
       "7    Facebook: esta fue la tierna sesión de fotos d...   \n",
       "8    Instagram: hija de Mauricio Diez Canseco posa ...   \n",
       "9    Mauricio Diez Canseco renuncia a candidatura a...   \n",
       "10              Mauricio Diez Canseco | LaRepublica.pe   \n",
       "11   Instagram: Esposa de Mauricio Diez Canseco baj...   \n",
       "12   En Instagram, hija de Mauricio Diez Canseco es...   \n",
       "13   Instagram: hija de Mauricio Diez Canseco enamo...   \n",
       "14   Instagram: hija de Mauricio Diez Canseco cauti...   \n",
       "15   Mauricio Diez Canseco puso en aprietos a Gisel...   \n",
       "16   Instagram: Leslie Castillo, expareja de Mauric...   \n",
       "17   Falleció el padre del empresario Mauricio Diez...   \n",
       "18   Instagram: las primeras fotos del bebé de Anto...   \n",
       "19   Antonella De Groot, esposa de Mauricio Diez Ca...   \n",
       "20   Facebook: Mauricio Diez Canseco y su esposa ha...   \n",
       "21   Mauricio Diez Canseco anunció embarazo de su e...   \n",
       "22   Instagram: Esposa de Mauricio Diez Canseco luc...   \n",
       "23   Así fue la boda de Mauricio Diez Canseco con A...   \n",
       "24   Mauricio Diez Canseco presenta a su nueva pare...   \n",
       "25   El gran gesto de Mauricio Diez Canseco con los...   \n",
       "26   Padre de Antonella de Groot le hizo una gran a...   \n",
       "27   Mauricio Diez Canseco y Andrés Hurtado se enfr...   \n",
       "28   Mauricio Diez Canseco: todos los amores del 'p...   \n",
       "29   Mauricio Diez Canseco se casará con candidata ...   \n",
       "..                                                 ...   \n",
       "319  Musical Juan Palenque vuelve a los escenarios ...   \n",
       "320  Cupido gaucho. Paula Marijuán y su cónsul enam...   \n",
       "321  Facebook: Anciana lanza insultos racistas a mu...   \n",
       "322  Policía perpetra ataque brutal contra periodis...   \n",
       "323  La dieta de los zumos: Bebidas para perder pes...   \n",
       "324  Magaly Medina desata rumores en Facebook al pr...   \n",
       "325  Buscan ampliar régimen mypes al resto de empre...   \n",
       "326  Los mejores selfies con políticos del 2014 | F...   \n",
       "327  Alfredo Benavides bajó 21 kilos en nueve días ...   \n",
       "328  DT del Arsenal defiende a Fábregas | LaRepubli...   \n",
       "329  Firmas con operaciones virtuales pagarán impue...   \n",
       "330  Así luce Milett Figueroa tras contraer grave a...   \n",
       "331  Actividad Paranormal 4 debuta tras los pasos d...   \n",
       "332  Facebook: Niño resuelve extraño reto matemátic...   \n",
       "333  Editoriales son investigadas por Indecopi por ...   \n",
       "334  Insisten en invitar a Magaly Medina | LaRepubl...   \n",
       "335  Maradona: Quiero volver a Italia como un señor...   \n",
       "336  YouTube: exlíder de La Oreja de Van Gogh luce ...   \n",
       "337  Hoy inauguran puente en Machu Picchu | LaRepub...   \n",
       "338  Vea esta terrorifica falta en el fútbol inglés...   \n",
       "339      El regreso de Kenita Larraín | LaRepublica.pe   \n",
       "340  YouTube: obrero salvó de morir luego de que le...   \n",
       "341  Monique Pardo anhela ser ministra de la Mujer ...   \n",
       "342  RATING: Magaly Medina sigue invencible ante Gi...   \n",
       "343  Magaly Medina responde a sus detractores con c...   \n",
       "344          “Lúcar me tiene envidia\" | LaRepublica.pe   \n",
       "345  EDITORIAL / Brutal golpiza a periodistas | LaR...   \n",
       "346  Beto Ortiz opinó sobre el regreso de Sofía Fra...   \n",
       "347  ¿Michelle Soifer recibió dinero para apoyar a ...   \n",
       "348  Rubia revive 'Alo Gisela' en película '¡Asu ma...   \n",
       "\n",
       "                                                   url  \n",
       "0    https://larepublica.pe/espectaculos/1256281-fa...  \n",
       "1    https://larepublica.pe/espectaculos/1247333-in...  \n",
       "2    https://larepublica.pe/espectaculos/1167353-hi...  \n",
       "3    https://larepublica.pe/espectaculos/1238569-in...  \n",
       "4    https://larepublica.pe/espectaculos/1149940-in...  \n",
       "5    https://larepublica.pe/espectaculos/1270648-in...  \n",
       "6    https://larepublica.pe/tendencias/1214488-inst...  \n",
       "7    https://larepublica.pe/espectaculos/1212080-fa...  \n",
       "8    https://larepublica.pe/espectaculos/1281044-in...  \n",
       "9    https://larepublica.pe/espectaculos/703917-mau...  \n",
       "10    https://larepublica.pe/tag/mauricio-diez-canseco  \n",
       "11   https://larepublica.pe/espectaculos/1220523-in...  \n",
       "12   https://larepublica.pe/espectaculos/1149181-en...  \n",
       "13   https://larepublica.pe/espectaculos/1213517-in...  \n",
       "14   https://larepublica.pe/amp/espectaculos/114994...  \n",
       "15   https://larepublica.pe/espectaculos/1206444-ma...  \n",
       "16   https://larepublica.pe/espectaculos/1280410-in...  \n",
       "17   https://larepublica.pe/espectaculos/849518-fal...  \n",
       "18   https://larepublica.pe/espectaculos/1204264-in...  \n",
       "19   https://larepublica.pe/espectaculos/835847-ant...  \n",
       "20   https://larepublica.pe/espectaculos/1161717-fa...  \n",
       "21   https://larepublica.pe/espectaculos/1068093-ma...  \n",
       "22   https://larepublica.pe/espectaculos/887667-ins...  \n",
       "23   https://larepublica.pe/espectaculos/767455-asi...  \n",
       "24   https://larepublica.pe/espectaculos/856248-mau...  \n",
       "25   https://larepublica.pe/espectaculos/860652-el-...  \n",
       "26   https://larepublica.pe/espectaculos/767241-pad...  \n",
       "27   https://larepublica.pe/espectaculos/1101046-ma...  \n",
       "28   https://larepublica.pe/espectaculos/767206-mau...  \n",
       "29   https://larepublica.pe/espectaculos/764760-mau...  \n",
       "..                                                 ...  \n",
       "319  https://larepublica.pe/tendencias/797886-music...  \n",
       "320  https://larepublica.pe/tendencias/230960-cupid...  \n",
       "321  https://larepublica.pe/tendencias/1212083-face...  \n",
       "322  https://larepublica.pe/politica/336286-policia...  \n",
       "323  https://larepublica.pe/salud/545681-la-dieta-d...  \n",
       "324  https://larepublica.pe/espectaculos/730100-mag...  \n",
       "325  https://larepublica.pe/economia/367194-buscan-...  \n",
       "326  https://larepublica.pe/archivo/839785-los-mejo...  \n",
       "327  https://larepublica.pe/espectaculos/857774-alf...  \n",
       "328  https://larepublica.pe/deportes/479482-dt-del-...  \n",
       "329  https://larepublica.pe/economia/818500-firmas-...  \n",
       "330  https://larepublica.pe/espectaculos/748951-asi...  \n",
       "331  https://larepublica.pe/espectaculos/667833-act...  \n",
       "332  https://larepublica.pe/tendencias/1212097-face...  \n",
       "333  https://larepublica.pe/sociedad/526492-editori...  \n",
       "334  https://larepublica.pe/tendencias/448192-insis...  \n",
       "335  https://larepublica.pe/deportes/690534-maradon...  \n",
       "336  https://larepublica.pe/espectaculos/1213604-yo...  \n",
       "337  https://larepublica.pe/sociedad/267248-hoy-ina...  \n",
       "338  https://larepublica.pe/deportes/698201-vea-est...  \n",
       "339  https://larepublica.pe/espectaculos/237731-el-...  \n",
       "340  https://larepublica.pe/mundo/721878-youtube-ob...  \n",
       "341  https://larepublica.pe/espectaculos/864800-mon...  \n",
       "342  https://larepublica.pe/espectaculos/836341-rat...  \n",
       "343  https://larepublica.pe/espectaculos/724855-mag...  \n",
       "344  https://larepublica.pe/tendencias/239923-lucar...  \n",
       "345  https://larepublica.pe/politica/336355-editori...  \n",
       "346  https://larepublica.pe/28-01-2013/beto-ortiz-o...  \n",
       "347  https://larepublica.pe/espectaculos/775390-mic...  \n",
       "348  https://larepublica.pe/tendencias/683078-rubia...  \n",
       "\n",
       "[349 rows x 2 columns]"
      ]
     },
     "execution_count": 267,
     "metadata": {},
     "output_type": "execute_result"
    }
   ],
   "source": [
    "data = MD\n",
    "data"
   ]
  },
  {
   "cell_type": "code",
   "execution_count": 1,
   "metadata": {},
   "outputs": [],
   "source": [
    "from bs4 import BeautifulSoup\n",
    "import requests\n",
    "import pandas as pd\n",
    "import os\n",
    "import time"
   ]
  },
  {
   "cell_type": "code",
   "execution_count": 3,
   "metadata": {},
   "outputs": [
    {
     "name": "stderr",
     "output_type": "stream",
     "text": [
      "C:\\ProgramData\\Anaconda3\\lib\\site-packages\\urllib3\\connectionpool.py:858: InsecureRequestWarning: Unverified HTTPS request is being made. Adding certificate verification is strongly advised. See: https://urllib3.readthedocs.io/en/latest/advanced-usage.html#ssl-warnings\n",
      "  InsecureRequestWarning)\n"
     ]
    }
   ],
   "source": [
    "url = \"https://www.monografias.com/trabajos/glosedu/glosedu.shtml\"\n",
    "proxies = {\"https\": \"https://pxsis.sunat.peru:8080\"}\n",
    "req = requests.get(url, proxies = proxies, verify = False)"
   ]
  },
  {
   "cell_type": "code",
   "execution_count": 5,
   "metadata": {},
   "outputs": [
    {
     "data": {
      "text/plain": [
       "<Response [200]>"
      ]
     },
     "execution_count": 5,
     "metadata": {},
     "output_type": "execute_result"
    }
   ],
   "source": [
    "req"
   ]
  },
  {
   "cell_type": "code",
   "execution_count": 8,
   "metadata": {},
   "outputs": [],
   "source": [
    "status_code = req.status_code\n",
    "html = BeautifulSoup(req.text, \"html.parser\")"
   ]
  },
  {
   "cell_type": "code",
   "execution_count": 9,
   "metadata": {},
   "outputs": [
    {
     "data": {
      "text/plain": [
       "<!DOCTYPE html PUBLIC \"-//W3C//DTD XHTML 1.0 Transitional//EN\" \"http://www.w3.org/TR/xhtml1/DTD/xhtml1-transitional.dtd\">\n",
       "\n",
       "<html lang=\"es\" xml:lang=\"es\" xmlns=\"http://www.w3.org/1999/xhtml\" xmlns:fb=\"http://www.facebook.com/2008/fbml\" xmlns:og=\"http://opengraphprotocol.org/schema/\">\n",
       "<head>\n",
       "<script src=\"https://cdn.optimizely.com/js/8428790487.js\"></script>\n",
       "<!-- Google Tag Manager -->\n",
       "<script>\n",
       "window.dataLayer = window.dataLayer || [];\n",
       "dataLayer.push({\"environment\":\"production\"});\n",
       "\n",
       "(function(w,d,s,l,i){w[l]=w[l]||[];w[l].push({'gtm.start':\n",
       "new Date().getTime(),event:'gtm.js'});var f=d.getElementsByTagName(s)[0],\n",
       "j=d.createElement(s),dl=l!='dataLayer'?'&l='+l:'';j.async=true;j.src=\n",
       "'https://www.googletagmanager.com/gtm.js?id='+i+dl;f.parentNode.insertBefore(j,f);\n",
       "})(window,document,'script','dataLayer','GTM-WWXZ229');\n",
       "</script>\n",
       "<!-- End Google Tag Manager -->\n",
       "<meta content=\"text/html; charset=utf-8\" http-equiv=\"Content-Type\"/>\n",
       "<script src=\"//cdn.trugaze.io/bootstrap/JJRYJESN.js\" type=\"text/javascript\"></script>\n",
       "<title>\n",
       "\n",
       "Glosario de EducaciÃ³n - Monografias.com</title>\n",
       "<meta content=\"\n",
       "\n",
       "\n",
       "Actividades escolares. AdministraciÃ³n Educativa. Bachillerato. Ciclos educativos. Departamentos de orientaciÃ³n. EducaciÃ³n. GlobalizaciÃ³n. Magisterio.\" name=\"description\"/>\n",
       "<meta content=\"\n",
       "\n",
       "jarteaga , Monografias.com\" name=\"author\"/>\n",
       "<meta content=\"\n",
       "\n",
       "\" name=\"keywords\"/>\n",
       "<meta content=\"//www.monografias.com/img/fb-logo.jpg\" property=\"og:image\"/>\n",
       "<!-- GOOGLE ANALYTICS ASYNC-->\n",
       "<script type=\"text/javascript\">\n",
       "var _gaq = _gaq || [];\n",
       "var pluginUrl = (('https:' == document.location.protocol) ?\n",
       "   'https://ssl.' : 'http://www.') +\n",
       "   'google-analytics.com/plugins/ga/inpage_linkid.js';\n",
       "_gaq.push(['_require', 'inpage_linkid', pluginUrl]);\n",
       "_gaq.push(['_setAccount', 'UA-90932-1']);\n",
       "_gaq.push(['_trackPageview']);\n",
       "\n",
       "(function() {\n",
       "  var ga = document.createElement('script'); ga.type = 'text/javascript';\n",
       "  ga.async = true;\n",
       "  ga.src = '//www.google-analytics.com/ga.js';\n",
       "  var s = document.getElementsByTagName('script')[0];\n",
       "  s.parentNode.insertBefore(ga, s);\n",
       "})();\n",
       "</script>\n",
       "<!-- FIN GOOGLE ANALYTICS ASYNC-->\n",
       "<link href=\"//static.monografias.com/random/mono_v2-min.css\" rel=\"stylesheet\" type=\"text/css\"/>\n",
       "<link href=\"//static.monografias.com/random/mono-additional-min.css\" rel=\"stylesheet\" type=\"text/css\"/>\n",
       "<link href=\"//ajax.googleapis.com/ajax/libs/jqueryui/1.8.3/themes/start/jquery-ui.css\" media=\"all\" rel=\"stylesheet\" type=\"text/css\"/>\n",
       "<script src=\"//ajax.googleapis.com/ajax/libs/jquery/1.4.2/jquery.min.js\" type=\"text/javascript\"></script>\n",
       "<script src=\"//static.monografias.com/random/js/jquery.colorbox.js\" type=\"text/javascript\"></script>\n",
       "<script src=\"//static.monografias.com/random/js/mono.indextank.trabajos-autocomplete.js\" type=\"text/javascript\"></script>\n",
       "<script src=\"//static.monografias.com/random/js/mono.base.js\" type=\"text/javascript\"></script>\n",
       "<script src=\"//static.monografias.com/random/js/mono.comentarios.js\" type=\"text/javascript\"></script>\n",
       "<!-- PUT THIS TAG IN THE head SECTION -->\n",
       "<script src=\"//partner.googleadservices.com/gampad/google_service.js\" type=\"text/javascript\"></script>\n",
       "<script type=\"text/javascript\">\n",
       "GS_googleAddAdSenseService(\"ca-pub-8402207393259754\");\n",
       "GS_googleEnableAllServices();\n",
       "</script>\n",
       "<script type=\"text/javascript\">\n",
       "GA_googleUseIframeRendering();\n",
       "</script>\n",
       "<!-- END OF TAG FOR head SECTION -->\n",
       "<!-- DFP -->\n",
       "<script type=\"text/javascript\">\n",
       "var googletag = googletag || {};\n",
       "googletag.cmd = googletag.cmd || [];\n",
       "(function() {\n",
       "var gads = document.createElement('script');\n",
       "gads.async = true;\n",
       "gads.type = 'text/javascript';\n",
       "var useSSL = 'https:' == document.location.protocol;\n",
       "gads.src = (useSSL ? 'https:' : 'http:') + \n",
       "'//www.googletagservices.com/tag/js/gpt.js';\n",
       "var node = document.getElementsByTagName('script')[0];\n",
       "node.parentNode.insertBefore(gads, node);\n",
       "})();\n",
       "</script>\n",
       "<!-- DFP -->\n",
       "<!-- BEGIN Tynt Script -->\n",
       "<script type=\"text/javascript\">\n",
       "if(document.location.protocol=='http:'){\n",
       " var Tynt=Tynt||[];Tynt.push('azxImUq6er4RU_acwqm_6l');\n",
       " (function(){var s=document.createElement('script');s.async=\"async\";s.type=\"text/javascript\";s.src='//tcr.tynt.com/ti.js';var h=document.getElementsByTagName('script')[0];h.parentNode.insertBefore(s,h);})();\n",
       "}\n",
       "</script>\n",
       "<!-- END Tynt Script -->\n",
       "</head>\n",
       "<body class=\"interior monografia\">\n",
       "<!-- Google Tag Manager (noscript) -->\n",
       "<noscript><iframe height=\"0\" src=\"https://www.googletagmanager.com/ns.html?id=GTM-WWXZ229\" style=\"display:none;visibility:hidden\" width=\"0\"></iframe></noscript>\n",
       "<!-- End Google Tag Manager (noscript) -->\n",
       "<div id=\"fb-root\"></div>\n",
       "<script type=\"text/javascript\">\n",
       " window.fbAsyncInit = function() {\n",
       "   FB.init({appId: '168580619833974', status: true, cookie: true, xfbml: true, channelUrl:'/channel.html'});\n",
       " };\n",
       " (function() {\n",
       "\tvar fbdiv = document.getElementById('fb-root');\n",
       "\tvar e = document.createElement('script');\n",
       "\te.type = 'text/javascript';\n",
       "\te.async = true;\n",
       "\te.src = '//connect.facebook.net/es_ES/all.js';\n",
       "\tvar twitterScriptTag = document.createElement('script');\n",
       "\ttwitterScriptTag.type = 'text/javascript';\n",
       "\ttwitterScriptTag.async = true;\n",
       "\ttwitterScriptTag.src = '//platform.twitter.com/widgets.js';\n",
       "\tvar plusoneScriptTag = document.createElement('script');\n",
       "\tplusoneScriptTag.type = 'text/javascript';\n",
       "\tplusoneScriptTag.async = true;\n",
       "\tplusoneScriptTag.src = '//apis.google.com/js/plusone.js';\n",
       "\tfbdiv.appendChild(plusoneScriptTag);\n",
       "\tfbdiv.appendChild(twitterScriptTag);\n",
       "\tfbdiv.appendChild(e);\n",
       " }());\n",
       "</script>\n",
       "<!-- REDISEÃO HEADER - 06/2011 @Juanma -->\n",
       "<div id=\"barra_mono\">\n",
       "<div id=\"container_mono\">\n",
       "<a class=\"logo_mono\" href=\"https://www.monografias.com\">\n",
       "<span class=\"sprites-2011-main logotipo2\"></span>\n",
       "<!-- img class=\"logo_mono\" src=\"//blogs.monografias.com/wp-content/themes/monografias2009/images/logo_monografias.gif\" width=\"175\" height=\"28\"/ -->\n",
       "</a>\n",
       "<div id=\"utilidades2\">\n",
       "<span class=\"secundario\">\n",
       "<span class=\"sprites-2011 sprite-ico_expertos\" style=\"padding-left: 16px;\">\n",
       "<a href=\"https://www.monografias.com/plus\">Monografías Plus</a>\n",
       "</span>\n",
       "    \n",
       "\n",
       "\t\t\t\t\t\t<span class=\"sprites-2011 sprite-ico_addfav\">\n",
       "<a href=\"javascript:mono.util.agregarFavorito();\">Agregar a favoritos</a>\n",
       "</span>\n",
       "\t\t\t\t\t\t    \n",
       "\t\t\t\t\t\t<span class=\"sprites-2011 sprite-ico_ayuda\">\n",
       "<a href=\"/ayuda/ayuda.shtml\">Ayuda</a>\n",
       "</span>\n",
       "\t\t\t\t\t\t    \n",
       "\t\t\t\t\t\t<span class=\"sprites-2011 sprite-ico_portugues2\">\n",
       "<a href=\"http://br.monografias.com/\">Português</a>\n",
       "</span>\n",
       "                                                    \n",
       "                                                <span class=\"sprites-2011 sprite-ico_usa\">\n",
       "<a href=\"http://us.monografias.com/\">Ingles</a>\n",
       "</span>\n",
       "                                                    \n",
       "\t\t\t\t\t</span>\n",
       "</div><!-- utilidades2 -->\n",
       "<div id=\"header-user-menu\" style=\"float: right; width: 290px; padding: 9px 10px 0 0; text-align: right;\">\n",
       "<span class=\"secundario\"><a href=\"https://www.monografias.com/dashboard\" rel=\"nofollow\">Mi Cuenta</a></span>\n",
       "</div>\n",
       "</div>\n",
       "</div>\n",
       "<div id=\"subheader\">\n",
       "<div class=\"clear\"></div>\n",
       "</div>\n",
       "<div class=\"Publi728-Height90px\" id=\"Publi728\">\n",
       "<div class=\"Publi728-Height90px\" id=\"Publi728Int\">\n",
       "<!-- Top-Content-728 -->\n",
       "<script type=\"text/javascript\">\n",
       "\t\t\tGA_googleFillSlotWithSize(\"ca-pub-8402207393259754\", \"Top-Content-728\", 728, 90);\n",
       "\t\t\tisIE7=false;\n",
       "\t\t\t</script>\n",
       "</div>\n",
       "</div><!-- Publi728 -->\n",
       "<!-- Setear \"home\" o \"interior\", segun se trate del index o de las interiores -->\n",
       "<div class=\"r1024\" id=\"Wrap\"> <!-- no tocar este class, el JS establece el ancho dinamicamente -->\n",
       "<div id=\"Pagina\">\n",
       "<!-- Banda superior fija -->\n",
       "<script type=\"text/javascript\">\n",
       "    $(document).ready(function () {\n",
       "        $('body').attr('style', 'margin-top:34px;');\n",
       "        $('#subheader').attr('style', 'display:block; width:100%; z-index:99999;');\n",
       "        var $barra = $('#barra_mono');\n",
       "        $barra.attr('style', 'position:fixed!important; top:0; z-index:99999;');\n",
       "        $(window).scroll(function () {\n",
       "            if ($barra.offset().top !== 0) {\n",
       "                $barra.css('box-shadow', '0 0 7px #555555');\n",
       "            } else {\n",
       "                $barra.css('box-shadow', 'none');\n",
       "            }\n",
       "        });\n",
       "    });\n",
       "</script>\n",
       "<!-- /Banda superior fija -->\n",
       "<!-- Publicidades laterales -->\n",
       "<style type=\"text/css\">\n",
       "    #publi-lateral-izq {\n",
       "\t\tfloat: left;\n",
       "        margin-left: -170px;\n",
       "        width:160px; height:600px;\n",
       "    }\n",
       "    #publi-lateral-der {\n",
       "        position:absolute !important;\n",
       "        margin-left: 970px;\n",
       "        width:160px; height:600px;\n",
       "    }\n",
       "</style>\n",
       "<script>\n",
       "    var width = window.innerWidth;\n",
       "    if ( width >= 1130 ) {\n",
       "        document.write('<div id=\"publi-lateral-izq\"><div id=\"publi-lateral-izq-cont\">');\n",
       "        document.write('<scr' + 'ipt type=\"text/javascript\">GA_googleFillSlotWithSize(\"ca-pub-8402207393259754\", \"160-Trabajos-pag1\", 160, 600)</scr'+'ipt>');\n",
       "        document.write('</div></div>');\n",
       "        document.getElementById(\"Wrap\").style.width = '1300px';\n",
       "        document.getElementById(\"Pagina\").style.position = \"relative\";\n",
       "        document.getElementById(\"Pagina\").style.margin = \"0 auto\";\n",
       "        document.getElementById(\"Pagina\").style.cssFloat = \"none\";\n",
       "        document.getElementById(\"Pagina\").style.styleFloat = \"none\";\n",
       "    }\n",
       "</script>\n",
       "<!-- /Publicidades laterales -->\n",
       "<div id=\"navegacion2\">\n",
       "<ul>\n",
       "<li id=\"actual\"><a href=\"https://www.monografias.com/\">MonografÃ­as</a></li>\n",
       "<li><a href=\"https://www.monografias.com/New\">Nuevas</a></li>\n",
       "<li><a href=\"https://www.monografias.com/participar.shtml\">Publicar</a></li>\n",
       "<li><a href=\"http://blogs.monografias.com/\">Blogs</a></li>\n",
       "<li><a href=\"http://foros.monografias.com/\">Foros</a></li>\n",
       "<!--<li><a class=\"nuevo\" href=\"/Videos/index.shtml\">Videos</a></li>-->\n",
       "</ul>\n",
       "<!-- Buscador para ventana angosta, coordinar con el de abajo -->\n",
       "<div id=\"Buscador800\">\n",
       "<span class=\"secundario\">\n",
       "<a class=\"secundario\" href=\"https://www.monografias.com/cgi-bin/search.cgi\">Busqueda avanzada</a>\n",
       "</span>\n",
       "<form action=\"/cgi-bin/search.cgi\" id=\"a\" name=\"a\">\n",
       "<input name=\"substring\" type=\"hidden\" value=\"0\"/>\n",
       "<input name=\"bool\" type=\"hidden\" value=\"and\"/>\n",
       "<input id=\"query\" name=\"query\" size=\"21\"/>\n",
       "<input name=\"buscar\" type=\"submit\" value=\"Buscar\">\n",
       "</input></form>\n",
       "</div><!-- Buscador para 800 -->\n",
       "</div> <!-- Fin navegacion2 -->\n",
       "<!-- FIN REDISEÃO HEADER - 06/2011 @Juanma  -->\n",
       "<a name=\"top\"></a>\n",
       "<div id=\"Cuerpo\">\n",
       "<!-- //CXBNC -->\n",
       "<style type=\"text/css\">\n",
       "\t#js-adFixedBottom-s {\n",
       "\t\tmargin-right:-310px;\n",
       "\t\tbackground-color:#fff;\n",
       "\t\tborder:1px solid #555;\n",
       "\t\tborder-right:0 none;\n",
       "\t\tborder-bottom:0 none;\n",
       "\t\twidth:300px;\n",
       "\t\theight:70px;\n",
       "\t\tdisplay:block;\n",
       "\t\tz-index:8675309;\n",
       "\t\tposition:fixed;\n",
       "\t\tbottom:0;\n",
       "\t\tright:0;\n",
       "\t\tfloat:right;\n",
       "\t\tbox-shadow: 0 0 10px rgb(0,0,0);\n",
       "\t\toverflow:hidden;\n",
       "\t}\n",
       "\t.js-recommended {\n",
       "\t\tdisplay: block;\n",
       "\t\tfloat: left;\n",
       "\t\tfont-size: 15px;\n",
       "\t\tfont-weight: bold;\n",
       "\t\tmargin: 6px 7px;width: 100%;\n",
       "\t}\n",
       "\t#adFixedBottom-slide-title {\n",
       "\t\tcolor:#000;\n",
       "\t\tfont-size:14px;\n",
       "\t\tmargin:6px 0 0 6px;\n",
       "\t\tfloat:left;\n",
       "\t}\n",
       "\t#adFixedBottom-slide-menu {\n",
       "\t\tfloat:right;\n",
       "\t}\n",
       "\t#js-adFixedBottom-open, #js-adFixedBottom-close {\n",
       "\t\tfloat:left;\n",
       "\t\tfont-size:16px;\n",
       "\t\tborder:1px solid #eee;\n",
       "\t\tpadding:1px 5px;\n",
       "\t\tmargin:3px;\n",
       "\t\tcursor:pointer;\n",
       "\t}\n",
       "\t#adFixedBottom-head {\n",
       "\t\theight:30px;\n",
       "\t}\n",
       "\t#js-adFixedBottom-s {\n",
       "\t\t-moz-border-radius: 7px 0px 0px 7px;\n",
       "\t\tborder:none !important;\n",
       "\t\tborder-radius: 7px 0px 0px 7px;\n",
       "\t\tbackground: #ebf5fb;\n",
       "                margin-bottom:10px;\n",
       "\t\tfilter: progid:DXImageTransform.Microsoft.gradient(startColorstr='#ebf5fb', endColorstr='#ffffff');\n",
       "\t\tbackground: -webkit-gradient(linear, left top, left bottom, from(#ebf5fb), to(#fff));\n",
       "\t\tbackground: -moz-linear-gradient(top,  #ebf5fb,  #fff);\n",
       "\n",
       "\t}\n",
       "\t.js-recommended {\n",
       "\t\tdisplay: block;\n",
       "\t\tfloat: left;\n",
       "\t\tfont-size: 15px;\n",
       "\t\tfont-weight: bold;\n",
       "\t\twidth: 100%;\n",
       "\t\tpadding-left:35px;\n",
       "\t\tmargin:0px\n",
       "\t}\n",
       "\t.js-recommended  a {\n",
       "\t\ttext-decoration:none;\n",
       "\t\tfont-size:14px;\n",
       "\t\tfont-weight:normal;\n",
       "\t}\n",
       "\t#adFixedBottom-slide-title {\n",
       "\t\tcolor:#000;\n",
       "\t\tmargin:6px 0 0 6px;\n",
       "\t\tfloat:left;\n",
       "\t\tfont-size:14px;\n",
       "\t\tpadding-left: 24px;\n",
       "\t\tcolor:#383838;\n",
       "\t\theight:auto !important\n",
       "\t}\n",
       "\t#adFixedBottom-slide-menu { float:right; }\n",
       "\t#js-adFixedBottom-open, #js-adFixedBottom-close {\n",
       "\t\tfloat:left;\n",
       "\t\tfont-size:16px;\n",
       "\t\tborder:1px solid #eee;\n",
       "\t\tpadding:1px 5px;\n",
       "\t\tmargin:3px;\n",
       "\t\tcursor:pointer;\n",
       "\t\tbackground:#fff;border-color:#dfe1e2;margin-right:6px\n",
       "\t}\n",
       "\t#adFixedBottom-head { height:30px;padding:5px 0px 2px 5px;background:none;border:none !important;background:url(//static.monografias.com/img/lupita.png) no-repeat 10px 10px }\n",
       ".msg-regfb-ok{top:0;z-index:9999999;position:fixed!important;box-shadow:none;background-color:#FFFFAA;color:#0033CC;font-weight:bold;text-align:center;line-height:34px;height:34px;width:100%;font-size:12px;display:none}\n",
       "</style>\n",
       "<script type=\"text/javascript\">isIE7=false;</script>\n",
       "<!--[if lte IE 7]>\n",
       "\t<script type=\"text/javascript\">isIE7=true;</script>\n",
       "<![endif]-->\n",
       "<script type=\"text/javascript\">\n",
       "var stopwords=[\"and\",\"or\",\"la\",\"las\",\"lo\",\"los\",\"le\",\"les\",\"a\",\"de\",\"con\",\"contra\",\"para\",\"desde\",\"mi\",\"mÃ­\",\"tu\",\"tÃº\",\"htm\",\"html\",\"tras\",\"atras\",\"atrÃ¡s\",\"acerca\",\"y\",\"son\",\"porque\",\"porquÃ©\",\"en\",\"no\",\"si\",\"sÃ­\",\"o\",\"desde\",\"site\",\"esto\",\"estos\",\"eso\",\"esos\",\"esas\",\"esa\",\"estas\",\"estÃ¡s\",\"fue\",\"que\",\"cuando\",\"como\",\"cuanto\",\"donde\",\"quien\",\"sin\",\"tu\",\"tus\",\"fuÃ©\",\"quÃ©\",\"cuÃ¡ndo\",\"cÃ³mo\",\"cuÃ¡nto\",\"dÃ³nde\",\"adÃ³nde\",\"adonde\",\"quiÃ©n\",\"tÃº\",\"monografias\",\"monografias.com\",\"www.monografias.com\",\"monografÃ­as\",\"monografÃ­as.com\",\"www.monografÃ­as.com\"];getKeywords=function(e){var t=null;if(typeof CatPubli!=\"undefined\"){var n=new RegExp(\"^http://(www)?\\\\.?google.*\",\"i\");if(n.exec(e)){var r=new RegExp(\"[\\\\?&]q=([^&#]*)\");var i=r.exec(e);if(i){t=decodeURIComponent(i[1]).toLowerCase();t=t.replace(/\\'|\"|\\+/g,\" \");var s=new RegExp(\"(^|\\\\s)(\\\\d+|\\\\w|\"+stopwords.join(\"|\")+\")(?=\\\\s|$)\",\"gi\");t=t.replace(s,\"\");t=t.replace(/^\\s+|\\s+$/g,\"\")}}}return t?t:null};var gkeywords=getKeywords(document.referrer);$(document).ready(function(){if(!isIE7&&CatPubli!=\"undefined\"){altoPagina=$(\"#Pagina\").height();appVisibleState=\"MaxHidden\";scrollMiddleTrigger=parseInt(altoPagina/12);$(window).scroll(function(){adFixedBOffset=$(\"#js-adFixedBottom-s\").offset();scrollPos=Number($(document).scrollTop());if(appVisibleState==\"MaxHidden\"&&scrollPos>scrollMiddleTrigger){appVisibleState=\"MaxVisible\";_gaq.push([\"_trackEvent\",\"boxAntiBR\",\"show\"])}})}})\n",
       "</script>\n",
       "<div id=\"js-adFixedBottom\" style=\"display:none\"><!-- 1 -->\n",
       "<div class=\"js-open\" id=\"js-adFixedBottom-s\" style=\"\"><!-- 2 -->\n",
       "<div id=\"adFixedBottom-head\"><!-- 3 -->\n",
       "<div id=\"adFixedBottom-slide-title\">Buscar más trabajos sobre...</div>\n",
       "<div id=\"adFixedBottom-slide-menu\"><!-- 4 -->\n",
       "<div id=\"js-adFixedBottom-open\" style=\"display:none;\">+</div>\n",
       "<div id=\"js-adFixedBottom-close\">×</div>\n",
       "</div><!-- /4 -->\n",
       "</div><!-- /3 -->\n",
       "</div><!-- /2 -->\n",
       "</div><!-- /1 -->\n",
       "<!-- //CXBNC -->\n",
       "<div id=\"vista-mono\">\n",
       "<!-- CATEGORIAS -->\n",
       "<div class=\"bred-pdf-ppt\" id=\"Breadcrumb\">\n",
       "<a href=\"https://www.monografias.com/index.shtml\">Monografias.com</a> &gt; <a href=\"https://www.monografias.com/Educacion/index.shtml\">Educacion</a></div>\n",
       "<div id=\"Contextual\">\n",
       "<ul>\n",
       "<li><img align=\"absmiddle\" alt=\"\" src=\"/img/ico_descargar.gif\"/> \n",
       "\t\t<a href=\"glosedu.zip\n",
       "\n",
       "\" onclick=\"_gaq.push(['_trackEvent', 'Descargas', 'DOC', 'pagina-1']);\"><strong>Descargar</strong></a></li>\n",
       "<li><span class=\"sprites-2011 sprite-ico_imprimir\"> \n",
       "\t\t\t\t\t<a href=\"javascript:window.print();\">Imprimir</a></span></li>\n",
       "<li><span class=\"sprites-2011 sprite-ico_coments\"> \n",
       "\t\t\t\t\t<a href=\"#Comentarios\">Comentar</a></span> <span class=\"secundario\"></span></li>\n",
       "<li><span class=\"sprites-2011 sprite-ico_relacionados_ch\">  <a href=\"#Relacionados\" id=\"AskSearch\">Ver trabajos relacionados</a></span></li>\n",
       "</ul>\n",
       "</div>\n",
       "<div class=\"Monografia\" id=\"Contenido\">\n",
       "<div id=\"Publi-int\">\n",
       "<!-- PUBLI 300x250 SEGUN CATEGORIA (Ref #315) -->\n",
       "<!-- PUT THIS TAG IN DESIRED LOCATION OF SLOT Educacion_300 -->\n",
       "<div id=\"Publi300CatDyn\"><script type=\"text/javascript\">\n",
       "  var CatPubliX=\"300\"; var CatPubliY = \"250\"; var CatPubli = \"Educacion_300\";\n",
       "GA_googleFillSlotWithSize(\"ca-pub-8402207393259754\", CatPubli, CatPubliX, CatPubliY);  </script>\n",
       "</div>\n",
       "<!-- END OF TAG FOR SLOT Educacion_300 -->\n",
       "<!-- PUBLI 300x250 FIJA (Ref #315) -->\n",
       "<!-- Categorias-300-2 -->\n",
       "</div>\n",
       "<div id=\"Titulares\">\n",
       "<h1 class=\"titulo\">\n",
       "Glosario de EducaciÃ³n</h1>\n",
       "<div id=\"Autor\">\n",
       "<!-- Ref #451 (botones de Twitter y Facebook) -->\n",
       "<span class=\"twtr_fcbk_buttons\" style=\"float:right;height:30px;margin-right:-30px;width:330px;\">\n",
       "<span style=\"float:left;\">\n",
       "<g:plusone size=\"medium\"></g:plusone>\n",
       "</span>\n",
       "<a class=\"twitter-share-button\" data-count=\"horizontal\" data-via=\"monografias_com\" href=\"http://twitter.com/share\"></a>\n",
       "<fb:like font=\"arial\" layout=\"button_count\" show_faces=\"false\" width=\"120\"></fb:like>\n",
       "</span>\n",
       "<span class=\"sprites-2011 sprite-ico_autor\"></span>\n",
       "<strong>\n",
       "\n",
       "\n",
       "Enviado por <a href=\"https://www.monografias.com/usuario/perfiles/jarteaga\" id=\"contacto\">jarteaga </a>\n",
       "</strong>\n",
       "</div>\n",
       "<hr/>\n",
       "<script async=\"\" src=\"//pagead2.googlesyndication.com/pagead/js/adsbygoogle.js\"></script>\n",
       "<!-- MonoTXT -->\n",
       "<ins class=\"adsbygoogle\" data-ad-client=\"ca-pub-1883945583732831\" data-ad-slot=\"9838864578\" style=\"display:inline-block;width:530px;height:85px\"></ins>\n",
       "<script>\n",
       "(adsbygoogle = window.adsbygoogle || []).push({});\n",
       "</script>\n",
       "<hr/>\n",
       "<div id=\"Highlight\"></div><!-- Palabras Resaltadas -->\n",
       "</div>\n",
       "<br/><p style=\"clear:left\"></p>\n",
       "<!-- PARTES -->\n",
       "<p align=\"center\">\n",
       "</p>\n",
       "<ol>\n",
       "</ol>\n",
       "<div id=\"adhispanic\"> <!-- CUERPO -->\n",
       "<p>A</p>\n",
       "<p><b>Actitud:</b></p>\n",
       "<p>\"Disposición de ánimo que hace reaccionar\n",
       "  o actuar de una forma determinada delante de una idea, una\n",
       "  persona o un\n",
       "  hecho concreto.\n",
       "  Implica la tendencia a la acción directa, a favor o en\n",
       "  contra del objeto. Las actitudes,\n",
       "  junto con los valores y\n",
       "  las normas,\n",
       "  constituyen uno de los tres tipos de contenidos de\n",
       "  enseñanza establecidos en el\n",
       "  currículum\".</p>\n",
       "<p>\"Disposición interna de la persona a valorar\n",
       "  favorable o desfavorablemente una situación, un hecho,\n",
       "  etc.; Predisposición para actuar, tendencia estable a\n",
       "  comportarse de determinada manera.\"</p>\n",
       "<p><b>Actividades escolares:</b></p>\n",
       "<p>Ejercitaciones que forman parte de la programación escolar y que tienen por\n",
       "  finalidad proporcionar a los alumnos la oportunidad de vivenciar\n",
       "  y experimentar hechos o comportamientos tales como pensar,\n",
       "  adquirir conocimientos, desarrollar actitudes\n",
       "  sociales, integrar un esquema de valores e\n",
       "  ideales y conseguir determinadas destrezas y habilidades\n",
       "  específicas.</p>\n",
       "<p>Tipos de actividades escolares:</p>\n",
       "<ul>\n",
       "<li>A partir de las áreas de aprendizaje.</li>\n",
       "<li>Para los objetivos\n",
       "    inmediatos que pretenden conseguir por ejemplo que desarrollan\n",
       "    la capacidad de observación, de\n",
       "    atención...</li>\n",
       "<li>Para las aptitudes implicadas: sensoriales,\n",
       "    mentales...</li>\n",
       "<li>Según el grado de libertad de\n",
       "    elección: espontáneas, optativas u obligatorias.\n",
       "    Por el grado de autonomía en la realización:\n",
       "    dirigidas, semidirigidas y autónomas.</li>\n",
       "<li>Según la didáctica utilizada predominantemente:\n",
       "    actividades verbales, de observación, o de realización\n",
       "    concreta.</li>\n",
       "<li>Según la situación de aprendizaje en\n",
       "    orden a la socialización: individuales, grupales\n",
       "    (pequeños o grandes grupos).</li>\n",
       "</ul>\n",
       "<p><b>Actividades extraescolares:</b></p>\n",
       "<p>Es el conjunto de actividades concurrentes con las\n",
       "  escolares en cuanto a la educación integral de\n",
       "  los alumnos, pero desde perspectivas que la escuela no puede\n",
       "  atender en su actividad normal.</p>\n",
       "<p>Características:</p>\n",
       "<ul>\n",
       "<li>Mantienen claras vinculaciones con la escuela.</li>\n",
       "<li>Se encaminan hacia el perfeccionamiento del\n",
       "    alumno.</li>\n",
       "<li>Necesitan ser organizadas coherentemente.</li>\n",
       "<li>En su organización y funcionamiento han de\n",
       "    estimular la participación libre y responsable de los\n",
       "    alumnos.</li>\n",
       "<li>Exigen una vinculación estrecha de la sociedad y de\n",
       "    elementos culturales con la actividad educativa.</li>\n",
       "<li>Deben dar contenido al tiempo libre\n",
       "    del alumno. (L.Batanaz).</li>\n",
       "</ul>\n",
       "<p><b>Actividades de desarrollo:</b></p>\n",
       "<p>Actividades por las que se va adquiriendo conocimientos\n",
       "  nuevos. Son las actividades del continuo aprendizaje.</p>\n",
       "<p><b>Actividades de evaluación:</b></p>\n",
       "<p>Actividades concretas con las que se evaluara a los\n",
       "  alumnos para ver si han alcanzado los objetivos\n",
       "  previstos.</p>\n",
       "<p><b>Acto didáctico:</b></p>\n",
       "<p>Es la actividad que pone en relación al que\n",
       "  enseña con el que aprende (García Hoz).</p>\n",
       "<p>Características:</p>\n",
       "<ul>\n",
       "<li>Es una comunicación interpersonal (se necesitan\n",
       "    al menos dos personas).</li>\n",
       "<li>Es una relación intencional y dinámica por parte del discente y\n",
       "    docente.</li>\n",
       "<li>Es una relación que tiene como finalidad\n",
       "    conseguir los objetivos\n",
       "    del proceso\n",
       "    enseñanza-aprendizaje.</li>\n",
       "</ul>\n",
       "<p><b>Acto Educativo:</b></p>\n",
       "<p>Acto sistemático e intencional que realiza\n",
       "  el hombre y\n",
       "  cuyo objetivo es la\n",
       "  consecución del fin de la Educación, es decir,\n",
       "  la perfección humana.</p>\n",
       "<p>Es un proceso que\n",
       "  atiende al hombre en su\n",
       "  totalidad e intenta conducirle hacia la realización y\n",
       "  consecución de su proyecto personal de vida.\n",
       "  Requiere la intervención y el contacto humano entre\n",
       "  educador (actúa como facilitante) y el educando que es el\n",
       "  que busca el contacto.</p>\n",
       "<p><b>Adaptaciones curriculares:</b></p>\n",
       "<p>Las adaptaciones curriculares son decisiones relativas a\n",
       "  la\n",
       "  organización de los recursos\n",
       "  dirigidos al análisis de los diferentes alumnos. Se\n",
       "  busca la adaptación y organización de los elementos espaciales\n",
       "  para conseguir así facilitar el aprendizaje y\n",
       "  favorecer la autonomía y movilidad en el\n",
       "  centro.</p>\n",
       "<p>\"Forma de atención a la diversidad que\n",
       "  prevé la LOGSE, basada en concreciones del\n",
       "  currículo que permiten individualizar los procesos de\n",
       "  enseñanza-aprendizaje para\n",
       "  atender a los alumnos/as con necesidades educativas especiales.\n",
       "  Consisten en la adecuación de los objetivos\n",
       "  educativos, la eliminación o inclusión de\n",
       "  determinados contenidos y la modificación de los criterios\n",
       "  de evaluación, así como en la\n",
       "  ampliación de las actividades educativas en determinadas\n",
       "  áreas curriculares. Deben ir precedidas de una evaluación\n",
       "  de las necesidades educativas del alumno/a y de una propuesta\n",
       "  curricular especifica\".</p>\n",
       "<p>Las adaptaciones curriculares comprenderán la\n",
       "  adecuación de los objetivos\n",
       "  educativos, la eliminación o inclusión de\n",
       "  determinados contenidos, la metodología que se va a seguir y la\n",
       "  consiguiente modificación de los criterios de evaluación, así como la\n",
       "  ampliación de las actividades educativas de determinadas\n",
       "  áreas curriculares. Estas adaptaciones curriculares\n",
       "  tendrán como objetivo que\n",
       "  los alumnos alcancen las capacidades generales propias de la\n",
       "  Educación\n",
       "  Primaria, de acuerdo con sus posibilidades. En todo caso las\n",
       "  adaptaciones curriculares estarán precedidas de una\n",
       "  evaluación de las necesidades educativas\n",
       "  especiales del alumno y de una propuesta curricular\n",
       "  específica.</p>\n",
       "<p><b>Administraciones educativas:</b></p>\n",
       "<p>Las administraciones educativas son los organismos que\n",
       "  dentro de una demarcación territorial de gestión\n",
       "  tienen competencia\n",
       "  educativa. Son administraciones educativas el Ministerio de\n",
       "  Educación\n",
       "  y Ciencia en su\n",
       "  ámbito territorial de gestión\n",
       "  y las Administraciones competentes de las distintas\n",
       "  autonomías.</p>\n",
       "<p><b>Alumno:</b></p>\n",
       "<p>Del latín <i>alumnum</i>, de <i>alere</i>,\n",
       "  alimentar. El alumno es la persona, respecto\n",
       "  del que la educó. Es el discípulo respecto de su\n",
       "  maestro, de la materia, etc.;\n",
       "  estudiante.</p>\n",
       "<p>Podemos hablar de varios tipos de alumnos:</p>\n",
       "<p>Alumno becarioà alumno que disfruta de una\n",
       "  beca.</p>\n",
       "<p>Alumno colegiadoà es el que recibe la enseñanza en\n",
       "  un colegio o centro reconocido.</p>\n",
       "<p>Alumno externoà es el que sólo permanece en el\n",
       "  centro de enseñanza durante las horas de clase.</p>\n",
       "<p>Alumno internoà aquel que vive en el establecimiento\n",
       "  donde recibe la enseñanza.</p>\n",
       "<p>Alumno mediopensionistaà es el que perm,anece en el centro\n",
       "  de enseñanza durante toda la jornada escolar, almorzando\n",
       "  en éste.</p>\n",
       "<p>Alumno libreà es el que no cursa estudios en centros\n",
       "  del estado, nien\n",
       "  colegios reconocidos o autorizados y que ha de examinarse ante\n",
       "  los tribunales de los centros oficiales. También alumno\n",
       "  universitario que ha obtenido la dispensa de escolaridad o que no\n",
       "  asiste obligatoriamente a las clases de un centro, pero que tiene\n",
       "  que examinarse ante los profesores o catedraticos del\n",
       "  mismo.</p>\n",
       "<p>Alumno oficialà es el que sigue la enseñanza en\n",
       "  los colegios, institutos, universidades y demás centros\n",
       "  del estado, con\n",
       "  obligatoriedad de asistir a clase.</p>\n",
       "<p>Alumno oyenteà es aquel que obtiene del decano o\n",
       "  catedrático la autorización para asistir a las\n",
       "  clases y prácticas de los alumnos oficiales, para\n",
       "  examinarse luego en calidad de alumno\n",
       "  libre.</p>\n",
       "<p><b>Antididáctica:</b></p>\n",
       "<p>En relación al contenido, el proceso\n",
       "  instructivo puede ser entendido dentro de esta corriente como una\n",
       "  tarea que comporta dos momentos fundamentales y\n",
       "  dialécticos inseparables. La concienciación lleva\n",
       "  consigo el compromiso de ruptura con las estructuras\n",
       "  establecidas, por cuanto que estas son mecanismos de poder de la\n",
       "  ideología dominante.</p>\n",
       "<p>En cuanto a la finalidad la antididáctica lucha\n",
       "  por el cambio de\n",
       "  estructuras de\n",
       "  dominación, por la revolución\n",
       "  total, no sólo didáctica, dentro del marco\n",
       "  sociopolítico.</p>\n",
       "<p>Se propugna un cambio, en\n",
       "  cuanto al acto didáctico, en la relación\n",
       "  profesor-alumno-materia. Se\n",
       "  trata de romper todo vinculo dependiente del docente o el\n",
       "  discente entre sí y con la materia objeto\n",
       "  de conocimiento.</p>\n",
       "<p><b>Aprender:</b></p>\n",
       "<p>\"Proceso\n",
       "  mediante el cual el individuo adquiere conocimientos, conductas,\n",
       "  habilidades y destrezas\"</p>\n",
       "<p>Aprender es conocer una cosa por medio del estudio o de\n",
       "  la experiencia. Es fijar algo en la memoria.\n",
       "  Proviene del latín\n",
       "  <i>a+prehendere.</i><i>à </i>percibir.</p>\n",
       "<p><b>Aprender a aprender:</b></p>\n",
       "<p>\"Adquirir una serie de habilidades y estrategias que\n",
       "  posibiliten futuros aprendizajes de una manera\n",
       "  autónoma\".</p>\n",
       "<p><b>Aprendizaje:</b></p>\n",
       "<p>Todo aprendizaje supone la interiorización y\n",
       "  reelaboración individual de una serie de significados\n",
       "  culturales socialmente compartidos. La interacción con las\n",
       "  personas y los objetos que subyace en todo proceso de\n",
       "  aprendizaje, pasa necesariamente por el filtro de la cultura\n",
       "  común y está  mediatizada por la\n",
       "  utilización de un determinado lenguaje.\n",
       "  \tEl aprendizaje\n",
       "  actúa como motor del\n",
       "  desarrollo de\n",
       "  las capacidades intelectuales de la persona. Pero a\n",
       "  su vez, y en una relación dialéctica, la\n",
       "  posibilidad de asimilación de los contenidos culturales\n",
       "  está estrechamente relacionada con el nivel de desarrollo\n",
       "  conseguido y los conocimientos elaborados en experiencias\n",
       "  anteriores.</p>\n",
       "<p>El aprendizaje se\n",
       "  produce cuando un conocimiento\n",
       "  nuevo se integra en los esquemas de conocimiento\n",
       "  previos llegando incluso a modificarlos. Para que esto suceda, el\n",
       "  alumno tiene que ser capaz de establecer relaciones\n",
       "  significativas entre el\n",
       "  conocimiento nuevo y los que ya posee.</p>\n",
       "<p>Esto implica que habrá  de producirse un\n",
       "  desajuste óptimo entre las competencias y\n",
       "  conocimientos previos de los alumnos y la tarea propuesta, es\n",
       "  decir, que ésta resulte lo suficientemente difícil\n",
       "  como para constituir un desafío pero no tanto que resulte\n",
       "  imposible de realizar.</p>\n",
       "<p>Implica también que los alumnos y alumnas accedan\n",
       "  al nuevo conocimiento a\n",
       "  través de una tarea que no sea arbitraria, sino que tenga\n",
       "  sentido para ellos y pueda ser asumida intencionalmente, teniendo\n",
       "  en cuenta los procedimientos y\n",
       "  prácticas sociales que son habituales en cada contexto\n",
       "  cultural. El trabajo\n",
       "  cooperativo entre iguales favorece, la movilización de\n",
       "  esquemas de conocimiento y\n",
       "  el aprendizaje\n",
       "  significativo, por cuanto provoca el enfrentamiento de puntos\n",
       "  de vista y la aparición de conflictos\n",
       "  socio-cognitivos.</p>\n",
       "<p>De esta manera puede asegurarse la funcionalidad del\n",
       "  aprendizaje escolar, es decir, que las competencias y\n",
       "  los conocimientos que se adquieran en el aula puedan ser\n",
       "  utilizados en cualquier situación de la vida cotidiana que\n",
       "  lo requiera.</p>\n",
       "<p><b>Aprendizaje mecánico:</b></p>\n",
       "<p>\"Aprendizaje en el que aquello que se aprende,\n",
       "  generalmente de forma memorística y repetitiva, no es\n",
       "  posible que sea utilizado de forma distinta o en situaciones\n",
       "  diferentes a aquellos en las que se ha aprendido. Generalmente\n",
       "  son aprendizajes poco sólidos, sin arraigo en la estructura\n",
       "  cognitiva del sujeto y condenados, por lo general, al\n",
       "  rápido olvido.\"</p>\n",
       "<p><b>Aprendizaje por descubrimiento:</b></p>\n",
       "<p>\"Aprendizaje en el que el alumno construye sus\n",
       "  conocimientos de forma autónoma, sin la ayuda permanente\n",
       "  del enseñante. Esta forma de entender el aprendizaje\n",
       "  requiere un método de\n",
       "  búsqueda activa por parte del que aprende, bien siguiendo\n",
       "  un método\n",
       "  inductivo, bien hipotético-deductivo.\"</p>\n",
       "<p><b>Aprendizaje significativo:</b></p>\n",
       "<p>\"Construcción de aprendizajes por parte del\n",
       "  alumno, con la ayuda de la intervención del profesor, que\n",
       "  relaciona de forma no arbitraria la nueva información con lo que el alumno\n",
       "  sabe.\"</p>\n",
       "<p><b>Áreas curriculares:</b></p>\n",
       "<p>Áreas curriculares son \"agrupamientos de los\n",
       "  contenidos en ámbitos de experiencia de los niños y\n",
       "  niñas.\"</p>\n",
       "<p>En el libro sobre\n",
       "  Orientaciones Didácticas para la Educación Primaria\n",
       "  (pág. 12, MEC 1992) se habla de las áreas\n",
       "  curriculares de la manera siguiente: \"Considerando las\n",
       "  finalidades de la Educación Primaria y los objetivos\n",
       "  generales que las concretan, se seleccionan y estructuran los\n",
       "  contenidos de aprendizaje en áreas. Esta\n",
       "  estructuración tiene por objeto facilitar al profesor la\n",
       "  ordenación y planificación de su actividad docente,\n",
       "  así como recoger los contenidos aportados por las diversas\n",
       "  disciplinas que están en la base de cada una de las\n",
       "  áreas. Esto no significa que deban abordarse por separado\n",
       "  en las propuestas de trabajo en el aula. En todo caso, es preciso\n",
       "  integrar los contenidos de las distintas áreas en torno a ejes\n",
       "  globalizadores\".</p>\n",
       "<p>Las áreas curriculares de la Educación\n",
       "  Primaria son:</p>\n",
       "<p>-Conocimiento del Medio Natural, Social y\n",
       "  Cultural.</p>\n",
       "<p>-Educación Artística.</p>\n",
       "<p>-Educación\n",
       "  Física.</p>\n",
       "<p>-Lengua\n",
       "  Castellana y Literatura.</p>\n",
       "<p>-Matemáticas.</p>\n",
       "<p>-Lengua\n",
       "  extranjera.</p>\n",
       "<p>\"Las áreas curriculares son conjuntos de\n",
       "  experiencias o conocimientos de disciplinas afines, que\n",
       "  están interrelacionados y constituyen un ámbito del\n",
       "  trabajo escolar\".</p>\n",
       "<p><b>Asignaturas:</b></p>\n",
       "<p>El termino asignaturas ha quedado relegado, con la\n",
       "  Reforma, a un puesto secundario. En la actualidad en primaria no\n",
       "  hay asignaturas sino áreas. Sólo se habla de\n",
       "  asignaturas en 3º y 4º de la ESO.</p>\n",
       "<p><b>Autoaprendizaje:</b></p>\n",
       "<p>También es conocido por ensayos y\n",
       "  errores. En este tipo de aprendizaje falta la dirección del docente. Tampoco existe\n",
       "  ningún tipo de estímulos afectivos como pueden ser\n",
       "  los premios y los castigos. Lo único que actúa en\n",
       "  este aprendizaje es la autosatisfacción personal.</p>\n",
       "<p><b>Autoevaluación:</b></p>\n",
       "<p>La autoevaluación es la evaluación que\n",
       "  realiza el alumno sobre su propia actuación con el fin de\n",
       "  conocer y mejorar su proceso educativo.</p>\n",
       "<p><b>Ayuda pedagógica:</b></p>\n",
       "<p>\"Intervención del docente para guiar y orientar\n",
       "  al alumno a fin de que éste pueda avanzar en su\n",
       "  aprendizaje.\"</p>\n",
       "<p>B</p>\n",
       "<p><b>Bachillerato:</b></p>\n",
       "<p>En la estructura del\n",
       "  sistema educativo\n",
       "  que configura la LOGSE, el bachillerato es una etapa no\n",
       "  obligatoria, dentro de la Educación Secundaria.</p>\n",
       "<p>En esta etapa, se pretende que los jóvenes\n",
       "  adquieran madurez intelectual y humana así como los\n",
       "  conocimientos científicos y tecnológicos\n",
       "  básicos de las materias que cursan y que tienen distintas\n",
       "  características y funciones dentro\n",
       "  del desarrollo\n",
       "  curricular y del de las capacidades a desarrollar en la etapa.\n",
       "  Esto es posible, porque sin pretender poder dar\n",
       "  reglas fijas al respecto, se puede decir que el alumnado de\n",
       "  bachillerato, que como mínimo debe tener 16 años,\n",
       "  tiene bastante desarrollado el pensamiento\n",
       "  formal, pudiendo desarrollar el pensamiento\n",
       "  abstracto y el hipotético deductivo.</p>\n",
       "<p>El Bachillerato, en el marco del sistema educativo\n",
       "  anterior, se configuraba básicamente como una etapa\n",
       "  preparatoria para la consecución de posteriores estudios\n",
       "  universitarios por lo tanto, era una etapa de transición.\n",
       "  Dado ese carácter básicamente preparatorio para la\n",
       "  Universidad\n",
       "  tenía un carácter, por un lado, fuertemente\n",
       "  academicista, y por otro elitista como camino casi obligado para\n",
       "  acceder a las cotas más altas de la cultura y del\n",
       "  poder social.\n",
       "  El resultado de todo ello en muchos casos resultaba ser que, el\n",
       "  alumnado que cursaba el bachillerato y que por cualquier causa no\n",
       "  continuaba o no terminaba estudios universitarios, se encontraba\n",
       "  con una nula preparación para incorporarse al mundo\n",
       "  laboral. Entre\n",
       "  los objetivos del bachillerato no se encontraba el de obtener una\n",
       "  preparación base para la incorporación a la vida\n",
       "  activa.</p>\n",
       "<p>El bachillerato que configura la LOGSE, se caracteriza\n",
       "  por:</p>\n",
       "<p>• Su carácter preparatorio. No sólo\n",
       "  prepara para posteriores estudios universitarios sino\n",
       "  también para acceder a la formación profesional de\n",
       "  grado superior, y a la vida activa. Por ello proporciona una\n",
       "  formación profesional de base al alumnado y una\n",
       "  formación más práctica que relaciona los\n",
       "  aspectos teóricos de las materias con sus aplicaciones\n",
       "  prácticas.</p>\n",
       "<p>• Su valor\n",
       "  formativo, en relación con el carácter terminal de\n",
       "  la etapa, proporcionará al alumnado que lo curse los\n",
       "  medios para\n",
       "  lograr una madurez intelectual y humana así como una\n",
       "  formación versátil que permita adaptarse con\n",
       "  facilidad a los múltiples cambios que se producen tan\n",
       "  rápidamente en nuestra sociedad\n",
       "  actual.</p>\n",
       "<p>•Su carácter orientador al dar respuesta a\n",
       "  los diversos intereses del alumnado a través de un\n",
       "  bachillerato más flexible en su estructura y\n",
       "  en el que el alumnado configura en cierta medida su itinerario\n",
       "  educativo.</p>\n",
       "<p>Los objetivos de esta etapa están relacionados\n",
       "  con los objetivos de la etapa anterior, la Educación\n",
       "  Secundaria Obligatoria, desarrollando las capacidades del alumno\n",
       "  acorde con su edad y profundizando en los contenidos\n",
       "  científicos y tecnológicos de las materias que\n",
       "  componen los dos cursos del\n",
       "  Bachillerato.</p>\n",
       "<p>La LOGSE de forma general señala para todas las\n",
       "  etapas la necesidad de aplicar una metodología activa, y la necesaria\n",
       "  participación del alumnado en el proceso de\n",
       "  enseñanza- aprendizaje. En concreto para\n",
       "  el bachillerato indica que la metodología favorecerá en los\n",
       "  alumnos y las alumnas la capacidad para aprender por si mismos,\n",
       "  para trabajar en equipo y para aplicar los métodos de\n",
       "  la investigación. De igual modo subraya que\n",
       "  esta deberá relacionar de los aspectos teóricos de\n",
       "  las materias con sus aplicaciones prácticas en la sociedad. Por lo\n",
       "  tanto es importante continuar con una metodología que desarrolle aprendizajes\n",
       "  significativos.</p>\n",
       "<p>El bachillerato es una etapa de dos años de\n",
       "  duración y todo el alumnado que accede a él ha\n",
       "  cursado dos años más de educación\n",
       "  obligatoria que en el sistema educativo\n",
       "  anterior.</p>\n",
       "<p>Existen cuatro modalidades de bachillerato, de Artes, de\n",
       "  Ciencias de la\n",
       "  Naturaleza y\n",
       "  de la Salud, de\n",
       "  Ciencias\n",
       "  Humanidades y Ciencias\n",
       "  Sociales y tecnológica. Estas cuatro opciones\n",
       "  proporcionan unos estudios de bachillerato que atienden a la\n",
       "  diversidad de intereses y capacidades del alumnado, aún\n",
       "  cuando tiene una única concepción para las cuatro\n",
       "  modalidades. Independientemente de la modalidad cursada, una vez\n",
       "  superados los dos años se obtiene un único\n",
       "  título de Bachiller. Además, el bachillerato se\n",
       "  configura flexible y transitable, permitiendo que el alumnado\n",
       "  pueda modificar su opción inicial con el menor costo\n",
       "  académico posible. También, el bachillerato debe\n",
       "  responder a su triple función formativa, preparatoria y\n",
       "  orientadora. Para ello en su estructura se\n",
       "  configuran tres tipos de materias: las materias comunes, las\n",
       "  materias de modalidad y las materias optativas.</p>\n",
       "<p>Salidas del Bachillerato:</p>\n",
       "<p>El Artículo 29.2 de la L.O.G.S.E. señala\n",
       "  que el título de Bachiller permitirá acceder a la\n",
       "  Formación Profesional de grado superior y a los estudios\n",
       "  universitarios.</p>\n",
       "<p>También permitirá acceder a los grados y\n",
       "  estudios superiores de las enseñanzas artísticas,\n",
       "  previa superación de la correspondiente prueba.</p>\n",
       "<p>El Bachillerato es, pues, la vía normal de acceso\n",
       "  a estudios posteriores, sean universitarios o de formación\n",
       "  profesional. Pero se trata de un tránsito no\n",
       "  automático, sino bajo determinadas condiciones que, por\n",
       "  otra parte, son diferentes en cada caso.</p>\n",
       "<p>Así, para acceder de forma directa a la\n",
       "  Formación Profesional de grado superior, además del\n",
       "  título de Bachiller, puede resultar necesario haber\n",
       "  cursado determinadas materias de bachillerato, según el\n",
       "  ciclo que vaya a cursarse.</p>\n",
       "<p>Para acceder a la Universidad\n",
       "  habrá una prueba de acceso a la misma. Dicha prueba de\n",
       "  acceso tendrá carácter único, cualquiera que\n",
       "  sea la modalidad de Bachillerato seguida por el alumno o la\n",
       "  alumna y versará sobre los contenidos de las materias de\n",
       "  Bachillerato establecidos reglamentariamente.</p>\n",
       "<p><b>B.O.E:</b></p>\n",
       "<p>Boletín Oficial del Estado.\n",
       "  Publicación donde se recogen todas las propuestas,\n",
       "  decisiones y leyes del\n",
       "  Estado.</p>\n",
       "<p>C</p>\n",
       "<p><b>Cajas Rojas:</b></p>\n",
       "<p>Las Cajas Rojas contienen los materiales\n",
       "  para la Reforma que el Ministerio envía a todos los\n",
       "  centros de acuerdo con el nuevo curriculum\n",
       "  establecido para ayudar al profesorado a preparar la\n",
       "  elaboración del proyecto\n",
       "  curricular.</p>\n",
       "<p><b>Capacidades:</b></p>\n",
       "<p>Las capacidades son aquellas aptitudes que el alumno ha\n",
       "  de alcanzar para conseguir un desarrollo\n",
       "  integral como persona. En el\n",
       "  currículo de una etapa educativa, los objetivos generales\n",
       "  de etapa y de área vienen expresados en términos de\n",
       "  capacidades.</p>\n",
       "<p>\"Aptitud para hacer, conocer, sentir. Los objetivos del\n",
       "  curriculum de\n",
       "  la Reforma se formulan en términos de capacidades que hay\n",
       "  que desarrollar. Estas capacidades deben ser de distintos tipos:\n",
       "  cognitivas, psicomotrices, de autonomía y de equilibrio\n",
       "  personal, de\n",
       "  interrelación personal, y de\n",
       "  inserción social.\"</p>\n",
       "<p>Son cinco:</p>\n",
       "<ul>\n",
       "<li>Cognitiva.</li>\n",
       "<li>Psicomotriz.</li>\n",
       "<li>Afectiva.</li>\n",
       "<li>Inserción social.</li>\n",
       "<li>Comunicación.</li>\n",
       "</ul>\n",
       "<p><b>Carácter abierto:</b></p>\n",
       "<p>El carácter abierto del curriculum\n",
       "  concede gran importancia a las diferencias individuales y al\n",
       "  contexto social, cultural y geográfico en el que se aplica\n",
       "  el programa. Se\n",
       "  basa en una interacción permanente en el sistema y su\n",
       "  entorno, integrando las diferencias externas en el propio\n",
       "  desarrollo del proceso educativo, que está abierto a un\n",
       "  continuo proceso de revisión y reorganización. Lo\n",
       "  importante, pues, no está en el resultado del aprendizaje,\n",
       "  sino en el proceso. Los objetivos están definidos en\n",
       "  términos generales para dar cabida a las modificaciones\n",
       "  continuas del programa. La\n",
       "  evaluación se basa en la observación del proceso de aprendizaje con\n",
       "  el fin de determinar el nivel de comprensión del contenido\n",
       "  y la utilización del conocimiento en nuevas\n",
       "  situaciones.</p>\n",
       "<p>Un curriculum\n",
       "  abierto tiene la ventaja de garantizar el respeto a los\n",
       "  diferentes contextos de aplicación a la vez que implica\n",
       "  creativamente al profesor en el desempeño de su labor\n",
       "  profesional.</p>\n",
       "<p>El carácter abierto del curriculum\n",
       "  debe complementarse con la preocupación de hacerlo\n",
       "  accesible a la mayoría de los profesores facilitando su\n",
       "  uso como elemento de programación.</p>\n",
       "<p>Pero este curriculum abierto también tiene sus\n",
       "  lados un poco más negativos como por ejemplo:</p>\n",
       "<ul>\n",
       "<li>Resulta más difícil conseguir una\n",
       "    relativa homogeneidad en el curriculum para toda la población (aspecto deseable sobre todo en\n",
       "    la enseñanza obligatoria).</li>\n",
       "<li>Exige de los profesores un esfuerzo y un nivel de\n",
       "    formación muy superiores, pues les otorga la tarea de\n",
       "    elaborar sus propias programaciones.</li>\n",
       "</ul>\n",
       "<p><b>Carácter propio:</b></p>\n",
       "<p>\"Define la identidad de\n",
       "  un centro privado y el tipo de educación que se ha\n",
       "  comprometido a impartir; es decir, describe un ideal de escuela y un\n",
       "  ideal de educación, y no tanto la realidad del centro. Es\n",
       "  estable y el titular del centro tiene derecho a\n",
       "  establecerlo.\"</p>\n",
       "<p><b>Centros de interés:</b></p>\n",
       "<p>El precursor del método de\n",
       "  los centros de interés\n",
       "  fue Ovide Decroly, medico y pedagogo belga (1871-1932), que se ha\n",
       "  convertido en uno de los autores más significativos de la\n",
       "  educación infantil actual.</p>\n",
       "<p>Los centros de interés\n",
       "  son elegidos por los propios maestros/as, una vez analizadas las\n",
       "  necesidades vitales de los niños/as, teniendo presente sus\n",
       "  características evolutivas. Así\n",
       "  pues, si dichos centros de interés\n",
       "  (CI) satisfacen sus necesidades, al ser presentados en el aula\n",
       "  surgirá el interés en\n",
       "  los alumnos, produciéndose la\n",
       "  motivación y posteriormente el\n",
       "  aprendizaje.</p>\n",
       "<p>Según Decroly tres serían los pasos en el\n",
       "  desarrollo de los centros de interés:</p>\n",
       "<ul>\n",
       "<li>La observación. Dicha observación debe servir como punto de\n",
       "    partida del proceso de enseñanza/aprendizaje. Si esta\n",
       "    observación es directa es mucho mejor.</li>\n",
       "<li>La asociación. En este punto se\n",
       "    establecerían relaciones espaciales, temporales,\n",
       "    afectivas...</li>\n",
       "<li>Por ultimo, la expresión de lo asimilado. Esto\n",
       "    se puede conseguir mediante la plástica, la escritura,\n",
       "    el canto...</li>\n",
       "</ul>\n",
       "<p>La utilización de este método se\n",
       "  recomienda, sobre todo, en el primer ciclo de Educación\n",
       "  Primaria. Así se consigue una mayor continuidad con la\n",
       "  práctica educativa que se desarrolla en la\n",
       "  Educación Infantil. Y es que los centros de interés\n",
       "  constituyen una de las metodologías más extendidas\n",
       "  en la Educación Infantil.</p>\n",
       "<p>En la elección de los centros de interés\n",
       "  el maestro/a debe tener en cuenta la realidad que rodea tanto al\n",
       "  centro como a los alumnos, para conseguir que sean verdaderamente\n",
       "  interesantes para los alumnos y que estos se sientan\n",
       "  identificados con los temas que se plantean. Y es que los\n",
       "  chicos siempre mostraran más interés en algo que\n",
       "  tienen \"al alcance de su mano\" que en algo que saben que existe,\n",
       "  pero que no conocen personalmente.</p>\n",
       "<p>Centros de interés que tradicionalmente se\n",
       "  trabajan: el cuerpo humano\n",
       "  (partes y funcionalidad e higiene personal);\n",
       "  la familia; la\n",
       "  casa; los medios de\n",
       "  transporte;\n",
       "  los medios de\n",
       "  comunicación; los animales; las\n",
       "  plantas; las\n",
       "  tiendas; el colegio; los alimentos; la\n",
       "  ciudad y el pueblo; los vestidos; el barrio; la Navidad; el\n",
       "  carnaval; los juegos y\n",
       "  juguetes; ....</p>\n",
       "<p><b>Ciclos educativos:</b></p>\n",
       "<p>\"Unidad curricular temporal de programación y evaluación, que en la\n",
       "  Educación Infantil abarca tres años y, en la\n",
       "  Educación Primaria y Educación Secundaria\n",
       "  Obligatoria, dos años\".</p>\n",
       "<p><b>Claustro:</b></p>\n",
       "<p>El claustro es el órgano propio de la\n",
       "  participación de los profesores/as en el centro.\n",
       "  Está integrado por todos los profesores/as que trabajan en\n",
       "  éste, presidiéndolo el director del\n",
       "  centro.</p>\n",
       "<p><b>Concepto:</b></p>\n",
       "<p>\"Contenido de aprendizaje referido al conjunto de\n",
       "  objetos, hechos o símbolos que tienen ciertas características comunes. Los conceptos\n",
       "  constituyen uno de los tipos de contenido.\"</p>\n",
       "<p><b>Conflicto cognitivo:</b></p>\n",
       "<p>\"Situación que se produce en el aprendizaje\n",
       "  caracterizada por la contradicción entre lo que el sujeto\n",
       "  sabe y entiende de la realidad y la nueva información que recibe, produciendo un\n",
       "  choque en su estructura\n",
       "  cognitiva que conduce a la modificación de la\n",
       "  misma.\"</p>\n",
       "<p><b>Conocimientos previos:</b></p>\n",
       "<p>\"Conocimientos que tiene el alumno o alumna y que es\n",
       "  necesario activar por estar relacionados con los nuevos\n",
       "  contenidos de aprendizaje que se quiere\n",
       "  enseñar\"</p>\n",
       "<p><b>Consejo escolar:</b></p>\n",
       "<p>\"Órgano de gobierno\n",
       "  representativo de la comunidad\n",
       "  educativa de los centros docentes sostenidos con fondos\n",
       "  públicos.\"</p>\n",
       "<p><b>Contenidos:</b></p>\n",
       "<p>\"Lo que enseña, el objeto de aprendizaje. El\n",
       "  curriculum de la Reforma del Sistema Educativa\n",
       "  distingue entre tres tipos de contenido: conceptos, procedimientos y\n",
       "  actitudes.\n",
       "  Estos tres tipos de contenido son igualmente importantes, ya que\n",
       "  colaboran en la adquisición de las capacidades\n",
       "  señaladas en los objetivos generales del\n",
       "  área.\"</p>\n",
       "<p>Uno de los objetivos que ha de seguir un maestro\n",
       "  consiste en ajustar los contenidos que se han de aprender a la\n",
       "  situación y posibilidades de los alumnos/as.</p>\n",
       "<p>El término contenidos se refiere a los objetos de\n",
       "  enseñanza-aprendizaje que la sociedad\n",
       "  considera útiles y necesarios para promover el desarrollo\n",
       "  personal y social del individuo. Esta acepción destaca\n",
       "  dos dimensiones esenciales de los contenidos: el papel que\n",
       "  desempeña la sociedad en la\n",
       "  definición de lo que merece la pena aprender, y el\n",
       "  carácter instrumental de esos objetos de aprendizaje en el\n",
       "  desarrollo integral de alumnos y alumnas.</p>\n",
       "<p>Lo que la sociedad actual considera como objeto de\n",
       "  aprendizaje, desborda ampliamente el marco de lo que,\n",
       "  tradicionalmente, se ha entendido por contenidos. Junto al\n",
       "  aprendizaje de datos,\n",
       "  informaciones, hechos y conceptos, se destaca hoy la necesidad de\n",
       "  entender, también, como contenidos, el conjunto de\n",
       "  procedimientos\n",
       "  a partir de los cuales se construye el\n",
       "  conocimiento, y, asimismo, el sistema de actitudes,\n",
       "  valores y\n",
       "  normas que\n",
       "  rigen el proceso de elaboración de la ciencia y\n",
       "  la vida en sociedad.</p>\n",
       "<p>La incorporación al campo de lo factual y\n",
       "  conceptual, de procedimientos,\n",
       "  actitudes y\n",
       "  valores como\n",
       "  contenidos de pleno derecho, enfatiza su importancia cualitativa\n",
       "  en la formación integral de los alumnos y alumnas, y\n",
       "  supera la concepción reduccionista sobre el qué\n",
       "  enseñar, diversificando y enriqueciendo la oferta\n",
       "  educativa.</p>\n",
       "<p>La tipificación de los contenidos en\n",
       "  relación con estos tres tipos de conocimiento, responde,\n",
       "  exclusivamente, a una perspectiva analítica capaz de\n",
       "  orientar la planificación y revisión de la\n",
       "  actividad docente. En la práctica educativa, sin embargo,\n",
       "  el tratamiento de hechos y conceptos es indisociable de los\n",
       "  procedimientos\n",
       "  y actitudes correspondientes.</p>\n",
       "<p>Esta visión integrada de los contenidos,\n",
       "  según la cual el aprendizaje de conceptos supone,\n",
       "  simultáneamente, el de los procedimientos y valores\n",
       "  implicados, es coherente con el desarrollo armónico de la\n",
       "  persona, que constituye uno de los objetivos básicos de la\n",
       "  educación. Es por esta razón, que el diseño\n",
       "  que se adopta en la presentación de los contenidos de las\n",
       "  distintas  reas curriculares responda tanto a esta necesidad\n",
       "  de contemplar contenidos de hechos, procedimientos y actitudes,\n",
       "  como a la intención de establecer relaciones sustantivas\n",
       "  entre ellos dentro de una visión integradora del acto\n",
       "  didáctico.</p>\n",
       "<p>Los contenidos escolares deben establecerse,\n",
       "  también, a partir de un análisis de la estructura interna de los\n",
       "  distintos campos del saber, que destaque cuáles son sus\n",
       "  conceptos y procedimientos básicos, y aquellos modelos o\n",
       "  teorías\n",
       "  con mayor potencialidad para explicar la realidad. Estos campos\n",
       "  del conocimiento culturalmente elaborado, deben trascender una\n",
       "  concepción excesivamente clásica del saber\n",
       "  académico que permita tratar nuevas problemáticas\n",
       "  sociales en la oferta\n",
       "  educativa que se configure. De este modo, temas como la\n",
       "  Educación para la Salud, la Educación\n",
       "  Ambiental, las Nuevas Tecnologías, la Educación\n",
       "  para la Paz, la Coeducación, la Educación del\n",
       "  Consumidor y\n",
       "  Usuario, la Educación Vial, y cuantos otros surjan a lo\n",
       "  largo de la historia educativa y social\n",
       "  de una comunidad\n",
       "  educativa, no se convertir n en temas ajenos, yuxtapuestos,\n",
       "  al curriculum que se desarrolla en un centro, sino que\n",
       "  formarán parte de cada una de las  áreas que\n",
       "  lo articulan, además de poder ampliar,\n",
       "  en otros casos, la oferta\n",
       "  educativa que, en materia de\n",
       "  opcionalidad y diversificación curricular,\n",
       "  habrá  de realizarse.</p>\n",
       "<p>La utilidad de los\n",
       "  contenidos como medio para la consecución de los\n",
       "  objetivos, no depende sólo de una adecuada\n",
       "  selección, sino también, y en igual medida, de una\n",
       "  organización que facilite su aprendizaje.\n",
       "  Los criterios básicos que deben regir esta última,\n",
       "  se refieren de nuevo a las características cognitivas de los alumnos y\n",
       "  alumnas, y a la especificidad de los distintos campos del saber.\n",
       "  Desde esta doble perspectiva, es necesario recordar que la\n",
       "  lógica\n",
       "  organizativa que subyace en los esquemas de conocimiento de los\n",
       "  alumnos y alumnas entre los seis y doce años, difiere\n",
       "  significativamente de la lógica\n",
       "  propia del conocimiento\n",
       "  científico.</p>\n",
       "<p>En este sentido, la\n",
       "  organización de contenidos en esta etapa educativa,\n",
       "  debe poseer  un carácter integrador o globalizado,\n",
       "  situándose así más cerca de la forma en que\n",
       "  los alumnos y alumnas, en estas edades, se enfrentan al\n",
       "  conocimiento y vivencia de su entorno, abordando los temas tal y\n",
       "  como en él se plantean y siempre considerados en una\n",
       "  perspectiva predisciplinar del conocimiento\n",
       "  científico y socialmente organizado.</p>\n",
       "<p><b>Contexto:</b></p>\n",
       "<p>A la hora de realizar cualquier proyecto, sobre\n",
       "  todo el Proyecto\n",
       "  curricular de centro hay que tener en cuenta tanto la realidad\n",
       "  extraescolar que rodea la actividad educativa tanto la misma\n",
       "  realidad escolar.</p>\n",
       "<p>Al hablar de realidad extraescolar nos estamos\n",
       "  refiriendo a:</p>\n",
       "<ul>\n",
       "<li>Entorno à situación geográfica,\n",
       "    situación política y\n",
       "    administrativa, situación económica, medios\n",
       "    sanitarios, costumbres y tradiciones, medios\n",
       "    culturales y condicionantes\n",
       "    lingüísticos.</li>\n",
       "<li>La familia\n",
       "    à nivel\n",
       "    socioeconómico, nivel cultural, profesión,\n",
       "    edades, números de miembros, grado de\n",
       "    participación social, interés por los estudios y\n",
       "    futuro de sus hijos.</li>\n",
       "</ul>\n",
       "<p>Al hablar del contexto escolar nos estamos refiriendo\n",
       "  a:</p>\n",
       "<ul>\n",
       "<li>El centro escolar à estructura arquitectonica del centro,\n",
       "    recursos y\n",
       "    medios\n",
       "    materiales,\n",
       "    números de aulas de otras dependencias, mobiliario,\n",
       "    servicios de\n",
       "    calefaccion, limpieza, etc. , servicios\n",
       "    higienicos, iluminación...</li>\n",
       "<li>Organización del profesorado\n",
       "    à\n",
       "    números de profesores y sus espectativas,\n",
       "    especialidades y situación administrativa,\n",
       "    participación en los órganos de gobierno,\n",
       "    relación con padres y alumnos, participación en\n",
       "    actividades (extraescolares, de innovación, de\n",
       "    perfeccionamiento)...</li>\n",
       "<li>Organización del alumnado à procedencia,\n",
       "    números de aulas y alumnos por nivel, organización del ciclo, alumnos\n",
       "    diferentes (actividades de apoyo), interés, características (afectivas, sociales,\n",
       "    cognitivas, psicomotrices)...</li>\n",
       "<li>Padres à se mira su participación en el\n",
       "    Consejo Escolar, visitas, salidas y excursiones, talleres,\n",
       "    actividades extraescolares,...</li>\n",
       "</ul>\n",
       "<p><b>Criterios de evaluación:</b></p>\n",
       "<p>Los criterios de evaluación proporcionan una\n",
       "  información sobre los aspectos a considerar\n",
       "  para determinar el tipo y grado de aprendizaje que hayan\n",
       "  alcanzado los alumnos y alumnas, en cada uno de los momentos del\n",
       "  proceso, con respecto al avance en la adquisición de las\n",
       "  capacidades establecidas en el curriculum. El nivel de\n",
       "  cumplimiento de los objetivos no ha de ser establecido de manera\n",
       "  rígida o mecánica a través de una mera\n",
       "  contrastación inmediata, sino con la flexibilidad,\n",
       "  diversidad y riqueza de matices que se derivan de una\n",
       "  observación minuciosa de las diversas circunstancias y\n",
       "  contextos socio-culturales y personales en que se produce la\n",
       "  evolución de los distintos alumnos dentro\n",
       "  del proceso de enseñanza-aprendizaje. Deben tener en\n",
       "  cuenta los distintos tipos de contenidos de manera integrada\n",
       "  (conceptuales, procedimentales, actitudinales) y han de guiar la\n",
       "  concreción y secuenciación de criterios en cada\n",
       "  ciclo y aula, según lo que expliciten los proyectos\n",
       "  curriculares realizados por la comunidad escolar\n",
       "  y, así mismo, deben ser aplicados considerando la\n",
       "  diversidad de características personales y socioculturales\n",
       "  de alumnos y alumnas. En función de todo ello, su\n",
       "  aplicación hará  posible matizar las diversas\n",
       "  posibilidades de acercamiento óptimo a los objetivos y\n",
       "  capacidades que prescribe el curriculum.</p>\n",
       "<p>Los criterios de evaluación deben funcionar,\n",
       "  pues, como reguladores de las estrategias de\n",
       "  enseñanza puestas en juego,\n",
       "  según las necesidades o desajustes detectados, y como\n",
       "  indicadores de\n",
       "  la evolución de los sucesivos niveles de\n",
       "  aprendizaje de los alumnos.</p>\n",
       "<p>Esta evolución de los aprendizajes, de acuerdo\n",
       "  al desarrollo efectuado en cada una de las intenciones educativas\n",
       "  propuestas, relaciona, en cierto sentido, los criterios de\n",
       "  evaluación con aquellas orientaciones y decisiones que los\n",
       "  equipos de profesores deberán explicitar para la promoción de un ciclo a otro. En los\n",
       "  proyectos\n",
       "  curriculares quedarán establecidos estos criterios de\n",
       "  promoción, atendiendo al principio de que\n",
       "  la mera repetición o permanencia de un alumno o alumna en\n",
       "  un ciclo cursado, debe ser un recurso excepcional, posterior al\n",
       "  empleo de\n",
       "  otros recursos, y\n",
       "  sólo utilizado cuando existan garantías razonables\n",
       "  de que puede contribuir a una solución efectiva de las\n",
       "  dificultades planteadas.</p>\n",
       "<p><b>Cultura:</b></p>\n",
       "<p>\"Conjunto de maneras de vivir y de pensar de un\n",
       "    grupo humano\n",
       "    en particular\"</p>\n",
       "<p>Es el cultivo en general de las facultades humanas\n",
       "  especialmente.</p>\n",
       "<p>Cultura es el\n",
       "  conjunto de conocimientos adquiridos por una persona bajo la\n",
       "  acción del medio social. Ese conjunto de conocimientos,\n",
       "  valores,\n",
       "  creencias, etc. que forma la cultura\n",
       "  condiciona el modo de vida y las costumbres de un grupo social o\n",
       "  una época.</p>\n",
       "<p>\"Según Cole y Wakai (1984) cultura\n",
       "  engloba múltiples aspectos: conceptos, explicaciones,\n",
       "  razonamientos, lenguaje,\n",
       "  ideología, costumbres, valores, creencias, sentimientos,\n",
       "  intereses, actitudes, pautas de conducta, tipos\n",
       "  de organización familiar, laboral,\n",
       "  económica, social, tecnológica, tipos de\n",
       "  hábitat, etc. En el transcurso de su historia los grupos\n",
       "  sociales han encontrado numerosas dificultades y han generado\n",
       "  respuestas colectivas para poder\n",
       "  superarlas; la experiencia así acumulada configura su\n",
       "  Cultura.\"</p>\n",
       "<p><b>Curriculum:</b></p>\n",
       "<p>Según la Logse, titulo preliminar art.4.1\n",
       "  curriculum es el conjunto de objetivos, contenidos,\n",
       "  metodologías y criterios de evaluación de un nivel\n",
       "  o etapa educativo.\t</p>\n",
       "<p>El curriculum como proyecto en que\n",
       "  se concretan las intenciones educativas, une a la\n",
       "  dimensión sociológica y axiológica, una\n",
       "  segunda de carácter científico-técnico que\n",
       "  lo convierte en un instrumento capaz de guiar eficazmente la\n",
       "  práctica educativa del profesorado. En ese sentido,\n",
       "  incluye una serie de prescripciones y orientaciones en\n",
       "  relación con las capacidades que deben desarrollarse en\n",
       "  los alumnos y alumnas, los aspectos culturales básicos\n",
       "  para el proceso de socialización, y aquellos elementos y\n",
       "  estrategias que\n",
       "  faciliten el aprendizaje y la evaluación del proceso de\n",
       "  enseñanza.</p>\n",
       "<p>Para que el curriculum pueda ser una guía eficaz\n",
       "  de la práctica educativa ha de hacer explícitos los\n",
       "  supuestos axiológicos y científicos que lo\n",
       "  fundamentan. Sólo de esta forma resultar \n",
       "  significativo para el profesorado, que podrá \n",
       "  proceder a su experimentación y reelaboración\n",
       "  crítica.</p>\n",
       "<p>Desde esta perspectiva el curriculum aparece como un\n",
       "  conjunto de propuestas de acción y de hipótesis de trabajo contrastables en la\n",
       "  práctica educativa. Constituye, así, un instrumento\n",
       "  que permite al profesorado desarrollar y revisar su propia\n",
       "  actividad desde un marco de referencia actualizado y\n",
       "  científico, a la vez que contribuye eficazmente a la\n",
       "  innovación educativa.</p>\n",
       "<p><b>Curriculum implícito:</b></p>\n",
       "<p>Además de las intenciones explícitamente\n",
       "  formuladas en el currículo hay otros elementos no\n",
       "  explícitamente formulados que constituyen el\n",
       "  currículo implícito. Está constituido por\n",
       "  todo aquello que la escuela ofrece, o\n",
       "  deja de ofrecer, al margen de las intenciones de las instancias\n",
       "  que determinan del currículo, o al margen, al menos, de\n",
       "  las declaraciones e tales intenciones. Los elementos curriculares\n",
       "  implícitos no deben ser siempre negativamente\n",
       "  valorados.</p>\n",
       "<p><b>Curriculum único:</b></p>\n",
       "<p>Desde una perspectiva estrictamente curricular, se\n",
       "  caracteriza al curriculum como único para toda la\n",
       "  enseñanza obligatoria, al mismo tiempo que se le\n",
       "  concibe lo suficientemente abierto y flexible como para hacer\n",
       "  posible su adaptación a cualquier contexto o\n",
       "  situación específicos.</p>\n",
       "<p>Que el curriculum sea único significa que\n",
       "  constituye un marco de referencia común en el que ha de\n",
       "  inscribirse cualquier proyecto y desarrollo curricular. Esto se\n",
       "  justifica por la necesidad de garantizar que toda\n",
       "  intervención educativa tienda a desarrollar unas mismas\n",
       "  capacidades en toda la población escolar y por la necesidad de\n",
       "  asegurar la continuidad y la progresión coherente de la\n",
       "  enseñanza a lo largo de las sucesivas etapas educativas.\n",
       "  Pero no es obstáculo para que, en caso de que se considere\n",
       "  necesario, se arbitren las medidas oportunas -de\n",
       "  contextualización, de apoyo, de adaptación- que\n",
       "  permitan a cualquier alumno alcanzar su nivel de desarrollo\n",
       "  óptimo.</p>\n",
       "<p>El curriculum único no implica una\n",
       "  homogeneización de la práctica educativa. Tiene que\n",
       "  ofrecer principios y\n",
       "  criterios válidos de carácter general y, por\n",
       "  consiguiente, debe presentar un nivel de generalidad tal que\n",
       "  habrá  de requerir su posterior desarrollo y\n",
       "  concreción por parte de los distintos equipos de\n",
       "  profesores. Son éstos quienes han de adaptarlo a las\n",
       "  características peculiares de cada contexto y grupo de\n",
       "  alumnos. De esta manera, no sólo se respeta el pluralismo\n",
       "  cultural y la diversidad de capacidades e intereses de alumnos y\n",
       "  alumnas, sino que se reconoce al profesorado un amplio margen de\n",
       "  autonomía profesional en las tareas de diseño\n",
       "  y desarrollo curricular.</p>\n",
       "<p>D</p>\n",
       "<p><b>D.C.B:</b></p>\n",
       "<p>\"El diseño\n",
       "  Curricular Base expresa intenciones educativas. Este Diseño\n",
       "  pretende:</p>\n",
       "<ul>\n",
       "<li>La educación social y moral de los\n",
       "    alumnos, en la medida en que contiene una educación para\n",
       "    las actitudes y los valores,\n",
       "    que ha de permitir opciones responsables de los niños y\n",
       "    adolescentes\n",
       "    dentro del pluralismo característico de la sociedad\n",
       "    moderna respetando al mismo tiempo los valores\n",
       "    y creencias de otras personas y otros grupos\n",
       "    sociales.</li>\n",
       "<li>Una educación no discriminatoria, antes al\n",
       "    contrario, orientada a la igualdad de\n",
       "    las personas y de sus posibilidades de realización,\n",
       "    cualesquiera que sean sus condiciones personales y sociales, de\n",
       "    sexo,\n",
       "    capacidad, raza u origen social, tratando de eliminar los\n",
       "    estereotipos sexistas, raciales y otros que persisten\n",
       "    todavía en nuestra sociedad.</li>\n",
       "<li>La apertura de la escuela al\n",
       "    entorno, a las realidades sociales que la rodean, y\n",
       "    también al progreso de la cultura en sus distintas\n",
       "    manifestaciones, apertura que aparece en la\n",
       "    incorporación de nuevos contenidos en el\n",
       "    currículo, nuevas tecnologías de la\n",
       "    educación, nuevos lenguajes y, en general,\n",
       "    atención a las exigencias de una sociedad altamente\n",
       "    desarrollada. En coherencia con esta línea, el\n",
       "    currículo se propone incorporar Las Nuevas\n",
       "    Tecnologías de la información como contenido curricular y\n",
       "    también como medio didáctico.\"</li>\n",
       "</ul>\n",
       "<p>La perspectiva de este documento es esencialmente\n",
       "  didáctica. Las Comunidades autónomas\n",
       "  con competencias\n",
       "  educativas han de desarrollar y completar el Diseño\n",
       "  Curricular Base.</p>\n",
       "<p>El Diseño Curricular Base es un documento abierto\n",
       "  y flexible para su adaptación a diferentes situaciones y\n",
       "  según contexto y realidades educativas.</p>\n",
       "<p><b>Departamentos de\n",
       "  orientación:</b></p>\n",
       "<p>Son funciones de los\n",
       "  mismos:</p>\n",
       "<p>• Coordinar la elaboración,\n",
       "  realización y evaluación del plan de\n",
       "  Orientación y Acción Tutorial del\n",
       "  Centro.</p>\n",
       "<p>• Asesorar al profesorado en relación con\n",
       "  las medidas para la atención a la diversidad del alumnado:\n",
       "  adaptaciones curriculares individuales o grupales, programas de\n",
       "  refuerzo educativo, criterios de evaluación y promoción de alumnos, programas de\n",
       "  diversificación curricular, programas de\n",
       "  garantía social, etc.</p>\n",
       "<p>• Fomentar la cooperación del Centro con las\n",
       "  instituciones\n",
       "  sociales y el mundo productivo del entorno a fin de preparar a\n",
       "  los alumnos para la vida profesional activa.</p>\n",
       "<p>• Elaborar actividades, estrategias y\n",
       "  programas de\n",
       "  orientación escolar, personal y profesional.</p>\n",
       "<p>• Efectuar la evaluación\n",
       "  psicopedagógica de los alumnos y alumnas que\n",
       "  desarrollarán programas de\n",
       "  diversificación curricular y garantía\n",
       "  social.</p>\n",
       "<p>• Proporcionar instrumentos educativos que permitan\n",
       "  el mejor conocimiento de las circunstancias del alumnado en orden\n",
       "  a ofrecer una educación integradora, con especial\n",
       "  atención hacia los alumnos con dificultades de\n",
       "  aprendizaje.</p>\n",
       "<p>• Asesorar en cuestiones prácticas de\n",
       "  organización y agrupamiento de los alumnos, en especial\n",
       "  con respecto al tratamiento flexible de la diversidad de\n",
       "  aptitudes intereses y motivaciones.</p>\n",
       "<p>• Orientar en relación con actividades y\n",
       "  procesos de\n",
       "  evaluación, recuperación y promoción, así como en el\n",
       "  asesoramiento sobre futuros estudios de los alumnos.</p>\n",
       "<p><b>Didáctica:</b></p>\n",
       "<p>\"Didáctica es la ciencia que\n",
       "  estudia (perspectiva-estática)\n",
       "  y elabora (perspectiva-dinámica) teorías\n",
       "  práctico-normativo-decisionales sobre la\n",
       "  enseñanza\"</p>\n",
       "<p>Didáctica es una ciencia que\n",
       "  orienta y dirige la educación. Puede distinguirse una\n",
       "  didáctica general, que trata de la\n",
       "  enseñanza escolar en general bajo cualquier aspecto, da\n",
       "  normas y\n",
       "  principios y\n",
       "  estudia fenómenos, leyes, etc., y\n",
       "  una didáctica especial, dedicada a estudiar las cuestiones\n",
       "  que plantea cada una de las disciplinas consideradas como\n",
       "  asignatura.</p>\n",
       "<p>La didáctica está tan íntimamente\n",
       "  vinculada a las otras ciencias de la\n",
       "  educación (pedagogía, psicología y metodología) que muchas veces resulta\n",
       "  difícil separarla de ellas.</p>\n",
       "<p>Podemos distinguir, según Lorenzo Delgado (1979),\n",
       "  tres grandes corrientes en la Didáctica actual. Estas tres\n",
       "  corrientes son: didáctica clásica, didáctica\n",
       "  tecnológica y antididáctica.</p>\n",
       "<p><b>Didáctica\n",
       "  clásica:</b></p>\n",
       "<p>La didáctica clásica o tradicional pone\n",
       "  énfasis en los contenidos y, consecuentemente en la\n",
       "  persona que ha de transmitirlos; queda relegado, por tanto, el\n",
       "  protagonismo del alumno.</p>\n",
       "<p>Alumno</p>\n",
       "<p><b>Didáctica\n",
       "  tecnológica:</b></p>\n",
       "<p>Corriente que considera el Acto Didáctico como la\n",
       "  introducción de los recursos\n",
       "  tecnológicos en la transmisión didáctica, es\n",
       "  decir, es utilizar la tecnología en la\n",
       "  enseñanza.</p>\n",
       "<p>E</p>\n",
       "<p><b>Educación:</b></p>\n",
       "<p>La educación consiste en un conjunto de\n",
       "  prácticas o actividades ordenadas a través de las\n",
       "  cuales un grupo social\n",
       "  ayuda a sus miembros a asimilar la experiencia colectiva\n",
       "  culturalmente organizada y a preparar su intervención\n",
       "  activa en el proceso social.</p>\n",
       "<p>La educación escolar tiende a desarrollar en los\n",
       "  niños y niñas las capacidades y competencias\n",
       "  necesarias para su participación activa en la sociedad.\n",
       "  Este desarrollo no es un simple despliegue de posibilidades\n",
       "  predeterminadas por la herencia\n",
       "  biológica. Se produce, básicamente, como resultado\n",
       "  del aprendizaje que tiene lugar a través de la continua\n",
       "  interacción con el medio.</p>\n",
       "<p>La educación es una construcción social que configura, en buena\n",
       "  medida, el futuro colectivo y garantiza la necesaria\n",
       "  adaptación a las situaciones nuevas generadas por los\n",
       "  cambios propios de nuestro tiempo.</p>\n",
       "<p>La estrecha relación que se establece entre\n",
       "  educación y desarrollo individual y social justifica la\n",
       "  importancia que las sociedades\n",
       "  modernas y desarrolladas otorgan a sus sistemas de\n",
       "  enseñanza.</p>\n",
       "<p>Tan importante resulta la dimensión individual de\n",
       "  la educación según la cual la persona desarrolla\n",
       "  sus capacidades y se sitúa ante la realidad de manera\n",
       "  activa, crítica y constructiva, como la dimensión\n",
       "  colectiva, que ayudará  a definir y ejercitar\n",
       "  los valores y\n",
       "  normas que\n",
       "  hacen posible la vida en sociedad.</p>\n",
       "<p>La educación es considerada como un derecho\n",
       "  social y, por tanto, se dirige a todos los ciudadanos en un plano\n",
       "  de igualdad con\n",
       "  ausencia de cualquier discriminación. Por ello se concibe una\n",
       "  formación básica común para todos que se\n",
       "  organiza de forma comprensiva. Al mismo tiempo la\n",
       "  necesidad de adaptarse a las diferencias existentes en los\n",
       "  intereses de los alumnos, sus capacidades y necesidades, aconseja\n",
       "  la implantación de una progresiva diversificación\n",
       "  en los contenidos.</p>\n",
       "<p>La educación, que se pretende integradora y no\n",
       "  discriminatoria debe asumir el compromiso de dar respuesta a la\n",
       "  complejidad de intereses, problemas y\n",
       "  necesidades que se dan en la realidad educativa. Esta perspectiva\n",
       "  será  fecunda en la medida en que contribuya a\n",
       "  compensar desigualdades y hacer efectivo el principio de igualdad de\n",
       "  oportunidades.</p>\n",
       "<p>\"Proceso y seguimiento de asimilación y\n",
       "  desarrollo de conceptos, conductas, valores y patrones de\n",
       "  comportamientos exclusivo del ser humano y necesario para su\n",
       "  integración en la sociedad\".</p>\n",
       "<p></p>\n",
       "<p><b>Educación Especial:</b></p>\n",
       "<p>El Real Decreto introduce un nuevo concepto de\n",
       "  educación\n",
       "  especial. Si en anteriores textos legales se definía\n",
       "  como la educación que reciben algunas personas en\n",
       "  razón de su propia discapacidad, con\n",
       "  unos objetivos, estructura, duración y currículo\n",
       "  diferentes de los establecidos para todos los alumnos, el Real\n",
       "  Decreto 334/1985 de Ordenación de la Educación\n",
       "  Especial, partiendo del derecho de todas las personas a la\n",
       "  educación, define la educación\n",
       "  especial como una parte integrante del sistema educativo y la\n",
       "  concreta como el conjunto de apoyos y adaptaciones para que estos\n",
       "  alumnos y alumnas puedan hacer realmente efectivo su derecho a la\n",
       "  educación. Es importante subrayar que, al adoptar esta\n",
       "  perspectiva, se estaban dando los primeros pasos para cambiar\n",
       "  también el enfoque y las prioridades de la educación\n",
       "  especial y se empezaban a asumir los importantes y complejos\n",
       "  retos que este cambio\n",
       "  conlleva. En este nuevo planteamiento de la educación\n",
       "  especial ya no se trata tanto de diagnosticar las\n",
       "  \"deficiencias\" de los alumnos y alumnas, para prescribir\n",
       "  después una intervención que muchas veces termina\n",
       "  centrándose solamente en la rehabilitación de las\n",
       "  limitaciones diagnosticadas, como de analizar cuáles son\n",
       "  las ayudas pedagógicas que aquéllos requieren para\n",
       "  progresar, en función de sus necesidades especiales, hacia\n",
       "  los grandes objetivos educativos marcados para todos los alumnos.\n",
       "  Ya no se trata tanto de preparar a un profesorado especializado\n",
       "  con la responsabilidad exclusiva de la educación\n",
       "  de este alumnado en centros igualmente especiales, como de prever\n",
       "  los medios y apoyos necesarios para que todo el profesorado,\n",
       "  individual y colectivamente, pueda acometer la tarea de adaptar\n",
       "  los proyectos\n",
       "  educativos y curriculares y las programaciones de aula, con el\n",
       "  objeto de que todos los alumnos participen en la vida del centro\n",
       "  de acuerdo con sus posibilidades y necesidades. Al mismo tiempo e\n",
       "  indirectamente, el nuevo planteamiento de la educación\n",
       "  especial fuerza al\n",
       "  propio sistema escolar a cambiar la estructura y el diseño\n",
       "  del currículo oficial para que pueda adaptarse\n",
       "  efectivamente a las demandas de flexibilización que este\n",
       "  alumnado reclama.</p>\n",
       "<p>La educación de los alumnos con minusvalía\n",
       "  debe llevarse a cabo, siempre que sea posible, en centros\n",
       "  ordinarios con los apoyos necesarios, destinándose los\n",
       "  centros de educación especial solamente a aquellos alumnos\n",
       "  y alumnas afectados cuya gravedad no permita una adecuada\n",
       "  respuesta en los centros ordinarios; en segundo lugar, que se\n",
       "  adopta lo establecido en el sistema general como referente de la\n",
       "  ordenación académica de la educación\n",
       "  especial en los aspectos de edad, objetivos generales de la\n",
       "  educación, continuidad de la escolaridad, acceso a las\n",
       "  diferentes etapas educativas y acreditación de estudios\n",
       "  cursados; y, en tercer lugar, que se precisan los apoyos y ayudas\n",
       "  técnicas que deben recibir los alumnos y alumnas con\n",
       "  necesidades especiales para asegurar su proceso\n",
       "  educativo.</p>\n",
       "<p><b>Educación Infantil:</b></p>\n",
       "<p>La Educación Infantil se configura como una\n",
       "  verdadera etapa educativa a partir de la nueva Ordenación\n",
       "  del Sistema Educativo, perdiendo así el carácter de\n",
       "  guarda y custodia que hasta ese momento había\n",
       "  tenido.</p>\n",
       "<p>Son varias las razones que, desde el punto de vista\n",
       "  social, se pueden aducir para justificar esta nueva\n",
       "  configuración.</p>\n",
       "<p>• La demanda de los\n",
       "  niños y las niñas de tener un lugar de\n",
       "  relación, organización y espacios adecuados a sus\n",
       "  necesidades.</p>\n",
       "<p>• El carácter compensador del centro\n",
       "  educativo frente a algunas carencias socio-familiares.</p>\n",
       "<p>• La incorporación de la mujer al\n",
       "  trabajo.</p>\n",
       "<p>La Educación Infantil persigue el doble objetivo de\n",
       "  potenciar al máximo las posibilidades de desarrollo del\n",
       "  alumnado y de dotarlo de las competencias,\n",
       "  destrezas, hábitos y actitudes que puedan facilitar su\n",
       "  posterior adaptación a la Educación\n",
       "  Primaria:</p>\n",
       "<p>• En el ámbito del desarrollo motor, el\n",
       "  alumnado ajusta su actuación a las posibilidades y\n",
       "  limitaciones del momento evolutivo en que se\n",
       "  encuentra.</p>\n",
       "<p>• En el ámbito del desarrollo cognitivo, el\n",
       "  profesorado le facilita el acceso a una representación\n",
       "  crecientemente objetiva, ordenada y coordinada de la\n",
       "  realidad.</p>\n",
       "<p>• En cuanto a la evolución lingüística, se le\n",
       "  estimula y orienta el tránsito a la convencionalidad\n",
       "  (léxica, gramatical y sintáctica) y a la\n",
       "  interiorización del lenguaje.</p>\n",
       "<p>• En el ámbito de las relaciones\n",
       "  interpersonales y de la actuación y la\n",
       "  inserción social, se contribuye, desde la etapa, al\n",
       "  desarrollo de la identidad\n",
       "  personal y al fomento de comportamientos solidarios, así\n",
       "  como de actitudes alejadas de estereotipos relacionados con el\n",
       "  sexo o con las\n",
       "  diferencias de raza u origen.</p>\n",
       "<p>• En cuanto al equilibrio\n",
       "  personal, la Educación Infantil propone desarrollar y\n",
       "  afianzar sentimientos de autoestima y\n",
       "  de confianza, así como de seguridad en las\n",
       "  relaciones con sus iguales y con las personas adultas.</p>\n",
       "<p>Por tanto, el objetivo\n",
       "  primordial de Educación Infantil se concreta en estimular\n",
       "  el desarrollo de todas las capacidades del alumnado:\n",
       "  físicas, afectivas, intelectuales y sociales.</p>\n",
       "<p>La etapa de Educación Infantil se configura en\n",
       "  dos ciclos:</p>\n",
       "<p>• 1er. ciclo: 0-3 años</p>\n",
       "<p>• 2º. ciclo: 3-6 años</p>\n",
       "<p>Desde el primer ciclo, se favorece:</p>\n",
       "<p>• La autonomía motora.</p>\n",
       "<p>• El control\n",
       "  corporal.</p>\n",
       "<p>• El acceso a las convenciones del lenguaje.</p>\n",
       "<p>• El descubrimiento de los rasgos más\n",
       "  sobresalientes del entorno inmediato.</p>\n",
       "<p>• El descubrimiento de la identidad\n",
       "  personal.</p>\n",
       "<p>• Las pautas elementales de convivencia y\n",
       "  relación.</p>\n",
       "<p>Desde el segundo ciclo, se favorece:</p>\n",
       "<p>• El control de la\n",
       "  motricidad.</p>\n",
       "<p>• El desarrollo del lenguaje.</p>\n",
       "<p>• El fomento de otras formas de expresión y\n",
       "  comunicación.</p>\n",
       "<p>• El estímulo de la curiosidad,\n",
       "  observación y creatividad.</p>\n",
       "<p>• El descubrimiento de las características y\n",
       "  propiedades del medio físico y social.</p>\n",
       "<p>• La elaboración de una imagen positiva y\n",
       "  equilibrada de sí mismo.</p>\n",
       "<p>• Las relaciones sociales.</p>\n",
       "<p>• El desarrollo de actitudes y hábitos que\n",
       "  fomenten el cuidado del propio cuerpo y la conservación\n",
       "  del entorno.</p>\n",
       "<p>• El desarrollo de actitudes de respeto y\n",
       "  tolerancia.</p>\n",
       "<p>Los contenidos educativos de esta Etapa se organizan en\n",
       "  tres áreas o ámbitos de experiencia y se abordan a\n",
       "  través de actividades globalizadas que tienen\n",
       "  interés y significado para los alumnos:</p>\n",
       "<p>1.Identidad y\n",
       "  autonomía personal</p>\n",
       "<p>2.Medio físico y social</p>\n",
       "<p>3.Comunicación y\n",
       "  representación</p>\n",
       "<p>La incorporación de los niños por primera\n",
       "  vez a la escuela infantil supone una ruptura con su\n",
       "  pequeño mundo y la entrada en otro más amplio,\n",
       "  situación que es vivida, con frecuencia, de forma\n",
       "  angustiosa tanto por la familia\n",
       "  como por los niños y las niñas. Por este motivo, el\n",
       "  centro planificará el periodo de adaptación\n",
       "  estableciendo las condiciones materiales y\n",
       "  humanas necesarias e informando de ellas a la familia.\n",
       "  Debemos tener en cuenta que el niño, cuando entra en\n",
       "  contacto por primera vez con la escuela, no lo hace carente de\n",
       "  unos conocimientos, hábitos, destrezas y actitudes ante la\n",
       "  vida, sino con un bagaje familiar, social, cultural, etc., que en\n",
       "  todo momento e l profesorado habrá de respetar, y, en\n",
       "  consecuencia, planificar todas las actividades del alumnado a\n",
       "  partir de ese momento evolutivo individual, teniendo en cuenta\n",
       "  siempre, que han de sentirse motivados y que han de relacionar lo\n",
       "  que aprenden con sus conocimientos previos. Las principales\n",
       "  fuentes de\n",
       "  aprendizaje en la escuela infantil han de ser,\n",
       "  básicamente, el juego, la\n",
       "  acción y la experimentación en un ambiente de\n",
       "  afecto y confianza.</p>\n",
       "<p>La escuela infantil debe permitir y potenciar que el\n",
       "  alumnado construya y aplique sus propios esquemas de\n",
       "  conocimiento.</p>\n",
       "<p><b>Educación Moral:</b></p>\n",
       "<p>Supuestos de carácter sociopedagógico y\n",
       "  psicopedagógico avalan la necesidad de desarrollo\n",
       "  curricular de la educación moral. Su\n",
       "  incardinación en los contenidos escolares es viable no\n",
       "  tanto como una nueva asignatura que venga a incrementar el\n",
       "  considerable número de las ya existentes, sino como un\n",
       "  contenido transversal objeto de tratamiento interdisciplinar y\n",
       "  multidisciplinar.</p>\n",
       "<p>La intervención pedagógica en\n",
       "  educación moral puede\n",
       "  entenderse en sentido indirecto y en sentido directo. En el\n",
       "  primer caso, creando un clima relacional\n",
       "  apropiado que estimule en el alumno la capacidad de\n",
       "  actuación moral. En el\n",
       "  segunda caso realizando una planificación en la que se tomen en cuenta\n",
       "  la introducción de supuestos de educación moral en\n",
       "  el proyecto educativo y en el proyecto curricular de centro,\n",
       "  así como en las programaciones de aula. Será\n",
       "  necesaria asimismo una importante renovación\n",
       "  metodológica en el sentido de estimular en el alumno la\n",
       "  capacidad de reflexión sobre experiencias vitales de\n",
       "  carácter moral, de resolución de conflictos\n",
       "  vividos, de imaginación y previsión de situaciones\n",
       "  en las que haya de decidir y actuar según criterios\n",
       "  morales.</p>\n",
       "<p><b>Educación Primaria:</b></p>\n",
       "<p>El sentido de la etapa de Educación Primaria\n",
       "  viene determinado por las finalidades que le señala la\n",
       "  Ley\n",
       "  Orgánica 1/1990, de 3 de octubre. Tales finalidades se\n",
       "  corresponden con el nivel y con los procesos de\n",
       "  desarrollo que, en nuestra cultura son propios de los\n",
       "  niños y niñas de seis a doce años. En\n",
       "  efecto, a estas edades se producen, tanto en el plano\n",
       "  físico como en el social, afectivo y cognitivo,\n",
       "  importantes cambios que deben acompañarse de un\n",
       "  tratamiento educativo que procure y favorezca la adecuada\n",
       "  inserción del niño en el medio natural, social y\n",
       "  cultural a que pertenece.</p>\n",
       "<p>Aun cuando la propia actividad supone todavía el\n",
       "  principal medio para el\n",
       "  conocimiento de la realidad, durante esta etapa se desarrolla\n",
       "  la incipiente función simbólica o de\n",
       "  representación. Muchas son las manifestaciones y\n",
       "  posibilidades que se generan en torno a esta\n",
       "  función, principalmente la capacidad para elaborar y\n",
       "  utilizar símbolos y códigos que le\n",
       "  permitirán acceder a la representación de los\n",
       "  conocimientos ya elaborados. De esta forma los niños y\n",
       "  niñas asimilarán y entenderán su estructura\n",
       "  al tiempo que serán capaces de reconstruir y expresar sus\n",
       "  propios conocimientos e ideas.</p>\n",
       "<p>No menos importantes resultan los procesos de\n",
       "  desarrollo e interacción social y afectiva que, junto a la\n",
       "  aparición del pensamiento\n",
       "  abstracto, ayudará  a conseguir un grado cada vez\n",
       "  mayor de autonomía, tanto intelectual como moral y, en\n",
       "  consecuencia, a comportamientos de solidaridad, de\n",
       "  participación, de respeto y de\n",
       "  tolerancia.</p>\n",
       "<p>Si se considera que la educación obligatoria y\n",
       "  gratuita comprende desde los seis hasta los dieciséis\n",
       "  años y que ya se está  produciendo una\n",
       "  progresiva escolarización anterior a los seis años,\n",
       "  esta etapa debe procurar una continuidad fluida de una parte con\n",
       "  la Educación Infantil y, de otra, con la Educación\n",
       "  Secundaria.</p>\n",
       "<p>La Educación Primaria comprende seis años\n",
       "  académicos, desde los seis a los doce años de edad,\n",
       "  y se organiza en tres ciclos de dos años cada\n",
       "  uno.</p>\n",
       "<p>Los alumnos comenzarán la Educación\n",
       "  Primaria en el año natural en que cumplan los seis\n",
       "  años de edad.</p>\n",
       "<p>La Educación Primaria tiene como finalidades\n",
       "  básicas proporcionar a todos los niños y\n",
       "  niñas una educación común que haga posible\n",
       "  la adquisición de los elementos básicos culturales,\n",
       "  los aprendizajes relativos a la expresión oral, a la lectura, a\n",
       "  la escritura y al\n",
       "  cálculo\n",
       "  aritmético, así como una progresiva\n",
       "  autonomía de acción en su medio.</p>\n",
       "<p>La unidad de programación y evaluación de la\n",
       "  Educación Primaria es el ciclo, dentro del contexto de la\n",
       "  programación general de la\n",
       "  etapa.</p>\n",
       "<p>Los objetivos de la Educación Primaria\n",
       "  deberán contribuir a que los niños y niñas,\n",
       "  durante dicha etapa, desarrollen las siguientes\n",
       "  capacidades:</p>\n",
       "<ol type=\"a\">\n",
       "<li>Conocer y apreciar el propio cuerpo y contribuir a su\n",
       "    desarrollo, adoptando hábitos de salud y bienestar y\n",
       "    valorando las repercusiones de determinadas conductas sobre la\n",
       "    salud y la\n",
       "    calidad de\n",
       "    vida.</li>\n",
       "<li>Actuar con autonomía en las actividades\n",
       "    habituales y en las relaciones de grupo,\n",
       "    desarrollando las posibilidades de tomar iniciativas y\n",
       "    establecer relaciones afectivas.</li>\n",
       "<li>Colaborar en la planificación y realización de\n",
       "    actividades de grupo, aceptar las normas y reglas\n",
       "    que democráticamente se establezcan, respetando los\n",
       "    diferentes puntos de vista y asumiendo las responsabilidades\n",
       "    que correspondan.</li>\n",
       "<li>Establecer relaciones equilibradas, solidarias y\n",
       "    constructivas con las personas en las distintas situaciones\n",
       "    sociales.</li>\n",
       "<li>Comprender y establecer relaciones entre hechos y\n",
       "    fenómenos del entorno natural y social, y contribuir\n",
       "    activamente a la defensa, conservación y mejora del\n",
       "    medio\n",
       "    ambiente.</li>\n",
       "<li>Conocer y apreciar los elementos y rasgos\n",
       "    básicos del patrimonio\n",
       "    natural, cultural e histórico y contribuir a su\n",
       "    conservación y mejora.</li>\n",
       "<li>Conocer y apreciar los elementos y rasgos\n",
       "    básicos del patrimonio\n",
       "    cultural, contribuir a su conservación y mejora, y\n",
       "    respetar la diversidad lingüística y cultural como\n",
       "    derecho de los pueblos e individuos, desarrollando una actitud de\n",
       "    interés y respeto\n",
       "    hacia el ejercicio de este derecho.</li>\n",
       "<li>Comprender y expresar mensajes orales y escritos en\n",
       "    castellano\n",
       "    atendiendo a diferentes intenciones y contextos de comunicación.</li>\n",
       "<li>Comprender y expresar mensajes orales y escritos\n",
       "    sencillos y contextualizados en una lengua\n",
       "    extranjera.</li>\n",
       "<li>Comunicarse a través de medios de\n",
       "    expresión verbal, corporal, visual, plástica,\n",
       "    musical y matemática, desarrollando la sensibilidad\n",
       "    estética, la creatividad\n",
       "    y la capacidad para disfrutar de las obras y manifestaciones\n",
       "    artísticas.</li>\n",
       "<li>Identificar, plantear y tratar de resolver\n",
       "    interrogantes y problemas a\n",
       "    partir de la experiencia diaria, utilizando diversas fuentes de\n",
       "    información y los conocimientos y los\n",
       "    recursos\n",
       "    materiales\n",
       "    disponibles, así como la colaboración de otras\n",
       "    personas para resolverlos de forma creativa.</li>\n",
       "<li>Apreciar la importancia de los valores\n",
       "    básicos que rigen la vida y la convivencia humana y\n",
       "    actuar de acuerdo con ellos.</li>\n",
       "</ol>\n",
       "<p>Los tres ciclos de la Educación Primaria se\n",
       "  organizan en las  áreas que a continuación se\n",
       "  relacionan, teniendo en cuenta el enfoque globalizador e\n",
       "  integrador que debe caracterizar esta etapa:</p>\n",
       "<p>a) Conocimiento del medio natural, social y\n",
       "  cultural.</p>\n",
       "<p>b) Educación Artística.</p>\n",
       "<p>c) Educación\n",
       "  Física.</p>\n",
       "<p>d) Lengua\n",
       "  castellana y Literatura.</p>\n",
       "<p>e) Lenguas Extranjeras.</p>\n",
       "<p>f) Matemáticas.</p>\n",
       "<p><b>Ejes transversales:</b></p>\n",
       "<p>Los contenidos escolares deben establecerse,\n",
       "  también, a partir de un análisis de la estructura interna de los\n",
       "  distintos campos del saber, que destaque cuáles son sus\n",
       "  conceptos y procedimientos básicos, y aquellos modelos o\n",
       "  teorías\n",
       "  con mayor potencialidad para explicar la realidad. Estos campos\n",
       "  del conocimiento culturalmente elaborado, deben trascender una\n",
       "  concepción excesivamente clásica del saber\n",
       "  académico que permita tratar nuevas problemáticas\n",
       "  sociales en la oferta\n",
       "  educativa que se configure. De este modo, temas como la\n",
       "  Educación para la Salud, la Educación\n",
       "  Ambiental, las Nuevas Tecnologías, la Educación\n",
       "  para la Paz, la Coeducación, la Educación del\n",
       "  Consumidor y\n",
       "  Usuario, la Educación Vial, y cuantos otros surjan a lo\n",
       "  largo de la historia educativa y social\n",
       "  de una comunidad\n",
       "  educativa, no se convertir n en temas ajenos, yuxtapuestos,\n",
       "  al curriculum que se desarrolla en un centro, sino que\n",
       "  formarán parte de cada una de las  áreas que\n",
       "  lo articulan, además de poder ampliar, en otros casos, la\n",
       "  oferta\n",
       "  educativa que, en materia de\n",
       "  opcionalidad y diversificación curricular,\n",
       "  habrá  de realizarse.</p>\n",
       "<p><b>Elementos del currículo:</b></p>\n",
       "<p>Los elementos el currículo se pueden agrupar en\n",
       "  cuatro preguntas:</p>\n",
       "<ul>\n",
       "<li>¿Qué enseñar?à nos dará\n",
       "    información sobre los objetivos y contenidos de la\n",
       "    enseñanza.</li>\n",
       "<li>¿Cuándo enseñar?\n",
       "    à\n",
       "    así se sabrá la manera de ordenar y\n",
       "    secuenciar dichos objetivos y contenidos.</li>\n",
       "<li>¿Cómo enseñar?\n",
       "    à se afirma\n",
       "    la necesidad de planificación de las actividades de\n",
       "    enseñanza y aprendizaje para poder alcanzar los\n",
       "    objetivos propuestos.</li>\n",
       "<li>¿Qué, cómo y cuándo\n",
       "    evaluar? à\n",
       "    es imprescindible realizar l final una\n",
       "    programación.</li>\n",
       "</ul>\n",
       "<p><b>Enseñanzas\n",
       "  mínimas:</b></p>\n",
       "<p>Constituyen los aspectos básicos del\n",
       "  currículo de una etapa, con el fin de garantizar una\n",
       "  formación común a todos los alumnos y la validez de\n",
       "  títulos correspondientes. Son establecidas por el gobierno del\n",
       "  Estado.</p>\n",
       "<p><b>Enseñar:</b></p>\n",
       "<p>\"Acto por el cual el docente pone al alcance del\n",
       "  discente el objeto de conocimiento para que este lo\n",
       "  comprenda.\"</p>\n",
       "<p><b>Epítome:</b></p>\n",
       "<p>\"Conjunto de conceptos, relaciones y/o principios\n",
       "  fundamentales de la materia objeto de aprendizaje, cuyo\n",
       "  conocimiento facilita la comprensión y asimilación\n",
       "  de otros conceptos y principios\n",
       "  más sencillos con los que puede conectar, ampliando\n",
       "  así la estructura cognitiva.\"</p>\n",
       "<p>Se pueden seguir los siguientes pasos para\n",
       "  confeccionarlo:</p>\n",
       "<p>\"- Escoger el contenido del aprendizaje que puede servir\n",
       "  como epítome u organizador previo.</p>\n",
       "<ul>\n",
       "<li>Seleccionar los elementos fundamentales y\n",
       "    representativos del contenido escogido.</li>\n",
       "<li>Seleccionar otros elementos relevantes para la\n",
       "    enseñanza del epítome.</li>\n",
       "</ul>\n",
       "<p>Recibe también el nombre de organizador\n",
       "  previo\"\t\t\t\t\t</p>\n",
       "<p>Un epitome es una panorámica global sobre un\n",
       "  tema. Es el primer paso de la secuencia elaborativa. Un epitome\n",
       "  se distingue de un resumen porque integra los componentes\n",
       "  esenciales del contenido en vez de resumirlos o sintetizarlos. La\n",
       "  función del epitome es transmitir los elementos\n",
       "  fundamentales del contenido que \"vehiculan\" su esencia. Los\n",
       "  elementos que forman parte del epitome se seleccionan de tal\n",
       "  manera que el resto de los elementos del contenido pueden\n",
       "  considerarse una ampliación o complexificación del\n",
       "  mismo. El epitome es, por definición, general. El\n",
       "  epítome se caracteriza por:</p>\n",
       "<ul>\n",
       "<li>No incluir todos los elementos importantes del\n",
       "    contenido, sino únicamente los más fundamentales\n",
       "    o representativos.</li>\n",
       "<li>Sus elementos se eligen de manera que el resto de los\n",
       "    elementos del contenido aporten mayores detalles (de lo\n",
       "    más general a lo más detallado) o mayor\n",
       "    complejidad (de lo más simple a lo más\n",
       "    complejo).</li>\n",
       "<li>Ser objeto de enseñanza.</li>\n",
       "<li>Enseñar a un nivel de aplicación,\n",
       "    mediante ejercicios prácticos o ilustraciones\n",
       "    empíricas para hacerlo significativo para el\n",
       "    alumno.</li>\n",
       "<li>Tener una orientación básica de\n",
       "    contenido. Según el tipo de contenido que recoja el\n",
       "    epítome para organizar la enseñanza éste\n",
       "    puede ser conceptual, teórico, o de\n",
       "    procedimientos.</li>\n",
       "</ul>\n",
       "<p><b>Escolarización:</b></p>\n",
       "<p>La escolarización, en la medida en que contribuye\n",
       "  a facilitar las relaciones entre iguales, se puede constituir en\n",
       "  fuente de posibles aprendizajes.</p>\n",
       "<p><b>Escuela:</b></p>\n",
       "<p>La escuela es el lugar donde se lleva a cabo el proceso\n",
       "  de educación formal.</p>\n",
       "<p>En nuestra sociedad la actividad de formación\n",
       "  institucional de los miembros más jóvenes se\n",
       "  realiza, principalmente, en la escuela. El sistema educativo es\n",
       "  el encargado de proporcionar una serie de actividades\n",
       "  planificadas y dirigidas intencionalmente a facilitar el\n",
       "  aprendizaje</p>\n",
       "<p>La escuela es un sistema social específico, con\n",
       "  normas y pautas de funcionamiento en las que el niño y la\n",
       "  niña se verán progresivamente implicados. A\n",
       "  través de la participación en la vida escolar\n",
       "  ir  asimilando los sistemas de\n",
       "  valores vigentes y desarrollando las actitudes de\n",
       "  cooperación y respeto. De esta\n",
       "  manera, niños y niñas empiezan a descubrirse como\n",
       "  individuos con deseos, sentimientos y pensamientos propios y con\n",
       "  capacidad para elaborar juicios y criterios\n",
       "  personales.</p>\n",
       "<p>Los centros docentes deben concretar  y\n",
       "  desarrollar  el curriculum de la Educación Primaria\n",
       "  mediante la elaboración de proyectos\n",
       "  curriculares de etapa y ciclo que respondan a las necesidades de\n",
       "  los alumnos y que se incorporarán a la programación\n",
       "  general correspondiente.</p>\n",
       "<p>\"Institución social en la que maestros y alumnos\n",
       "  llevan a lo práctico el proceso educativo. Es la comunidad\n",
       "  educativa\"</p>\n",
       "<p><b>E.S.O:</b></p>\n",
       "<p>La Educación Secundaria, de la forma en que hoy\n",
       "  se conoce en los países de nuestro entorno, es de reciente\n",
       "  creación. Durante siglos han coexistido dos vías\n",
       "  educativas con finalidades específicas:</p>\n",
       "<p>• Una formación más restringida de\n",
       "  una minoría encaminada a la Universidad y que\n",
       "  exigía mecanismos preparatorios que generaban los\n",
       "  equivalentes a los Institutos de Enseñanzas\n",
       "  Medias.</p>\n",
       "<p>• Una formación básica que se\n",
       "  adquiría en las escuelas primarias y que era a la que\n",
       "  tenía acceso la mayoría de la población.</p>\n",
       "<p>La democratización de la sociedad ha producido un\n",
       "  acercamiento y fusión\n",
       "  entre ambas vías, quedando una enseñanza Primaria,\n",
       "  de 6 a 12 años, y una Secundaria que cubre la adolescencia,\n",
       "  inmediatamente anterior a la formación universitaria o al\n",
       "  mundo del trabajo. En la mayoría de los países\n",
       "  europeos existe una educación obligatoria hasta los\n",
       "  dieciséis años aproximadamente.</p>\n",
       "<p>De igual manera que en los sistemas europeos\n",
       "  de nuestro entorno, la Educación Secundaria se organiza\n",
       "  atendiendo al principio de comprensividad, entendiendo por esto,\n",
       "  englobar todas las  reas básicas de aprendizaje para\n",
       "  una formación integral y evitar parcelar el\n",
       "  conocimiento, asegurando unas áreas del conocimiento\n",
       "  comunes a todo el alumnado.</p>\n",
       "<p>El sistema comprensivo facilita una titulación\n",
       "  única y tiene su máxima justificación en el\n",
       "  carácter preventivo que tiene frente a una oferta\n",
       "  diversificada que acrecentaría las desigualdades sociales,\n",
       "  culturales y económicas, como pasaba con la\n",
       "  elección entre Bachillerato y Formación\n",
       "  Profesional. Es la escuela quien debe cumplir una función\n",
       "  equilibradora de las desigualdades de partida en los itinerarios\n",
       "  educativos. Otro de los principios a los\n",
       "  que la Secundaria se atiene es al de la diversidad. Sin renunciar\n",
       "  al carácter de educación igual para todos, la ESO\n",
       "  responde al derecho de todas las personas a que se respete su\n",
       "  modo de ser y se proporcione a cada escolar la clase de\n",
       "  enseñanza y la ayuda pedagógica que\n",
       "  precise.</p>\n",
       "<p>Es una etapa que para algunos alumnos será \n",
       "  el final de su escolarización obligatoria, y para otros\n",
       "  será  una preparación para estudios superiores\n",
       "  o para el\n",
       "  trabajo.</p>\n",
       "<p>Sustituye los dos últimos cursos de la\n",
       "  E.G.B. y los dos primeros cursos de las\n",
       "  Enseñanzas Medias actuales formando una nueva etapa\n",
       "  educativa de cuatro cursos con\n",
       "  identidad\n",
       "  propia.</p>\n",
       "<p>Esta etapa está  organizada en dos ciclos de\n",
       "  dos cursos cada\n",
       "  uno, 12-14 años y 14-16 años.</p>\n",
       "<p>La E.S.O. constituye, junto con la Educación\n",
       "  Primaria, la enseñanza básica, obligatoria y\n",
       "  gratuita, por lo que deben tener una estrecha relación\n",
       "  dada la</p>\n",
       "<p>importancia que tiene el desarrollo social\n",
       "  y evolutivo en estas edades. No en vano son diez años de\n",
       "  escolarización. Los cuatro años de la Secundaria\n",
       "  Obligatoria serán determinantes para culminar la\n",
       "  formación básica de todos los ciudadanos.\n",
       "  Constituirán, por tanto, la educación para la vida.\n",
       "  De ahí, la necesidad de que el alumnado desarrolle no\n",
       "  sólo capacidades intelectuales, sino una formación\n",
       "  integral que comprenda aspectos afectivos de relación e\n",
       "  inserción social, que le permitan convertirse en un\n",
       "  miembro activo de la sociedad en que vive y que sea capaz de\n",
       "  prepararse para dar respuesta a los grandes problemas de\n",
       "  la sociedad actual.</p>\n",
       "<p>Diferencias entre la Educación Secundaria\n",
       "  Obligatoria y las enseñanzas a las que\n",
       "  sustituye:</p>\n",
       "<p>• Es una etapa educativa obligatoria y, por tanto,\n",
       "  ha de ser accesible a todo el alumnado, lo que conlleva una\n",
       "  enseñanza de carácter comprensivo.</p>\n",
       "<p>• Ha de ajustarse a los intereses del alumnado por\n",
       "  medio de la optatividad.</p>\n",
       "<p>• Retrasa la elección temprana de\n",
       "  itinerarios educativos que podrán condicionar en exceso\n",
       "  decisiones acerca del futuro profesional.</p>\n",
       "<p>• Incluye formación tecnológica de\n",
       "  base, hasta ahora enmarcada exclusivamente en el ámbito de\n",
       "  la formación profesional.</p>\n",
       "<p>• Adecua la edad de finalización escolar con\n",
       "  la edad de acceso al mundo del trabajo (16\n",
       "  años).</p>\n",
       "<p>• Establece la constitución de departamentos de\n",
       "  orientación en los centros educativos encargándoles\n",
       "  tareas relacionadas con la orientación personal y\n",
       "  profesional del alumnado.</p>\n",
       "<p>• Los conocimientos que se impartan deben ser\n",
       "  adaptados de forma que sean asimilables para conseguir los\n",
       "  objetivos de etapa.</p>\n",
       "<p>• Persigue la formación de ciudadanos\n",
       "  capaces de desenvolverse en una sociedad democrática y\n",
       "  plural: los conocimientos objeto de estudio en las distintas\n",
       "  áreas no tienen valor por\n",
       "  sí mismos, sino que están en función de la\n",
       "  consecución de las capacidades que el alumno debe\n",
       "  desarrollar.</p>\n",
       "<p>Al término de la educación secundaria\n",
       "  obligatoria el alumnado podrá  continuar sus estudios\n",
       "  en:</p>\n",
       "<p>- Bachillerato</p>\n",
       "<p>- Ciclos Formativos de grado medio</p>\n",
       "<p><b>Estructuración en ejes:</b></p>\n",
       "<p>Conceptos, procedimientos y actitudes. Articula y\n",
       "  engloba los contenidos conceptuales, los procedimientos-estrategias, y\n",
       "  los valores-actitudes.</p>\n",
       "<p><b>Etapa educativa:</b></p>\n",
       "<p>\"Periodo en que se divide el sistema educativo definido\n",
       "  por las características que la edad de los alumnos, los\n",
       "  objetivos educativos, los contenidos de enseñanza, la\n",
       "  metodología educativa... determinen. En la práctica\n",
       "  se utiliza a menudo como sinónimo de nivel\n",
       "  educativo.</p>\n",
       "<p><b>Evaluación:</b></p>\n",
       "<p>La evaluación constituye el elemento clave para\n",
       "  orientar las decisiones curriculares, definir los problemas\n",
       "  educativos, acometer actuaciones concretas, emprender procesos de\n",
       "  investigación didáctica, generar\n",
       "  dinámicas de formación permanente del profesorado\n",
       "  y, en definitiva, regular el proceso de adaptación y\n",
       "  contextualización del curriculum en cada comunidad\n",
       "  educativa.</p>\n",
       "<p>La evaluación se entiende como una actividad\n",
       "  básicamente valorativa e investigadora y, por ello,\n",
       "  facilitadora de cambio\n",
       "  educativo y desarrollo profesional docente. Afecta no sólo\n",
       "  a los procesos de aprendizaje de los alumnos, sino también\n",
       "  a los procesos de enseñanza desarrollados por los\n",
       "  profesores y a los proyectos\n",
       "  curriculares de centro en los que aquellos se\n",
       "  inscriben.</p>\n",
       "<p>La actividad evaluadora deber  tomar en\n",
       "  consideración la totalidad de elementos que entran a\n",
       "  formar parte del hecho educativo, considerado como\n",
       "  fenómeno complejo e influido por múltiples factores\n",
       "  previstos y no previstos. También atenderá \n",
       "  globalmente a todos los  ámbitos de la persona, y no\n",
       "  sólo a los aspectos puramente cognitivos.</p>\n",
       "<p>La evaluación educativa ha de tener en cuenta la\n",
       "  singularidad de cada individuo, analizando su propio proceso de\n",
       "  aprendizaje, sus características y sus necesidades\n",
       "  específicas. Por todas estas razones, el proceso evaluador\n",
       "  debe ser primordialmente un proceso cualitativo y explicativo,\n",
       "  ofreciendo datos e\n",
       "  interpretaciones significativas que permitan entender y valorar\n",
       "  los procesos seguidos por todos los participantes. Esta cualidad\n",
       "  de la información puesta en juego, que\n",
       "  afectar  de una u otra forma a la vida de las personas,\n",
       "  requiere considerar otro principio básico de la\n",
       "  evaluación que es el de respetar la intimidad de los\n",
       "  participantes en el proceso evaluador, en cuanto a la\n",
       "  utilización que pueda hacerse de cualquier\n",
       "  información que les afecte.</p>\n",
       "<p>En suma, la actividad evaluadora debe formar parte de un\n",
       "  proceso más general de índole social, que persiga\n",
       "  la mejora de la calidad de\n",
       "  vida de cada comunidad escolar, así como promover el\n",
       "  desarrollo profesional de los docentes y la investigación educativa.</p>\n",
       "<p><b>Evaluación inicial:</b></p>\n",
       "<p>La evaluación inicial es un proceso que debe\n",
       "  preceder a la introducción de toda unidad didáctica\n",
       "  y tiene como finalidad obtener información acerca de los\n",
       "  conocimientos, habilidades y actitudes que poseen los alumnos/as\n",
       "  a quienes va dirigida la enseñanza.</p>\n",
       "<p>El resultado de esta evaluación nos da idea de\n",
       "  los aprendizajes previos de los alumnos/as, adaptando así\n",
       "  la unidad didáctica correspondiente a sus\n",
       "  conocimientos.</p>\n",
       "<p>La evaluación inicial se pondrá en\n",
       "  práctica varios días antes de poner en marcha el\n",
       "  proyecto o unidad. Es interesante recoger las respuestas,\n",
       "  reacciones, etc. de los alumnos/as como base fundamental para el\n",
       "  diseño de los módulos de aprendizaje\n",
       "  concéntricos y para perfilar la unidad, incorporando,\n",
       "  reforzando... alguno de los elementos que la componen.</p>\n",
       "<p>Respecto a la técnica que debe seguir el\n",
       "  maestro/a para llevar a cabo la evaluación inicial no hay\n",
       "  nada estipulado en ningún documento normativo. Así\n",
       "  pues, dicha decisión correrá a cargo de cada\n",
       "  maestro/a.</p>\n",
       "<p>Es muy importante que dicha evaluación inicial no\n",
       "  se le presente al alumno como un examen, sino como una\n",
       "  experiencia más en el aula.</p>\n",
       "<p>Se realiza al iniciarse cada una de las fases de\n",
       "  aprendizaje, y tiene la finalidad de proporcionar\n",
       "  información sobre los conocimientos previos de los\n",
       "  alumnos, para decidir el nivel en que hay que desarrollar los\n",
       "  nuevos contenidos de enseñanza, y las relaciones que deben\n",
       "  establecerse entre ellos.</p>\n",
       "<p><b>Evaluación continua:</b></p>\n",
       "<p>\"Pretende superar la relación\n",
       "  evaluación-exámen o calificación final de\n",
       "  los alumnos/as, centrando el interés en los aspectos que\n",
       "  se consideren importantes para la mejora del proceso. Esta\n",
       "  evaluación se realiza a lo largo de todo el proceso de\n",
       "  aprendizaje, siendo su objetivo\n",
       "  describir e interpretar, no medir ni clasificar.\"</p>\n",
       "<p><b>Evaluación final:</b></p>\n",
       "<p>\"Aquella que tiene por objetivo conocer y valorar los\n",
       "  resultados conseguidos por el alumno al finalizar un proceso de\n",
       "  enseñanza-aprendizaje, para poder orientarle\n",
       "  posteriormente\"</p>\n",
       "<p>F</p>\n",
       "<p><b>Formación profesional:</b></p>\n",
       "<p>La Formación Profesional es un conjunto de\n",
       "  enseñanzas que, dentro del sistema Educativo regulado por\n",
       "  la LOGSE, capacitan para el desempeño cualificado de las\n",
       "  distintas profesiones.</p>\n",
       "<p>La finalidad de la Formación Profesional es la de\n",
       "  preparar a los alumnos para la actividad en el campo\n",
       "  profesional.</p>\n",
       "<p>Características:</p>\n",
       "<p>• Proporciona una formación polivalente que\n",
       "  permite a los jóvenes adaptarse a las modificaciones\n",
       "  laborales que pueden producirse a lo largo de su vida.</p>\n",
       "<p>• Incluye tanto la formación profesional de\n",
       "  base como la formación profesional específica de\n",
       "  grado medio y de grado superior.</p>\n",
       "<p>• Continúa la formación básica\n",
       "  de carácter profesional que han recibido los alumnos a lo\n",
       "  largo de la Educación Secundaria Obligatoria y el\n",
       "  Bachillerato.</p>\n",
       "<p>• Contribuye a la formación permanente de\n",
       "  los ciudadanos y atiende a las demandas de cualificación\n",
       "  del sistema productivo.</p>\n",
       "<p>• Promueve la adquisición e integración de diferentes tipos de\n",
       "  contenidos: científicos, tecnológicos y\n",
       "  organizativos.</p>\n",
       "<p>• Favorece en el alumno la capacidad para aprender\n",
       "  por sí mismo y para trabajar en equipo.</p>\n",
       "<p>La Formación Profesional está organizada\n",
       "  en dos niveles:</p>\n",
       "<p>• Ciclos Formativos de Grado Medio.</p>\n",
       "<p>• Ciclos Formativos de Grado Superior.</p>\n",
       "<p>El Ciclo Formativo de Grado Medio constituye un\n",
       "  instrumento tanto para la inserción laboral de los\n",
       "  jóvenes como para la formación permanente de los\n",
       "  profesionales de las distintas especialidades. Su duración\n",
       "  puede ser de uno o de dos años. Las enseñanzas que\n",
       "  comprende son de dos tipos:</p>\n",
       "<p>• Unas, organizadas en módulos\n",
       "  profesionales, que se imparten en los centros educativos. Estos\n",
       "  módulos son de tres tipos:</p>\n",
       "<p>- Módulos profesionales asociados a la competencia.</p>\n",
       "<ul>\n",
       "<li>Módulos profesionales\n",
       "    socioeconómicos.</li>\n",
       "<li>Módulo profesional integrado.</li>\n",
       "</ul>\n",
       "<p>• Otras, organizadas en prácticas en\n",
       "  empresas, que\n",
       "  se realizan en los centros de trabajo a través de un\n",
       "  módulo profesional de formación en centros de\n",
       "  trabajo.</p>\n",
       "<p>Podrán acceder a la Formación Profesional\n",
       "  de Grado Medio aquellos alumnos y alumnas que:</p>\n",
       "<p>• Estén en posesión de la\n",
       "  titulación de graduado en Educación\n",
       "  Secundaria.</p>\n",
       "<p>• Hayan cursado la Educación Secundaria\n",
       "  Obligatoria, pero no estén en posesión de la\n",
       "  titulación de graduado en Educación Secundaria. En\n",
       "  este caso deberán superar una prueba\n",
       "  específica.</p>\n",
       "<p>• Sean mayores de 17 años y superen una\n",
       "  prueba específica.</p>\n",
       "<p>Los alumnos que hayan cursado con éxito la\n",
       "  Formación Profesional de Grado Medio recibirán el\n",
       "  título de Técnico en la correspondiente\n",
       "  especialidad. Con este título se accede al mundo laboral y a la\n",
       "  modalidad de bachillerato que esté en relación con\n",
       "  la especialidad correspondiente.</p>\n",
       "<p>El Ciclo Formativo de Grado Superior constituye\n",
       "  un instrumento para la inserción laboral de los\n",
       "  jóvenes, para la formación permanente de los\n",
       "  profesionales de las distintas especialidades y para el acceso a\n",
       "  los estudios universitarios. Su duración puede ser de uno\n",
       "  o dos años.</p>\n",
       "<p>Las enseñanzas que comprende son de dos\n",
       "  tipos:</p>\n",
       "<p>• Unas, organizadas en módulos\n",
       "  profesionales, que se imparten en los centros educativos. Estos\n",
       "  módulos son de tres tipos:</p>\n",
       "<ul>\n",
       "<li>Módulos profesionales asociados a la competencia.</li>\n",
       "<li>Módulos profesionales\n",
       "    socioeconómicos.</li>\n",
       "<li>Módulo profesional integrado.</li>\n",
       "</ul>\n",
       "<p>• Otras, organizadas en prácticas en\n",
       "  empresas, que\n",
       "  se realizan en los centros de trabajo a través de un\n",
       "  módulo profesional de formación en centros de\n",
       "  trabajo.</p>\n",
       "<p>Podrán acceder a la Formación Profesional\n",
       "  de Grado Superior aquellos alumnos y alumnas que:</p>\n",
       "<p>• Hayan cursado el bachillerato. Para algunos\n",
       "  Ciclos Formativos es necesario haber cursado determinadas\n",
       "  materias.</p>\n",
       "<p>• Sean mayores de 20 años y superen una\n",
       "  prueba específica.</p>\n",
       "<p>Los alumnos que hayan cursado con éxito la\n",
       "  Formación Profesional de Grado Superior recibirán\n",
       "  el título de Técnico Superior en la correspondiente\n",
       "  especialidad. Con este título se accede al mundo laboral y\n",
       "  a los estudios universitarios.</p>\n",
       "<p><b>Fuentes del currículo:</b></p>\n",
       "<p>Se destacan cuatro fuentes del\n",
       "  currículo:</p>\n",
       "<ul>\n",
       "<li>\"Fuente sociológica à se refiere a las\n",
       "    demandas sociales y culturales acerca del sistema educativo, a\n",
       "    los contenidos, procedimientos, actitudes y valores que\n",
       "    contribuyen al proceso de socialización de los alumnos,\n",
       "    a la asimilación de los saberes sociales y del patrimonio\n",
       "    cultural de la sociedad. El currículo ha de recoger la\n",
       "    finalidad y funciones\n",
       "    sociales de la educación, intentando asegurar que los\n",
       "    alumnos lleguen a ser miembros activos y\n",
       "    responsables de la sociedad a que pertenecen.</li>\n",
       "<li>Fuente psicológica à se relaciona con los\n",
       "    procesos de desarrollo y de aprendizaje de los alumnos.\n",
       "    El\n",
       "    conocimiento de las regularidades del desarrollo evolutivo\n",
       "    en las distintas edades y de las leyes que rigen\n",
       "    el aprendizaje y los procesos cognitivo en los seres humanos\n",
       "    ofrece al currículo un marco indispensable acerca de las\n",
       "    oportunidades y modos de la enseñanza: cuándo\n",
       "    aprender, qué es posible aprender en cada momento y\n",
       "    cómo aprenderlo.</li>\n",
       "<li>Fuente pedagógica à trata tanto la\n",
       "    fundamentación teórica existente como la\n",
       "    experiencia educativa adquirida durante la práctica\n",
       "    docente.</li>\n",
       "<li>Fuente epistemológica à que se encuentra en\n",
       "    los conocimientos cientificos que integran las correspondientes\n",
       "    áreas o materias curriculares.La metodología,\n",
       "    estructura interna y estado actual de conocimientos en las\n",
       "    distintas disciplinas cientificas, así como las\n",
       "    relaciones interdisciplinares entre éstas, realizan\n",
       "    también una aportación decisiva a la\n",
       "    configuración y contenidos del\n",
       "    currículo.\"</li>\n",
       "</ul>\n",
       "<p><b>Funciones del currículo:</b></p>\n",
       "<p>El currículo tiene dos funciones: hacer\n",
       "  explícitas las intenciones del sistema educativo y servir\n",
       "  como guía para orientar la práctica\n",
       "  pedagógica.</p>\n",
       "<p>G</p>\n",
       "<p><b>Globalización:</b></p>\n",
       "<p>\"Forma de acceder al conocimiento que descubre las\n",
       "  relaciones entre los diferentes objetos de estudio y los integra\n",
       "  en visiones superiores, más simples y completas. Se\n",
       "  realiza en tres momentos: una primera percepción\n",
       "  sincrética, confusa o indiferenciada de la realidad, que\n",
       "  da lugar a un análisis de sus componentes o partes y\n",
       "  concluye en una síntesis enriquecedora de\n",
       "  éstos.\"</p>\n",
       "<p>I</p>\n",
       "<p><b>Ideario Educativo del centro:</b></p>\n",
       "<p>\"Es el conjunto de postulados y principios propios de\n",
       "  una concepción ideológica determinada, conforme a\n",
       "  los cuales cada centro educativo puede realizar su propio\n",
       "  proyecto educativo, referido a la formación integral de\n",
       "  sus alumnos.\"</p>\n",
       "<p>El ideario educativo del centro es una consecuencia de\n",
       "  un sistema escolar democrático, respetuoso con la\n",
       "  pluralidad social que debe dar cabida a cualquier tipo de\n",
       "  educación que acate los principios constitucionales del\n",
       "  Estado, sin otras limitaciones. Es la definición del\n",
       "  carácter propio que a cada centro confiere el tipo de\n",
       "  educación que en el se imparte.</p>\n",
       "<p>\"El ideario educativo de centro responde tanto a los\n",
       "  centros internamente pluralistas como a la pluralidad de centros\n",
       "  identificados, cada uno con un tipo de educación\n",
       "  internamente homogénea y coherente que les confiere, en\n",
       "  cada caso su carácter propio. En cualquier caso, el\n",
       "  ideario educativo de centro no debe ser un corsé\n",
       "  ideológico sino que, basándose en él, se ha\n",
       "  de educar en un ambiente de\n",
       "  comprensión y de tolerancia hacia\n",
       "  otras concepciones.\"</p>\n",
       "<p>Es igual que carácter propio.</p>\n",
       "<p><b>Instruir:</b> </p>\n",
       "<p>\"Adquisición de ciencia por\n",
       "  medio de un enseñante\".</p>\n",
       "<p>\"Transmitir adecuadamente lo que se aprende mediante el\n",
       "  empleo de\n",
       "  la\n",
       "  motivación y de la orientación al alumno de lo\n",
       "  que se ha de aprender\"</p>\n",
       "<p>Proviene del latín <i>instruere</i> que significa\n",
       "  enseñar, informar.</p>\n",
       "<p><b>Intervención educativa:</b></p>\n",
       "<p>La intervención educativa es una forma de\n",
       "  interacción social que tiene como función facilitar\n",
       "  el aprendizaje y guiarlo hasta conseguir su\n",
       "  autorregulación, el \"aprender a aprender\". De ahí\n",
       "  que el objetivo último de los procesos de\n",
       "  enseñanza-aprendizaje sea el contribuir a que los alumnos\n",
       "  y alumnas se apropien de los procedimientos habituales de\n",
       "  regulación de la propia actividad de aprendizaje, de tal\n",
       "  manera que puedan progresar, con creciente autonomía, en\n",
       "  la adquisición de nuevas competencias y\n",
       "  conocimientos</p>\n",
       "<p>Esto supone transformar el aula en un espacio en el que\n",
       "  se ofrezcan las condiciones y las pautas para realizar el tipo de\n",
       "  tareas propuestas, en el que se favorezca la interacción\n",
       "  entre compañeros y se regule la actividad mediante la\n",
       "  negociación y superación de aquellos\n",
       "  conflictos que\n",
       "  ayuden a propiciar el cambio y la\n",
       "  reestructuración cognitiva.</p>\n",
       "<p>Para que esto sea posible, la intervención\n",
       "  educativa tiene que ajustarse al nivel de desarrollo real de los\n",
       "  alumnos. Entre los seis y los doce años, niños y\n",
       "  niñas van adquiriendo una autonomía creciente,\n",
       "  tanto motriz como intelectual y personal, debido, en gran parte,\n",
       "  a las posibilidades funcionales del lenguaje y de las otras\n",
       "  formas de expresión y representación. El habla\n",
       "  interiorizada anticipa y acompaña su actividad,\n",
       "  ayudándoles a planificarla y a autorregularla.\n",
       "  También hace posible que la acción se\n",
       "  descontextualice y se consiga una representación cada vez\n",
       "  más general.</p>\n",
       "<p>J</p>\n",
       "<p><b>Jornada escolar:</b></p>\n",
       "<p>\"Actividad educativa desarrollada a lo largo de un\n",
       "  día en un centro docente, o, en general, en el sistema\n",
       "  educativo.</p>\n",
       "<p>En los niveles preescolar,\n",
       "  básico y medio, la jornada escolar normalmente comprende\n",
       "  la estancia de la mañana (3-4 horas) y la de tarde (2-3\n",
       "  horas).\"</p>\n",
       "<p>En algunos centros esta concepción de jornada\n",
       "  escolar, de dos turnos, no se lleva a cabo. En su lugar hablamos\n",
       "  de una jornada escolar única o intensiva. Las razones para\n",
       "  la implantación de esta jornada son varias y\n",
       "  diversas:</p>\n",
       "<ul>\n",
       "<li>Necesidades de escolarización: la gran\n",
       "    demanda que\n",
       "    haya en un centro puede \"obligar\" hacer un \"doble turno\" (turno\n",
       "    de mañana y turno de tarde\".</li>\n",
       "<li>Vía experimental: evitar comedor y transporte\n",
       "    escolar, comprobar comparativamente el rendimiento de los\n",
       "    alumnos o ajustarse a determinados horarios familiares o status\n",
       "    socioeconómico.</li>\n",
       "<li>En países cálidos al principio y al\n",
       "    final del curso.</li>\n",
       "</ul>\n",
       "<p>L</p>\n",
       "<p><b>Leyes:</b></p>\n",
       "<p>•LODE. Ley\n",
       "  Orgánica 8/1985 de 3 de julio, reguladora del derecho a la\n",
       "  educación.</p>\n",
       "<p>•LOGSE. Ley\n",
       "  Orgánica 1/1990, de 3 de octubre, de Ordenación\n",
       "  General del Sistema Educativo.</p>\n",
       "<p>•Real Decreto 1543/1988, de 28 de octubre, sobre\n",
       "  Derechos y\n",
       "  Deberes de los Alumnos (BOE 309, de 26 de diciembre de\n",
       "  1988).</p>\n",
       "<p>•Real Decreto 986/1991, de 14 de junio (BOE 25 de\n",
       "  junio de 1991), sobre el calendario de aplicación de la\n",
       "  reforma. Modificado por el Real Decreto 535/1993, de 12 de abril\n",
       "  (BOE 4 de mayo de 1993). Y modificado por el Real Decreto\n",
       "  1478/1991, de 1 de julio (BOE de 28 de julio de 1994).</p>\n",
       "<p>•Requisitos mínimos de los centros (Real\n",
       "  Decreto 1004/1991, de 14 de junio, BOE del 26). Real Decreto\n",
       "  389/1992, de 15 de abril, por el que se establecen los requisitos\n",
       "  mínimos de los centros que imparten enseñanzas\n",
       "  artísticas (BOE del 28 de abril de 1992).</p>\n",
       "<p>•Supervisión y uso de libros de\n",
       "  texto y otros\n",
       "  materiales\n",
       "  curriculares (Real Decreto 388/1992, de 15 de abril, BOE del 23)\n",
       "  y Orden que lo desarrolla, de 2 de junio de 1992 (BOE del\n",
       "  11).</p>\n",
       "<p>•Orden del 30 de julio de 1992 por la que se\n",
       "  regulan las condiciones de creación y funcionamiento de\n",
       "  las Escuelas de Música y Danza.</p>\n",
       "<p>•Elementos básicos de los informes de\n",
       "  evaluación (Orden Ministerial de 30 de octubre de 1992,\n",
       "  BOE del 11 de noviembre), modificada por Orden de 2 de abril de\n",
       "  1993 (BOE del 15).</p>\n",
       "<p>•Acceso a la función pública docente\n",
       "  (R.D. 850/1993, de 4 de junio, BOE del 30; corrección de\n",
       "  errores en el BOE de 29 de septiembre de 1993).</p>\n",
       "<p>•Cuerpo de funcionarios docentes (Real Decreto\n",
       "  1701/1991, de 29 de noviembre, por el que se establecen\n",
       "  especialidades del Cuerpo de Profesores de Enseñanza\n",
       "  Secundaria, se adscriben a ellas los profesores correspondientes\n",
       "  a dicho cuerpo y se determinan las áreas y materias que\n",
       "  deberá impartir el profesorado respectivo (BOE 2 de\n",
       "  diciembre de 1991).</p>\n",
       "<p>•Regulación de concursos de traslados de\n",
       "  ámbito nacional para la provisión de plazas\n",
       "  correspondientes a los cuerpos docentes que imparten las\n",
       "  enseñanzas establecidas en la LOGSE, Real Decreto\n",
       "  1774/1994 de 5 de agosto (BOE 234, de 30 de septiembre de\n",
       "  1994).</p>\n",
       "<p>•Instituto Nacional de Calidad y\n",
       "  Evaluación (R.D. 928/1993, de 18 de junio, BOE del 6 de\n",
       "  julio).</p>\n",
       "<p><b>Libros blancos:</b></p>\n",
       "<p>En 1989 surgen los llamados libros\n",
       "  blancos. Son de este color por tener\n",
       "  carácter provisional. Estos libros blancos\n",
       "  son dos:</p>\n",
       "<ul>\n",
       "<li><i>Diseño curricular base</i> (D.C.B)\n",
       "    à que trata\n",
       "    la reforma del currículo.</li>\n",
       "<li><i>Libro blanco para la reforma del sistema\n",
       "    educativo.</i></li>\n",
       "</ul>\n",
       "<p>Estos dos libros\n",
       "  darán origen a dos leyes: Real\n",
       "  Decreto Curricular y Logse.</p>\n",
       "<p>El MEC concreta el sentido de la Reforma avanzando una\n",
       "  propuesta de currículo que se corresponde con la\n",
       "  ordenación general del sistema.</p>\n",
       "<p><img height=\"285\" src=\"Image1189.gif\" width=\"267\"/><b>LOGSE:</b></p>\n",
       "<p>Ley Organica 1/1990 de 3 de Octubre de Ordenación\n",
       "  General del Sistema Educativo.</p>\n",
       "<p>Véase Reforma Educativa.</p>\n",
       "<p>M</p>\n",
       "<p><b>Magisterio:</b></p>\n",
       "<p>Del latín <i>Magisterium</i>, jefatura,\n",
       "  magisterio.</p>\n",
       "<p>\"Término que comprende una variedad de\n",
       "  significaciones. Original mente actividad docente del maestro con\n",
       "  sus discípulos. Aunque dicha actividad se realiza en todos\n",
       "  los niveles de enseñanza, se viene utilizando\n",
       "  habitualmente este término con referencia especifica a la\n",
       "  enseñanza básica, y así se emplea para\n",
       "  designar:</p>\n",
       "<ul>\n",
       "<li>El conjunto de docentes de enseñanza primaria\n",
       "    o básica de una nación.</li>\n",
       "<li>Los estudios que habilitan para el ejercicio de la\n",
       "    función de docente en el nivel de enseñanza\n",
       "    primaria básica.\"</li>\n",
       "</ul>\n",
       "<p><b>Mapa conceptual:</b></p>\n",
       "<p>Un mapa conceptual\n",
       "  es una representación gráfica con un orden\n",
       "  lógico que va e lo general a lo particular. Se lee de\n",
       "  arriba abajo y forma una frase lógica.\n",
       "  Existen varios tipos de mapa\n",
       "  conceptual.</p>\n",
       "<p>Es una Existen se lee de</p>\n",
       "<p>Con un\t\t\t\t\t\t y forma una</p>\n",
       "<p>Que va de lo</p>\n",
       "<p>A lo</p>\n",
       "<p><b>Materiales curriculares:</b></p>\n",
       "<p>\"Son materiales editados para los profesores y alumnos\n",
       "  que pueden ser ofrecidos por las administraciones educativas o\n",
       "  por la iniciativa privada para el desarrollo y aplicación\n",
       "  del currículo de las diferentes enseñanzas\n",
       "  establecidas por la LOGSE.\"</p>\n",
       "<p><b>M.E.C:</b></p>\n",
       "<p>Ministerio de Educación y Ciencia.\n",
       "  Organismo del Estado.</p>\n",
       "<p><b>Método activo:</b></p>\n",
       "<p>\"Más que de un método\n",
       "  activo habría que hablar de métodos\n",
       "  activos en\n",
       "  plural.</p>\n",
       "<p>Son aquellos que pretenden aplicar el principio de\n",
       "  actividad en la escuela, pero que parten de inspiraciones\n",
       "  doctrinales muy diversas.</p>\n",
       "<p>Se pueden clasificar en:</p>\n",
       "<ul>\n",
       "<li>Métodos puerocentristas.</li>\n",
       "<li>Métodos globalizadores.</li>\n",
       "<li>Métodos homogéneos.</li>\n",
       "<li>Métodos socializadores.</li>\n",
       "<li>Métodos individualizadores.\"</li>\n",
       "</ul>\n",
       "<p><b>Metodología:</b></p>\n",
       "<p>La metodología constituye el conjunto de\n",
       "  criterios y decisiones que organizan, de forma global, la\n",
       "  acción didáctica en el aula: papel que\n",
       "  juegan los alumnos y profesores, utilización de medios y\n",
       "  recursos, tipos de actividades, organización de los\n",
       "  tiempos y espacios, agrupamientos, secuenciación y tipo de\n",
       "  tareas, etc. Este conjunto de decisiones se derivar  de la\n",
       "  caracterización realizada en cada uno de los elementos\n",
       "  curriculares, objetivos, contenidos, evaluación, medios, y\n",
       "  de la peculiar forma de concretarlos en un determinado contexto\n",
       "  educativo, llegando a conformar un singular estilo educativo y un\n",
       "  ambiente de\n",
       "  aula, cuyo objetivo más general ser  el de facilitar\n",
       "  el desarrollo de los procesos de</p>\n",
       "<p>enseñanza-aprendizaje expresados en las\n",
       "  intenciones educativas.</p>\n",
       "<p>Definida la metodología educativa de esta forma,\n",
       "  es evidente que existirán metodologías diversas\n",
       "  que, sin embargo, serán capaces de desarrollar similares\n",
       "  intenciones educativas.</p>\n",
       "<p>Convendría una metodología que, partiendo\n",
       "  de lo que los alumnos y alumnas conocen y piensan con respecto a\n",
       "  cualquier aspecto de la realidad, sea capaz de conectar con sus\n",
       "  intereses y necesidades, con su peculiar forma de ver el mundo, y\n",
       "  les proponga, de forma atractiva, una finalidad y utilidad clara\n",
       "  para aplicar los nuevos aprendizajes que desarrollan. Se trata,\n",
       "  en suma, de adoptar una metodología que posea un sentido\n",
       "  claro para los alumnos y profesores, a la vez que promueva su\n",
       "  desarrollo conceptual, procedimental y actitudinal. Por este\n",
       "  motivo, sería interesante contemplar una dualidad de\n",
       "  finalidades: por un lado la de las intenciones o capacidades que\n",
       "  el equipo docente desea promover en sus alumnos y alumnas y, por\n",
       "  otro, las que se desprenden directamente de la propia actividad\n",
       "  que se realiza, las cuales han de ser claras y compartidas por\n",
       "  los alumnos: resolver un problema, satisfacer una necesidad o\n",
       "  interés, afrontar una situación novedosa, tratar un\n",
       "  conflicto,\n",
       "  realizar una investigación, comprender la realidad,\n",
       "  entender nuevos fenómenos o acometer un proyecto de\n",
       "  trabajo.</p>\n",
       "<p><b>Motivación:</b></p>\n",
       "<p>La\n",
       "  motivación por aprender, y en particular por construir\n",
       "  ciertos aprendizajes es un complejo proceso que condiciona en\n",
       "  buena medida la capacidad de aprender de los alumnos. La\n",
       "  motivación depende en parte de la historia de éxitos y\n",
       "  fracasos anteriores del alumno en tareas de aprendizaje, pero\n",
       "  también del hecho de que los contenidos que se ofrezcan a\n",
       "  los alumnos posean significado lógico y sean útiles\n",
       "  para ellos.</p>\n",
       "<p>N</p>\n",
       "<p><b>Necesidades Educativas Especiales\n",
       "  (N.E.E):</b></p>\n",
       "<p>La Ley\n",
       "  Orgánica 1/1990, de 3 de octubre, de Ordenación\n",
       "  General del Sistema Educativo (LOGSE), ha recogido y reforzado\n",
       "  los principios de normalización e integración presentes en la Ley de Integración Social de los\n",
       "  Minusválidos y en el Real Decreto 334/1985 de\n",
       "  Ordenación de la Educación Especial. Al mismo\n",
       "  tiempo, ha sido la LOGSE la que ha introducido en el ordenamiento\n",
       "  jurídico el concepto de\n",
       "  necesidades educativas especiales propiamente dicho como\n",
       "  alternativa, en el ámbito educativo, a los de deficiente,\n",
       "  disminuido, inadaptado, discapacitado o minusválido, lo\n",
       "  cual significa un cambio fundamental con respecto a\n",
       "  conceptualizaciones anteriores. Partiendo de la premisa de que\n",
       "  todo el alumnado precisa a lo largo de su escolaridad de diversas\n",
       "  ayudas pedagógicas para asegurar el logro de los fines de\n",
       "  la educación, se consideran necesidades educativas\n",
       "  especiales las de alumnos y alumnas que, además, y de\n",
       "  forma complementaria, precisan otro tipo de ayudas menos usuales,\n",
       "  bien sea temporal o permanentemente.</p>\n",
       "<p>Con la introducción de esta expresión se\n",
       "  pretende evitar las connotaciones negativas de términos\n",
       "  anteriores que tienden a resaltar solamente lo que estos alumnos\n",
       "  y alumnas no pueden hacer. La expresión \"necesidades\n",
       "  educativas especiales\" intenta, además, evitar la\n",
       "  predisposición al error que se origina cuando se tildan\n",
       "  todas las discapacidades de \"deficiencias\" a pesar de que son muy\n",
       "  diferentes unas de otras, especialmente en lo que concierne a sus\n",
       "  implicaciones para los procesos de enseñanza y\n",
       "  aprendizaje. Con toda seguridad, los\n",
       "  términos ahora sustituidos han tenido indirectamente un\n",
       "  efecto de \"etiquetaje\" que afecta muy negativamente al\n",
       "  autoconcepto y la autoestima de\n",
       "  estos alumnos o alumnas, e indirectamente a sus familias, puesto\n",
       "  que eran y son términos que refuerzan erróneamente\n",
       "  la creencia de que el origen de las dificultades educativas de\n",
       "  este alumnado reside única y exclusivamente en ellos\n",
       "  mismos, despreciando el peso e importancia de los factores\n",
       "  sociales y educativos.</p>\n",
       "<p>El uso del concepto de\n",
       "  necesidades educativas especiales no está exento, sin\n",
       "  embargo, del riesgo de\n",
       "  reproducir algunos de los problemas\n",
       "  anteriores (que vuelva a ser, por ejemplo, una etiqueta con\n",
       "  connotaciones negativas) ni está libre de limitaciones. Es\n",
       "  cierto que intenta resaltar las preocupaciones educativas por\n",
       "  encima de cualesquiera otras, que aspira a ser menos peyorativo y\n",
       "  que, al tener que traducirse en las ayudas pedagógicas que\n",
       "  los alumnos precisan, compromete al profesorado y a los servicios de\n",
       "  apoyo y les hace revisar precisamente la enseñanza que\n",
       "  reciben. Pero comporta también una cierta ambigüedad,\n",
       "  ya que no es posible delimitar con antelación quién\n",
       "  tiene o no realmente necesidad de medidas educativas\n",
       "  extraordinarias y cuáles deberían ser éstas,\n",
       "  dado el carácter interactivo de los procesos educativos y\n",
       "  de la peculiaridad de cada contexto escolar y de cada alumno.\n",
       "  Todo ello dificulta considerablemente la planificación de\n",
       "  los recursos necesarios, ya sean humanos o materiales, y exige un\n",
       "  sistema de provisión que debiera caracterizarse por la\n",
       "  flexibilidad y la cercanía a las necesidades reales de los\n",
       "  centros escolares y sus alumnos.</p>\n",
       "<p>Por tanto, decir que un alumno o alumna presenta\n",
       "  necesidades educativas especiales es una forma de decir\n",
       "  simplemente que, para el logro de los fines de la\n",
       "  educación, no son suficientes las actuaciones habituales\n",
       "  que su profesor o profesora desarrolla con la mayoría de\n",
       "  los alumnos del grupo y que, por ello, tiene que revisar su\n",
       "  acción educativa y adecuarla a las necesidades\n",
       "  particulares del alumno o alumna en cuestión. Para que\n",
       "  esta tarea no se viva como imposible, los profesores deben contar\n",
       "  con la formación, ayuda, asesoramiento y\n",
       "  colaboración necesarios, empezando por los servicios\n",
       "  más especializados que a tal efecto deben existir, pero\n",
       "  sin despreciar la aportación de sus compañeros, de\n",
       "  las familias e incluso de los propios alumnos, ni hacer\n",
       "  dejación, en último término, de su responsabilidad como tutor del proceso educativo\n",
       "  de todos sus alumnos.</p>\n",
       "<p>De esta forma, y en continuidad con los planteamientos\n",
       "  del Real Decreto 334/1985 de Ordenación de la\n",
       "  Educación Especial, la LOGSE contempla como objetivos de\n",
       "  la educación para los alumnos y alumnas con necesidades\n",
       "  educativas especiales los mismos que para el resto del alumnado,\n",
       "  al tiempo que establece con claridad y contundencia (art.\n",
       "  3.°) el principio de adecuación o adaptación de\n",
       "  las enseñanzas a las características de\n",
       "  éstos. Por tanto, no son estos alumnos los que deben\n",
       "  adaptarse o \"conformarse\" a lo que pueda ofrecerles una\n",
       "  enseñanza general planificada y desarrollada para\n",
       "  satisfacer las necesidades educativas habituales de la\n",
       "  mayoría del alumnado, sino que es la enseñanza la\n",
       "  que debe adecuarse de modo y manera que permita a cada alumno\n",
       "  particular progresar en función de sus capacidades y con\n",
       "  arreglo a sus necesidades, sean especiales o no.</p>\n",
       "<p><b>Niveles de concreción:</b></p>\n",
       "<p>Son cada uno de los pasos que conducen desde el\n",
       "  currículo establecido por la Administración educativa competente hasta\n",
       "  la elaboración detallada de las unidades\n",
       "  didácticas.</p>\n",
       "<p>-1er nivel de concreción à tiene carácter\n",
       "  prescriptivo de obligado cumplimiento. Lo hace el MEC o las\n",
       "  Comunidades Autónomas. Leyes sobre el\n",
       "  curriculum: Logse (Reales Decretos), Real Decreto Curricular,\n",
       "  DCB.</p>\n",
       "<p>-2º nivel de concreción à De centro. Las leyes\n",
       "  ya hechas por el ministro pasan ahora a los centros de\n",
       "  enseñanza. El claustro coge las leyes y elaboran un\n",
       "  documento llamado proyecto curricular. Aquí se establecen\n",
       "  las áreas.</p>\n",
       "<p>-3er nivel de concreción à Compete a los\n",
       "  profesores. Éstos realizan una unidad didáctica o\n",
       "  programación basándose en el proyecto\n",
       "  curricular.</p>\n",
       "<p>O</p>\n",
       "<p><b>Objetivos:</b></p>\n",
       "<p>Los objetivos son el conjunto de aprendizajes que se\n",
       "  espera que alcancen unos alumnos/as en una etapa, ciclo, nivel o\n",
       "  programación educativa concreta.</p>\n",
       "<p>Pueden plantearse de manera global, constituyendo los\n",
       "  objetivos generales de etapa, definidos en términos de\n",
       "  capacidades. Y también de forma más concreta, es\n",
       "  decir, los objetivos didácticos, que nos llevan a la\n",
       "  acción directa y son el referente inmediato de la\n",
       "  evaluación.</p>\n",
       "<p>Los objetivos se entienden como las intenciones que\n",
       "  orientan el diseño y la realización de las\n",
       "  actividades necesarias para la consecución de las grandes\n",
       "  finalidades educativas, esto es, promover el desarrollo integral\n",
       "  del individuo y facilitar la construcción de una sociedad m s justa\n",
       "  y solidaria.</p>\n",
       "<p>La formulación de objetivos habrá  de\n",
       "  basarse, pues, en considerar el desarrollo de niños y\n",
       "  niñas con una finalidad educativa, orientando, así,\n",
       "  la selección y secuenciación de los contenidos, y\n",
       "  la realización de determinadas actividades de acuerdo con\n",
       "  las orientaciones metodológicas generales que se\n",
       "  determinen.</p>\n",
       "<p>Los objetivos han de entenderse como metas que\n",
       "  guían el proceso de enseñanza-aprendizaje y hacia\n",
       "  las cuales hay que orientar la marcha de ese proceso.\n",
       "  Constituyen, de este modo, un marco para decidir las posibles\n",
       "  direcciones a seguir durante su transcurso, desempeñando\n",
       "  un papel\n",
       "  fundamental como referencia para revisar y regular el\n",
       "  curriculum.</p>\n",
       "<p>Precisamente por su carácter de\n",
       "  orientación para el desarrollo curricular, deben\n",
       "  contemplarse para los objetivos diferentes niveles de\n",
       "  concreción que posibiliten la transición de los\n",
       "  fines generales a la práctica educativa. De esa forma, los\n",
       "  objetivos de etapa se concretan en objetivos de\n",
       "   área, con los que se intenta precisar la\n",
       "  aportación que, desde cada una de ellas, ha de hacerse a\n",
       "  la consecución de los objetivos de etapa y ciclo. Todos\n",
       "  ellos finalmente, han de adecuarse a cada realidad escolar, con\n",
       "  las condiciones propias de cada contexto y de cada persona, lo\n",
       "  que exigir  sucesivos y diversos niveles de\n",
       "  concreción.</p>\n",
       "<p>Puesto que con la educación se pretende favorecer\n",
       "  un desarrollo lo más completo posible de la persona, y su\n",
       "  integración en un contexto sociocultural\n",
       "  determinado, los objetivos que se definen en cada nivel de\n",
       "  concreción deben guardar relación con los grandes\n",
       "   ámbitos de aprendizaje y tipos de contenidos\n",
       "  -conceptos, procedimientos, y actitudes-, que se determinan para\n",
       "  toda la población escolar. No obstante, en\n",
       "  función de los contextos y necesidades particulares de los\n",
       "  individuos, los equipos de profesores podrán establecer\n",
       "  criterios de ordenación de los objetivos a desarrollar en\n",
       "  cada etapa educativa.</p>\n",
       "<p><b>Objetivos didácticos:</b></p>\n",
       "<p>Los objetivos\n",
       "  didácticos son \"aquellos objetivos más concretos\n",
       "  que permiten relacionar capacidades con contenidos\".</p>\n",
       "<p>Se concretan a partir de los objetivos terminales. Nos\n",
       "  indican las tareas a realizar a corto plazo.</p>\n",
       "<p><b>Objetivos generales:</b></p>\n",
       "<p>Los objetivos terminales \"precisan el tipo y grado de\n",
       "  aprendizaje que debe realizar el alumno a propósito de los\n",
       "  contenidos seleccionados para adquirir, al finalizar el ciclo,\n",
       "  las capacidades estipuladas por los objetivos generales y de\n",
       "  área\".</p>\n",
       "<p>Establecen las capacidades que se espera hayan adquirido\n",
       "  los alumnos al finalizar cada etapa educativa.</p>\n",
       "<p><b>Objetivos terminales:</b></p>\n",
       "<p>Explicitan las intenciones educativas de la Unidad\n",
       "  didáctica y están expresados en términos de\n",
       "  capacidades; pero se refieren a contenidos concretos que\n",
       "  configuran la unidad didáctica. Indican los contenidos,\n",
       "  métodos,\n",
       "  capacidades y/o valores que un alumno debe conseguir al finalizar\n",
       "  el proceso educativo previsto o U.D. Consta de una destreza o una\n",
       "  actitud, un\n",
       "  qué (contenido), un cómo (método y/o\n",
       "  procedimiento)\n",
       "  y un para qué (capacidad y/o valor).</p>\n",
       "<p>Se deben elaborar teniendo en cuenta la\n",
       "  vinculación con e currículo y las\n",
       "  características el grupo clase.</p>\n",
       "<p><b>Orientaciones educativas:</b></p>\n",
       "<p>La Orientación Educativa contribuye al logro de\n",
       "  una educación integral en la medida en que aporta\n",
       "  asesoramiento y apoyo técnico en aquellos aspectos\n",
       "  más personalizadores de la educación que hacen\n",
       "  posible la atención a la diversidad de capacidades,\n",
       "  intereses y motivaciones de los alumnos y alumnas.</p>\n",
       "<p>La Orientación Educativa se articula en torno\n",
       "  a:</p>\n",
       "<p>• La Tutoría</p>\n",
       "<p>• Los Departamentos de\n",
       "  Orientación</p>\n",
       "<p>• Los Equipos de Orientación\n",
       "  Educativa</p>\n",
       "<p>Los Equipos de Orientación Educativa realizan\n",
       "  funciones\n",
       "  generales de asesoramiento psicopedagógico a los Centros\n",
       "  Escolares. Las principales son:</p>\n",
       "<p>• Asesorar a los Centros en la elaboración,\n",
       "  aplicación y evaluación del Proyecto de Centro y\n",
       "  del Proyecto Curricular, sobre todo en los aspectos más\n",
       "  estrechamente ligados a la orientación educativa y a la\n",
       "  intervención psicopedagógico.</p>\n",
       "<p>• Asesorar a los Centros en lo relativo a la\n",
       "  evaluación de los aprendizajes de los alumnos y alumnas,\n",
       "  de la práctica docente y del Proyecto Curricular de\n",
       "  Centro, en el marco de lo establecido en la normativa sobre\n",
       "  evaluación.</p>\n",
       "<p>• Colaborar con los Centros de Profesores en la\n",
       "  formación, apoyo y asesoramiento al profesorado de la zona\n",
       "  en el ámbito de la orientación\n",
       "  educativa.</p>\n",
       "<p>• Analizar las demandas de intervención\n",
       "  psicopedagógica de los Centros que tenga asignado y\n",
       "  proponer respuestas adecuadas a las mismas con la\n",
       "  participación de los restantes miembros del Centros de\n",
       "  Orientación Educativa y Profesional cuya\n",
       "  colaboración se considere necesaria.</p>\n",
       "<p>P</p>\n",
       "<p><b>Procedimientos:</b></p>\n",
       "<p>Es el conjunto de acciones\n",
       "  ordenadas y orientadas a la realización de una\n",
       "  tarea.</p>\n",
       "<p><b>Programas de Garantía\n",
       "  Social:</b></p>\n",
       "<p>Es la denominación que reciben en la LOGSE las\n",
       "  acciones\n",
       "  formativas destinadas a resolver un problema muy común a\n",
       "  todos los sistemas\n",
       "  educativos: la integración social, educativa y laboral de\n",
       "  los jóvenes que no concluyen con éxito su\n",
       "  formación obligatoria.</p>\n",
       "<p>Los objetivos que pretenden los programas de\n",
       "  Garantía Social son proporcionar a los jóvenes una\n",
       "  formación básica y profesional que les permita\n",
       "  incorporarse a la vida activa o proseguir sus estudios en las\n",
       "  distintas enseñanzas previstas en el sistema educativo,\n",
       "  especialmente las enseñanzas de formación\n",
       "  profesional de grado medio.</p>\n",
       "<p>Pueden participar en los Programas de Garantía\n",
       "  Social los jóvenes mayores de 18 años que no hayan\n",
       "  obtenido el título de Graduado en Educación\n",
       "  Secundaria, y que previamente hayan realizado las acciones de\n",
       "  diversificación curricular correspondientes. En casos\n",
       "  especiales también podrán acceder a estos Programas\n",
       "  jóvenes mayores de 16 años.</p>\n",
       "<p>Los Programas de Garantía Social tendrán\n",
       "  modalidades diferentes: Iniciación profesional, Talleres\n",
       "  Independientes, Formación y Empleo,\n",
       "  Integración de jóvenes con\n",
       "  minusvalías.</p>\n",
       "<p>Los Programas de Garantía Social se\n",
       "  configurarán a partir de las siguientes áreas\n",
       "  curriculares:</p>\n",
       "<p>• Área de Formación\n",
       "  básica</p>\n",
       "<p>• Área de Formación Profesional\n",
       "  Específica</p>\n",
       "<p>• Área de Formación y\n",
       "  Orientación Laboral</p>\n",
       "<p>• Área de Acción Tutorial y\n",
       "  actividades complementarias</p>\n",
       "<p><b>Promoción:</b></p>\n",
       "<p>Al término de cada ciclo y como consecuencia del\n",
       "  proceso de evaluación, se decidirá  acerca de\n",
       "  la promoción de los alumnos al ciclo\n",
       "  siguiente. La decisión de la permanencia del alumno\n",
       "  durante un año más en el ciclo la\n",
       "  adoptará  el profesor tutor teniendo en cuenta la\n",
       "  opinión del resto de los profesores del mismo grupo de\n",
       "  alumnos y de los padres o tutores legales del alumno. Esta\n",
       "  permanencia ha de considerarse excepcional. No podrá \n",
       "  repetirse más de un año a lo largo de toda la\n",
       "  Educación Primaria. Esta decisión irá \n",
       "  acompañada en todo caso de medidas educativas\n",
       "  complementarias encaminadas a desarrollar adecuadamente las\n",
       "  capacidades del alumno.</p>\n",
       "<p>\"Se trata de la acreditación de los alumnos para\n",
       "  que puedan acceder al ciclo o curso siguiente a lo largo de la\n",
       "  escolarización obligatoria, o bien, para obtener una\n",
       "  determinada titulación académica al finalizar un\n",
       "  nivel o etapa.\"</p>\n",
       "<p><b>Proyecto curricular de centro\n",
       "  (PCC):</b></p>\n",
       "<p>\"El Proyecto Curricular de Centro es el proceso de tomas\n",
       "  de decisiones por el cual el profesorado de una etapa educativa\n",
       "  determinada establece, a partir del análisis del contexto de su centro, una\n",
       "  serie de acuerdos acerca de las estrategias de\n",
       "  intervención didáctica que va a utilizar, con el\n",
       "  fin de asegurar la coherencia de su práctica\n",
       "  docente\".\t</p>\n",
       "<p>El proyecto curricular de etapa, al estar\n",
       "  diseñado por el conjunto de maestros/as que imparten\n",
       "  enseñanzas en toda la etapa, garantiza la coherencia en el\n",
       "  proceso de enseñanza/aprendizaje a lo largo de los\n",
       "  distintos niveles y ciclos educativos.</p>\n",
       "<p>Para su elaboración hay que tener en cuenta\n",
       "  varios aspectos:</p>\n",
       "<ul>\n",
       "<li>El proyecto educativo.</li>\n",
       "<li>El análisis del contexto.</li>\n",
       "<li>La experiencia docente.</li>\n",
       "<li>Las normas legales desarrolladas.</li>\n",
       "</ul>\n",
       "<p>El Proyecto Curricular de Primaria lo elaboran los\n",
       "  equipos docentes de cada ciclo, está coordinado por los\n",
       "  coordinadores de ciclo y es aprobado por el claustro de\n",
       "  profesores. Además, se incorporará a la\n",
       "  programación general del centro.</p>\n",
       "<p>Todo Proyecto Curricular de Etapa consta de los\n",
       "  siguientes elementos:</p>\n",
       "<ul>\n",
       "<li>Objetivos generales del proyecto referidos a la\n",
       "    etapa.</li>\n",
       "<li>Secuenciación de objetivos y contenidos por\n",
       "    ciclos, teniendo en cuenta las diversas áreas\n",
       "    curriculares y los temas transversales.</li>\n",
       "<li>Estrategias metodológicas.</li>\n",
       "<li>Evaluación.</li>\n",
       "<li>Adaptaciones curriculares.</li>\n",
       "</ul>\n",
       "<p>Medidas de individualización de la\n",
       "    enseñanza.</p>\n",
       "<ul>\n",
       "<li>Acción tutorial.</li>\n",
       "<li>Relación con los padres y con el\n",
       "    entorno.</li>\n",
       "</ul>\n",
       "<p>El conjunto de decisiones que afectarán a la\n",
       "  concreción del curriculum, a la fijación de\n",
       "  objetivos y selección de contenidos, en general, a la\n",
       "  conformación de la oferta educativa que un centro realice\n",
       "  en una realidad concreta, tomará forma a\n",
       "  través de la elaboración y evaluación\n",
       "  progresiva de su propio Proyecto Curricular de Centro. Estos\n",
       "  Proyectos Curriculares de Centro, insertos en cada comunidad\n",
       "  escolar, contendrán las líneas generales de\n",
       "  actuación que informarán las iniciativas tomadas en\n",
       "  sucesivos niveles de concreción: los Proyectos\n",
       "  Curriculares de Etapa, los de Ciclo y Área, y la\n",
       "  realización de cada una de las Programaciones de Aula,\n",
       "  plasmación última del conjunto de decisiones que\n",
       "  deber  articular, de forma coherente, la oferta educativa de\n",
       "  un centro.</p>\n",
       "<p>Los proyectos curriculares de etapa deberán\n",
       "  contener la adecuación de los objetivos generales de la\n",
       "  etapa al contexto socioeconómico y cultural del Centro y a\n",
       "  las características del alumnado, así como\n",
       "  criterios metodológicos de carácter general y\n",
       "  organización general del proceso de evaluación y\n",
       "  orientación.</p>\n",
       "<p>Los proyectos curriculares de etapa incluirán\n",
       "  asimismo la concreción y secuenciación por ciclos\n",
       "  de los contenidos. Dicha secuenciación no deberá\n",
       "  variar, para un mismo grupo de alumnos a lo largo de la\n",
       "  Educación Primaria. Los proyectos curriculares de etapa\n",
       "  incluirán asimismo la concreción y\n",
       "  secuenciación por ciclos de los contenidos. Dicha\n",
       "  secuenciación no deberá  variar, para un mismo\n",
       "  grupo de alumnos a lo largo de la Educación\n",
       "  Primaria.</p>\n",
       "<p><b>Proyecto de aula:</b></p>\n",
       "<p>(Véase Unidad Didáctica).</p>\n",
       "<p><b>Proyecto educativo de centro\n",
       "  (PEC):</b></p>\n",
       "<p>\"Documento que recoge el conjunto de decisiones, es\n",
       "  decir, aquellas ideas, asumidas por toda la comunidad educativa,\n",
       "  respecto a las opciones educativas básicas y la\n",
       "  organización general del centro.\"\t</p>\n",
       "<p>\"Documento de orientación\n",
       "  educativo-pedagógico elaborado por toda la comunidad\n",
       "  educativa, donde se señalan las notas ultimas a ir\n",
       "  consiguiendo progresivamente, de acuerdo con unos ideales,\n",
       "  utopías o valores educativos. Es el tipo de hombre, de\n",
       "  alumno que se quiere educar desde el respeto de su psicología,\n",
       "  afectivamente, para un tipo de sociedad nueva. ... Es una\n",
       "  propuesta integral para dirigir un proceso de intervención\n",
       "  educativa en una situación escolar concreta\".</p>\n",
       "<p>El proyecto educativo de centro es elaborado por la\n",
       "  comunidad educativa y evaluado y aprobado por el consejo escolar.\n",
       "  Se estructura en:</p>\n",
       "<ul>\n",
       "<li>Señas de identidad.</li>\n",
       "<li>Propósitos o finalidades del centro que\n",
       "    constituyen el llamado ideario del centro.</li>\n",
       "<li>Revisión de los objetivos generales del\n",
       "    currículo de las etapas que se impartan en el\n",
       "    centro.</li>\n",
       "<li>Relaciones de colaboración entre padres,\n",
       "    alumnos y docentes con el entorno.</li>\n",
       "<li>Reglamento de Régimen Interno\n",
       "    (RRI).</li>\n",
       "</ul>\n",
       "<p>R</p>\n",
       "<p><b>Real Decreto:</b></p>\n",
       "<p>\"(R.D. 1344/1991 de 6 de septiembre, B.O.E del 13 de\n",
       "  septiembre). Disposición legal de carácter\n",
       "  prescriptivo que establece el curriculum que tendrán que\n",
       "  ir concretando los equipos de profesorado de cada centro para\n",
       "  contextualizarlo en su realidad específica. Forman parte\n",
       "  de él, las enseñanzas mínimas que garantizan\n",
       "  una formación común para todos los alumnos y la\n",
       "  validez de títulos.\"</p>\n",
       "<p><b>Real Decreto de Mínimos:</b></p>\n",
       "<p>\"(R.D 1006/1991 de 14 de junio, B.O.E. de 26 de junio).\n",
       "  Establece las enseñanzas mínimas correspondientes a\n",
       "  cada etapa educativa. Tiene carácter prescriptivo para\n",
       "  todo el\n",
       "  Estado.\"</p>\n",
       "<p><b>Reforma educativa:</b></p>\n",
       "<p>En 1987 Malavares indicó que iba a reformar el\n",
       "  sistema educativo basándose en dos grandes\n",
       "  cambios:</p>\n",
       "<ul>\n",
       "<li>Reforma de los niveles educativos.</li>\n",
       "<li>Reforma del currículo.</li>\n",
       "</ul>\n",
       "<p>Las transformaciones de orden político,\n",
       "  económico y social que se están produciendo en\n",
       "  nuestro contexto, los progresos que se originan en la producción, en la tecnología y en la\n",
       "  vida cultural, así como la integración de nuestro\n",
       "  país como miembro de pleno derecho en la Comunidad\n",
       "  Europea, son motivaciones que aconsejan e informan la\n",
       "  reestructuración del Sistema Educativo. Con ello se\n",
       "  pretende no sólo adecuarse a estas nuevas condiciones,\n",
       "  sino prepararse para los cambios futuros que se producirán\n",
       "  en el entorno dinámico en el que vivimos.\tPor otra parte,\n",
       "  se actualiza la función educativa proponiendo incorporar a\n",
       "  la práctica docente aquellas aportaciones\n",
       "  científicas que se traducen en un mejor conocimiento de\n",
       "  cómo se produce el aprendizaje, una adecuada\n",
       "  selección de los contenidos y en general, una propuesta\n",
       "  educativa más fundamentada.</p>\n",
       "<p>Se aborda, en consecuencia, un cambio profundo y general\n",
       "  del Sistema Educativo, por cuanto afecta tanto a la\n",
       "  reordenación de la estructura del sistema, como a la\n",
       "  reforma de los diferentes elementos curriculares, contando con\n",
       "  una mejor organización, con mejores instrumentos y\n",
       "  recursos y con una concepción más participativa y\n",
       "  adaptada al medio.</p>\n",
       "<p>Un cambio de esta naturaleza exige,\n",
       "  dadas sus especiales características y su complejidad,\n",
       "  aunará los esfuerzos de los distintos elementos sociales\n",
       "  que intervienen en el proceso educativo.</p>\n",
       "<p>La estructura y finalidad del nuevo Sistema Educativo\n",
       "  pretende adecuar a éste a las necesidades y demandas de\n",
       "  una sociedad democrática. Salvaguarda el derecho de todos\n",
       "  a una educación básica de manera obligatoria y\n",
       "  gratuita, permitiendo que el derecho a la educación sea\n",
       "  ejercido en condiciones de libertad e\n",
       "  igualdad.</p>\n",
       "<p>La Reforma Educativa, recogida en la Ley Orgánica\n",
       "  1/1990 de 3 de octubre, de Ordenación General del Sistema\n",
       "  Educativo, aparece en un momento en el que diferentes factores\n",
       "  así lo han hecho necesario:</p>\n",
       "<p>• Desde la anterior Ley General de Educación\n",
       "  (1970), los procesos sociales y políticos ocurridos en\n",
       "  el Estado\n",
       "  Español, han configurado una nueva situación que\n",
       "  exige una remodelación consecuente del sistema\n",
       "  educativo.</p>\n",
       "<p>• La adhesión a la Comunidad Europea del\n",
       "  Estado Español, implica consecuencias tanto de tipo\n",
       "  educativo, como laboral y social, que han aconsejado el\n",
       "  acercamiento de los objetivos, los contenidos y la estructura de\n",
       "  la enseñanza en España, al\n",
       "  resto de los países del entorno europeo.</p>\n",
       "<p>• También se ha hecho necesario adaptar el\n",
       "  sistema educativo a las nuevas demandas de cualificación\n",
       "  profesional, a los recientes avances científicos y\n",
       "  técnicos y a procesos productivos cada vez más\n",
       "  complejos y dinámicos, estableciendo una mayor\n",
       "  conexión entre el mundo educativo y el mundo\n",
       "  laboral.</p>\n",
       "<p>•Evitar la doble vía discriminatoria entre\n",
       "  Formación Profesional y Bachillerato, incorporar los\n",
       "  nuevos temas que demanda la\n",
       "  sociedad y, en general, ofrecer una mayor calidad de la\n",
       "  enseñanza son razones suficientes para una profunda\n",
       "  reforma y para ampliar determinados tramos educativos\n",
       "  (Educación Infantil y Educación Secundaria\n",
       "  Obligatoria).</p>\n",
       "<p><b>Resolución 5 de Marzo:</b></p>\n",
       "<p>Uno de los documentos\n",
       "  elaborados para el conocimiento de la Reforma es la\n",
       "  Resolución del 5 de marzo de 1992 por la que se regula la\n",
       "  elaboración de proyectos curriculares y establecen\n",
       "  orientaciones para la distribución de objetivos y contenidos para\n",
       "  cada uno de los ciclos.</p>\n",
       "<p>S</p>\n",
       "<p><b>Secuenciación de\n",
       "  contenidos:</b></p>\n",
       "<p>La secuenciación de contenidos que se establezca\n",
       "  a lo largo de la enseñanza obligatoria, debe propiciar una\n",
       "  creciente complejidad de los esquemas de conocimiento del alumno,\n",
       "  que lo aproxime, gradualmente, a las estructuras\n",
       "  conceptuales de los distintos cuerpos de conocimiento. Para que\n",
       "  esto sea posible, la secuencia debe respetar las líneas\n",
       "  generales del desarrollo cognitivo señaladas, ampliando\n",
       "  progresivamente el campo de los contenidos que se han de trabajar\n",
       "  y ofreciendo formulaciones conceptuales de distintos niveles de\n",
       "  complejidad a lo largo de la etapa.</p>\n",
       "<p><b>Sistema educativo:</b></p>\n",
       "<p>\"Conjunto de elementos, recursos personales y\n",
       "  materiales, y ordenación de éstos a través\n",
       "  de leyes, programas..., puestos al servicio de la\n",
       "  educación.\"</p>\n",
       "<p><b>Sociedad:</b></p>\n",
       "<p>Grupos de personas que se establecen e\n",
       "  interactúan entre sí para que a partir de unas\n",
       "  leyes puedan convivir y satisfacer las necesidades del\n",
       "  colectivo.</p>\n",
       "<p>\"Agrupación de individuos con el fin de cumplir\n",
       "  mediante la mutua cooperación, todo o alguno de los fines\n",
       "  de la vida\".</p>\n",
       "<p></p>\n",
       "<p></p>\n",
       "<p>T</p>\n",
       "<p><b>Tópicos:</b></p>\n",
       "<p>Los tópicos son centros de interés que\n",
       "  surgen de un acontecimiento importante que se produce en la vida\n",
       "  cotidiana de los niños y niñas, y que no son\n",
       "  expresamente establecidos por el maestro.</p>\n",
       "<p>Según Ángeles Gervilla, en su libro\n",
       "  <i>Dinamizar y educar</i> (Ed.Dykinson, S.L. 1992) define a los\n",
       "  tópicos o núcleos generados como \"aquellos que\n",
       "  surgen espontáneamente en clase y en los que, sin el\n",
       "  profesor pretenderlo, se centra inmediatamente el\n",
       "  interés.\"(pág. 105)</p>\n",
       "<p><b>Tutoría:</b></p>\n",
       "<p>La tutoría y orientación de los alumnos y\n",
       "  alumnas forma parte de la función docente. Corresponde a\n",
       "  los centros educativos la programación de estas\n",
       "  actividades, dentro de lo establecido.</p>\n",
       "<p>Cada grupo de alumnos tendrá  un profesor\n",
       "  tutor, que deberá  coordinarse con los otros\n",
       "  profesores especialistas que, en su caso, intervengan con el\n",
       "  mismo grupo de alumnos.</p>\n",
       "<p>Los centros docentes dispondrán del sistema de\n",
       "  organización de la orientación\n",
       "  psicopedagógica que se establezca con objeto de facilitar\n",
       "  y apoyar las labores de tutoría y orientación de\n",
       "  los alumnos.</p>\n",
       "<p>La tutoría tiene como funciones básicas,\n",
       "  entre otras:</p>\n",
       "<ol type=\"a\">\n",
       "<li>Conocer las aptitudes e intereses de los alumnos con\n",
       "    objeto de orientarles más eficazmente en su proceso de\n",
       "    aprendizaje.</li>\n",
       "<li>Contribuir a establecer relaciones fluidas entre la\n",
       "    escuela y la familia,\n",
       "    así como entre el alumno y la institución\n",
       "    escolar.</li>\n",
       "<li>Coordinar la acción educativa de todos los\n",
       "    profesores que trabajan con un mismo grupo de\n",
       "    alumnos.</li>\n",
       "<li>Coordinar el proceso de evaluación continua de\n",
       "    los alumnos y resolver sobre el mismo.</li>\n",
       "</ol>\n",
       "<p>U</p>\n",
       "<p><b>Unidad didáctica:</b></p>\n",
       "<p>\"Unidad de trabajo relativa a un proceso completo de\n",
       "  enseñanza-aprendizaje, que no tiene duración\n",
       "  temporal fija, y en la cual se precisan el conjunto de objetivos\n",
       "  didácticos, bloques elementales de contenido y actividades\n",
       "  de aprendizaje y de evaluación.</p>\n",
       "<p>Según el Ministerio de Educación y\n",
       "  Ciencia, la\n",
       "  programación se realiza por unidades\n",
       "  didácticas.\"\t</p>\n",
       "<p>\"Tercer nivel de concreción del currículo.\n",
       "  Es el conjunto de actividades que se desarrollan en un tiempo\n",
       "  determinado, para la consecución de unos objetivos\n",
       "  didácticos dando respuesta a todas las cuestiones\n",
       "  curriculares, o sea, al qué enseñar (objetivos y\n",
       "  contenidos), cuándo enseñar (secuencia ordenada de\n",
       "  actividades y contenidos), cómo enseñar\n",
       "  (actividades, organización del espacio y del tiempo,\n",
       "  materiales y recursos didácticos), y a la\n",
       "  evaluación.\"</p>\n",
       "<p>César Coll en su libro Psicología\ty\n",
       "  Curriculum la define como: \" unidad de trabajo relativa a un\n",
       "  proceso completo de enseñanza/aprendizaje que no tiene una\n",
       "  duración temporal fija (una unidad didáctica puede\n",
       "  abarcar varias \"clases\" o \"lecciones tradicionales\"). En la\n",
       "  medida en que concierne a la planificación de un proceso\n",
       "  completo enseñanza/aprendizaje las unidades\n",
       "  didácticas necesitan unos objetivos, unos bloques\n",
       "  elementales de contenidos, unas actividades de aprendizaje y unas\n",
       "  actividades de evaluación.\"</p>\n",
       "<p>Cada unidad didáctica elaborada da respuesta a\n",
       "  las mismas preguntas que el Proyecto Curricular de Etapa\n",
       "  (qué, cuándo y cómo enseñar evaluar),\n",
       "  pero con una mayor concreción y desarrollo curricular.\n",
       "  Cuando hablamos de U.D nos referimos no sólo a una\n",
       "  definición de intenciones educativas para un grupo de\n",
       "  alumnos sino también a la\n",
       "  organización metodológica y a su desarrollo en\n",
       "  el aula.</p>\n",
       "<p>Los decretos que regulan los diferentes\n",
       "  currículos de las diferentes etapas especifican que la\n",
       "  unidad didáctica debe elaborarse teniendo presente el\n",
       "  Proyecto Curricular de Etapa y partiendo en todo momento, de los\n",
       "  conocimientos e intereses del grupo de niños al que va\n",
       "  dirigida la práctica educativa.</p>\n",
       "<p>Las unidades didácticas serán unos\n",
       "  elementos vivos, reales, abiertos y flexibles en los que se\n",
       "  ofrezca al alumno la posibilidad de ser participe de su propio\n",
       "  aprendizaje a través de la investigación y el descubrimiento. Deben\n",
       "  tener como punto de partida la experiencia previa, es decir, de\n",
       "  programaciones ya existentes en el centro.</p>\n",
       "<p>Bajo el punto de vista del enfoque globalizador de\n",
       "  primaria las distintas posibilidades metodológicas para\n",
       "  diseñar una unidad didáctica son: centros de\n",
       "  interés, proyectos, tópicos...</p>\n",
       "<p><b>Universidad:</b></p>\n",
       "<p>Órgano a través del cual la sociedad\n",
       "  conserva y transmite el saber de alto nivel al tiempo que forma a\n",
       "  los profesionales superiores. La universidad va a\n",
       "  tener varias funciones:</p>\n",
       "<ul>\n",
       "<li>Con el saber: observar, transmitir y\n",
       "    acrecentar.</li>\n",
       "<li>Con la sociedad: Formar profesionales y establecer\n",
       "    las bases cientifico-técnicas que permitan resolver los\n",
       "    problemas que tiene la sociedad y la humanidad.</li>\n",
       "</ul>\n",
       "<p>La Universidad\n",
       "  promueve la investigación y el desarrollo.</p>\n",
       "<p align=\"center\">\n",
       "<b>BIBLIOGRAFÍA</b></p>\n",
       "<p>-COLL, CESAR (1987) Psicología y\n",
       "  curriculum Barcelona Ediciones Paidós. Cuadernos de\n",
       "  Pedagogía.</p>\n",
       "<p>-M.E.C (1989) Diseño Curricular\n",
       "  Base.</p>\n",
       "<p>-M.E.C (1992) Materiales para la reforma (cajas\n",
       "  rojas).</p>\n",
       "<p>-M.E.C (1992) Guía General de\n",
       "  Primaria.</p>\n",
       "<p>-SAÉNZ BARRIO, O (1985) Didáctica\n",
       "  General. Madrid. Anaya.</p>\n",
       "<p>-SÁNCHEZ CEREZO (1983) Diccionario de las\n",
       "  ciencias de la\n",
       "  educación Publicaciones Diagonal-Santillana.\n",
       "  Madrid.</p>\n",
       "<p>-Vocabulario Básico de la Reforma\n",
       "  Educativa. Edebé.</p>\n",
       "<p>-Exposición de Rocío López\n",
       "  Ordóñez y Manuel Muñoz Castellanos. 1º\n",
       "  Ed. Física\n",
       "  Tarde Curso 1996/97</p> <!-- FIN CUERPO -->\n",
       "<p> </p>\n",
       "<p> </p>\n",
       "<p>Autor:</p>\n",
       "</div></div></div></div></div></div></body></html>\n",
       "<p>Arteaga</p>\n",
       "<p><!-- email --></p>\n",
       "<!-- PARTES -->\n",
       "<br/>\n",
       "\n",
       "\n",
       "<!-- Fin Contenido -->\n",
       "<!-- /vista-mono -->\n",
       "<!-- COMENTARIOS -->\n",
       "<script type=\"text/javascript\">\n",
       "        mono.temp_mono_id = 736;\n",
       "</script>\n",
       "<div id=\"Comentarios\">\n",
       "<a name=\"Comentarios\"></a>\n",
       "<h2>Comentarios</h2>\n",
       "<div id=\"js-comentarios\"></div>\n",
       "<div class=\"comentario-publicado\" id=\"js-comentario-publicado\" style=\"display:none;\">\n",
       "<p>El comentario ha sido publicado.</p>\n",
       "</div>\n",
       "<div class=\"comentario-error\" id=\"js-comentario-error\" style=\"display:none;\">\n",
       "<p> </p>\n",
       "</div>\n",
       "</div>\n",
       "<!-- FIN COMENTARIOS -->\n",
       "<div><div></div></div> <!-- dos divs adicionales por bug en IE, no quitar -->\n",
       "<!-- Cualquier contenido adicional, meterlo aca -->\n",
       "<div id=\"Adicional\">\n",
       "<hr color=\"gray\"/>\n",
       "<table align=\"center\" border=\"0\" id=\"Excepcion\" width=\"98%\">\n",
       "<tr>\n",
       "<td id=\"Excepcion\" width=\"45%\">\n",
       "<!-- RELACIONADOS - Educacion -->\n",
       "<div id=\"Relacionados\">\n",
       "<a name=\"Relacionados\"></a>\n",
       "<h2>Trabajos relacionados</h2>\n",
       "<ul class=\"ul-relacionados\" id=\"Monos\">\n",
       "<li>\n",
       "<span class=\"sprites-2011 sprite-ico_mono\"></span>\n",
       "<h3><a href=\"https://www.monografias.com/trabajos10/revista/revista.shtml\">La Educación Social y el control de los adolescentes en conflicto con la ley penal</a></h3>\n",
       "<p> ¿Es posible superar la paradoja?. La acción educativo-social de la libertad asistida. Objetivos de la acción. Etapas de ...</p>\n",
       "</li>\n",
       "<li>\n",
       "<span class=\"sprites-2011 sprite-ico_mono\"></span>\n",
       "<h3><a href=\"https://www.monografias.com/trabajos10/sitli/sitli.shtml\">Análisis de la situación lingüística de los países del Mercosur y de Chile</a></h3>\n",
       "<p> Las lenguas indígenas. Las lenguas oficiales del Mercado común. Las otras lenguas resultantes de la inmigración. Los con...</p>\n",
       "</li>\n",
       "<li>\n",
       "<span class=\"sprites-2011 sprite-ico_mono\"></span>\n",
       "<h3><a href=\"https://www.monografias.com/trabajos10/pl-esp-/pl-esp-.shtml\">Las políticas de difusión lingüístico-culturales de España en el marco de la construcción del Mercosur...</a></h3>\n",
       "<p> Estatuto de la lengua española en américa latina. Las iniciativas lingüístico-culturales de españa en los países de la z...</p>\n",
       "</li>\n",
       "</ul>\n",
       "<p align=\"right\"> Ver mas trabajos de <a href=\"/Educacion/\">Educacion</a></p>\n",
       "</div>\n",
       "</td><td id=\"Excepcion\" width=\"5%\"> </td>\n",
       "<td valign=\"top\" width=\"50%\">\n",
       "<div>\n",
       "<!-- PubliQ -->\n",
       "</div>\n",
       "</td></tr></table>\n",
       "<!-- PSJ -->\n",
       "\n",
       "\n",
       " \n",
       "\n",
       "\n",
       "<p class=\"advertencia\"><small>Nota al lector: es posible que esta página no contenga todos los componentes del trabajo original (pies de página, avanzadas formulas matemáticas, esquemas o tablas complejas, etc.). Recuerde que para ver el trabajo en su versión original completa, puede descargarlo desde el <a href=\"#top\">menú superior</a>.\n",
       "</small></p>\n",
       "<div align=\"center\">\n",
       "<!-- PUT THIS TAG IN DESIRED LOCATION OF SLOT 728x90Footer -->\n",
       "<!-- END OF TAG FOR SLOT 728x90Footer -->\n",
       "</div>\n",
       "<br/>\n",
       "<p class=\"ml10 mr10\"><small>Todos los documentos disponibles en este sitio expresan los puntos de vista de sus respectivos autores y no de Monografias.com. El objetivo de Monografias.com es poner el conocimiento a disposición de toda su comunidad. Queda bajo la responsabilidad de cada lector el eventual uso que se le de a esta información. Asimismo, es obligatoria la cita del autor del contenido y de Monografias.com como fuentes de información.</small></p>\n",
       "</div>\n",
       " <!-- Fin Cuerpo -->\n",
       "<div id=\"Footer\">\n",
       "<div class=\"cajita\">\n",
       "<p align=\"center\" class=\"secundario\">El Centro de Tesis, Documentos, Publicaciones y Recursos Educativos más amplio de la Red.<br>\n",
       "<a href=\"/politicas.shtml\">Términos y Condiciones</a> | <a href=\"/mediakit\">Haga publicidad en Monografías.com</a> | <a href=\"/contacto.shtml\">Contáctenos</a> | <a href=\"http://blogs.monografias.com/institucional/\">Blog Institucional</a><br>© Monografias.com S.A.</br></br></p>\n",
       "<!-- <p align=\"center\"><a href=\"http://validator.w3.org/check?uri=referer\"><img src=\"//www.w3.org/Icons/valid-xhtml10\"\n",
       "\t\t\talt=\"Valid XHTML 1.0 Transitional\" height=\"31\" width=\"88\" /></a></p>\n",
       "\t\t\t-->\n",
       "</div>\n",
       "<div><div></div></div> <!-- dos divs adicionales por bug en IE, no quitar -->\n",
       "</div> <!-- Fin Footer -->\n",
       " <!-- Fin Pagina -->\n",
       "\n",
       "<!-- Fin Wrap -->\n",
       "<!-- e-planning v3 - Comienzo espacio Monografias _ monografias _ monografias -->\n",
       "<!-- Deprecated -->\n",
       "<!-- e-planning v3 - Fin espacio Monografias _ monografias _ monografias -->\n",
       "<!-- Ventana modal de descarga de archivo (#446) -->\n",
       "<span id=\"js-descargaModal\" style=\"display:none;\">\n",
       "<div id=\"modalBackgroundOverlay\" style=\"display: block; opacity: 0.6; filter:alpha(opacity=60);\"></div>\n",
       "<div id=\"colorbox\" style=\"display: block; height: 644px; margin-top: 14px; width: 644px;\">\n",
       "<div id=\"borderTopLeft\" style=\"top: 0px; left: 0px;\"></div>\n",
       "<div id=\"borderTopCenter\" style=\"top: 0px; left: 21px; width: 602px; display: block;\"></div>\n",
       "<div id=\"borderTopRight\" style=\"top: 0px; left: 623px;\"></div>\n",
       "<div id=\"borderMiddleLeft\" style=\"top: 21px; left: 0px; height: 602px; display: block;\"></div>\n",
       "<div id=\"borderMiddleRight\" style=\"top: 21px; left: 623px; height: 602px; display: block;\"></div>\n",
       "<div id=\"borderBottomLeft\" style=\"top: 623px; left: 0px;\"></div>\n",
       "<div id=\"borderBottomCenter\" style=\"top: 623px; left: 21px; width: 602px; display: block;\"></div>\n",
       "<div id=\"borderBottomRight\" style=\"top: 623px; left: 623px;\"></div>\n",
       "<div id=\"modalContent\" style=\"width: 602px; height: 602px; display: block; top: 21px; left: 21px;\">\n",
       "<div id=\"modalLoadedContent\" style=\"height: 560pxpx; width: 600px; display: block;\">\n",
       "<a href=\"#\" id=\"js-descargaModal-cerrar\" style=\"float:right;height:16px;\">cerrar</a>\n",
       "<span id=\"publi-modal\">\n",
       "<!-- contenido acÃ¡ -->\n",
       "</span>\n",
       "<br id=\"modalInfoBr\"/>\n",
       "<span id=\"contentTitle\"></span>\n",
       "</div><!-- /modalLoadedContent -->\n",
       "<div id=\"modalLoadingOverlay\" style=\"display: none;\"></div>\n",
       "</div><!-- /modalContent -->\n",
       "</div><!-- /colorbox -->\n",
       "</span><!-- /descargaModal -->\n",
       "<!-- /Descarga modal -->\n",
       "\n"
      ]
     },
     "execution_count": 9,
     "metadata": {},
     "output_type": "execute_result"
    }
   ],
   "source": [
    "html"
   ]
  },
  {
   "cell_type": "code",
   "execution_count": 13,
   "metadata": {},
   "outputs": [],
   "source": [
    "header=html.find('div',id=\"adhispanic\")"
   ]
  },
  {
   "cell_type": "code",
   "execution_count": 20,
   "metadata": {},
   "outputs": [
    {
     "data": {
      "text/plain": [
       "[<p>A</p>, <p><b>Actitud:</b></p>, <p>\"Disposición de ánimo que hace reaccionar\n",
       "   o actuar de una forma determinada delante de una idea, una\n",
       "   persona o un\n",
       "   hecho concreto.\n",
       "   Implica la tendencia a la acción directa, a favor o en\n",
       "   contra del objeto. Las actitudes,\n",
       "   junto con los valores y\n",
       "   las normas,\n",
       "   constituyen uno de los tres tipos de contenidos de\n",
       "   enseñanza establecidos en el\n",
       "   currículum\".</p>, <p>\"Disposición interna de la persona a valorar\n",
       "   favorable o desfavorablemente una situación, un hecho,\n",
       "   etc.; Predisposición para actuar, tendencia estable a\n",
       "   comportarse de determinada manera.\"</p>, <p><b>Actividades escolares:</b></p>, <p>Ejercitaciones que forman parte de la programación escolar y que tienen por\n",
       "   finalidad proporcionar a los alumnos la oportunidad de vivenciar\n",
       "   y experimentar hechos o comportamientos tales como pensar,\n",
       "   adquirir conocimientos, desarrollar actitudes\n",
       "   sociales, integrar un esquema de valores e\n",
       "   ideales y conseguir determinadas destrezas y habilidades\n",
       "   específicas.</p>, <p>Tipos de actividades escolares:</p>, <p><b>Actividades extraescolares:</b></p>, <p>Es el conjunto de actividades concurrentes con las\n",
       "   escolares en cuanto a la educación integral de\n",
       "   los alumnos, pero desde perspectivas que la escuela no puede\n",
       "   atender en su actividad normal.</p>, <p>Características:</p>, <p><b>Actividades de desarrollo:</b></p>, <p>Actividades por las que se va adquiriendo conocimientos\n",
       "   nuevos. Son las actividades del continuo aprendizaje.</p>, <p><b>Actividades de evaluación:</b></p>, <p>Actividades concretas con las que se evaluara a los\n",
       "   alumnos para ver si han alcanzado los objetivos\n",
       "   previstos.</p>, <p><b>Acto didáctico:</b></p>, <p>Es la actividad que pone en relación al que\n",
       "   enseña con el que aprende (García Hoz).</p>, <p>Características:</p>, <p><b>Acto Educativo:</b></p>, <p>Acto sistemático e intencional que realiza\n",
       "   el hombre y\n",
       "   cuyo objetivo es la\n",
       "   consecución del fin de la Educación, es decir,\n",
       "   la perfección humana.</p>, <p>Es un proceso que\n",
       "   atiende al hombre en su\n",
       "   totalidad e intenta conducirle hacia la realización y\n",
       "   consecución de su proyecto personal de vida.\n",
       "   Requiere la intervención y el contacto humano entre\n",
       "   educador (actúa como facilitante) y el educando que es el\n",
       "   que busca el contacto.</p>, <p><b>Adaptaciones curriculares:</b></p>, <p>Las adaptaciones curriculares son decisiones relativas a\n",
       "   la\n",
       "   organización de los recursos\n",
       "   dirigidos al análisis de los diferentes alumnos. Se\n",
       "   busca la adaptación y organización de los elementos espaciales\n",
       "   para conseguir así facilitar el aprendizaje y\n",
       "   favorecer la autonomía y movilidad en el\n",
       "   centro.</p>, <p>\"Forma de atención a la diversidad que\n",
       "   prevé la LOGSE, basada en concreciones del\n",
       "   currículo que permiten individualizar los procesos de\n",
       "   enseñanza-aprendizaje para\n",
       "   atender a los alumnos/as con necesidades educativas especiales.\n",
       "   Consisten en la adecuación de los objetivos\n",
       "   educativos, la eliminación o inclusión de\n",
       "   determinados contenidos y la modificación de los criterios\n",
       "   de evaluación, así como en la\n",
       "   ampliación de las actividades educativas en determinadas\n",
       "   áreas curriculares. Deben ir precedidas de una evaluación\n",
       "   de las necesidades educativas del alumno/a y de una propuesta\n",
       "   curricular especifica\".</p>, <p>Las adaptaciones curriculares comprenderán la\n",
       "   adecuación de los objetivos\n",
       "   educativos, la eliminación o inclusión de\n",
       "   determinados contenidos, la metodología que se va a seguir y la\n",
       "   consiguiente modificación de los criterios de evaluación, así como la\n",
       "   ampliación de las actividades educativas de determinadas\n",
       "   áreas curriculares. Estas adaptaciones curriculares\n",
       "   tendrán como objetivo que\n",
       "   los alumnos alcancen las capacidades generales propias de la\n",
       "   Educación\n",
       "   Primaria, de acuerdo con sus posibilidades. En todo caso las\n",
       "   adaptaciones curriculares estarán precedidas de una\n",
       "   evaluación de las necesidades educativas\n",
       "   especiales del alumno y de una propuesta curricular\n",
       "   específica.</p>, <p><b>Administraciones educativas:</b></p>, <p>Las administraciones educativas son los organismos que\n",
       "   dentro de una demarcación territorial de gestión\n",
       "   tienen competencia\n",
       "   educativa. Son administraciones educativas el Ministerio de\n",
       "   Educación\n",
       "   y Ciencia en su\n",
       "   ámbito territorial de gestión\n",
       "   y las Administraciones competentes de las distintas\n",
       "   autonomías.</p>, <p><b>Alumno:</b></p>, <p>Del latín <i>alumnum</i>, de <i>alere</i>,\n",
       "   alimentar. El alumno es la persona, respecto\n",
       "   del que la educó. Es el discípulo respecto de su\n",
       "   maestro, de la materia, etc.;\n",
       "   estudiante.</p>, <p>Podemos hablar de varios tipos de alumnos:</p>, <p>Alumno becarioà alumno que disfruta de una\n",
       "   beca.</p>, <p>Alumno colegiadoà es el que recibe la enseñanza en\n",
       "   un colegio o centro reconocido.</p>, <p>Alumno externoà es el que sólo permanece en el\n",
       "   centro de enseñanza durante las horas de clase.</p>, <p>Alumno internoà aquel que vive en el establecimiento\n",
       "   donde recibe la enseñanza.</p>, <p>Alumno mediopensionistaà es el que perm,anece en el centro\n",
       "   de enseñanza durante toda la jornada escolar, almorzando\n",
       "   en éste.</p>, <p>Alumno libreà es el que no cursa estudios en centros\n",
       "   del estado, nien\n",
       "   colegios reconocidos o autorizados y que ha de examinarse ante\n",
       "   los tribunales de los centros oficiales. También alumno\n",
       "   universitario que ha obtenido la dispensa de escolaridad o que no\n",
       "   asiste obligatoriamente a las clases de un centro, pero que tiene\n",
       "   que examinarse ante los profesores o catedraticos del\n",
       "   mismo.</p>, <p>Alumno oficialà es el que sigue la enseñanza en\n",
       "   los colegios, institutos, universidades y demás centros\n",
       "   del estado, con\n",
       "   obligatoriedad de asistir a clase.</p>, <p>Alumno oyenteà es aquel que obtiene del decano o\n",
       "   catedrático la autorización para asistir a las\n",
       "   clases y prácticas de los alumnos oficiales, para\n",
       "   examinarse luego en calidad de alumno\n",
       "   libre.</p>, <p><b>Antididáctica:</b></p>, <p>En relación al contenido, el proceso\n",
       "   instructivo puede ser entendido dentro de esta corriente como una\n",
       "   tarea que comporta dos momentos fundamentales y\n",
       "   dialécticos inseparables. La concienciación lleva\n",
       "   consigo el compromiso de ruptura con las estructuras\n",
       "   establecidas, por cuanto que estas son mecanismos de poder de la\n",
       "   ideología dominante.</p>, <p>En cuanto a la finalidad la antididáctica lucha\n",
       "   por el cambio de\n",
       "   estructuras de\n",
       "   dominación, por la revolución\n",
       "   total, no sólo didáctica, dentro del marco\n",
       "   sociopolítico.</p>, <p>Se propugna un cambio, en\n",
       "   cuanto al acto didáctico, en la relación\n",
       "   profesor-alumno-materia. Se\n",
       "   trata de romper todo vinculo dependiente del docente o el\n",
       "   discente entre sí y con la materia objeto\n",
       "   de conocimiento.</p>, <p><b>Aprender:</b></p>, <p>\"Proceso\n",
       "   mediante el cual el individuo adquiere conocimientos, conductas,\n",
       "   habilidades y destrezas\"</p>, <p>Aprender es conocer una cosa por medio del estudio o de\n",
       "   la experiencia. Es fijar algo en la memoria.\n",
       "   Proviene del latín\n",
       "   <i>a+prehendere.</i><i>à </i>percibir.</p>, <p><b>Aprender a aprender:</b></p>, <p>\"Adquirir una serie de habilidades y estrategias que\n",
       "   posibiliten futuros aprendizajes de una manera\n",
       "   autónoma\".</p>, <p><b>Aprendizaje:</b></p>, <p>Todo aprendizaje supone la interiorización y\n",
       "   reelaboración individual de una serie de significados\n",
       "   culturales socialmente compartidos. La interacción con las\n",
       "   personas y los objetos que subyace en todo proceso de\n",
       "   aprendizaje, pasa necesariamente por el filtro de la cultura\n",
       "   común y está  mediatizada por la\n",
       "   utilización de un determinado lenguaje.\n",
       "   \tEl aprendizaje\n",
       "   actúa como motor del\n",
       "   desarrollo de\n",
       "   las capacidades intelectuales de la persona. Pero a\n",
       "   su vez, y en una relación dialéctica, la\n",
       "   posibilidad de asimilación de los contenidos culturales\n",
       "   está estrechamente relacionada con el nivel de desarrollo\n",
       "   conseguido y los conocimientos elaborados en experiencias\n",
       "   anteriores.</p>, <p>El aprendizaje se\n",
       "   produce cuando un conocimiento\n",
       "   nuevo se integra en los esquemas de conocimiento\n",
       "   previos llegando incluso a modificarlos. Para que esto suceda, el\n",
       "   alumno tiene que ser capaz de establecer relaciones\n",
       "   significativas entre el\n",
       "   conocimiento nuevo y los que ya posee.</p>, <p>Esto implica que habrá  de producirse un\n",
       "   desajuste óptimo entre las competencias y\n",
       "   conocimientos previos de los alumnos y la tarea propuesta, es\n",
       "   decir, que ésta resulte lo suficientemente difícil\n",
       "   como para constituir un desafío pero no tanto que resulte\n",
       "   imposible de realizar.</p>, <p>Implica también que los alumnos y alumnas accedan\n",
       "   al nuevo conocimiento a\n",
       "   través de una tarea que no sea arbitraria, sino que tenga\n",
       "   sentido para ellos y pueda ser asumida intencionalmente, teniendo\n",
       "   en cuenta los procedimientos y\n",
       "   prácticas sociales que son habituales en cada contexto\n",
       "   cultural. El trabajo\n",
       "   cooperativo entre iguales favorece, la movilización de\n",
       "   esquemas de conocimiento y\n",
       "   el aprendizaje\n",
       "   significativo, por cuanto provoca el enfrentamiento de puntos\n",
       "   de vista y la aparición de conflictos\n",
       "   socio-cognitivos.</p>, <p>De esta manera puede asegurarse la funcionalidad del\n",
       "   aprendizaje escolar, es decir, que las competencias y\n",
       "   los conocimientos que se adquieran en el aula puedan ser\n",
       "   utilizados en cualquier situación de la vida cotidiana que\n",
       "   lo requiera.</p>, <p><b>Aprendizaje mecánico:</b></p>, <p>\"Aprendizaje en el que aquello que se aprende,\n",
       "   generalmente de forma memorística y repetitiva, no es\n",
       "   posible que sea utilizado de forma distinta o en situaciones\n",
       "   diferentes a aquellos en las que se ha aprendido. Generalmente\n",
       "   son aprendizajes poco sólidos, sin arraigo en la estructura\n",
       "   cognitiva del sujeto y condenados, por lo general, al\n",
       "   rápido olvido.\"</p>, <p><b>Aprendizaje por descubrimiento:</b></p>, <p>\"Aprendizaje en el que el alumno construye sus\n",
       "   conocimientos de forma autónoma, sin la ayuda permanente\n",
       "   del enseñante. Esta forma de entender el aprendizaje\n",
       "   requiere un método de\n",
       "   búsqueda activa por parte del que aprende, bien siguiendo\n",
       "   un método\n",
       "   inductivo, bien hipotético-deductivo.\"</p>, <p><b>Aprendizaje significativo:</b></p>, <p>\"Construcción de aprendizajes por parte del\n",
       "   alumno, con la ayuda de la intervención del profesor, que\n",
       "   relaciona de forma no arbitraria la nueva información con lo que el alumno\n",
       "   sabe.\"</p>, <p><b>Áreas curriculares:</b></p>, <p>Áreas curriculares son \"agrupamientos de los\n",
       "   contenidos en ámbitos de experiencia de los niños y\n",
       "   niñas.\"</p>, <p>En el libro sobre\n",
       "   Orientaciones Didácticas para la Educación Primaria\n",
       "   (pág. 12, MEC 1992) se habla de las áreas\n",
       "   curriculares de la manera siguiente: \"Considerando las\n",
       "   finalidades de la Educación Primaria y los objetivos\n",
       "   generales que las concretan, se seleccionan y estructuran los\n",
       "   contenidos de aprendizaje en áreas. Esta\n",
       "   estructuración tiene por objeto facilitar al profesor la\n",
       "   ordenación y planificación de su actividad docente,\n",
       "   así como recoger los contenidos aportados por las diversas\n",
       "   disciplinas que están en la base de cada una de las\n",
       "   áreas. Esto no significa que deban abordarse por separado\n",
       "   en las propuestas de trabajo en el aula. En todo caso, es preciso\n",
       "   integrar los contenidos de las distintas áreas en torno a ejes\n",
       "   globalizadores\".</p>, <p>Las áreas curriculares de la Educación\n",
       "   Primaria son:</p>, <p>-Conocimiento del Medio Natural, Social y\n",
       "   Cultural.</p>, <p>-Educación Artística.</p>, <p>-Educación\n",
       "   Física.</p>, <p>-Lengua\n",
       "   Castellana y Literatura.</p>, <p>-Matemáticas.</p>, <p>-Lengua\n",
       "   extranjera.</p>, <p>\"Las áreas curriculares son conjuntos de\n",
       "   experiencias o conocimientos de disciplinas afines, que\n",
       "   están interrelacionados y constituyen un ámbito del\n",
       "   trabajo escolar\".</p>, <p><b>Asignaturas:</b></p>, <p>El termino asignaturas ha quedado relegado, con la\n",
       "   Reforma, a un puesto secundario. En la actualidad en primaria no\n",
       "   hay asignaturas sino áreas. Sólo se habla de\n",
       "   asignaturas en 3º y 4º de la ESO.</p>, <p><b>Autoaprendizaje:</b></p>, <p>También es conocido por ensayos y\n",
       "   errores. En este tipo de aprendizaje falta la dirección del docente. Tampoco existe\n",
       "   ningún tipo de estímulos afectivos como pueden ser\n",
       "   los premios y los castigos. Lo único que actúa en\n",
       "   este aprendizaje es la autosatisfacción personal.</p>, <p><b>Autoevaluación:</b></p>, <p>La autoevaluación es la evaluación que\n",
       "   realiza el alumno sobre su propia actuación con el fin de\n",
       "   conocer y mejorar su proceso educativo.</p>, <p><b>Ayuda pedagógica:</b></p>, <p>\"Intervención del docente para guiar y orientar\n",
       "   al alumno a fin de que éste pueda avanzar en su\n",
       "   aprendizaje.\"</p>, <p>B</p>, <p><b>Bachillerato:</b></p>, <p>En la estructura del\n",
       "   sistema educativo\n",
       "   que configura la LOGSE, el bachillerato es una etapa no\n",
       "   obligatoria, dentro de la Educación Secundaria.</p>, <p>En esta etapa, se pretende que los jóvenes\n",
       "   adquieran madurez intelectual y humana así como los\n",
       "   conocimientos científicos y tecnológicos\n",
       "   básicos de las materias que cursan y que tienen distintas\n",
       "   características y funciones dentro\n",
       "   del desarrollo\n",
       "   curricular y del de las capacidades a desarrollar en la etapa.\n",
       "   Esto es posible, porque sin pretender poder dar\n",
       "   reglas fijas al respecto, se puede decir que el alumnado de\n",
       "   bachillerato, que como mínimo debe tener 16 años,\n",
       "   tiene bastante desarrollado el pensamiento\n",
       "   formal, pudiendo desarrollar el pensamiento\n",
       "   abstracto y el hipotético deductivo.</p>, <p>El Bachillerato, en el marco del sistema educativo\n",
       "   anterior, se configuraba básicamente como una etapa\n",
       "   preparatoria para la consecución de posteriores estudios\n",
       "   universitarios por lo tanto, era una etapa de transición.\n",
       "   Dado ese carácter básicamente preparatorio para la\n",
       "   Universidad\n",
       "   tenía un carácter, por un lado, fuertemente\n",
       "   academicista, y por otro elitista como camino casi obligado para\n",
       "   acceder a las cotas más altas de la cultura y del\n",
       "   poder social.\n",
       "   El resultado de todo ello en muchos casos resultaba ser que, el\n",
       "   alumnado que cursaba el bachillerato y que por cualquier causa no\n",
       "   continuaba o no terminaba estudios universitarios, se encontraba\n",
       "   con una nula preparación para incorporarse al mundo\n",
       "   laboral. Entre\n",
       "   los objetivos del bachillerato no se encontraba el de obtener una\n",
       "   preparación base para la incorporación a la vida\n",
       "   activa.</p>, <p>El bachillerato que configura la LOGSE, se caracteriza\n",
       "   por:</p>, <p>• Su carácter preparatorio. No sólo\n",
       "   prepara para posteriores estudios universitarios sino\n",
       "   también para acceder a la formación profesional de\n",
       "   grado superior, y a la vida activa. Por ello proporciona una\n",
       "   formación profesional de base al alumnado y una\n",
       "   formación más práctica que relaciona los\n",
       "   aspectos teóricos de las materias con sus aplicaciones\n",
       "   prácticas.</p>, <p>• Su valor\n",
       "   formativo, en relación con el carácter terminal de\n",
       "   la etapa, proporcionará al alumnado que lo curse los\n",
       "   medios para\n",
       "   lograr una madurez intelectual y humana así como una\n",
       "   formación versátil que permita adaptarse con\n",
       "   facilidad a los múltiples cambios que se producen tan\n",
       "   rápidamente en nuestra sociedad\n",
       "   actual.</p>, <p>•Su carácter orientador al dar respuesta a\n",
       "   los diversos intereses del alumnado a través de un\n",
       "   bachillerato más flexible en su estructura y\n",
       "   en el que el alumnado configura en cierta medida su itinerario\n",
       "   educativo.</p>, <p>Los objetivos de esta etapa están relacionados\n",
       "   con los objetivos de la etapa anterior, la Educación\n",
       "   Secundaria Obligatoria, desarrollando las capacidades del alumno\n",
       "   acorde con su edad y profundizando en los contenidos\n",
       "   científicos y tecnológicos de las materias que\n",
       "   componen los dos cursos del\n",
       "   Bachillerato.</p>, <p>La LOGSE de forma general señala para todas las\n",
       "   etapas la necesidad de aplicar una metodología activa, y la necesaria\n",
       "   participación del alumnado en el proceso de\n",
       "   enseñanza- aprendizaje. En concreto para\n",
       "   el bachillerato indica que la metodología favorecerá en los\n",
       "   alumnos y las alumnas la capacidad para aprender por si mismos,\n",
       "   para trabajar en equipo y para aplicar los métodos de\n",
       "   la investigación. De igual modo subraya que\n",
       "   esta deberá relacionar de los aspectos teóricos de\n",
       "   las materias con sus aplicaciones prácticas en la sociedad. Por lo\n",
       "   tanto es importante continuar con una metodología que desarrolle aprendizajes\n",
       "   significativos.</p>, <p>El bachillerato es una etapa de dos años de\n",
       "   duración y todo el alumnado que accede a él ha\n",
       "   cursado dos años más de educación\n",
       "   obligatoria que en el sistema educativo\n",
       "   anterior.</p>, <p>Existen cuatro modalidades de bachillerato, de Artes, de\n",
       "   Ciencias de la\n",
       "   Naturaleza y\n",
       "   de la Salud, de\n",
       "   Ciencias\n",
       "   Humanidades y Ciencias\n",
       "   Sociales y tecnológica. Estas cuatro opciones\n",
       "   proporcionan unos estudios de bachillerato que atienden a la\n",
       "   diversidad de intereses y capacidades del alumnado, aún\n",
       "   cuando tiene una única concepción para las cuatro\n",
       "   modalidades. Independientemente de la modalidad cursada, una vez\n",
       "   superados los dos años se obtiene un único\n",
       "   título de Bachiller. Además, el bachillerato se\n",
       "   configura flexible y transitable, permitiendo que el alumnado\n",
       "   pueda modificar su opción inicial con el menor costo\n",
       "   académico posible. También, el bachillerato debe\n",
       "   responder a su triple función formativa, preparatoria y\n",
       "   orientadora. Para ello en su estructura se\n",
       "   configuran tres tipos de materias: las materias comunes, las\n",
       "   materias de modalidad y las materias optativas.</p>, <p>Salidas del Bachillerato:</p>, <p>El Artículo 29.2 de la L.O.G.S.E. señala\n",
       "   que el título de Bachiller permitirá acceder a la\n",
       "   Formación Profesional de grado superior y a los estudios\n",
       "   universitarios.</p>, <p>También permitirá acceder a los grados y\n",
       "   estudios superiores de las enseñanzas artísticas,\n",
       "   previa superación de la correspondiente prueba.</p>, <p>El Bachillerato es, pues, la vía normal de acceso\n",
       "   a estudios posteriores, sean universitarios o de formación\n",
       "   profesional. Pero se trata de un tránsito no\n",
       "   automático, sino bajo determinadas condiciones que, por\n",
       "   otra parte, son diferentes en cada caso.</p>, <p>Así, para acceder de forma directa a la\n",
       "   Formación Profesional de grado superior, además del\n",
       "   título de Bachiller, puede resultar necesario haber\n",
       "   cursado determinadas materias de bachillerato, según el\n",
       "   ciclo que vaya a cursarse.</p>, <p>Para acceder a la Universidad\n",
       "   habrá una prueba de acceso a la misma. Dicha prueba de\n",
       "   acceso tendrá carácter único, cualquiera que\n",
       "   sea la modalidad de Bachillerato seguida por el alumno o la\n",
       "   alumna y versará sobre los contenidos de las materias de\n",
       "   Bachillerato establecidos reglamentariamente.</p>, <p><b>B.O.E:</b></p>, <p>Boletín Oficial del Estado.\n",
       "   Publicación donde se recogen todas las propuestas,\n",
       "   decisiones y leyes del\n",
       "   Estado.</p>, <p>C</p>, <p><b>Cajas Rojas:</b></p>, <p>Las Cajas Rojas contienen los materiales\n",
       "   para la Reforma que el Ministerio envía a todos los\n",
       "   centros de acuerdo con el nuevo curriculum\n",
       "   establecido para ayudar al profesorado a preparar la\n",
       "   elaboración del proyecto\n",
       "   curricular.</p>, <p><b>Capacidades:</b></p>, <p>Las capacidades son aquellas aptitudes que el alumno ha\n",
       "   de alcanzar para conseguir un desarrollo\n",
       "   integral como persona. En el\n",
       "   currículo de una etapa educativa, los objetivos generales\n",
       "   de etapa y de área vienen expresados en términos de\n",
       "   capacidades.</p>, <p>\"Aptitud para hacer, conocer, sentir. Los objetivos del\n",
       "   curriculum de\n",
       "   la Reforma se formulan en términos de capacidades que hay\n",
       "   que desarrollar. Estas capacidades deben ser de distintos tipos:\n",
       "   cognitivas, psicomotrices, de autonomía y de equilibrio\n",
       "   personal, de\n",
       "   interrelación personal, y de\n",
       "   inserción social.\"</p>, <p>Son cinco:</p>, <p><b>Carácter abierto:</b></p>, <p>El carácter abierto del curriculum\n",
       "   concede gran importancia a las diferencias individuales y al\n",
       "   contexto social, cultural y geográfico en el que se aplica\n",
       "   el programa. Se\n",
       "   basa en una interacción permanente en el sistema y su\n",
       "   entorno, integrando las diferencias externas en el propio\n",
       "   desarrollo del proceso educativo, que está abierto a un\n",
       "   continuo proceso de revisión y reorganización. Lo\n",
       "   importante, pues, no está en el resultado del aprendizaje,\n",
       "   sino en el proceso. Los objetivos están definidos en\n",
       "   términos generales para dar cabida a las modificaciones\n",
       "   continuas del programa. La\n",
       "   evaluación se basa en la observación del proceso de aprendizaje con\n",
       "   el fin de determinar el nivel de comprensión del contenido\n",
       "   y la utilización del conocimiento en nuevas\n",
       "   situaciones.</p>, <p>Un curriculum\n",
       "   abierto tiene la ventaja de garantizar el respeto a los\n",
       "   diferentes contextos de aplicación a la vez que implica\n",
       "   creativamente al profesor en el desempeño de su labor\n",
       "   profesional.</p>, <p>El carácter abierto del curriculum\n",
       "   debe complementarse con la preocupación de hacerlo\n",
       "   accesible a la mayoría de los profesores facilitando su\n",
       "   uso como elemento de programación.</p>, <p>Pero este curriculum abierto también tiene sus\n",
       "   lados un poco más negativos como por ejemplo:</p>, <p><b>Carácter propio:</b></p>, <p>\"Define la identidad de\n",
       "   un centro privado y el tipo de educación que se ha\n",
       "   comprometido a impartir; es decir, describe un ideal de escuela y un\n",
       "   ideal de educación, y no tanto la realidad del centro. Es\n",
       "   estable y el titular del centro tiene derecho a\n",
       "   establecerlo.\"</p>, <p><b>Centros de interés:</b></p>, <p>El precursor del método de\n",
       "   los centros de interés\n",
       "   fue Ovide Decroly, medico y pedagogo belga (1871-1932), que se ha\n",
       "   convertido en uno de los autores más significativos de la\n",
       "   educación infantil actual.</p>, <p>Los centros de interés\n",
       "   son elegidos por los propios maestros/as, una vez analizadas las\n",
       "   necesidades vitales de los niños/as, teniendo presente sus\n",
       "   características evolutivas. Así\n",
       "   pues, si dichos centros de interés\n",
       "   (CI) satisfacen sus necesidades, al ser presentados en el aula\n",
       "   surgirá el interés en\n",
       "   los alumnos, produciéndose la\n",
       "   motivación y posteriormente el\n",
       "   aprendizaje.</p>, <p>Según Decroly tres serían los pasos en el\n",
       "   desarrollo de los centros de interés:</p>, <p>La utilización de este método se\n",
       "   recomienda, sobre todo, en el primer ciclo de Educación\n",
       "   Primaria. Así se consigue una mayor continuidad con la\n",
       "   práctica educativa que se desarrolla en la\n",
       "   Educación Infantil. Y es que los centros de interés\n",
       "   constituyen una de las metodologías más extendidas\n",
       "   en la Educación Infantil.</p>, <p>En la elección de los centros de interés\n",
       "   el maestro/a debe tener en cuenta la realidad que rodea tanto al\n",
       "   centro como a los alumnos, para conseguir que sean verdaderamente\n",
       "   interesantes para los alumnos y que estos se sientan\n",
       "   identificados con los temas que se plantean. Y es que los\n",
       "   chicos siempre mostraran más interés en algo que\n",
       "   tienen \"al alcance de su mano\" que en algo que saben que existe,\n",
       "   pero que no conocen personalmente.</p>, <p>Centros de interés que tradicionalmente se\n",
       "   trabajan: el cuerpo humano\n",
       "   (partes y funcionalidad e higiene personal);\n",
       "   la familia; la\n",
       "   casa; los medios de\n",
       "   transporte;\n",
       "   los medios de\n",
       "   comunicación; los animales; las\n",
       "   plantas; las\n",
       "   tiendas; el colegio; los alimentos; la\n",
       "   ciudad y el pueblo; los vestidos; el barrio; la Navidad; el\n",
       "   carnaval; los juegos y\n",
       "   juguetes; ....</p>, <p><b>Ciclos educativos:</b></p>, <p>\"Unidad curricular temporal de programación y evaluación, que en la\n",
       "   Educación Infantil abarca tres años y, en la\n",
       "   Educación Primaria y Educación Secundaria\n",
       "   Obligatoria, dos años\".</p>, <p><b>Claustro:</b></p>, <p>El claustro es el órgano propio de la\n",
       "   participación de los profesores/as en el centro.\n",
       "   Está integrado por todos los profesores/as que trabajan en\n",
       "   éste, presidiéndolo el director del\n",
       "   centro.</p>, <p><b>Concepto:</b></p>, <p>\"Contenido de aprendizaje referido al conjunto de\n",
       "   objetos, hechos o símbolos que tienen ciertas características comunes. Los conceptos\n",
       "   constituyen uno de los tipos de contenido.\"</p>, <p><b>Conflicto cognitivo:</b></p>, <p>\"Situación que se produce en el aprendizaje\n",
       "   caracterizada por la contradicción entre lo que el sujeto\n",
       "   sabe y entiende de la realidad y la nueva información que recibe, produciendo un\n",
       "   choque en su estructura\n",
       "   cognitiva que conduce a la modificación de la\n",
       "   misma.\"</p>, <p><b>Conocimientos previos:</b></p>, <p>\"Conocimientos que tiene el alumno o alumna y que es\n",
       "   necesario activar por estar relacionados con los nuevos\n",
       "   contenidos de aprendizaje que se quiere\n",
       "   enseñar\"</p>, <p><b>Consejo escolar:</b></p>, <p>\"Órgano de gobierno\n",
       "   representativo de la comunidad\n",
       "   educativa de los centros docentes sostenidos con fondos\n",
       "   públicos.\"</p>, <p><b>Contenidos:</b></p>, <p>\"Lo que enseña, el objeto de aprendizaje. El\n",
       "   curriculum de la Reforma del Sistema Educativa\n",
       "   distingue entre tres tipos de contenido: conceptos, procedimientos y\n",
       "   actitudes.\n",
       "   Estos tres tipos de contenido son igualmente importantes, ya que\n",
       "   colaboran en la adquisición de las capacidades\n",
       "   señaladas en los objetivos generales del\n",
       "   área.\"</p>, <p>Uno de los objetivos que ha de seguir un maestro\n",
       "   consiste en ajustar los contenidos que se han de aprender a la\n",
       "   situación y posibilidades de los alumnos/as.</p>, <p>El término contenidos se refiere a los objetos de\n",
       "   enseñanza-aprendizaje que la sociedad\n",
       "   considera útiles y necesarios para promover el desarrollo\n",
       "   personal y social del individuo. Esta acepción destaca\n",
       "   dos dimensiones esenciales de los contenidos: el papel que\n",
       "   desempeña la sociedad en la\n",
       "   definición de lo que merece la pena aprender, y el\n",
       "   carácter instrumental de esos objetos de aprendizaje en el\n",
       "   desarrollo integral de alumnos y alumnas.</p>, <p>Lo que la sociedad actual considera como objeto de\n",
       "   aprendizaje, desborda ampliamente el marco de lo que,\n",
       "   tradicionalmente, se ha entendido por contenidos. Junto al\n",
       "   aprendizaje de datos,\n",
       "   informaciones, hechos y conceptos, se destaca hoy la necesidad de\n",
       "   entender, también, como contenidos, el conjunto de\n",
       "   procedimientos\n",
       "   a partir de los cuales se construye el\n",
       "   conocimiento, y, asimismo, el sistema de actitudes,\n",
       "   valores y\n",
       "   normas que\n",
       "   rigen el proceso de elaboración de la ciencia y\n",
       "   la vida en sociedad.</p>, <p>La incorporación al campo de lo factual y\n",
       "   conceptual, de procedimientos,\n",
       "   actitudes y\n",
       "   valores como\n",
       "   contenidos de pleno derecho, enfatiza su importancia cualitativa\n",
       "   en la formación integral de los alumnos y alumnas, y\n",
       "   supera la concepción reduccionista sobre el qué\n",
       "   enseñar, diversificando y enriqueciendo la oferta\n",
       "   educativa.</p>, <p>La tipificación de los contenidos en\n",
       "   relación con estos tres tipos de conocimiento, responde,\n",
       "   exclusivamente, a una perspectiva analítica capaz de\n",
       "   orientar la planificación y revisión de la\n",
       "   actividad docente. En la práctica educativa, sin embargo,\n",
       "   el tratamiento de hechos y conceptos es indisociable de los\n",
       "   procedimientos\n",
       "   y actitudes correspondientes.</p>, <p>Esta visión integrada de los contenidos,\n",
       "   según la cual el aprendizaje de conceptos supone,\n",
       "   simultáneamente, el de los procedimientos y valores\n",
       "   implicados, es coherente con el desarrollo armónico de la\n",
       "   persona, que constituye uno de los objetivos básicos de la\n",
       "   educación. Es por esta razón, que el diseño\n",
       "   que se adopta en la presentación de los contenidos de las\n",
       "   distintas  reas curriculares responda tanto a esta necesidad\n",
       "   de contemplar contenidos de hechos, procedimientos y actitudes,\n",
       "   como a la intención de establecer relaciones sustantivas\n",
       "   entre ellos dentro de una visión integradora del acto\n",
       "   didáctico.</p>, <p>Los contenidos escolares deben establecerse,\n",
       "   también, a partir de un análisis de la estructura interna de los\n",
       "   distintos campos del saber, que destaque cuáles son sus\n",
       "   conceptos y procedimientos básicos, y aquellos modelos o\n",
       "   teorías\n",
       "   con mayor potencialidad para explicar la realidad. Estos campos\n",
       "   del conocimiento culturalmente elaborado, deben trascender una\n",
       "   concepción excesivamente clásica del saber\n",
       "   académico que permita tratar nuevas problemáticas\n",
       "   sociales en la oferta\n",
       "   educativa que se configure. De este modo, temas como la\n",
       "   Educación para la Salud, la Educación\n",
       "   Ambiental, las Nuevas Tecnologías, la Educación\n",
       "   para la Paz, la Coeducación, la Educación del\n",
       "   Consumidor y\n",
       "   Usuario, la Educación Vial, y cuantos otros surjan a lo\n",
       "   largo de la historia educativa y social\n",
       "   de una comunidad\n",
       "   educativa, no se convertir n en temas ajenos, yuxtapuestos,\n",
       "   al curriculum que se desarrolla en un centro, sino que\n",
       "   formarán parte de cada una de las  áreas que\n",
       "   lo articulan, además de poder ampliar,\n",
       "   en otros casos, la oferta\n",
       "   educativa que, en materia de\n",
       "   opcionalidad y diversificación curricular,\n",
       "   habrá  de realizarse.</p>, <p>La utilidad de los\n",
       "   contenidos como medio para la consecución de los\n",
       "   objetivos, no depende sólo de una adecuada\n",
       "   selección, sino también, y en igual medida, de una\n",
       "   organización que facilite su aprendizaje.\n",
       "   Los criterios básicos que deben regir esta última,\n",
       "   se refieren de nuevo a las características cognitivas de los alumnos y\n",
       "   alumnas, y a la especificidad de los distintos campos del saber.\n",
       "   Desde esta doble perspectiva, es necesario recordar que la\n",
       "   lógica\n",
       "   organizativa que subyace en los esquemas de conocimiento de los\n",
       "   alumnos y alumnas entre los seis y doce años, difiere\n",
       "   significativamente de la lógica\n",
       "   propia del conocimiento\n",
       "   científico.</p>, <p>En este sentido, la\n",
       "   organización de contenidos en esta etapa educativa,\n",
       "   debe poseer  un carácter integrador o globalizado,\n",
       "   situándose así más cerca de la forma en que\n",
       "   los alumnos y alumnas, en estas edades, se enfrentan al\n",
       "   conocimiento y vivencia de su entorno, abordando los temas tal y\n",
       "   como en él se plantean y siempre considerados en una\n",
       "   perspectiva predisciplinar del conocimiento\n",
       "   científico y socialmente organizado.</p>, <p><b>Contexto:</b></p>, <p>A la hora de realizar cualquier proyecto, sobre\n",
       "   todo el Proyecto\n",
       "   curricular de centro hay que tener en cuenta tanto la realidad\n",
       "   extraescolar que rodea la actividad educativa tanto la misma\n",
       "   realidad escolar.</p>, <p>Al hablar de realidad extraescolar nos estamos\n",
       "   refiriendo a:</p>, <p>Al hablar del contexto escolar nos estamos refiriendo\n",
       "   a:</p>, <p><b>Criterios de evaluación:</b></p>, <p>Los criterios de evaluación proporcionan una\n",
       "   información sobre los aspectos a considerar\n",
       "   para determinar el tipo y grado de aprendizaje que hayan\n",
       "   alcanzado los alumnos y alumnas, en cada uno de los momentos del\n",
       "   proceso, con respecto al avance en la adquisición de las\n",
       "   capacidades establecidas en el curriculum. El nivel de\n",
       "   cumplimiento de los objetivos no ha de ser establecido de manera\n",
       "   rígida o mecánica a través de una mera\n",
       "   contrastación inmediata, sino con la flexibilidad,\n",
       "   diversidad y riqueza de matices que se derivan de una\n",
       "   observación minuciosa de las diversas circunstancias y\n",
       "   contextos socio-culturales y personales en que se produce la\n",
       "   evolución de los distintos alumnos dentro\n",
       "   del proceso de enseñanza-aprendizaje. Deben tener en\n",
       "   cuenta los distintos tipos de contenidos de manera integrada\n",
       "   (conceptuales, procedimentales, actitudinales) y han de guiar la\n",
       "   concreción y secuenciación de criterios en cada\n",
       "   ciclo y aula, según lo que expliciten los proyectos\n",
       "   curriculares realizados por la comunidad escolar\n",
       "   y, así mismo, deben ser aplicados considerando la\n",
       "   diversidad de características personales y socioculturales\n",
       "   de alumnos y alumnas. En función de todo ello, su\n",
       "   aplicación hará  posible matizar las diversas\n",
       "   posibilidades de acercamiento óptimo a los objetivos y\n",
       "   capacidades que prescribe el curriculum.</p>, <p>Los criterios de evaluación deben funcionar,\n",
       "   pues, como reguladores de las estrategias de\n",
       "   enseñanza puestas en juego,\n",
       "   según las necesidades o desajustes detectados, y como\n",
       "   indicadores de\n",
       "   la evolución de los sucesivos niveles de\n",
       "   aprendizaje de los alumnos.</p>, <p>Esta evolución de los aprendizajes, de acuerdo\n",
       "   al desarrollo efectuado en cada una de las intenciones educativas\n",
       "   propuestas, relaciona, en cierto sentido, los criterios de\n",
       "   evaluación con aquellas orientaciones y decisiones que los\n",
       "   equipos de profesores deberán explicitar para la promoción de un ciclo a otro. En los\n",
       "   proyectos\n",
       "   curriculares quedarán establecidos estos criterios de\n",
       "   promoción, atendiendo al principio de que\n",
       "   la mera repetición o permanencia de un alumno o alumna en\n",
       "   un ciclo cursado, debe ser un recurso excepcional, posterior al\n",
       "   empleo de\n",
       "   otros recursos, y\n",
       "   sólo utilizado cuando existan garantías razonables\n",
       "   de que puede contribuir a una solución efectiva de las\n",
       "   dificultades planteadas.</p>, <p><b>Cultura:</b></p>, <p>\"Conjunto de maneras de vivir y de pensar de un\n",
       "     grupo humano\n",
       "     en particular\"</p>, <p>Es el cultivo en general de las facultades humanas\n",
       "   especialmente.</p>, <p>Cultura es el\n",
       "   conjunto de conocimientos adquiridos por una persona bajo la\n",
       "   acción del medio social. Ese conjunto de conocimientos,\n",
       "   valores,\n",
       "   creencias, etc. que forma la cultura\n",
       "   condiciona el modo de vida y las costumbres de un grupo social o\n",
       "   una época.</p>, <p>\"Según Cole y Wakai (1984) cultura\n",
       "   engloba múltiples aspectos: conceptos, explicaciones,\n",
       "   razonamientos, lenguaje,\n",
       "   ideología, costumbres, valores, creencias, sentimientos,\n",
       "   intereses, actitudes, pautas de conducta, tipos\n",
       "   de organización familiar, laboral,\n",
       "   económica, social, tecnológica, tipos de\n",
       "   hábitat, etc. En el transcurso de su historia los grupos\n",
       "   sociales han encontrado numerosas dificultades y han generado\n",
       "   respuestas colectivas para poder\n",
       "   superarlas; la experiencia así acumulada configura su\n",
       "   Cultura.\"</p>, <p><b>Curriculum:</b></p>, <p>Según la Logse, titulo preliminar art.4.1\n",
       "   curriculum es el conjunto de objetivos, contenidos,\n",
       "   metodologías y criterios de evaluación de un nivel\n",
       "   o etapa educativo.\t</p>, <p>El curriculum como proyecto en que\n",
       "   se concretan las intenciones educativas, une a la\n",
       "   dimensión sociológica y axiológica, una\n",
       "   segunda de carácter científico-técnico que\n",
       "   lo convierte en un instrumento capaz de guiar eficazmente la\n",
       "   práctica educativa del profesorado. En ese sentido,\n",
       "   incluye una serie de prescripciones y orientaciones en\n",
       "   relación con las capacidades que deben desarrollarse en\n",
       "   los alumnos y alumnas, los aspectos culturales básicos\n",
       "   para el proceso de socialización, y aquellos elementos y\n",
       "   estrategias que\n",
       "   faciliten el aprendizaje y la evaluación del proceso de\n",
       "   enseñanza.</p>, <p>Para que el curriculum pueda ser una guía eficaz\n",
       "   de la práctica educativa ha de hacer explícitos los\n",
       "   supuestos axiológicos y científicos que lo\n",
       "   fundamentan. Sólo de esta forma resultar \n",
       "   significativo para el profesorado, que podrá \n",
       "   proceder a su experimentación y reelaboración\n",
       "   crítica.</p>, <p>Desde esta perspectiva el curriculum aparece como un\n",
       "   conjunto de propuestas de acción y de hipótesis de trabajo contrastables en la\n",
       "   práctica educativa. Constituye, así, un instrumento\n",
       "   que permite al profesorado desarrollar y revisar su propia\n",
       "   actividad desde un marco de referencia actualizado y\n",
       "   científico, a la vez que contribuye eficazmente a la\n",
       "   innovación educativa.</p>, <p><b>Curriculum implícito:</b></p>, <p>Además de las intenciones explícitamente\n",
       "   formuladas en el currículo hay otros elementos no\n",
       "   explícitamente formulados que constituyen el\n",
       "   currículo implícito. Está constituido por\n",
       "   todo aquello que la escuela ofrece, o\n",
       "   deja de ofrecer, al margen de las intenciones de las instancias\n",
       "   que determinan del currículo, o al margen, al menos, de\n",
       "   las declaraciones e tales intenciones. Los elementos curriculares\n",
       "   implícitos no deben ser siempre negativamente\n",
       "   valorados.</p>, <p><b>Curriculum único:</b></p>, <p>Desde una perspectiva estrictamente curricular, se\n",
       "   caracteriza al curriculum como único para toda la\n",
       "   enseñanza obligatoria, al mismo tiempo que se le\n",
       "   concibe lo suficientemente abierto y flexible como para hacer\n",
       "   posible su adaptación a cualquier contexto o\n",
       "   situación específicos.</p>, <p>Que el curriculum sea único significa que\n",
       "   constituye un marco de referencia común en el que ha de\n",
       "   inscribirse cualquier proyecto y desarrollo curricular. Esto se\n",
       "   justifica por la necesidad de garantizar que toda\n",
       "   intervención educativa tienda a desarrollar unas mismas\n",
       "   capacidades en toda la población escolar y por la necesidad de\n",
       "   asegurar la continuidad y la progresión coherente de la\n",
       "   enseñanza a lo largo de las sucesivas etapas educativas.\n",
       "   Pero no es obstáculo para que, en caso de que se considere\n",
       "   necesario, se arbitren las medidas oportunas -de\n",
       "   contextualización, de apoyo, de adaptación- que\n",
       "   permitan a cualquier alumno alcanzar su nivel de desarrollo\n",
       "   óptimo.</p>, <p>El curriculum único no implica una\n",
       "   homogeneización de la práctica educativa. Tiene que\n",
       "   ofrecer principios y\n",
       "   criterios válidos de carácter general y, por\n",
       "   consiguiente, debe presentar un nivel de generalidad tal que\n",
       "   habrá  de requerir su posterior desarrollo y\n",
       "   concreción por parte de los distintos equipos de\n",
       "   profesores. Son éstos quienes han de adaptarlo a las\n",
       "   características peculiares de cada contexto y grupo de\n",
       "   alumnos. De esta manera, no sólo se respeta el pluralismo\n",
       "   cultural y la diversidad de capacidades e intereses de alumnos y\n",
       "   alumnas, sino que se reconoce al profesorado un amplio margen de\n",
       "   autonomía profesional en las tareas de diseño\n",
       "   y desarrollo curricular.</p>, <p>D</p>, <p><b>D.C.B:</b></p>, <p>\"El diseño\n",
       "   Curricular Base expresa intenciones educativas. Este Diseño\n",
       "   pretende:</p>, <p>La perspectiva de este documento es esencialmente\n",
       "   didáctica. Las Comunidades autónomas\n",
       "   con competencias\n",
       "   educativas han de desarrollar y completar el Diseño\n",
       "   Curricular Base.</p>, <p>El Diseño Curricular Base es un documento abierto\n",
       "   y flexible para su adaptación a diferentes situaciones y\n",
       "   según contexto y realidades educativas.</p>, <p><b>Departamentos de\n",
       "   orientación:</b></p>, <p>Son funciones de los\n",
       "   mismos:</p>, <p>• Coordinar la elaboración,\n",
       "   realización y evaluación del plan de\n",
       "   Orientación y Acción Tutorial del\n",
       "   Centro.</p>, <p>• Asesorar al profesorado en relación con\n",
       "   las medidas para la atención a la diversidad del alumnado:\n",
       "   adaptaciones curriculares individuales o grupales, programas de\n",
       "   refuerzo educativo, criterios de evaluación y promoción de alumnos, programas de\n",
       "   diversificación curricular, programas de\n",
       "   garantía social, etc.</p>, <p>• Fomentar la cooperación del Centro con las\n",
       "   instituciones\n",
       "   sociales y el mundo productivo del entorno a fin de preparar a\n",
       "   los alumnos para la vida profesional activa.</p>, <p>• Elaborar actividades, estrategias y\n",
       "   programas de\n",
       "   orientación escolar, personal y profesional.</p>, <p>• Efectuar la evaluación\n",
       "   psicopedagógica de los alumnos y alumnas que\n",
       "   desarrollarán programas de\n",
       "   diversificación curricular y garantía\n",
       "   social.</p>, <p>• Proporcionar instrumentos educativos que permitan\n",
       "   el mejor conocimiento de las circunstancias del alumnado en orden\n",
       "   a ofrecer una educación integradora, con especial\n",
       "   atención hacia los alumnos con dificultades de\n",
       "   aprendizaje.</p>, <p>• Asesorar en cuestiones prácticas de\n",
       "   organización y agrupamiento de los alumnos, en especial\n",
       "   con respecto al tratamiento flexible de la diversidad de\n",
       "   aptitudes intereses y motivaciones.</p>, <p>• Orientar en relación con actividades y\n",
       "   procesos de\n",
       "   evaluación, recuperación y promoción, así como en el\n",
       "   asesoramiento sobre futuros estudios de los alumnos.</p>, <p><b>Didáctica:</b></p>, <p>\"Didáctica es la ciencia que\n",
       "   estudia (perspectiva-estática)\n",
       "   y elabora (perspectiva-dinámica) teorías\n",
       "   práctico-normativo-decisionales sobre la\n",
       "   enseñanza\"</p>, <p>Didáctica es una ciencia que\n",
       "   orienta y dirige la educación. Puede distinguirse una\n",
       "   didáctica general, que trata de la\n",
       "   enseñanza escolar en general bajo cualquier aspecto, da\n",
       "   normas y\n",
       "   principios y\n",
       "   estudia fenómenos, leyes, etc., y\n",
       "   una didáctica especial, dedicada a estudiar las cuestiones\n",
       "   que plantea cada una de las disciplinas consideradas como\n",
       "   asignatura.</p>, <p>La didáctica está tan íntimamente\n",
       "   vinculada a las otras ciencias de la\n",
       "   educación (pedagogía, psicología y metodología) que muchas veces resulta\n",
       "   difícil separarla de ellas.</p>, <p>Podemos distinguir, según Lorenzo Delgado (1979),\n",
       "   tres grandes corrientes en la Didáctica actual. Estas tres\n",
       "   corrientes son: didáctica clásica, didáctica\n",
       "   tecnológica y antididáctica.</p>, <p><b>Didáctica\n",
       "   clásica:</b></p>, <p>La didáctica clásica o tradicional pone\n",
       "   énfasis en los contenidos y, consecuentemente en la\n",
       "   persona que ha de transmitirlos; queda relegado, por tanto, el\n",
       "   protagonismo del alumno.</p>, <p>Alumno</p>, <p><b>Didáctica\n",
       "   tecnológica:</b></p>, <p>Corriente que considera el Acto Didáctico como la\n",
       "   introducción de los recursos\n",
       "   tecnológicos en la transmisión didáctica, es\n",
       "   decir, es utilizar la tecnología en la\n",
       "   enseñanza.</p>, <p>E</p>, <p><b>Educación:</b></p>, <p>La educación consiste en un conjunto de\n",
       "   prácticas o actividades ordenadas a través de las\n",
       "   cuales un grupo social\n",
       "   ayuda a sus miembros a asimilar la experiencia colectiva\n",
       "   culturalmente organizada y a preparar su intervención\n",
       "   activa en el proceso social.</p>, <p>La educación escolar tiende a desarrollar en los\n",
       "   niños y niñas las capacidades y competencias\n",
       "   necesarias para su participación activa en la sociedad.\n",
       "   Este desarrollo no es un simple despliegue de posibilidades\n",
       "   predeterminadas por la herencia\n",
       "   biológica. Se produce, básicamente, como resultado\n",
       "   del aprendizaje que tiene lugar a través de la continua\n",
       "   interacción con el medio.</p>, <p>La educación es una construcción social que configura, en buena\n",
       "   medida, el futuro colectivo y garantiza la necesaria\n",
       "   adaptación a las situaciones nuevas generadas por los\n",
       "   cambios propios de nuestro tiempo.</p>, <p>La estrecha relación que se establece entre\n",
       "   educación y desarrollo individual y social justifica la\n",
       "   importancia que las sociedades\n",
       "   modernas y desarrolladas otorgan a sus sistemas de\n",
       "   enseñanza.</p>, <p>Tan importante resulta la dimensión individual de\n",
       "   la educación según la cual la persona desarrolla\n",
       "   sus capacidades y se sitúa ante la realidad de manera\n",
       "   activa, crítica y constructiva, como la dimensión\n",
       "   colectiva, que ayudará  a definir y ejercitar\n",
       "   los valores y\n",
       "   normas que\n",
       "   hacen posible la vida en sociedad.</p>, <p>La educación es considerada como un derecho\n",
       "   social y, por tanto, se dirige a todos los ciudadanos en un plano\n",
       "   de igualdad con\n",
       "   ausencia de cualquier discriminación. Por ello se concibe una\n",
       "   formación básica común para todos que se\n",
       "   organiza de forma comprensiva. Al mismo tiempo la\n",
       "   necesidad de adaptarse a las diferencias existentes en los\n",
       "   intereses de los alumnos, sus capacidades y necesidades, aconseja\n",
       "   la implantación de una progresiva diversificación\n",
       "   en los contenidos.</p>, <p>La educación, que se pretende integradora y no\n",
       "   discriminatoria debe asumir el compromiso de dar respuesta a la\n",
       "   complejidad de intereses, problemas y\n",
       "   necesidades que se dan en la realidad educativa. Esta perspectiva\n",
       "   será  fecunda en la medida en que contribuya a\n",
       "   compensar desigualdades y hacer efectivo el principio de igualdad de\n",
       "   oportunidades.</p>, <p>\"Proceso y seguimiento de asimilación y\n",
       "   desarrollo de conceptos, conductas, valores y patrones de\n",
       "   comportamientos exclusivo del ser humano y necesario para su\n",
       "   integración en la sociedad\".</p>, <p></p>, <p><b>Educación Especial:</b></p>, <p>El Real Decreto introduce un nuevo concepto de\n",
       "   educación\n",
       "   especial. Si en anteriores textos legales se definía\n",
       "   como la educación que reciben algunas personas en\n",
       "   razón de su propia discapacidad, con\n",
       "   unos objetivos, estructura, duración y currículo\n",
       "   diferentes de los establecidos para todos los alumnos, el Real\n",
       "   Decreto 334/1985 de Ordenación de la Educación\n",
       "   Especial, partiendo del derecho de todas las personas a la\n",
       "   educación, define la educación\n",
       "   especial como una parte integrante del sistema educativo y la\n",
       "   concreta como el conjunto de apoyos y adaptaciones para que estos\n",
       "   alumnos y alumnas puedan hacer realmente efectivo su derecho a la\n",
       "   educación. Es importante subrayar que, al adoptar esta\n",
       "   perspectiva, se estaban dando los primeros pasos para cambiar\n",
       "   también el enfoque y las prioridades de la educación\n",
       "   especial y se empezaban a asumir los importantes y complejos\n",
       "   retos que este cambio\n",
       "   conlleva. En este nuevo planteamiento de la educación\n",
       "   especial ya no se trata tanto de diagnosticar las\n",
       "   \"deficiencias\" de los alumnos y alumnas, para prescribir\n",
       "   después una intervención que muchas veces termina\n",
       "   centrándose solamente en la rehabilitación de las\n",
       "   limitaciones diagnosticadas, como de analizar cuáles son\n",
       "   las ayudas pedagógicas que aquéllos requieren para\n",
       "   progresar, en función de sus necesidades especiales, hacia\n",
       "   los grandes objetivos educativos marcados para todos los alumnos.\n",
       "   Ya no se trata tanto de preparar a un profesorado especializado\n",
       "   con la responsabilidad exclusiva de la educación\n",
       "   de este alumnado en centros igualmente especiales, como de prever\n",
       "   los medios y apoyos necesarios para que todo el profesorado,\n",
       "   individual y colectivamente, pueda acometer la tarea de adaptar\n",
       "   los proyectos\n",
       "   educativos y curriculares y las programaciones de aula, con el\n",
       "   objeto de que todos los alumnos participen en la vida del centro\n",
       "   de acuerdo con sus posibilidades y necesidades. Al mismo tiempo e\n",
       "   indirectamente, el nuevo planteamiento de la educación\n",
       "   especial fuerza al\n",
       "   propio sistema escolar a cambiar la estructura y el diseño\n",
       "   del currículo oficial para que pueda adaptarse\n",
       "   efectivamente a las demandas de flexibilización que este\n",
       "   alumnado reclama.</p>, <p>La educación de los alumnos con minusvalía\n",
       "   debe llevarse a cabo, siempre que sea posible, en centros\n",
       "   ordinarios con los apoyos necesarios, destinándose los\n",
       "   centros de educación especial solamente a aquellos alumnos\n",
       "   y alumnas afectados cuya gravedad no permita una adecuada\n",
       "   respuesta en los centros ordinarios; en segundo lugar, que se\n",
       "   adopta lo establecido en el sistema general como referente de la\n",
       "   ordenación académica de la educación\n",
       "   especial en los aspectos de edad, objetivos generales de la\n",
       "   educación, continuidad de la escolaridad, acceso a las\n",
       "   diferentes etapas educativas y acreditación de estudios\n",
       "   cursados; y, en tercer lugar, que se precisan los apoyos y ayudas\n",
       "   técnicas que deben recibir los alumnos y alumnas con\n",
       "   necesidades especiales para asegurar su proceso\n",
       "   educativo.</p>, <p><b>Educación Infantil:</b></p>, <p>La Educación Infantil se configura como una\n",
       "   verdadera etapa educativa a partir de la nueva Ordenación\n",
       "   del Sistema Educativo, perdiendo así el carácter de\n",
       "   guarda y custodia que hasta ese momento había\n",
       "   tenido.</p>, <p>Son varias las razones que, desde el punto de vista\n",
       "   social, se pueden aducir para justificar esta nueva\n",
       "   configuración.</p>, <p>• La demanda de los\n",
       "   niños y las niñas de tener un lugar de\n",
       "   relación, organización y espacios adecuados a sus\n",
       "   necesidades.</p>, <p>• El carácter compensador del centro\n",
       "   educativo frente a algunas carencias socio-familiares.</p>, <p>• La incorporación de la mujer al\n",
       "   trabajo.</p>, <p>La Educación Infantil persigue el doble objetivo de\n",
       "   potenciar al máximo las posibilidades de desarrollo del\n",
       "   alumnado y de dotarlo de las competencias,\n",
       "   destrezas, hábitos y actitudes que puedan facilitar su\n",
       "   posterior adaptación a la Educación\n",
       "   Primaria:</p>, <p>• En el ámbito del desarrollo motor, el\n",
       "   alumnado ajusta su actuación a las posibilidades y\n",
       "   limitaciones del momento evolutivo en que se\n",
       "   encuentra.</p>, <p>• En el ámbito del desarrollo cognitivo, el\n",
       "   profesorado le facilita el acceso a una representación\n",
       "   crecientemente objetiva, ordenada y coordinada de la\n",
       "   realidad.</p>, <p>• En cuanto a la evolución lingüística, se le\n",
       "   estimula y orienta el tránsito a la convencionalidad\n",
       "   (léxica, gramatical y sintáctica) y a la\n",
       "   interiorización del lenguaje.</p>, <p>• En el ámbito de las relaciones\n",
       "   interpersonales y de la actuación y la\n",
       "   inserción social, se contribuye, desde la etapa, al\n",
       "   desarrollo de la identidad\n",
       "   personal y al fomento de comportamientos solidarios, así\n",
       "   como de actitudes alejadas de estereotipos relacionados con el\n",
       "   sexo o con las\n",
       "   diferencias de raza u origen.</p>, <p>• En cuanto al equilibrio\n",
       "   personal, la Educación Infantil propone desarrollar y\n",
       "   afianzar sentimientos de autoestima y\n",
       "   de confianza, así como de seguridad en las\n",
       "   relaciones con sus iguales y con las personas adultas.</p>, <p>Por tanto, el objetivo\n",
       "   primordial de Educación Infantil se concreta en estimular\n",
       "   el desarrollo de todas las capacidades del alumnado:\n",
       "   físicas, afectivas, intelectuales y sociales.</p>, <p>La etapa de Educación Infantil se configura en\n",
       "   dos ciclos:</p>, <p>• 1er. ciclo: 0-3 años</p>, <p>• 2º. ciclo: 3-6 años</p>, <p>Desde el primer ciclo, se favorece:</p>, <p>• La autonomía motora.</p>, <p>• El control\n",
       "   corporal.</p>, <p>• El acceso a las convenciones del lenguaje.</p>, <p>• El descubrimiento de los rasgos más\n",
       "   sobresalientes del entorno inmediato.</p>, <p>• El descubrimiento de la identidad\n",
       "   personal.</p>, <p>• Las pautas elementales de convivencia y\n",
       "   relación.</p>, <p>Desde el segundo ciclo, se favorece:</p>, <p>• El control de la\n",
       "   motricidad.</p>, <p>• El desarrollo del lenguaje.</p>, <p>• El fomento de otras formas de expresión y\n",
       "   comunicación.</p>, <p>• El estímulo de la curiosidad,\n",
       "   observación y creatividad.</p>, <p>• El descubrimiento de las características y\n",
       "   propiedades del medio físico y social.</p>, <p>• La elaboración de una imagen positiva y\n",
       "   equilibrada de sí mismo.</p>, <p>• Las relaciones sociales.</p>, <p>• El desarrollo de actitudes y hábitos que\n",
       "   fomenten el cuidado del propio cuerpo y la conservación\n",
       "   del entorno.</p>, <p>• El desarrollo de actitudes de respeto y\n",
       "   tolerancia.</p>, <p>Los contenidos educativos de esta Etapa se organizan en\n",
       "   tres áreas o ámbitos de experiencia y se abordan a\n",
       "   través de actividades globalizadas que tienen\n",
       "   interés y significado para los alumnos:</p>, <p>1.Identidad y\n",
       "   autonomía personal</p>, <p>2.Medio físico y social</p>, <p>3.Comunicación y\n",
       "   representación</p>, <p>La incorporación de los niños por primera\n",
       "   vez a la escuela infantil supone una ruptura con su\n",
       "   pequeño mundo y la entrada en otro más amplio,\n",
       "   situación que es vivida, con frecuencia, de forma\n",
       "   angustiosa tanto por la familia\n",
       "   como por los niños y las niñas. Por este motivo, el\n",
       "   centro planificará el periodo de adaptación\n",
       "   estableciendo las condiciones materiales y\n",
       "   humanas necesarias e informando de ellas a la familia.\n",
       "   Debemos tener en cuenta que el niño, cuando entra en\n",
       "   contacto por primera vez con la escuela, no lo hace carente de\n",
       "   unos conocimientos, hábitos, destrezas y actitudes ante la\n",
       "   vida, sino con un bagaje familiar, social, cultural, etc., que en\n",
       "   todo momento e l profesorado habrá de respetar, y, en\n",
       "   consecuencia, planificar todas las actividades del alumnado a\n",
       "   partir de ese momento evolutivo individual, teniendo en cuenta\n",
       "   siempre, que han de sentirse motivados y que han de relacionar lo\n",
       "   que aprenden con sus conocimientos previos. Las principales\n",
       "   fuentes de\n",
       "   aprendizaje en la escuela infantil han de ser,\n",
       "   básicamente, el juego, la\n",
       "   acción y la experimentación en un ambiente de\n",
       "   afecto y confianza.</p>, <p>La escuela infantil debe permitir y potenciar que el\n",
       "   alumnado construya y aplique sus propios esquemas de\n",
       "   conocimiento.</p>, <p><b>Educación Moral:</b></p>, <p>Supuestos de carácter sociopedagógico y\n",
       "   psicopedagógico avalan la necesidad de desarrollo\n",
       "   curricular de la educación moral. Su\n",
       "   incardinación en los contenidos escolares es viable no\n",
       "   tanto como una nueva asignatura que venga a incrementar el\n",
       "   considerable número de las ya existentes, sino como un\n",
       "   contenido transversal objeto de tratamiento interdisciplinar y\n",
       "   multidisciplinar.</p>, <p>La intervención pedagógica en\n",
       "   educación moral puede\n",
       "   entenderse en sentido indirecto y en sentido directo. En el\n",
       "   primer caso, creando un clima relacional\n",
       "   apropiado que estimule en el alumno la capacidad de\n",
       "   actuación moral. En el\n",
       "   segunda caso realizando una planificación en la que se tomen en cuenta\n",
       "   la introducción de supuestos de educación moral en\n",
       "   el proyecto educativo y en el proyecto curricular de centro,\n",
       "   así como en las programaciones de aula. Será\n",
       "   necesaria asimismo una importante renovación\n",
       "   metodológica en el sentido de estimular en el alumno la\n",
       "   capacidad de reflexión sobre experiencias vitales de\n",
       "   carácter moral, de resolución de conflictos\n",
       "   vividos, de imaginación y previsión de situaciones\n",
       "   en las que haya de decidir y actuar según criterios\n",
       "   morales.</p>, <p><b>Educación Primaria:</b></p>, <p>El sentido de la etapa de Educación Primaria\n",
       "   viene determinado por las finalidades que le señala la\n",
       "   Ley\n",
       "   Orgánica 1/1990, de 3 de octubre. Tales finalidades se\n",
       "   corresponden con el nivel y con los procesos de\n",
       "   desarrollo que, en nuestra cultura son propios de los\n",
       "   niños y niñas de seis a doce años. En\n",
       "   efecto, a estas edades se producen, tanto en el plano\n",
       "   físico como en el social, afectivo y cognitivo,\n",
       "   importantes cambios que deben acompañarse de un\n",
       "   tratamiento educativo que procure y favorezca la adecuada\n",
       "   inserción del niño en el medio natural, social y\n",
       "   cultural a que pertenece.</p>, <p>Aun cuando la propia actividad supone todavía el\n",
       "   principal medio para el\n",
       "   conocimiento de la realidad, durante esta etapa se desarrolla\n",
       "   la incipiente función simbólica o de\n",
       "   representación. Muchas son las manifestaciones y\n",
       "   posibilidades que se generan en torno a esta\n",
       "   función, principalmente la capacidad para elaborar y\n",
       "   utilizar símbolos y códigos que le\n",
       "   permitirán acceder a la representación de los\n",
       "   conocimientos ya elaborados. De esta forma los niños y\n",
       "   niñas asimilarán y entenderán su estructura\n",
       "   al tiempo que serán capaces de reconstruir y expresar sus\n",
       "   propios conocimientos e ideas.</p>, <p>No menos importantes resultan los procesos de\n",
       "   desarrollo e interacción social y afectiva que, junto a la\n",
       "   aparición del pensamiento\n",
       "   abstracto, ayudará  a conseguir un grado cada vez\n",
       "   mayor de autonomía, tanto intelectual como moral y, en\n",
       "   consecuencia, a comportamientos de solidaridad, de\n",
       "   participación, de respeto y de\n",
       "   tolerancia.</p>, <p>Si se considera que la educación obligatoria y\n",
       "   gratuita comprende desde los seis hasta los dieciséis\n",
       "   años y que ya se está  produciendo una\n",
       "   progresiva escolarización anterior a los seis años,\n",
       "   esta etapa debe procurar una continuidad fluida de una parte con\n",
       "   la Educación Infantil y, de otra, con la Educación\n",
       "   Secundaria.</p>, <p>La Educación Primaria comprende seis años\n",
       "   académicos, desde los seis a los doce años de edad,\n",
       "   y se organiza en tres ciclos de dos años cada\n",
       "   uno.</p>, <p>Los alumnos comenzarán la Educación\n",
       "   Primaria en el año natural en que cumplan los seis\n",
       "   años de edad.</p>, <p>La Educación Primaria tiene como finalidades\n",
       "   básicas proporcionar a todos los niños y\n",
       "   niñas una educación común que haga posible\n",
       "   la adquisición de los elementos básicos culturales,\n",
       "   los aprendizajes relativos a la expresión oral, a la lectura, a\n",
       "   la escritura y al\n",
       "   cálculo\n",
       "   aritmético, así como una progresiva\n",
       "   autonomía de acción en su medio.</p>, <p>La unidad de programación y evaluación de la\n",
       "   Educación Primaria es el ciclo, dentro del contexto de la\n",
       "   programación general de la\n",
       "   etapa.</p>, <p>Los objetivos de la Educación Primaria\n",
       "   deberán contribuir a que los niños y niñas,\n",
       "   durante dicha etapa, desarrollen las siguientes\n",
       "   capacidades:</p>, <p>Los tres ciclos de la Educación Primaria se\n",
       "   organizan en las  áreas que a continuación se\n",
       "   relacionan, teniendo en cuenta el enfoque globalizador e\n",
       "   integrador que debe caracterizar esta etapa:</p>, <p>a) Conocimiento del medio natural, social y\n",
       "   cultural.</p>, <p>b) Educación Artística.</p>, <p>c) Educación\n",
       "   Física.</p>, <p>d) Lengua\n",
       "   castellana y Literatura.</p>, <p>e) Lenguas Extranjeras.</p>, <p>f) Matemáticas.</p>, <p><b>Ejes transversales:</b></p>, <p>Los contenidos escolares deben establecerse,\n",
       "   también, a partir de un análisis de la estructura interna de los\n",
       "   distintos campos del saber, que destaque cuáles son sus\n",
       "   conceptos y procedimientos básicos, y aquellos modelos o\n",
       "   teorías\n",
       "   con mayor potencialidad para explicar la realidad. Estos campos\n",
       "   del conocimiento culturalmente elaborado, deben trascender una\n",
       "   concepción excesivamente clásica del saber\n",
       "   académico que permita tratar nuevas problemáticas\n",
       "   sociales en la oferta\n",
       "   educativa que se configure. De este modo, temas como la\n",
       "   Educación para la Salud, la Educación\n",
       "   Ambiental, las Nuevas Tecnologías, la Educación\n",
       "   para la Paz, la Coeducación, la Educación del\n",
       "   Consumidor y\n",
       "   Usuario, la Educación Vial, y cuantos otros surjan a lo\n",
       "   largo de la historia educativa y social\n",
       "   de una comunidad\n",
       "   educativa, no se convertir n en temas ajenos, yuxtapuestos,\n",
       "   al curriculum que se desarrolla en un centro, sino que\n",
       "   formarán parte de cada una de las  áreas que\n",
       "   lo articulan, además de poder ampliar, en otros casos, la\n",
       "   oferta\n",
       "   educativa que, en materia de\n",
       "   opcionalidad y diversificación curricular,\n",
       "   habrá  de realizarse.</p>, <p><b>Elementos del currículo:</b></p>, <p>Los elementos el currículo se pueden agrupar en\n",
       "   cuatro preguntas:</p>, <p><b>Enseñanzas\n",
       "   mínimas:</b></p>, <p>Constituyen los aspectos básicos del\n",
       "   currículo de una etapa, con el fin de garantizar una\n",
       "   formación común a todos los alumnos y la validez de\n",
       "   títulos correspondientes. Son establecidas por el gobierno del\n",
       "   Estado.</p>, <p><b>Enseñar:</b></p>, <p>\"Acto por el cual el docente pone al alcance del\n",
       "   discente el objeto de conocimiento para que este lo\n",
       "   comprenda.\"</p>, <p><b>Epítome:</b></p>, <p>\"Conjunto de conceptos, relaciones y/o principios\n",
       "   fundamentales de la materia objeto de aprendizaje, cuyo\n",
       "   conocimiento facilita la comprensión y asimilación\n",
       "   de otros conceptos y principios\n",
       "   más sencillos con los que puede conectar, ampliando\n",
       "   así la estructura cognitiva.\"</p>, <p>Se pueden seguir los siguientes pasos para\n",
       "   confeccionarlo:</p>, <p>\"- Escoger el contenido del aprendizaje que puede servir\n",
       "   como epítome u organizador previo.</p>, <p>Recibe también el nombre de organizador\n",
       "   previo\"\t\t\t\t\t</p>, <p>Un epitome es una panorámica global sobre un\n",
       "   tema. Es el primer paso de la secuencia elaborativa. Un epitome\n",
       "   se distingue de un resumen porque integra los componentes\n",
       "   esenciales del contenido en vez de resumirlos o sintetizarlos. La\n",
       "   función del epitome es transmitir los elementos\n",
       "   fundamentales del contenido que \"vehiculan\" su esencia. Los\n",
       "   elementos que forman parte del epitome se seleccionan de tal\n",
       "   manera que el resto de los elementos del contenido pueden\n",
       "   considerarse una ampliación o complexificación del\n",
       "   mismo. El epitome es, por definición, general. El\n",
       "   epítome se caracteriza por:</p>, <p><b>Escolarización:</b></p>, <p>La escolarización, en la medida en que contribuye\n",
       "   a facilitar las relaciones entre iguales, se puede constituir en\n",
       "   fuente de posibles aprendizajes.</p>, <p><b>Escuela:</b></p>, <p>La escuela es el lugar donde se lleva a cabo el proceso\n",
       "   de educación formal.</p>, <p>En nuestra sociedad la actividad de formación\n",
       "   institucional de los miembros más jóvenes se\n",
       "   realiza, principalmente, en la escuela. El sistema educativo es\n",
       "   el encargado de proporcionar una serie de actividades\n",
       "   planificadas y dirigidas intencionalmente a facilitar el\n",
       "   aprendizaje</p>, <p>La escuela es un sistema social específico, con\n",
       "   normas y pautas de funcionamiento en las que el niño y la\n",
       "   niña se verán progresivamente implicados. A\n",
       "   través de la participación en la vida escolar\n",
       "   ir  asimilando los sistemas de\n",
       "   valores vigentes y desarrollando las actitudes de\n",
       "   cooperación y respeto. De esta\n",
       "   manera, niños y niñas empiezan a descubrirse como\n",
       "   individuos con deseos, sentimientos y pensamientos propios y con\n",
       "   capacidad para elaborar juicios y criterios\n",
       "   personales.</p>, <p>Los centros docentes deben concretar  y\n",
       "   desarrollar  el curriculum de la Educación Primaria\n",
       "   mediante la elaboración de proyectos\n",
       "   curriculares de etapa y ciclo que respondan a las necesidades de\n",
       "   los alumnos y que se incorporarán a la programación\n",
       "   general correspondiente.</p>, <p>\"Institución social en la que maestros y alumnos\n",
       "   llevan a lo práctico el proceso educativo. Es la comunidad\n",
       "   educativa\"</p>, <p><b>E.S.O:</b></p>, <p>La Educación Secundaria, de la forma en que hoy\n",
       "   se conoce en los países de nuestro entorno, es de reciente\n",
       "   creación. Durante siglos han coexistido dos vías\n",
       "   educativas con finalidades específicas:</p>, <p>• Una formación más restringida de\n",
       "   una minoría encaminada a la Universidad y que\n",
       "   exigía mecanismos preparatorios que generaban los\n",
       "   equivalentes a los Institutos de Enseñanzas\n",
       "   Medias.</p>, <p>• Una formación básica que se\n",
       "   adquiría en las escuelas primarias y que era a la que\n",
       "   tenía acceso la mayoría de la población.</p>, <p>La democratización de la sociedad ha producido un\n",
       "   acercamiento y fusión\n",
       "   entre ambas vías, quedando una enseñanza Primaria,\n",
       "   de 6 a 12 años, y una Secundaria que cubre la adolescencia,\n",
       "   inmediatamente anterior a la formación universitaria o al\n",
       "   mundo del trabajo. En la mayoría de los países\n",
       "   europeos existe una educación obligatoria hasta los\n",
       "   dieciséis años aproximadamente.</p>, <p>De igual manera que en los sistemas europeos\n",
       "   de nuestro entorno, la Educación Secundaria se organiza\n",
       "   atendiendo al principio de comprensividad, entendiendo por esto,\n",
       "   englobar todas las  reas básicas de aprendizaje para\n",
       "   una formación integral y evitar parcelar el\n",
       "   conocimiento, asegurando unas áreas del conocimiento\n",
       "   comunes a todo el alumnado.</p>, <p>El sistema comprensivo facilita una titulación\n",
       "   única y tiene su máxima justificación en el\n",
       "   carácter preventivo que tiene frente a una oferta\n",
       "   diversificada que acrecentaría las desigualdades sociales,\n",
       "   culturales y económicas, como pasaba con la\n",
       "   elección entre Bachillerato y Formación\n",
       "   Profesional. Es la escuela quien debe cumplir una función\n",
       "   equilibradora de las desigualdades de partida en los itinerarios\n",
       "   educativos. Otro de los principios a los\n",
       "   que la Secundaria se atiene es al de la diversidad. Sin renunciar\n",
       "   al carácter de educación igual para todos, la ESO\n",
       "   responde al derecho de todas las personas a que se respete su\n",
       "   modo de ser y se proporcione a cada escolar la clase de\n",
       "   enseñanza y la ayuda pedagógica que\n",
       "   precise.</p>, <p>Es una etapa que para algunos alumnos será \n",
       "   el final de su escolarización obligatoria, y para otros\n",
       "   será  una preparación para estudios superiores\n",
       "   o para el\n",
       "   trabajo.</p>, <p>Sustituye los dos últimos cursos de la\n",
       "   E.G.B. y los dos primeros cursos de las\n",
       "   Enseñanzas Medias actuales formando una nueva etapa\n",
       "   educativa de cuatro cursos con\n",
       "   identidad\n",
       "   propia.</p>, <p>Esta etapa está  organizada en dos ciclos de\n",
       "   dos cursos cada\n",
       "   uno, 12-14 años y 14-16 años.</p>, <p>La E.S.O. constituye, junto con la Educación\n",
       "   Primaria, la enseñanza básica, obligatoria y\n",
       "   gratuita, por lo que deben tener una estrecha relación\n",
       "   dada la</p>, <p>importancia que tiene el desarrollo social\n",
       "   y evolutivo en estas edades. No en vano son diez años de\n",
       "   escolarización. Los cuatro años de la Secundaria\n",
       "   Obligatoria serán determinantes para culminar la\n",
       "   formación básica de todos los ciudadanos.\n",
       "   Constituirán, por tanto, la educación para la vida.\n",
       "   De ahí, la necesidad de que el alumnado desarrolle no\n",
       "   sólo capacidades intelectuales, sino una formación\n",
       "   integral que comprenda aspectos afectivos de relación e\n",
       "   inserción social, que le permitan convertirse en un\n",
       "   miembro activo de la sociedad en que vive y que sea capaz de\n",
       "   prepararse para dar respuesta a los grandes problemas de\n",
       "   la sociedad actual.</p>, <p>Diferencias entre la Educación Secundaria\n",
       "   Obligatoria y las enseñanzas a las que\n",
       "   sustituye:</p>, <p>• Es una etapa educativa obligatoria y, por tanto,\n",
       "   ha de ser accesible a todo el alumnado, lo que conlleva una\n",
       "   enseñanza de carácter comprensivo.</p>, <p>• Ha de ajustarse a los intereses del alumnado por\n",
       "   medio de la optatividad.</p>, <p>• Retrasa la elección temprana de\n",
       "   itinerarios educativos que podrán condicionar en exceso\n",
       "   decisiones acerca del futuro profesional.</p>, <p>• Incluye formación tecnológica de\n",
       "   base, hasta ahora enmarcada exclusivamente en el ámbito de\n",
       "   la formación profesional.</p>, <p>• Adecua la edad de finalización escolar con\n",
       "   la edad de acceso al mundo del trabajo (16\n",
       "   años).</p>, <p>• Establece la constitución de departamentos de\n",
       "   orientación en los centros educativos encargándoles\n",
       "   tareas relacionadas con la orientación personal y\n",
       "   profesional del alumnado.</p>, <p>• Los conocimientos que se impartan deben ser\n",
       "   adaptados de forma que sean asimilables para conseguir los\n",
       "   objetivos de etapa.</p>, <p>• Persigue la formación de ciudadanos\n",
       "   capaces de desenvolverse en una sociedad democrática y\n",
       "   plural: los conocimientos objeto de estudio en las distintas\n",
       "   áreas no tienen valor por\n",
       "   sí mismos, sino que están en función de la\n",
       "   consecución de las capacidades que el alumno debe\n",
       "   desarrollar.</p>, <p>Al término de la educación secundaria\n",
       "   obligatoria el alumnado podrá  continuar sus estudios\n",
       "   en:</p>, <p>- Bachillerato</p>, <p>- Ciclos Formativos de grado medio</p>, <p><b>Estructuración en ejes:</b></p>, <p>Conceptos, procedimientos y actitudes. Articula y\n",
       "   engloba los contenidos conceptuales, los procedimientos-estrategias, y\n",
       "   los valores-actitudes.</p>, <p><b>Etapa educativa:</b></p>, <p>\"Periodo en que se divide el sistema educativo definido\n",
       "   por las características que la edad de los alumnos, los\n",
       "   objetivos educativos, los contenidos de enseñanza, la\n",
       "   metodología educativa... determinen. En la práctica\n",
       "   se utiliza a menudo como sinónimo de nivel\n",
       "   educativo.</p>, <p><b>Evaluación:</b></p>, <p>La evaluación constituye el elemento clave para\n",
       "   orientar las decisiones curriculares, definir los problemas\n",
       "   educativos, acometer actuaciones concretas, emprender procesos de\n",
       "   investigación didáctica, generar\n",
       "   dinámicas de formación permanente del profesorado\n",
       "   y, en definitiva, regular el proceso de adaptación y\n",
       "   contextualización del curriculum en cada comunidad\n",
       "   educativa.</p>, <p>La evaluación se entiende como una actividad\n",
       "   básicamente valorativa e investigadora y, por ello,\n",
       "   facilitadora de cambio\n",
       "   educativo y desarrollo profesional docente. Afecta no sólo\n",
       "   a los procesos de aprendizaje de los alumnos, sino también\n",
       "   a los procesos de enseñanza desarrollados por los\n",
       "   profesores y a los proyectos\n",
       "   curriculares de centro en los que aquellos se\n",
       "   inscriben.</p>, <p>La actividad evaluadora deber  tomar en\n",
       "   consideración la totalidad de elementos que entran a\n",
       "   formar parte del hecho educativo, considerado como\n",
       "   fenómeno complejo e influido por múltiples factores\n",
       "   previstos y no previstos. También atenderá \n",
       "   globalmente a todos los  ámbitos de la persona, y no\n",
       "   sólo a los aspectos puramente cognitivos.</p>, <p>La evaluación educativa ha de tener en cuenta la\n",
       "   singularidad de cada individuo, analizando su propio proceso de\n",
       "   aprendizaje, sus características y sus necesidades\n",
       "   específicas. Por todas estas razones, el proceso evaluador\n",
       "   debe ser primordialmente un proceso cualitativo y explicativo,\n",
       "   ofreciendo datos e\n",
       "   interpretaciones significativas que permitan entender y valorar\n",
       "   los procesos seguidos por todos los participantes. Esta cualidad\n",
       "   de la información puesta en juego, que\n",
       "   afectar  de una u otra forma a la vida de las personas,\n",
       "   requiere considerar otro principio básico de la\n",
       "   evaluación que es el de respetar la intimidad de los\n",
       "   participantes en el proceso evaluador, en cuanto a la\n",
       "   utilización que pueda hacerse de cualquier\n",
       "   información que les afecte.</p>, <p>En suma, la actividad evaluadora debe formar parte de un\n",
       "   proceso más general de índole social, que persiga\n",
       "   la mejora de la calidad de\n",
       "   vida de cada comunidad escolar, así como promover el\n",
       "   desarrollo profesional de los docentes y la investigación educativa.</p>, <p><b>Evaluación inicial:</b></p>, <p>La evaluación inicial es un proceso que debe\n",
       "   preceder a la introducción de toda unidad didáctica\n",
       "   y tiene como finalidad obtener información acerca de los\n",
       "   conocimientos, habilidades y actitudes que poseen los alumnos/as\n",
       "   a quienes va dirigida la enseñanza.</p>, <p>El resultado de esta evaluación nos da idea de\n",
       "   los aprendizajes previos de los alumnos/as, adaptando así\n",
       "   la unidad didáctica correspondiente a sus\n",
       "   conocimientos.</p>, <p>La evaluación inicial se pondrá en\n",
       "   práctica varios días antes de poner en marcha el\n",
       "   proyecto o unidad. Es interesante recoger las respuestas,\n",
       "   reacciones, etc. de los alumnos/as como base fundamental para el\n",
       "   diseño de los módulos de aprendizaje\n",
       "   concéntricos y para perfilar la unidad, incorporando,\n",
       "   reforzando... alguno de los elementos que la componen.</p>, <p>Respecto a la técnica que debe seguir el\n",
       "   maestro/a para llevar a cabo la evaluación inicial no hay\n",
       "   nada estipulado en ningún documento normativo. Así\n",
       "   pues, dicha decisión correrá a cargo de cada\n",
       "   maestro/a.</p>, <p>Es muy importante que dicha evaluación inicial no\n",
       "   se le presente al alumno como un examen, sino como una\n",
       "   experiencia más en el aula.</p>, <p>Se realiza al iniciarse cada una de las fases de\n",
       "   aprendizaje, y tiene la finalidad de proporcionar\n",
       "   información sobre los conocimientos previos de los\n",
       "   alumnos, para decidir el nivel en que hay que desarrollar los\n",
       "   nuevos contenidos de enseñanza, y las relaciones que deben\n",
       "   establecerse entre ellos.</p>, <p><b>Evaluación continua:</b></p>, <p>\"Pretende superar la relación\n",
       "   evaluación-exámen o calificación final de\n",
       "   los alumnos/as, centrando el interés en los aspectos que\n",
       "   se consideren importantes para la mejora del proceso. Esta\n",
       "   evaluación se realiza a lo largo de todo el proceso de\n",
       "   aprendizaje, siendo su objetivo\n",
       "   describir e interpretar, no medir ni clasificar.\"</p>, <p><b>Evaluación final:</b></p>, <p>\"Aquella que tiene por objetivo conocer y valorar los\n",
       "   resultados conseguidos por el alumno al finalizar un proceso de\n",
       "   enseñanza-aprendizaje, para poder orientarle\n",
       "   posteriormente\"</p>, <p>F</p>, <p><b>Formación profesional:</b></p>, <p>La Formación Profesional es un conjunto de\n",
       "   enseñanzas que, dentro del sistema Educativo regulado por\n",
       "   la LOGSE, capacitan para el desempeño cualificado de las\n",
       "   distintas profesiones.</p>, <p>La finalidad de la Formación Profesional es la de\n",
       "   preparar a los alumnos para la actividad en el campo\n",
       "   profesional.</p>, <p>Características:</p>, <p>• Proporciona una formación polivalente que\n",
       "   permite a los jóvenes adaptarse a las modificaciones\n",
       "   laborales que pueden producirse a lo largo de su vida.</p>, <p>• Incluye tanto la formación profesional de\n",
       "   base como la formación profesional específica de\n",
       "   grado medio y de grado superior.</p>, <p>• Continúa la formación básica\n",
       "   de carácter profesional que han recibido los alumnos a lo\n",
       "   largo de la Educación Secundaria Obligatoria y el\n",
       "   Bachillerato.</p>, <p>• Contribuye a la formación permanente de\n",
       "   los ciudadanos y atiende a las demandas de cualificación\n",
       "   del sistema productivo.</p>, <p>• Promueve la adquisición e integración de diferentes tipos de\n",
       "   contenidos: científicos, tecnológicos y\n",
       "   organizativos.</p>, <p>• Favorece en el alumno la capacidad para aprender\n",
       "   por sí mismo y para trabajar en equipo.</p>, <p>La Formación Profesional está organizada\n",
       "   en dos niveles:</p>, <p>• Ciclos Formativos de Grado Medio.</p>, <p>• Ciclos Formativos de Grado Superior.</p>, <p>El Ciclo Formativo de Grado Medio constituye un\n",
       "   instrumento tanto para la inserción laboral de los\n",
       "   jóvenes como para la formación permanente de los\n",
       "   profesionales de las distintas especialidades. Su duración\n",
       "   puede ser de uno o de dos años. Las enseñanzas que\n",
       "   comprende son de dos tipos:</p>, <p>• Unas, organizadas en módulos\n",
       "   profesionales, que se imparten en los centros educativos. Estos\n",
       "   módulos son de tres tipos:</p>, <p>- Módulos profesionales asociados a la competencia.</p>, <p>• Otras, organizadas en prácticas en\n",
       "   empresas, que\n",
       "   se realizan en los centros de trabajo a través de un\n",
       "   módulo profesional de formación en centros de\n",
       "   trabajo.</p>, <p>Podrán acceder a la Formación Profesional\n",
       "   de Grado Medio aquellos alumnos y alumnas que:</p>, <p>• Estén en posesión de la\n",
       "   titulación de graduado en Educación\n",
       "   Secundaria.</p>, <p>• Hayan cursado la Educación Secundaria\n",
       "   Obligatoria, pero no estén en posesión de la\n",
       "   titulación de graduado en Educación Secundaria. En\n",
       "   este caso deberán superar una prueba\n",
       "   específica.</p>, <p>• Sean mayores de 17 años y superen una\n",
       "   prueba específica.</p>, <p>Los alumnos que hayan cursado con éxito la\n",
       "   Formación Profesional de Grado Medio recibirán el\n",
       "   título de Técnico en la correspondiente\n",
       "   especialidad. Con este título se accede al mundo laboral y a la\n",
       "   modalidad de bachillerato que esté en relación con\n",
       "   la especialidad correspondiente.</p>, <p>El Ciclo Formativo de Grado Superior constituye\n",
       "   un instrumento para la inserción laboral de los\n",
       "   jóvenes, para la formación permanente de los\n",
       "   profesionales de las distintas especialidades y para el acceso a\n",
       "   los estudios universitarios. Su duración puede ser de uno\n",
       "   o dos años.</p>, <p>Las enseñanzas que comprende son de dos\n",
       "   tipos:</p>, <p>• Unas, organizadas en módulos\n",
       "   profesionales, que se imparten en los centros educativos. Estos\n",
       "   módulos son de tres tipos:</p>, <p>• Otras, organizadas en prácticas en\n",
       "   empresas, que\n",
       "   se realizan en los centros de trabajo a través de un\n",
       "   módulo profesional de formación en centros de\n",
       "   trabajo.</p>, <p>Podrán acceder a la Formación Profesional\n",
       "   de Grado Superior aquellos alumnos y alumnas que:</p>, <p>• Hayan cursado el bachillerato. Para algunos\n",
       "   Ciclos Formativos es necesario haber cursado determinadas\n",
       "   materias.</p>, <p>• Sean mayores de 20 años y superen una\n",
       "   prueba específica.</p>, <p>Los alumnos que hayan cursado con éxito la\n",
       "   Formación Profesional de Grado Superior recibirán\n",
       "   el título de Técnico Superior en la correspondiente\n",
       "   especialidad. Con este título se accede al mundo laboral y\n",
       "   a los estudios universitarios.</p>, <p><b>Fuentes del currículo:</b></p>, <p>Se destacan cuatro fuentes del\n",
       "   currículo:</p>, <p><b>Funciones del currículo:</b></p>, <p>El currículo tiene dos funciones: hacer\n",
       "   explícitas las intenciones del sistema educativo y servir\n",
       "   como guía para orientar la práctica\n",
       "   pedagógica.</p>, <p>G</p>, <p><b>Globalización:</b></p>, <p>\"Forma de acceder al conocimiento que descubre las\n",
       "   relaciones entre los diferentes objetos de estudio y los integra\n",
       "   en visiones superiores, más simples y completas. Se\n",
       "   realiza en tres momentos: una primera percepción\n",
       "   sincrética, confusa o indiferenciada de la realidad, que\n",
       "   da lugar a un análisis de sus componentes o partes y\n",
       "   concluye en una síntesis enriquecedora de\n",
       "   éstos.\"</p>, <p>I</p>, <p><b>Ideario Educativo del centro:</b></p>, <p>\"Es el conjunto de postulados y principios propios de\n",
       "   una concepción ideológica determinada, conforme a\n",
       "   los cuales cada centro educativo puede realizar su propio\n",
       "   proyecto educativo, referido a la formación integral de\n",
       "   sus alumnos.\"</p>, <p>El ideario educativo del centro es una consecuencia de\n",
       "   un sistema escolar democrático, respetuoso con la\n",
       "   pluralidad social que debe dar cabida a cualquier tipo de\n",
       "   educación que acate los principios constitucionales del\n",
       "   Estado, sin otras limitaciones. Es la definición del\n",
       "   carácter propio que a cada centro confiere el tipo de\n",
       "   educación que en el se imparte.</p>, <p>\"El ideario educativo de centro responde tanto a los\n",
       "   centros internamente pluralistas como a la pluralidad de centros\n",
       "   identificados, cada uno con un tipo de educación\n",
       "   internamente homogénea y coherente que les confiere, en\n",
       "   cada caso su carácter propio. En cualquier caso, el\n",
       "   ideario educativo de centro no debe ser un corsé\n",
       "   ideológico sino que, basándose en él, se ha\n",
       "   de educar en un ambiente de\n",
       "   comprensión y de tolerancia hacia\n",
       "   otras concepciones.\"</p>, <p>Es igual que carácter propio.</p>, <p><b>Instruir:</b> </p>, <p>\"Adquisición de ciencia por\n",
       "   medio de un enseñante\".</p>, <p>\"Transmitir adecuadamente lo que se aprende mediante el\n",
       "   empleo de\n",
       "   la\n",
       "   motivación y de la orientación al alumno de lo\n",
       "   que se ha de aprender\"</p>, <p>Proviene del latín <i>instruere</i> que significa\n",
       "   enseñar, informar.</p>, <p><b>Intervención educativa:</b></p>, <p>La intervención educativa es una forma de\n",
       "   interacción social que tiene como función facilitar\n",
       "   el aprendizaje y guiarlo hasta conseguir su\n",
       "   autorregulación, el \"aprender a aprender\". De ahí\n",
       "   que el objetivo último de los procesos de\n",
       "   enseñanza-aprendizaje sea el contribuir a que los alumnos\n",
       "   y alumnas se apropien de los procedimientos habituales de\n",
       "   regulación de la propia actividad de aprendizaje, de tal\n",
       "   manera que puedan progresar, con creciente autonomía, en\n",
       "   la adquisición de nuevas competencias y\n",
       "   conocimientos</p>, <p>Esto supone transformar el aula en un espacio en el que\n",
       "   se ofrezcan las condiciones y las pautas para realizar el tipo de\n",
       "   tareas propuestas, en el que se favorezca la interacción\n",
       "   entre compañeros y se regule la actividad mediante la\n",
       "   negociación y superación de aquellos\n",
       "   conflictos que\n",
       "   ayuden a propiciar el cambio y la\n",
       "   reestructuración cognitiva.</p>, <p>Para que esto sea posible, la intervención\n",
       "   educativa tiene que ajustarse al nivel de desarrollo real de los\n",
       "   alumnos. Entre los seis y los doce años, niños y\n",
       "   niñas van adquiriendo una autonomía creciente,\n",
       "   tanto motriz como intelectual y personal, debido, en gran parte,\n",
       "   a las posibilidades funcionales del lenguaje y de las otras\n",
       "   formas de expresión y representación. El habla\n",
       "   interiorizada anticipa y acompaña su actividad,\n",
       "   ayudándoles a planificarla y a autorregularla.\n",
       "   También hace posible que la acción se\n",
       "   descontextualice y se consiga una representación cada vez\n",
       "   más general.</p>, <p>J</p>, <p><b>Jornada escolar:</b></p>, <p>\"Actividad educativa desarrollada a lo largo de un\n",
       "   día en un centro docente, o, en general, en el sistema\n",
       "   educativo.</p>, <p>En los niveles preescolar,\n",
       "   básico y medio, la jornada escolar normalmente comprende\n",
       "   la estancia de la mañana (3-4 horas) y la de tarde (2-3\n",
       "   horas).\"</p>, <p>En algunos centros esta concepción de jornada\n",
       "   escolar, de dos turnos, no se lleva a cabo. En su lugar hablamos\n",
       "   de una jornada escolar única o intensiva. Las razones para\n",
       "   la implantación de esta jornada son varias y\n",
       "   diversas:</p>, <p>L</p>, <p><b>Leyes:</b></p>, <p>•LODE. Ley\n",
       "   Orgánica 8/1985 de 3 de julio, reguladora del derecho a la\n",
       "   educación.</p>, <p>•LOGSE. Ley\n",
       "   Orgánica 1/1990, de 3 de octubre, de Ordenación\n",
       "   General del Sistema Educativo.</p>, <p>•Real Decreto 1543/1988, de 28 de octubre, sobre\n",
       "   Derechos y\n",
       "   Deberes de los Alumnos (BOE 309, de 26 de diciembre de\n",
       "   1988).</p>, <p>•Real Decreto 986/1991, de 14 de junio (BOE 25 de\n",
       "   junio de 1991), sobre el calendario de aplicación de la\n",
       "   reforma. Modificado por el Real Decreto 535/1993, de 12 de abril\n",
       "   (BOE 4 de mayo de 1993). Y modificado por el Real Decreto\n",
       "   1478/1991, de 1 de julio (BOE de 28 de julio de 1994).</p>, <p>•Requisitos mínimos de los centros (Real\n",
       "   Decreto 1004/1991, de 14 de junio, BOE del 26). Real Decreto\n",
       "   389/1992, de 15 de abril, por el que se establecen los requisitos\n",
       "   mínimos de los centros que imparten enseñanzas\n",
       "   artísticas (BOE del 28 de abril de 1992).</p>, <p>•Supervisión y uso de libros de\n",
       "   texto y otros\n",
       "   materiales\n",
       "   curriculares (Real Decreto 388/1992, de 15 de abril, BOE del 23)\n",
       "   y Orden que lo desarrolla, de 2 de junio de 1992 (BOE del\n",
       "   11).</p>, <p>•Orden del 30 de julio de 1992 por la que se\n",
       "   regulan las condiciones de creación y funcionamiento de\n",
       "   las Escuelas de Música y Danza.</p>, <p>•Elementos básicos de los informes de\n",
       "   evaluación (Orden Ministerial de 30 de octubre de 1992,\n",
       "   BOE del 11 de noviembre), modificada por Orden de 2 de abril de\n",
       "   1993 (BOE del 15).</p>, <p>•Acceso a la función pública docente\n",
       "   (R.D. 850/1993, de 4 de junio, BOE del 30; corrección de\n",
       "   errores en el BOE de 29 de septiembre de 1993).</p>, <p>•Cuerpo de funcionarios docentes (Real Decreto\n",
       "   1701/1991, de 29 de noviembre, por el que se establecen\n",
       "   especialidades del Cuerpo de Profesores de Enseñanza\n",
       "   Secundaria, se adscriben a ellas los profesores correspondientes\n",
       "   a dicho cuerpo y se determinan las áreas y materias que\n",
       "   deberá impartir el profesorado respectivo (BOE 2 de\n",
       "   diciembre de 1991).</p>, <p>•Regulación de concursos de traslados de\n",
       "   ámbito nacional para la provisión de plazas\n",
       "   correspondientes a los cuerpos docentes que imparten las\n",
       "   enseñanzas establecidas en la LOGSE, Real Decreto\n",
       "   1774/1994 de 5 de agosto (BOE 234, de 30 de septiembre de\n",
       "   1994).</p>, <p>•Instituto Nacional de Calidad y\n",
       "   Evaluación (R.D. 928/1993, de 18 de junio, BOE del 6 de\n",
       "   julio).</p>, <p><b>Libros blancos:</b></p>, <p>En 1989 surgen los llamados libros\n",
       "   blancos. Son de este color por tener\n",
       "   carácter provisional. Estos libros blancos\n",
       "   son dos:</p>, <p>Estos dos libros\n",
       "   darán origen a dos leyes: Real\n",
       "   Decreto Curricular y Logse.</p>, <p>El MEC concreta el sentido de la Reforma avanzando una\n",
       "   propuesta de currículo que se corresponde con la\n",
       "   ordenación general del sistema.</p>, <p><img height=\"285\" src=\"Image1189.gif\" width=\"267\"/><b>LOGSE:</b></p>, <p>Ley Organica 1/1990 de 3 de Octubre de Ordenación\n",
       "   General del Sistema Educativo.</p>, <p>Véase Reforma Educativa.</p>, <p>M</p>, <p><b>Magisterio:</b></p>, <p>Del latín <i>Magisterium</i>, jefatura,\n",
       "   magisterio.</p>, <p>\"Término que comprende una variedad de\n",
       "   significaciones. Original mente actividad docente del maestro con\n",
       "   sus discípulos. Aunque dicha actividad se realiza en todos\n",
       "   los niveles de enseñanza, se viene utilizando\n",
       "   habitualmente este término con referencia especifica a la\n",
       "   enseñanza básica, y así se emplea para\n",
       "   designar:</p>, <p><b>Mapa conceptual:</b></p>, <p>Un mapa conceptual\n",
       "   es una representación gráfica con un orden\n",
       "   lógico que va e lo general a lo particular. Se lee de\n",
       "   arriba abajo y forma una frase lógica.\n",
       "   Existen varios tipos de mapa\n",
       "   conceptual.</p>, <p>Es una Existen se lee de</p>, <p>Con un\t\t\t\t\t\t y forma una</p>, <p>Que va de lo</p>, <p>A lo</p>, <p><b>Materiales curriculares:</b></p>, <p>\"Son materiales editados para los profesores y alumnos\n",
       "   que pueden ser ofrecidos por las administraciones educativas o\n",
       "   por la iniciativa privada para el desarrollo y aplicación\n",
       "   del currículo de las diferentes enseñanzas\n",
       "   establecidas por la LOGSE.\"</p>, <p><b>M.E.C:</b></p>, <p>Ministerio de Educación y Ciencia.\n",
       "   Organismo del Estado.</p>, <p><b>Método activo:</b></p>, <p>\"Más que de un método\n",
       "   activo habría que hablar de métodos\n",
       "   activos en\n",
       "   plural.</p>, <p>Son aquellos que pretenden aplicar el principio de\n",
       "   actividad en la escuela, pero que parten de inspiraciones\n",
       "   doctrinales muy diversas.</p>, <p>Se pueden clasificar en:</p>, <p><b>Metodología:</b></p>, <p>La metodología constituye el conjunto de\n",
       "   criterios y decisiones que organizan, de forma global, la\n",
       "   acción didáctica en el aula: papel que\n",
       "   juegan los alumnos y profesores, utilización de medios y\n",
       "   recursos, tipos de actividades, organización de los\n",
       "   tiempos y espacios, agrupamientos, secuenciación y tipo de\n",
       "   tareas, etc. Este conjunto de decisiones se derivar  de la\n",
       "   caracterización realizada en cada uno de los elementos\n",
       "   curriculares, objetivos, contenidos, evaluación, medios, y\n",
       "   de la peculiar forma de concretarlos en un determinado contexto\n",
       "   educativo, llegando a conformar un singular estilo educativo y un\n",
       "   ambiente de\n",
       "   aula, cuyo objetivo más general ser  el de facilitar\n",
       "   el desarrollo de los procesos de</p>, <p>enseñanza-aprendizaje expresados en las\n",
       "   intenciones educativas.</p>, <p>Definida la metodología educativa de esta forma,\n",
       "   es evidente que existirán metodologías diversas\n",
       "   que, sin embargo, serán capaces de desarrollar similares\n",
       "   intenciones educativas.</p>, <p>Convendría una metodología que, partiendo\n",
       "   de lo que los alumnos y alumnas conocen y piensan con respecto a\n",
       "   cualquier aspecto de la realidad, sea capaz de conectar con sus\n",
       "   intereses y necesidades, con su peculiar forma de ver el mundo, y\n",
       "   les proponga, de forma atractiva, una finalidad y utilidad clara\n",
       "   para aplicar los nuevos aprendizajes que desarrollan. Se trata,\n",
       "   en suma, de adoptar una metodología que posea un sentido\n",
       "   claro para los alumnos y profesores, a la vez que promueva su\n",
       "   desarrollo conceptual, procedimental y actitudinal. Por este\n",
       "   motivo, sería interesante contemplar una dualidad de\n",
       "   finalidades: por un lado la de las intenciones o capacidades que\n",
       "   el equipo docente desea promover en sus alumnos y alumnas y, por\n",
       "   otro, las que se desprenden directamente de la propia actividad\n",
       "   que se realiza, las cuales han de ser claras y compartidas por\n",
       "   los alumnos: resolver un problema, satisfacer una necesidad o\n",
       "   interés, afrontar una situación novedosa, tratar un\n",
       "   conflicto,\n",
       "   realizar una investigación, comprender la realidad,\n",
       "   entender nuevos fenómenos o acometer un proyecto de\n",
       "   trabajo.</p>, <p><b>Motivación:</b></p>, <p>La\n",
       "   motivación por aprender, y en particular por construir\n",
       "   ciertos aprendizajes es un complejo proceso que condiciona en\n",
       "   buena medida la capacidad de aprender de los alumnos. La\n",
       "   motivación depende en parte de la historia de éxitos y\n",
       "   fracasos anteriores del alumno en tareas de aprendizaje, pero\n",
       "   también del hecho de que los contenidos que se ofrezcan a\n",
       "   los alumnos posean significado lógico y sean útiles\n",
       "   para ellos.</p>, <p>N</p>, <p><b>Necesidades Educativas Especiales\n",
       "   (N.E.E):</b></p>, <p>La Ley\n",
       "   Orgánica 1/1990, de 3 de octubre, de Ordenación\n",
       "   General del Sistema Educativo (LOGSE), ha recogido y reforzado\n",
       "   los principios de normalización e integración presentes en la Ley de Integración Social de los\n",
       "   Minusválidos y en el Real Decreto 334/1985 de\n",
       "   Ordenación de la Educación Especial. Al mismo\n",
       "   tiempo, ha sido la LOGSE la que ha introducido en el ordenamiento\n",
       "   jurídico el concepto de\n",
       "   necesidades educativas especiales propiamente dicho como\n",
       "   alternativa, en el ámbito educativo, a los de deficiente,\n",
       "   disminuido, inadaptado, discapacitado o minusválido, lo\n",
       "   cual significa un cambio fundamental con respecto a\n",
       "   conceptualizaciones anteriores. Partiendo de la premisa de que\n",
       "   todo el alumnado precisa a lo largo de su escolaridad de diversas\n",
       "   ayudas pedagógicas para asegurar el logro de los fines de\n",
       "   la educación, se consideran necesidades educativas\n",
       "   especiales las de alumnos y alumnas que, además, y de\n",
       "   forma complementaria, precisan otro tipo de ayudas menos usuales,\n",
       "   bien sea temporal o permanentemente.</p>, <p>Con la introducción de esta expresión se\n",
       "   pretende evitar las connotaciones negativas de términos\n",
       "   anteriores que tienden a resaltar solamente lo que estos alumnos\n",
       "   y alumnas no pueden hacer. La expresión \"necesidades\n",
       "   educativas especiales\" intenta, además, evitar la\n",
       "   predisposición al error que se origina cuando se tildan\n",
       "   todas las discapacidades de \"deficiencias\" a pesar de que son muy\n",
       "   diferentes unas de otras, especialmente en lo que concierne a sus\n",
       "   implicaciones para los procesos de enseñanza y\n",
       "   aprendizaje. Con toda seguridad, los\n",
       "   términos ahora sustituidos han tenido indirectamente un\n",
       "   efecto de \"etiquetaje\" que afecta muy negativamente al\n",
       "   autoconcepto y la autoestima de\n",
       "   estos alumnos o alumnas, e indirectamente a sus familias, puesto\n",
       "   que eran y son términos que refuerzan erróneamente\n",
       "   la creencia de que el origen de las dificultades educativas de\n",
       "   este alumnado reside única y exclusivamente en ellos\n",
       "   mismos, despreciando el peso e importancia de los factores\n",
       "   sociales y educativos.</p>, <p>El uso del concepto de\n",
       "   necesidades educativas especiales no está exento, sin\n",
       "   embargo, del riesgo de\n",
       "   reproducir algunos de los problemas\n",
       "   anteriores (que vuelva a ser, por ejemplo, una etiqueta con\n",
       "   connotaciones negativas) ni está libre de limitaciones. Es\n",
       "   cierto que intenta resaltar las preocupaciones educativas por\n",
       "   encima de cualesquiera otras, que aspira a ser menos peyorativo y\n",
       "   que, al tener que traducirse en las ayudas pedagógicas que\n",
       "   los alumnos precisan, compromete al profesorado y a los servicios de\n",
       "   apoyo y les hace revisar precisamente la enseñanza que\n",
       "   reciben. Pero comporta también una cierta ambigüedad,\n",
       "   ya que no es posible delimitar con antelación quién\n",
       "   tiene o no realmente necesidad de medidas educativas\n",
       "   extraordinarias y cuáles deberían ser éstas,\n",
       "   dado el carácter interactivo de los procesos educativos y\n",
       "   de la peculiaridad de cada contexto escolar y de cada alumno.\n",
       "   Todo ello dificulta considerablemente la planificación de\n",
       "   los recursos necesarios, ya sean humanos o materiales, y exige un\n",
       "   sistema de provisión que debiera caracterizarse por la\n",
       "   flexibilidad y la cercanía a las necesidades reales de los\n",
       "   centros escolares y sus alumnos.</p>, <p>Por tanto, decir que un alumno o alumna presenta\n",
       "   necesidades educativas especiales es una forma de decir\n",
       "   simplemente que, para el logro de los fines de la\n",
       "   educación, no son suficientes las actuaciones habituales\n",
       "   que su profesor o profesora desarrolla con la mayoría de\n",
       "   los alumnos del grupo y que, por ello, tiene que revisar su\n",
       "   acción educativa y adecuarla a las necesidades\n",
       "   particulares del alumno o alumna en cuestión. Para que\n",
       "   esta tarea no se viva como imposible, los profesores deben contar\n",
       "   con la formación, ayuda, asesoramiento y\n",
       "   colaboración necesarios, empezando por los servicios\n",
       "   más especializados que a tal efecto deben existir, pero\n",
       "   sin despreciar la aportación de sus compañeros, de\n",
       "   las familias e incluso de los propios alumnos, ni hacer\n",
       "   dejación, en último término, de su responsabilidad como tutor del proceso educativo\n",
       "   de todos sus alumnos.</p>, <p>De esta forma, y en continuidad con los planteamientos\n",
       "   del Real Decreto 334/1985 de Ordenación de la\n",
       "   Educación Especial, la LOGSE contempla como objetivos de\n",
       "   la educación para los alumnos y alumnas con necesidades\n",
       "   educativas especiales los mismos que para el resto del alumnado,\n",
       "   al tiempo que establece con claridad y contundencia (art.\n",
       "   3.°) el principio de adecuación o adaptación de\n",
       "   las enseñanzas a las características de\n",
       "   éstos. Por tanto, no son estos alumnos los que deben\n",
       "   adaptarse o \"conformarse\" a lo que pueda ofrecerles una\n",
       "   enseñanza general planificada y desarrollada para\n",
       "   satisfacer las necesidades educativas habituales de la\n",
       "   mayoría del alumnado, sino que es la enseñanza la\n",
       "   que debe adecuarse de modo y manera que permita a cada alumno\n",
       "   particular progresar en función de sus capacidades y con\n",
       "   arreglo a sus necesidades, sean especiales o no.</p>, <p><b>Niveles de concreción:</b></p>, <p>Son cada uno de los pasos que conducen desde el\n",
       "   currículo establecido por la Administración educativa competente hasta\n",
       "   la elaboración detallada de las unidades\n",
       "   didácticas.</p>, <p>-1er nivel de concreción à tiene carácter\n",
       "   prescriptivo de obligado cumplimiento. Lo hace el MEC o las\n",
       "   Comunidades Autónomas. Leyes sobre el\n",
       "   curriculum: Logse (Reales Decretos), Real Decreto Curricular,\n",
       "   DCB.</p>, <p>-2º nivel de concreción à De centro. Las leyes\n",
       "   ya hechas por el ministro pasan ahora a los centros de\n",
       "   enseñanza. El claustro coge las leyes y elaboran un\n",
       "   documento llamado proyecto curricular. Aquí se establecen\n",
       "   las áreas.</p>, <p>-3er nivel de concreción à Compete a los\n",
       "   profesores. Éstos realizan una unidad didáctica o\n",
       "   programación basándose en el proyecto\n",
       "   curricular.</p>, <p>O</p>, <p><b>Objetivos:</b></p>, <p>Los objetivos son el conjunto de aprendizajes que se\n",
       "   espera que alcancen unos alumnos/as en una etapa, ciclo, nivel o\n",
       "   programación educativa concreta.</p>, <p>Pueden plantearse de manera global, constituyendo los\n",
       "   objetivos generales de etapa, definidos en términos de\n",
       "   capacidades. Y también de forma más concreta, es\n",
       "   decir, los objetivos didácticos, que nos llevan a la\n",
       "   acción directa y son el referente inmediato de la\n",
       "   evaluación.</p>, <p>Los objetivos se entienden como las intenciones que\n",
       "   orientan el diseño y la realización de las\n",
       "   actividades necesarias para la consecución de las grandes\n",
       "   finalidades educativas, esto es, promover el desarrollo integral\n",
       "   del individuo y facilitar la construcción de una sociedad m s justa\n",
       "   y solidaria.</p>, <p>La formulación de objetivos habrá  de\n",
       "   basarse, pues, en considerar el desarrollo de niños y\n",
       "   niñas con una finalidad educativa, orientando, así,\n",
       "   la selección y secuenciación de los contenidos, y\n",
       "   la realización de determinadas actividades de acuerdo con\n",
       "   las orientaciones metodológicas generales que se\n",
       "   determinen.</p>, <p>Los objetivos han de entenderse como metas que\n",
       "   guían el proceso de enseñanza-aprendizaje y hacia\n",
       "   las cuales hay que orientar la marcha de ese proceso.\n",
       "   Constituyen, de este modo, un marco para decidir las posibles\n",
       "   direcciones a seguir durante su transcurso, desempeñando\n",
       "   un papel\n",
       "   fundamental como referencia para revisar y regular el\n",
       "   curriculum.</p>, <p>Precisamente por su carácter de\n",
       "   orientación para el desarrollo curricular, deben\n",
       "   contemplarse para los objetivos diferentes niveles de\n",
       "   concreción que posibiliten la transición de los\n",
       "   fines generales a la práctica educativa. De esa forma, los\n",
       "   objetivos de etapa se concretan en objetivos de\n",
       "    área, con los que se intenta precisar la\n",
       "   aportación que, desde cada una de ellas, ha de hacerse a\n",
       "   la consecución de los objetivos de etapa y ciclo. Todos\n",
       "   ellos finalmente, han de adecuarse a cada realidad escolar, con\n",
       "   las condiciones propias de cada contexto y de cada persona, lo\n",
       "   que exigir  sucesivos y diversos niveles de\n",
       "   concreción.</p>, <p>Puesto que con la educación se pretende favorecer\n",
       "   un desarrollo lo más completo posible de la persona, y su\n",
       "   integración en un contexto sociocultural\n",
       "   determinado, los objetivos que se definen en cada nivel de\n",
       "   concreción deben guardar relación con los grandes\n",
       "    ámbitos de aprendizaje y tipos de contenidos\n",
       "   -conceptos, procedimientos, y actitudes-, que se determinan para\n",
       "   toda la población escolar. No obstante, en\n",
       "   función de los contextos y necesidades particulares de los\n",
       "   individuos, los equipos de profesores podrán establecer\n",
       "   criterios de ordenación de los objetivos a desarrollar en\n",
       "   cada etapa educativa.</p>, <p><b>Objetivos didácticos:</b></p>, <p>Los objetivos\n",
       "   didácticos son \"aquellos objetivos más concretos\n",
       "   que permiten relacionar capacidades con contenidos\".</p>, <p>Se concretan a partir de los objetivos terminales. Nos\n",
       "   indican las tareas a realizar a corto plazo.</p>, <p><b>Objetivos generales:</b></p>, <p>Los objetivos terminales \"precisan el tipo y grado de\n",
       "   aprendizaje que debe realizar el alumno a propósito de los\n",
       "   contenidos seleccionados para adquirir, al finalizar el ciclo,\n",
       "   las capacidades estipuladas por los objetivos generales y de\n",
       "   área\".</p>, <p>Establecen las capacidades que se espera hayan adquirido\n",
       "   los alumnos al finalizar cada etapa educativa.</p>, <p><b>Objetivos terminales:</b></p>, <p>Explicitan las intenciones educativas de la Unidad\n",
       "   didáctica y están expresados en términos de\n",
       "   capacidades; pero se refieren a contenidos concretos que\n",
       "   configuran la unidad didáctica. Indican los contenidos,\n",
       "   métodos,\n",
       "   capacidades y/o valores que un alumno debe conseguir al finalizar\n",
       "   el proceso educativo previsto o U.D. Consta de una destreza o una\n",
       "   actitud, un\n",
       "   qué (contenido), un cómo (método y/o\n",
       "   procedimiento)\n",
       "   y un para qué (capacidad y/o valor).</p>, <p>Se deben elaborar teniendo en cuenta la\n",
       "   vinculación con e currículo y las\n",
       "   características el grupo clase.</p>, <p><b>Orientaciones educativas:</b></p>, <p>La Orientación Educativa contribuye al logro de\n",
       "   una educación integral en la medida en que aporta\n",
       "   asesoramiento y apoyo técnico en aquellos aspectos\n",
       "   más personalizadores de la educación que hacen\n",
       "   posible la atención a la diversidad de capacidades,\n",
       "   intereses y motivaciones de los alumnos y alumnas.</p>, <p>La Orientación Educativa se articula en torno\n",
       "   a:</p>, <p>• La Tutoría</p>, <p>• Los Departamentos de\n",
       "   Orientación</p>, <p>• Los Equipos de Orientación\n",
       "   Educativa</p>, <p>Los Equipos de Orientación Educativa realizan\n",
       "   funciones\n",
       "   generales de asesoramiento psicopedagógico a los Centros\n",
       "   Escolares. Las principales son:</p>, <p>• Asesorar a los Centros en la elaboración,\n",
       "   aplicación y evaluación del Proyecto de Centro y\n",
       "   del Proyecto Curricular, sobre todo en los aspectos más\n",
       "   estrechamente ligados a la orientación educativa y a la\n",
       "   intervención psicopedagógico.</p>, <p>• Asesorar a los Centros en lo relativo a la\n",
       "   evaluación de los aprendizajes de los alumnos y alumnas,\n",
       "   de la práctica docente y del Proyecto Curricular de\n",
       "   Centro, en el marco de lo establecido en la normativa sobre\n",
       "   evaluación.</p>, <p>• Colaborar con los Centros de Profesores en la\n",
       "   formación, apoyo y asesoramiento al profesorado de la zona\n",
       "   en el ámbito de la orientación\n",
       "   educativa.</p>, <p>• Analizar las demandas de intervención\n",
       "   psicopedagógica de los Centros que tenga asignado y\n",
       "   proponer respuestas adecuadas a las mismas con la\n",
       "   participación de los restantes miembros del Centros de\n",
       "   Orientación Educativa y Profesional cuya\n",
       "   colaboración se considere necesaria.</p>, <p>P</p>, <p><b>Procedimientos:</b></p>, <p>Es el conjunto de acciones\n",
       "   ordenadas y orientadas a la realización de una\n",
       "   tarea.</p>, <p><b>Programas de Garantía\n",
       "   Social:</b></p>, <p>Es la denominación que reciben en la LOGSE las\n",
       "   acciones\n",
       "   formativas destinadas a resolver un problema muy común a\n",
       "   todos los sistemas\n",
       "   educativos: la integración social, educativa y laboral de\n",
       "   los jóvenes que no concluyen con éxito su\n",
       "   formación obligatoria.</p>, <p>Los objetivos que pretenden los programas de\n",
       "   Garantía Social son proporcionar a los jóvenes una\n",
       "   formación básica y profesional que les permita\n",
       "   incorporarse a la vida activa o proseguir sus estudios en las\n",
       "   distintas enseñanzas previstas en el sistema educativo,\n",
       "   especialmente las enseñanzas de formación\n",
       "   profesional de grado medio.</p>, <p>Pueden participar en los Programas de Garantía\n",
       "   Social los jóvenes mayores de 18 años que no hayan\n",
       "   obtenido el título de Graduado en Educación\n",
       "   Secundaria, y que previamente hayan realizado las acciones de\n",
       "   diversificación curricular correspondientes. En casos\n",
       "   especiales también podrán acceder a estos Programas\n",
       "   jóvenes mayores de 16 años.</p>, <p>Los Programas de Garantía Social tendrán\n",
       "   modalidades diferentes: Iniciación profesional, Talleres\n",
       "   Independientes, Formación y Empleo,\n",
       "   Integración de jóvenes con\n",
       "   minusvalías.</p>, <p>Los Programas de Garantía Social se\n",
       "   configurarán a partir de las siguientes áreas\n",
       "   curriculares:</p>, <p>• Área de Formación\n",
       "   básica</p>, <p>• Área de Formación Profesional\n",
       "   Específica</p>, <p>• Área de Formación y\n",
       "   Orientación Laboral</p>, <p>• Área de Acción Tutorial y\n",
       "   actividades complementarias</p>, <p><b>Promoción:</b></p>, <p>Al término de cada ciclo y como consecuencia del\n",
       "   proceso de evaluación, se decidirá  acerca de\n",
       "   la promoción de los alumnos al ciclo\n",
       "   siguiente. La decisión de la permanencia del alumno\n",
       "   durante un año más en el ciclo la\n",
       "   adoptará  el profesor tutor teniendo en cuenta la\n",
       "   opinión del resto de los profesores del mismo grupo de\n",
       "   alumnos y de los padres o tutores legales del alumno. Esta\n",
       "   permanencia ha de considerarse excepcional. No podrá \n",
       "   repetirse más de un año a lo largo de toda la\n",
       "   Educación Primaria. Esta decisión irá \n",
       "   acompañada en todo caso de medidas educativas\n",
       "   complementarias encaminadas a desarrollar adecuadamente las\n",
       "   capacidades del alumno.</p>, <p>\"Se trata de la acreditación de los alumnos para\n",
       "   que puedan acceder al ciclo o curso siguiente a lo largo de la\n",
       "   escolarización obligatoria, o bien, para obtener una\n",
       "   determinada titulación académica al finalizar un\n",
       "   nivel o etapa.\"</p>, <p><b>Proyecto curricular de centro\n",
       "   (PCC):</b></p>, <p>\"El Proyecto Curricular de Centro es el proceso de tomas\n",
       "   de decisiones por el cual el profesorado de una etapa educativa\n",
       "   determinada establece, a partir del análisis del contexto de su centro, una\n",
       "   serie de acuerdos acerca de las estrategias de\n",
       "   intervención didáctica que va a utilizar, con el\n",
       "   fin de asegurar la coherencia de su práctica\n",
       "   docente\".\t</p>, <p>El proyecto curricular de etapa, al estar\n",
       "   diseñado por el conjunto de maestros/as que imparten\n",
       "   enseñanzas en toda la etapa, garantiza la coherencia en el\n",
       "   proceso de enseñanza/aprendizaje a lo largo de los\n",
       "   distintos niveles y ciclos educativos.</p>, <p>Para su elaboración hay que tener en cuenta\n",
       "   varios aspectos:</p>, <p>El Proyecto Curricular de Primaria lo elaboran los\n",
       "   equipos docentes de cada ciclo, está coordinado por los\n",
       "   coordinadores de ciclo y es aprobado por el claustro de\n",
       "   profesores. Además, se incorporará a la\n",
       "   programación general del centro.</p>, <p>Todo Proyecto Curricular de Etapa consta de los\n",
       "   siguientes elementos:</p>, <p>Medidas de individualización de la\n",
       "     enseñanza.</p>, <p>El conjunto de decisiones que afectarán a la\n",
       "   concreción del curriculum, a la fijación de\n",
       "   objetivos y selección de contenidos, en general, a la\n",
       "   conformación de la oferta educativa que un centro realice\n",
       "   en una realidad concreta, tomará forma a\n",
       "   través de la elaboración y evaluación\n",
       "   progresiva de su propio Proyecto Curricular de Centro. Estos\n",
       "   Proyectos Curriculares de Centro, insertos en cada comunidad\n",
       "   escolar, contendrán las líneas generales de\n",
       "   actuación que informarán las iniciativas tomadas en\n",
       "   sucesivos niveles de concreción: los Proyectos\n",
       "   Curriculares de Etapa, los de Ciclo y Área, y la\n",
       "   realización de cada una de las Programaciones de Aula,\n",
       "   plasmación última del conjunto de decisiones que\n",
       "   deber  articular, de forma coherente, la oferta educativa de\n",
       "   un centro.</p>, <p>Los proyectos curriculares de etapa deberán\n",
       "   contener la adecuación de los objetivos generales de la\n",
       "   etapa al contexto socioeconómico y cultural del Centro y a\n",
       "   las características del alumnado, así como\n",
       "   criterios metodológicos de carácter general y\n",
       "   organización general del proceso de evaluación y\n",
       "   orientación.</p>, <p>Los proyectos curriculares de etapa incluirán\n",
       "   asimismo la concreción y secuenciación por ciclos\n",
       "   de los contenidos. Dicha secuenciación no deberá\n",
       "   variar, para un mismo grupo de alumnos a lo largo de la\n",
       "   Educación Primaria. Los proyectos curriculares de etapa\n",
       "   incluirán asimismo la concreción y\n",
       "   secuenciación por ciclos de los contenidos. Dicha\n",
       "   secuenciación no deberá  variar, para un mismo\n",
       "   grupo de alumnos a lo largo de la Educación\n",
       "   Primaria.</p>, <p><b>Proyecto de aula:</b></p>, <p>(Véase Unidad Didáctica).</p>, <p><b>Proyecto educativo de centro\n",
       "   (PEC):</b></p>, <p>\"Documento que recoge el conjunto de decisiones, es\n",
       "   decir, aquellas ideas, asumidas por toda la comunidad educativa,\n",
       "   respecto a las opciones educativas básicas y la\n",
       "   organización general del centro.\"\t</p>, <p>\"Documento de orientación\n",
       "   educativo-pedagógico elaborado por toda la comunidad\n",
       "   educativa, donde se señalan las notas ultimas a ir\n",
       "   consiguiendo progresivamente, de acuerdo con unos ideales,\n",
       "   utopías o valores educativos. Es el tipo de hombre, de\n",
       "   alumno que se quiere educar desde el respeto de su psicología,\n",
       "   afectivamente, para un tipo de sociedad nueva. ... Es una\n",
       "   propuesta integral para dirigir un proceso de intervención\n",
       "   educativa en una situación escolar concreta\".</p>, <p>El proyecto educativo de centro es elaborado por la\n",
       "   comunidad educativa y evaluado y aprobado por el consejo escolar.\n",
       "   Se estructura en:</p>, <p>R</p>, <p><b>Real Decreto:</b></p>, <p>\"(R.D. 1344/1991 de 6 de septiembre, B.O.E del 13 de\n",
       "   septiembre). Disposición legal de carácter\n",
       "   prescriptivo que establece el curriculum que tendrán que\n",
       "   ir concretando los equipos de profesorado de cada centro para\n",
       "   contextualizarlo en su realidad específica. Forman parte\n",
       "   de él, las enseñanzas mínimas que garantizan\n",
       "   una formación común para todos los alumnos y la\n",
       "   validez de títulos.\"</p>, <p><b>Real Decreto de Mínimos:</b></p>, <p>\"(R.D 1006/1991 de 14 de junio, B.O.E. de 26 de junio).\n",
       "   Establece las enseñanzas mínimas correspondientes a\n",
       "   cada etapa educativa. Tiene carácter prescriptivo para\n",
       "   todo el\n",
       "   Estado.\"</p>, <p><b>Reforma educativa:</b></p>, <p>En 1987 Malavares indicó que iba a reformar el\n",
       "   sistema educativo basándose en dos grandes\n",
       "   cambios:</p>, <p>Las transformaciones de orden político,\n",
       "   económico y social que se están produciendo en\n",
       "   nuestro contexto, los progresos que se originan en la producción, en la tecnología y en la\n",
       "   vida cultural, así como la integración de nuestro\n",
       "   país como miembro de pleno derecho en la Comunidad\n",
       "   Europea, son motivaciones que aconsejan e informan la\n",
       "   reestructuración del Sistema Educativo. Con ello se\n",
       "   pretende no sólo adecuarse a estas nuevas condiciones,\n",
       "   sino prepararse para los cambios futuros que se producirán\n",
       "   en el entorno dinámico en el que vivimos.\tPor otra parte,\n",
       "   se actualiza la función educativa proponiendo incorporar a\n",
       "   la práctica docente aquellas aportaciones\n",
       "   científicas que se traducen en un mejor conocimiento de\n",
       "   cómo se produce el aprendizaje, una adecuada\n",
       "   selección de los contenidos y en general, una propuesta\n",
       "   educativa más fundamentada.</p>, <p>Se aborda, en consecuencia, un cambio profundo y general\n",
       "   del Sistema Educativo, por cuanto afecta tanto a la\n",
       "   reordenación de la estructura del sistema, como a la\n",
       "   reforma de los diferentes elementos curriculares, contando con\n",
       "   una mejor organización, con mejores instrumentos y\n",
       "   recursos y con una concepción más participativa y\n",
       "   adaptada al medio.</p>, <p>Un cambio de esta naturaleza exige,\n",
       "   dadas sus especiales características y su complejidad,\n",
       "   aunará los esfuerzos de los distintos elementos sociales\n",
       "   que intervienen en el proceso educativo.</p>, <p>La estructura y finalidad del nuevo Sistema Educativo\n",
       "   pretende adecuar a éste a las necesidades y demandas de\n",
       "   una sociedad democrática. Salvaguarda el derecho de todos\n",
       "   a una educación básica de manera obligatoria y\n",
       "   gratuita, permitiendo que el derecho a la educación sea\n",
       "   ejercido en condiciones de libertad e\n",
       "   igualdad.</p>, <p>La Reforma Educativa, recogida en la Ley Orgánica\n",
       "   1/1990 de 3 de octubre, de Ordenación General del Sistema\n",
       "   Educativo, aparece en un momento en el que diferentes factores\n",
       "   así lo han hecho necesario:</p>, <p>• Desde la anterior Ley General de Educación\n",
       "   (1970), los procesos sociales y políticos ocurridos en\n",
       "   el Estado\n",
       "   Español, han configurado una nueva situación que\n",
       "   exige una remodelación consecuente del sistema\n",
       "   educativo.</p>, <p>• La adhesión a la Comunidad Europea del\n",
       "   Estado Español, implica consecuencias tanto de tipo\n",
       "   educativo, como laboral y social, que han aconsejado el\n",
       "   acercamiento de los objetivos, los contenidos y la estructura de\n",
       "   la enseñanza en España, al\n",
       "   resto de los países del entorno europeo.</p>, <p>• También se ha hecho necesario adaptar el\n",
       "   sistema educativo a las nuevas demandas de cualificación\n",
       "   profesional, a los recientes avances científicos y\n",
       "   técnicos y a procesos productivos cada vez más\n",
       "   complejos y dinámicos, estableciendo una mayor\n",
       "   conexión entre el mundo educativo y el mundo\n",
       "   laboral.</p>, <p>•Evitar la doble vía discriminatoria entre\n",
       "   Formación Profesional y Bachillerato, incorporar los\n",
       "   nuevos temas que demanda la\n",
       "   sociedad y, en general, ofrecer una mayor calidad de la\n",
       "   enseñanza son razones suficientes para una profunda\n",
       "   reforma y para ampliar determinados tramos educativos\n",
       "   (Educación Infantil y Educación Secundaria\n",
       "   Obligatoria).</p>, <p><b>Resolución 5 de Marzo:</b></p>, <p>Uno de los documentos\n",
       "   elaborados para el conocimiento de la Reforma es la\n",
       "   Resolución del 5 de marzo de 1992 por la que se regula la\n",
       "   elaboración de proyectos curriculares y establecen\n",
       "   orientaciones para la distribución de objetivos y contenidos para\n",
       "   cada uno de los ciclos.</p>, <p>S</p>, <p><b>Secuenciación de\n",
       "   contenidos:</b></p>, <p>La secuenciación de contenidos que se establezca\n",
       "   a lo largo de la enseñanza obligatoria, debe propiciar una\n",
       "   creciente complejidad de los esquemas de conocimiento del alumno,\n",
       "   que lo aproxime, gradualmente, a las estructuras\n",
       "   conceptuales de los distintos cuerpos de conocimiento. Para que\n",
       "   esto sea posible, la secuencia debe respetar las líneas\n",
       "   generales del desarrollo cognitivo señaladas, ampliando\n",
       "   progresivamente el campo de los contenidos que se han de trabajar\n",
       "   y ofreciendo formulaciones conceptuales de distintos niveles de\n",
       "   complejidad a lo largo de la etapa.</p>, <p><b>Sistema educativo:</b></p>, <p>\"Conjunto de elementos, recursos personales y\n",
       "   materiales, y ordenación de éstos a través\n",
       "   de leyes, programas..., puestos al servicio de la\n",
       "   educación.\"</p>, <p><b>Sociedad:</b></p>, <p>Grupos de personas que se establecen e\n",
       "   interactúan entre sí para que a partir de unas\n",
       "   leyes puedan convivir y satisfacer las necesidades del\n",
       "   colectivo.</p>, <p>\"Agrupación de individuos con el fin de cumplir\n",
       "   mediante la mutua cooperación, todo o alguno de los fines\n",
       "   de la vida\".</p>, <p></p>, <p></p>, <p>T</p>, <p><b>Tópicos:</b></p>, <p>Los tópicos son centros de interés que\n",
       "   surgen de un acontecimiento importante que se produce en la vida\n",
       "   cotidiana de los niños y niñas, y que no son\n",
       "   expresamente establecidos por el maestro.</p>, <p>Según Ángeles Gervilla, en su libro\n",
       "   <i>Dinamizar y educar</i> (Ed.Dykinson, S.L. 1992) define a los\n",
       "   tópicos o núcleos generados como \"aquellos que\n",
       "   surgen espontáneamente en clase y en los que, sin el\n",
       "   profesor pretenderlo, se centra inmediatamente el\n",
       "   interés.\"(pág. 105)</p>, <p><b>Tutoría:</b></p>, <p>La tutoría y orientación de los alumnos y\n",
       "   alumnas forma parte de la función docente. Corresponde a\n",
       "   los centros educativos la programación de estas\n",
       "   actividades, dentro de lo establecido.</p>, <p>Cada grupo de alumnos tendrá  un profesor\n",
       "   tutor, que deberá  coordinarse con los otros\n",
       "   profesores especialistas que, en su caso, intervengan con el\n",
       "   mismo grupo de alumnos.</p>, <p>Los centros docentes dispondrán del sistema de\n",
       "   organización de la orientación\n",
       "   psicopedagógica que se establezca con objeto de facilitar\n",
       "   y apoyar las labores de tutoría y orientación de\n",
       "   los alumnos.</p>, <p>La tutoría tiene como funciones básicas,\n",
       "   entre otras:</p>, <p>U</p>, <p><b>Unidad didáctica:</b></p>, <p>\"Unidad de trabajo relativa a un proceso completo de\n",
       "   enseñanza-aprendizaje, que no tiene duración\n",
       "   temporal fija, y en la cual se precisan el conjunto de objetivos\n",
       "   didácticos, bloques elementales de contenido y actividades\n",
       "   de aprendizaje y de evaluación.</p>, <p>Según el Ministerio de Educación y\n",
       "   Ciencia, la\n",
       "   programación se realiza por unidades\n",
       "   didácticas.\"\t</p>, <p>\"Tercer nivel de concreción del currículo.\n",
       "   Es el conjunto de actividades que se desarrollan en un tiempo\n",
       "   determinado, para la consecución de unos objetivos\n",
       "   didácticos dando respuesta a todas las cuestiones\n",
       "   curriculares, o sea, al qué enseñar (objetivos y\n",
       "   contenidos), cuándo enseñar (secuencia ordenada de\n",
       "   actividades y contenidos), cómo enseñar\n",
       "   (actividades, organización del espacio y del tiempo,\n",
       "   materiales y recursos didácticos), y a la\n",
       "   evaluación.\"</p>, <p>César Coll en su libro Psicología\ty\n",
       "   Curriculum la define como: \" unidad de trabajo relativa a un\n",
       "   proceso completo de enseñanza/aprendizaje que no tiene una\n",
       "   duración temporal fija (una unidad didáctica puede\n",
       "   abarcar varias \"clases\" o \"lecciones tradicionales\"). En la\n",
       "   medida en que concierne a la planificación de un proceso\n",
       "   completo enseñanza/aprendizaje las unidades\n",
       "   didácticas necesitan unos objetivos, unos bloques\n",
       "   elementales de contenidos, unas actividades de aprendizaje y unas\n",
       "   actividades de evaluación.\"</p>, <p>Cada unidad didáctica elaborada da respuesta a\n",
       "   las mismas preguntas que el Proyecto Curricular de Etapa\n",
       "   (qué, cuándo y cómo enseñar evaluar),\n",
       "   pero con una mayor concreción y desarrollo curricular.\n",
       "   Cuando hablamos de U.D nos referimos no sólo a una\n",
       "   definición de intenciones educativas para un grupo de\n",
       "   alumnos sino también a la\n",
       "   organización metodológica y a su desarrollo en\n",
       "   el aula.</p>, <p>Los decretos que regulan los diferentes\n",
       "   currículos de las diferentes etapas especifican que la\n",
       "   unidad didáctica debe elaborarse teniendo presente el\n",
       "   Proyecto Curricular de Etapa y partiendo en todo momento, de los\n",
       "   conocimientos e intereses del grupo de niños al que va\n",
       "   dirigida la práctica educativa.</p>, <p>Las unidades didácticas serán unos\n",
       "   elementos vivos, reales, abiertos y flexibles en los que se\n",
       "   ofrezca al alumno la posibilidad de ser participe de su propio\n",
       "   aprendizaje a través de la investigación y el descubrimiento. Deben\n",
       "   tener como punto de partida la experiencia previa, es decir, de\n",
       "   programaciones ya existentes en el centro.</p>, <p>Bajo el punto de vista del enfoque globalizador de\n",
       "   primaria las distintas posibilidades metodológicas para\n",
       "   diseñar una unidad didáctica son: centros de\n",
       "   interés, proyectos, tópicos...</p>, <p><b>Universidad:</b></p>, <p>Órgano a través del cual la sociedad\n",
       "   conserva y transmite el saber de alto nivel al tiempo que forma a\n",
       "   los profesionales superiores. La universidad va a\n",
       "   tener varias funciones:</p>, <p>La Universidad\n",
       "   promueve la investigación y el desarrollo.</p>, <p align=\"center\">\n",
       " <b>BIBLIOGRAFÍA</b></p>, <p>-COLL, CESAR (1987) Psicología y\n",
       "   curriculum Barcelona Ediciones Paidós. Cuadernos de\n",
       "   Pedagogía.</p>, <p>-M.E.C (1989) Diseño Curricular\n",
       "   Base.</p>, <p>-M.E.C (1992) Materiales para la reforma (cajas\n",
       "   rojas).</p>, <p>-M.E.C (1992) Guía General de\n",
       "   Primaria.</p>, <p>-SAÉNZ BARRIO, O (1985) Didáctica\n",
       "   General. Madrid. Anaya.</p>, <p>-SÁNCHEZ CEREZO (1983) Diccionario de las\n",
       "   ciencias de la\n",
       "   educación Publicaciones Diagonal-Santillana.\n",
       "   Madrid.</p>, <p>-Vocabulario Básico de la Reforma\n",
       "   Educativa. Edebé.</p>, <p>-Exposición de Rocío López\n",
       "   Ordóñez y Manuel Muñoz Castellanos. 1º\n",
       "   Ed. Física\n",
       "   Tarde Curso 1996/97</p>, <p> </p>, <p> </p>, <p>Autor:</p>]"
      ]
     },
     "execution_count": 20,
     "metadata": {},
     "output_type": "execute_result"
    }
   ],
   "source": [
    "header.findAll('p')"
   ]
  },
  {
   "cell_type": "code",
   "execution_count": 268,
   "metadata": {
    "collapsed": true
   },
   "outputs": [
    {
     "name": "stderr",
     "output_type": "stream",
     "text": [
      "C:\\ProgramData\\Anaconda3\\lib\\site-packages\\urllib3\\connectionpool.py:858: InsecureRequestWarning: Unverified HTTPS request is being made. Adding certificate verification is strongly advised. See: https://urllib3.readthedocs.io/en/latest/advanced-usage.html#ssl-warnings\n",
      "  InsecureRequestWarning)\n"
     ]
    },
    {
     "name": "stdout",
     "output_type": "stream",
     "text": [
      "0\n"
     ]
    },
    {
     "name": "stderr",
     "output_type": "stream",
     "text": [
      "C:\\ProgramData\\Anaconda3\\lib\\site-packages\\urllib3\\connectionpool.py:858: InsecureRequestWarning: Unverified HTTPS request is being made. Adding certificate verification is strongly advised. See: https://urllib3.readthedocs.io/en/latest/advanced-usage.html#ssl-warnings\n",
      "  InsecureRequestWarning)\n"
     ]
    },
    {
     "name": "stdout",
     "output_type": "stream",
     "text": [
      "1\n"
     ]
    },
    {
     "name": "stderr",
     "output_type": "stream",
     "text": [
      "C:\\ProgramData\\Anaconda3\\lib\\site-packages\\urllib3\\connectionpool.py:858: InsecureRequestWarning: Unverified HTTPS request is being made. Adding certificate verification is strongly advised. See: https://urllib3.readthedocs.io/en/latest/advanced-usage.html#ssl-warnings\n",
      "  InsecureRequestWarning)\n"
     ]
    },
    {
     "name": "stdout",
     "output_type": "stream",
     "text": [
      "2\n"
     ]
    },
    {
     "name": "stderr",
     "output_type": "stream",
     "text": [
      "C:\\ProgramData\\Anaconda3\\lib\\site-packages\\urllib3\\connectionpool.py:858: InsecureRequestWarning: Unverified HTTPS request is being made. Adding certificate verification is strongly advised. See: https://urllib3.readthedocs.io/en/latest/advanced-usage.html#ssl-warnings\n",
      "  InsecureRequestWarning)\n"
     ]
    },
    {
     "name": "stdout",
     "output_type": "stream",
     "text": [
      "3\n"
     ]
    },
    {
     "name": "stderr",
     "output_type": "stream",
     "text": [
      "C:\\ProgramData\\Anaconda3\\lib\\site-packages\\urllib3\\connectionpool.py:858: InsecureRequestWarning: Unverified HTTPS request is being made. Adding certificate verification is strongly advised. See: https://urllib3.readthedocs.io/en/latest/advanced-usage.html#ssl-warnings\n",
      "  InsecureRequestWarning)\n"
     ]
    },
    {
     "name": "stdout",
     "output_type": "stream",
     "text": [
      "4\n"
     ]
    },
    {
     "name": "stderr",
     "output_type": "stream",
     "text": [
      "C:\\ProgramData\\Anaconda3\\lib\\site-packages\\urllib3\\connectionpool.py:858: InsecureRequestWarning: Unverified HTTPS request is being made. Adding certificate verification is strongly advised. See: https://urllib3.readthedocs.io/en/latest/advanced-usage.html#ssl-warnings\n",
      "  InsecureRequestWarning)\n"
     ]
    },
    {
     "name": "stdout",
     "output_type": "stream",
     "text": [
      "5\n"
     ]
    },
    {
     "name": "stderr",
     "output_type": "stream",
     "text": [
      "C:\\ProgramData\\Anaconda3\\lib\\site-packages\\urllib3\\connectionpool.py:858: InsecureRequestWarning: Unverified HTTPS request is being made. Adding certificate verification is strongly advised. See: https://urllib3.readthedocs.io/en/latest/advanced-usage.html#ssl-warnings\n",
      "  InsecureRequestWarning)\n"
     ]
    },
    {
     "name": "stdout",
     "output_type": "stream",
     "text": [
      "6\n"
     ]
    },
    {
     "name": "stderr",
     "output_type": "stream",
     "text": [
      "C:\\ProgramData\\Anaconda3\\lib\\site-packages\\urllib3\\connectionpool.py:858: InsecureRequestWarning: Unverified HTTPS request is being made. Adding certificate verification is strongly advised. See: https://urllib3.readthedocs.io/en/latest/advanced-usage.html#ssl-warnings\n",
      "  InsecureRequestWarning)\n"
     ]
    },
    {
     "name": "stdout",
     "output_type": "stream",
     "text": [
      "7\n"
     ]
    },
    {
     "name": "stderr",
     "output_type": "stream",
     "text": [
      "C:\\ProgramData\\Anaconda3\\lib\\site-packages\\urllib3\\connectionpool.py:858: InsecureRequestWarning: Unverified HTTPS request is being made. Adding certificate verification is strongly advised. See: https://urllib3.readthedocs.io/en/latest/advanced-usage.html#ssl-warnings\n",
      "  InsecureRequestWarning)\n"
     ]
    },
    {
     "name": "stdout",
     "output_type": "stream",
     "text": [
      "8\n"
     ]
    },
    {
     "name": "stderr",
     "output_type": "stream",
     "text": [
      "C:\\ProgramData\\Anaconda3\\lib\\site-packages\\urllib3\\connectionpool.py:858: InsecureRequestWarning: Unverified HTTPS request is being made. Adding certificate verification is strongly advised. See: https://urllib3.readthedocs.io/en/latest/advanced-usage.html#ssl-warnings\n",
      "  InsecureRequestWarning)\n"
     ]
    },
    {
     "name": "stdout",
     "output_type": "stream",
     "text": [
      "9\n"
     ]
    },
    {
     "name": "stderr",
     "output_type": "stream",
     "text": [
      "C:\\ProgramData\\Anaconda3\\lib\\site-packages\\urllib3\\connectionpool.py:858: InsecureRequestWarning: Unverified HTTPS request is being made. Adding certificate verification is strongly advised. See: https://urllib3.readthedocs.io/en/latest/advanced-usage.html#ssl-warnings\n",
      "  InsecureRequestWarning)\n"
     ]
    },
    {
     "name": "stdout",
     "output_type": "stream",
     "text": [
      "10\n"
     ]
    },
    {
     "name": "stderr",
     "output_type": "stream",
     "text": [
      "C:\\ProgramData\\Anaconda3\\lib\\site-packages\\urllib3\\connectionpool.py:858: InsecureRequestWarning: Unverified HTTPS request is being made. Adding certificate verification is strongly advised. See: https://urllib3.readthedocs.io/en/latest/advanced-usage.html#ssl-warnings\n",
      "  InsecureRequestWarning)\n"
     ]
    },
    {
     "name": "stdout",
     "output_type": "stream",
     "text": [
      "11\n"
     ]
    },
    {
     "name": "stderr",
     "output_type": "stream",
     "text": [
      "C:\\ProgramData\\Anaconda3\\lib\\site-packages\\urllib3\\connectionpool.py:858: InsecureRequestWarning: Unverified HTTPS request is being made. Adding certificate verification is strongly advised. See: https://urllib3.readthedocs.io/en/latest/advanced-usage.html#ssl-warnings\n",
      "  InsecureRequestWarning)\n"
     ]
    },
    {
     "name": "stdout",
     "output_type": "stream",
     "text": [
      "12\n"
     ]
    },
    {
     "name": "stderr",
     "output_type": "stream",
     "text": [
      "C:\\ProgramData\\Anaconda3\\lib\\site-packages\\urllib3\\connectionpool.py:858: InsecureRequestWarning: Unverified HTTPS request is being made. Adding certificate verification is strongly advised. See: https://urllib3.readthedocs.io/en/latest/advanced-usage.html#ssl-warnings\n",
      "  InsecureRequestWarning)\n"
     ]
    },
    {
     "name": "stdout",
     "output_type": "stream",
     "text": [
      "13\n"
     ]
    },
    {
     "name": "stderr",
     "output_type": "stream",
     "text": [
      "C:\\ProgramData\\Anaconda3\\lib\\site-packages\\urllib3\\connectionpool.py:858: InsecureRequestWarning: Unverified HTTPS request is being made. Adding certificate verification is strongly advised. See: https://urllib3.readthedocs.io/en/latest/advanced-usage.html#ssl-warnings\n",
      "  InsecureRequestWarning)\n"
     ]
    },
    {
     "name": "stdout",
     "output_type": "stream",
     "text": [
      "14\n"
     ]
    },
    {
     "name": "stderr",
     "output_type": "stream",
     "text": [
      "C:\\ProgramData\\Anaconda3\\lib\\site-packages\\urllib3\\connectionpool.py:858: InsecureRequestWarning: Unverified HTTPS request is being made. Adding certificate verification is strongly advised. See: https://urllib3.readthedocs.io/en/latest/advanced-usage.html#ssl-warnings\n",
      "  InsecureRequestWarning)\n"
     ]
    },
    {
     "name": "stdout",
     "output_type": "stream",
     "text": [
      "15\n"
     ]
    },
    {
     "name": "stderr",
     "output_type": "stream",
     "text": [
      "C:\\ProgramData\\Anaconda3\\lib\\site-packages\\urllib3\\connectionpool.py:858: InsecureRequestWarning: Unverified HTTPS request is being made. Adding certificate verification is strongly advised. See: https://urllib3.readthedocs.io/en/latest/advanced-usage.html#ssl-warnings\n",
      "  InsecureRequestWarning)\n"
     ]
    },
    {
     "name": "stdout",
     "output_type": "stream",
     "text": [
      "16\n"
     ]
    },
    {
     "name": "stderr",
     "output_type": "stream",
     "text": [
      "C:\\ProgramData\\Anaconda3\\lib\\site-packages\\urllib3\\connectionpool.py:858: InsecureRequestWarning: Unverified HTTPS request is being made. Adding certificate verification is strongly advised. See: https://urllib3.readthedocs.io/en/latest/advanced-usage.html#ssl-warnings\n",
      "  InsecureRequestWarning)\n"
     ]
    },
    {
     "name": "stdout",
     "output_type": "stream",
     "text": [
      "17\n"
     ]
    },
    {
     "name": "stderr",
     "output_type": "stream",
     "text": [
      "C:\\ProgramData\\Anaconda3\\lib\\site-packages\\urllib3\\connectionpool.py:858: InsecureRequestWarning: Unverified HTTPS request is being made. Adding certificate verification is strongly advised. See: https://urllib3.readthedocs.io/en/latest/advanced-usage.html#ssl-warnings\n",
      "  InsecureRequestWarning)\n"
     ]
    },
    {
     "name": "stdout",
     "output_type": "stream",
     "text": [
      "18\n"
     ]
    },
    {
     "name": "stderr",
     "output_type": "stream",
     "text": [
      "C:\\ProgramData\\Anaconda3\\lib\\site-packages\\urllib3\\connectionpool.py:858: InsecureRequestWarning: Unverified HTTPS request is being made. Adding certificate verification is strongly advised. See: https://urllib3.readthedocs.io/en/latest/advanced-usage.html#ssl-warnings\n",
      "  InsecureRequestWarning)\n"
     ]
    },
    {
     "name": "stdout",
     "output_type": "stream",
     "text": [
      "19\n"
     ]
    },
    {
     "name": "stderr",
     "output_type": "stream",
     "text": [
      "C:\\ProgramData\\Anaconda3\\lib\\site-packages\\urllib3\\connectionpool.py:858: InsecureRequestWarning: Unverified HTTPS request is being made. Adding certificate verification is strongly advised. See: https://urllib3.readthedocs.io/en/latest/advanced-usage.html#ssl-warnings\n",
      "  InsecureRequestWarning)\n"
     ]
    },
    {
     "name": "stdout",
     "output_type": "stream",
     "text": [
      "20\n"
     ]
    },
    {
     "name": "stderr",
     "output_type": "stream",
     "text": [
      "C:\\ProgramData\\Anaconda3\\lib\\site-packages\\urllib3\\connectionpool.py:858: InsecureRequestWarning: Unverified HTTPS request is being made. Adding certificate verification is strongly advised. See: https://urllib3.readthedocs.io/en/latest/advanced-usage.html#ssl-warnings\n",
      "  InsecureRequestWarning)\n"
     ]
    },
    {
     "name": "stdout",
     "output_type": "stream",
     "text": [
      "21\n"
     ]
    },
    {
     "name": "stderr",
     "output_type": "stream",
     "text": [
      "C:\\ProgramData\\Anaconda3\\lib\\site-packages\\urllib3\\connectionpool.py:858: InsecureRequestWarning: Unverified HTTPS request is being made. Adding certificate verification is strongly advised. See: https://urllib3.readthedocs.io/en/latest/advanced-usage.html#ssl-warnings\n",
      "  InsecureRequestWarning)\n"
     ]
    },
    {
     "name": "stdout",
     "output_type": "stream",
     "text": [
      "22\n"
     ]
    },
    {
     "name": "stderr",
     "output_type": "stream",
     "text": [
      "C:\\ProgramData\\Anaconda3\\lib\\site-packages\\urllib3\\connectionpool.py:858: InsecureRequestWarning: Unverified HTTPS request is being made. Adding certificate verification is strongly advised. See: https://urllib3.readthedocs.io/en/latest/advanced-usage.html#ssl-warnings\n",
      "  InsecureRequestWarning)\n"
     ]
    },
    {
     "name": "stdout",
     "output_type": "stream",
     "text": [
      "23\n"
     ]
    },
    {
     "name": "stderr",
     "output_type": "stream",
     "text": [
      "C:\\ProgramData\\Anaconda3\\lib\\site-packages\\urllib3\\connectionpool.py:858: InsecureRequestWarning: Unverified HTTPS request is being made. Adding certificate verification is strongly advised. See: https://urllib3.readthedocs.io/en/latest/advanced-usage.html#ssl-warnings\n",
      "  InsecureRequestWarning)\n"
     ]
    },
    {
     "name": "stdout",
     "output_type": "stream",
     "text": [
      "24\n"
     ]
    },
    {
     "name": "stderr",
     "output_type": "stream",
     "text": [
      "C:\\ProgramData\\Anaconda3\\lib\\site-packages\\urllib3\\connectionpool.py:858: InsecureRequestWarning: Unverified HTTPS request is being made. Adding certificate verification is strongly advised. See: https://urllib3.readthedocs.io/en/latest/advanced-usage.html#ssl-warnings\n",
      "  InsecureRequestWarning)\n"
     ]
    },
    {
     "name": "stdout",
     "output_type": "stream",
     "text": [
      "25\n"
     ]
    },
    {
     "name": "stderr",
     "output_type": "stream",
     "text": [
      "C:\\ProgramData\\Anaconda3\\lib\\site-packages\\urllib3\\connectionpool.py:858: InsecureRequestWarning: Unverified HTTPS request is being made. Adding certificate verification is strongly advised. See: https://urllib3.readthedocs.io/en/latest/advanced-usage.html#ssl-warnings\n",
      "  InsecureRequestWarning)\n"
     ]
    },
    {
     "name": "stdout",
     "output_type": "stream",
     "text": [
      "26\n"
     ]
    },
    {
     "name": "stderr",
     "output_type": "stream",
     "text": [
      "C:\\ProgramData\\Anaconda3\\lib\\site-packages\\urllib3\\connectionpool.py:858: InsecureRequestWarning: Unverified HTTPS request is being made. Adding certificate verification is strongly advised. See: https://urllib3.readthedocs.io/en/latest/advanced-usage.html#ssl-warnings\n",
      "  InsecureRequestWarning)\n"
     ]
    },
    {
     "name": "stdout",
     "output_type": "stream",
     "text": [
      "27\n"
     ]
    },
    {
     "name": "stderr",
     "output_type": "stream",
     "text": [
      "C:\\ProgramData\\Anaconda3\\lib\\site-packages\\urllib3\\connectionpool.py:858: InsecureRequestWarning: Unverified HTTPS request is being made. Adding certificate verification is strongly advised. See: https://urllib3.readthedocs.io/en/latest/advanced-usage.html#ssl-warnings\n",
      "  InsecureRequestWarning)\n"
     ]
    },
    {
     "name": "stdout",
     "output_type": "stream",
     "text": [
      "28\n"
     ]
    },
    {
     "name": "stderr",
     "output_type": "stream",
     "text": [
      "C:\\ProgramData\\Anaconda3\\lib\\site-packages\\urllib3\\connectionpool.py:858: InsecureRequestWarning: Unverified HTTPS request is being made. Adding certificate verification is strongly advised. See: https://urllib3.readthedocs.io/en/latest/advanced-usage.html#ssl-warnings\n",
      "  InsecureRequestWarning)\n"
     ]
    },
    {
     "name": "stdout",
     "output_type": "stream",
     "text": [
      "29\n"
     ]
    },
    {
     "name": "stderr",
     "output_type": "stream",
     "text": [
      "C:\\ProgramData\\Anaconda3\\lib\\site-packages\\urllib3\\connectionpool.py:858: InsecureRequestWarning: Unverified HTTPS request is being made. Adding certificate verification is strongly advised. See: https://urllib3.readthedocs.io/en/latest/advanced-usage.html#ssl-warnings\n",
      "  InsecureRequestWarning)\n"
     ]
    },
    {
     "name": "stdout",
     "output_type": "stream",
     "text": [
      "30\n"
     ]
    },
    {
     "name": "stderr",
     "output_type": "stream",
     "text": [
      "C:\\ProgramData\\Anaconda3\\lib\\site-packages\\urllib3\\connectionpool.py:858: InsecureRequestWarning: Unverified HTTPS request is being made. Adding certificate verification is strongly advised. See: https://urllib3.readthedocs.io/en/latest/advanced-usage.html#ssl-warnings\n",
      "  InsecureRequestWarning)\n"
     ]
    },
    {
     "name": "stdout",
     "output_type": "stream",
     "text": [
      "31\n"
     ]
    },
    {
     "name": "stderr",
     "output_type": "stream",
     "text": [
      "C:\\ProgramData\\Anaconda3\\lib\\site-packages\\urllib3\\connectionpool.py:858: InsecureRequestWarning: Unverified HTTPS request is being made. Adding certificate verification is strongly advised. See: https://urllib3.readthedocs.io/en/latest/advanced-usage.html#ssl-warnings\n",
      "  InsecureRequestWarning)\n"
     ]
    },
    {
     "name": "stdout",
     "output_type": "stream",
     "text": [
      "32\n"
     ]
    },
    {
     "name": "stderr",
     "output_type": "stream",
     "text": [
      "C:\\ProgramData\\Anaconda3\\lib\\site-packages\\urllib3\\connectionpool.py:858: InsecureRequestWarning: Unverified HTTPS request is being made. Adding certificate verification is strongly advised. See: https://urllib3.readthedocs.io/en/latest/advanced-usage.html#ssl-warnings\n",
      "  InsecureRequestWarning)\n"
     ]
    },
    {
     "name": "stdout",
     "output_type": "stream",
     "text": [
      "33\n"
     ]
    },
    {
     "name": "stderr",
     "output_type": "stream",
     "text": [
      "C:\\ProgramData\\Anaconda3\\lib\\site-packages\\urllib3\\connectionpool.py:858: InsecureRequestWarning: Unverified HTTPS request is being made. Adding certificate verification is strongly advised. See: https://urllib3.readthedocs.io/en/latest/advanced-usage.html#ssl-warnings\n",
      "  InsecureRequestWarning)\n"
     ]
    },
    {
     "name": "stdout",
     "output_type": "stream",
     "text": [
      "34\n",
      "i\n",
      "i\n",
      "i\n",
      "i\n",
      "i\n",
      "i\n",
      "i\n",
      "i\n",
      "i\n",
      "i\n",
      "i\n",
      "i\n",
      "i\n",
      "i\n",
      "i\n",
      "i\n",
      "i\n",
      "i\n"
     ]
    },
    {
     "name": "stderr",
     "output_type": "stream",
     "text": [
      "C:\\ProgramData\\Anaconda3\\lib\\site-packages\\urllib3\\connectionpool.py:858: InsecureRequestWarning: Unverified HTTPS request is being made. Adding certificate verification is strongly advised. See: https://urllib3.readthedocs.io/en/latest/advanced-usage.html#ssl-warnings\n",
      "  InsecureRequestWarning)\n"
     ]
    },
    {
     "name": "stdout",
     "output_type": "stream",
     "text": [
      "35\n"
     ]
    },
    {
     "name": "stderr",
     "output_type": "stream",
     "text": [
      "C:\\ProgramData\\Anaconda3\\lib\\site-packages\\urllib3\\connectionpool.py:858: InsecureRequestWarning: Unverified HTTPS request is being made. Adding certificate verification is strongly advised. See: https://urllib3.readthedocs.io/en/latest/advanced-usage.html#ssl-warnings\n",
      "  InsecureRequestWarning)\n"
     ]
    },
    {
     "name": "stdout",
     "output_type": "stream",
     "text": [
      "36\n"
     ]
    },
    {
     "name": "stderr",
     "output_type": "stream",
     "text": [
      "C:\\ProgramData\\Anaconda3\\lib\\site-packages\\urllib3\\connectionpool.py:858: InsecureRequestWarning: Unverified HTTPS request is being made. Adding certificate verification is strongly advised. See: https://urllib3.readthedocs.io/en/latest/advanced-usage.html#ssl-warnings\n",
      "  InsecureRequestWarning)\n"
     ]
    },
    {
     "name": "stdout",
     "output_type": "stream",
     "text": [
      "37\n"
     ]
    },
    {
     "name": "stderr",
     "output_type": "stream",
     "text": [
      "C:\\ProgramData\\Anaconda3\\lib\\site-packages\\urllib3\\connectionpool.py:858: InsecureRequestWarning: Unverified HTTPS request is being made. Adding certificate verification is strongly advised. See: https://urllib3.readthedocs.io/en/latest/advanced-usage.html#ssl-warnings\n",
      "  InsecureRequestWarning)\n"
     ]
    },
    {
     "name": "stdout",
     "output_type": "stream",
     "text": [
      "38\n"
     ]
    },
    {
     "name": "stderr",
     "output_type": "stream",
     "text": [
      "C:\\ProgramData\\Anaconda3\\lib\\site-packages\\urllib3\\connectionpool.py:858: InsecureRequestWarning: Unverified HTTPS request is being made. Adding certificate verification is strongly advised. See: https://urllib3.readthedocs.io/en/latest/advanced-usage.html#ssl-warnings\n",
      "  InsecureRequestWarning)\n"
     ]
    },
    {
     "name": "stdout",
     "output_type": "stream",
     "text": [
      "39\n"
     ]
    },
    {
     "name": "stderr",
     "output_type": "stream",
     "text": [
      "C:\\ProgramData\\Anaconda3\\lib\\site-packages\\urllib3\\connectionpool.py:858: InsecureRequestWarning: Unverified HTTPS request is being made. Adding certificate verification is strongly advised. See: https://urllib3.readthedocs.io/en/latest/advanced-usage.html#ssl-warnings\n",
      "  InsecureRequestWarning)\n"
     ]
    },
    {
     "name": "stdout",
     "output_type": "stream",
     "text": [
      "40\n"
     ]
    },
    {
     "name": "stderr",
     "output_type": "stream",
     "text": [
      "C:\\ProgramData\\Anaconda3\\lib\\site-packages\\urllib3\\connectionpool.py:858: InsecureRequestWarning: Unverified HTTPS request is being made. Adding certificate verification is strongly advised. See: https://urllib3.readthedocs.io/en/latest/advanced-usage.html#ssl-warnings\n",
      "  InsecureRequestWarning)\n"
     ]
    },
    {
     "name": "stdout",
     "output_type": "stream",
     "text": [
      "41\n"
     ]
    },
    {
     "name": "stderr",
     "output_type": "stream",
     "text": [
      "C:\\ProgramData\\Anaconda3\\lib\\site-packages\\urllib3\\connectionpool.py:858: InsecureRequestWarning: Unverified HTTPS request is being made. Adding certificate verification is strongly advised. See: https://urllib3.readthedocs.io/en/latest/advanced-usage.html#ssl-warnings\n",
      "  InsecureRequestWarning)\n"
     ]
    },
    {
     "name": "stdout",
     "output_type": "stream",
     "text": [
      "42\n"
     ]
    },
    {
     "name": "stderr",
     "output_type": "stream",
     "text": [
      "C:\\ProgramData\\Anaconda3\\lib\\site-packages\\urllib3\\connectionpool.py:858: InsecureRequestWarning: Unverified HTTPS request is being made. Adding certificate verification is strongly advised. See: https://urllib3.readthedocs.io/en/latest/advanced-usage.html#ssl-warnings\n",
      "  InsecureRequestWarning)\n"
     ]
    },
    {
     "name": "stdout",
     "output_type": "stream",
     "text": [
      "43\n"
     ]
    },
    {
     "name": "stderr",
     "output_type": "stream",
     "text": [
      "C:\\ProgramData\\Anaconda3\\lib\\site-packages\\urllib3\\connectionpool.py:858: InsecureRequestWarning: Unverified HTTPS request is being made. Adding certificate verification is strongly advised. See: https://urllib3.readthedocs.io/en/latest/advanced-usage.html#ssl-warnings\n",
      "  InsecureRequestWarning)\n",
      "C:\\ProgramData\\Anaconda3\\lib\\site-packages\\urllib3\\connectionpool.py:858: InsecureRequestWarning: Unverified HTTPS request is being made. Adding certificate verification is strongly advised. See: https://urllib3.readthedocs.io/en/latest/advanced-usage.html#ssl-warnings\n",
      "  InsecureRequestWarning)\n"
     ]
    },
    {
     "name": "stdout",
     "output_type": "stream",
     "text": [
      "44\n"
     ]
    },
    {
     "name": "stderr",
     "output_type": "stream",
     "text": [
      "C:\\ProgramData\\Anaconda3\\lib\\site-packages\\urllib3\\connectionpool.py:858: InsecureRequestWarning: Unverified HTTPS request is being made. Adding certificate verification is strongly advised. See: https://urllib3.readthedocs.io/en/latest/advanced-usage.html#ssl-warnings\n",
      "  InsecureRequestWarning)\n"
     ]
    },
    {
     "name": "stdout",
     "output_type": "stream",
     "text": [
      "45\n"
     ]
    },
    {
     "name": "stderr",
     "output_type": "stream",
     "text": [
      "C:\\ProgramData\\Anaconda3\\lib\\site-packages\\urllib3\\connectionpool.py:858: InsecureRequestWarning: Unverified HTTPS request is being made. Adding certificate verification is strongly advised. See: https://urllib3.readthedocs.io/en/latest/advanced-usage.html#ssl-warnings\n",
      "  InsecureRequestWarning)\n"
     ]
    },
    {
     "name": "stdout",
     "output_type": "stream",
     "text": [
      "46\n"
     ]
    },
    {
     "name": "stderr",
     "output_type": "stream",
     "text": [
      "C:\\ProgramData\\Anaconda3\\lib\\site-packages\\urllib3\\connectionpool.py:858: InsecureRequestWarning: Unverified HTTPS request is being made. Adding certificate verification is strongly advised. See: https://urllib3.readthedocs.io/en/latest/advanced-usage.html#ssl-warnings\n",
      "  InsecureRequestWarning)\n",
      "C:\\ProgramData\\Anaconda3\\lib\\site-packages\\urllib3\\connectionpool.py:858: InsecureRequestWarning: Unverified HTTPS request is being made. Adding certificate verification is strongly advised. See: https://urllib3.readthedocs.io/en/latest/advanced-usage.html#ssl-warnings\n",
      "  InsecureRequestWarning)\n"
     ]
    },
    {
     "name": "stdout",
     "output_type": "stream",
     "text": [
      "47\n"
     ]
    },
    {
     "name": "stderr",
     "output_type": "stream",
     "text": [
      "C:\\ProgramData\\Anaconda3\\lib\\site-packages\\urllib3\\connectionpool.py:858: InsecureRequestWarning: Unverified HTTPS request is being made. Adding certificate verification is strongly advised. See: https://urllib3.readthedocs.io/en/latest/advanced-usage.html#ssl-warnings\n",
      "  InsecureRequestWarning)\n"
     ]
    },
    {
     "name": "stdout",
     "output_type": "stream",
     "text": [
      "48\n"
     ]
    },
    {
     "name": "stderr",
     "output_type": "stream",
     "text": [
      "C:\\ProgramData\\Anaconda3\\lib\\site-packages\\urllib3\\connectionpool.py:858: InsecureRequestWarning: Unverified HTTPS request is being made. Adding certificate verification is strongly advised. See: https://urllib3.readthedocs.io/en/latest/advanced-usage.html#ssl-warnings\n",
      "  InsecureRequestWarning)\n"
     ]
    },
    {
     "name": "stdout",
     "output_type": "stream",
     "text": [
      "49\n",
      "50\n"
     ]
    },
    {
     "name": "stderr",
     "output_type": "stream",
     "text": [
      "C:\\ProgramData\\Anaconda3\\lib\\site-packages\\urllib3\\connectionpool.py:858: InsecureRequestWarning: Unverified HTTPS request is being made. Adding certificate verification is strongly advised. See: https://urllib3.readthedocs.io/en/latest/advanced-usage.html#ssl-warnings\n",
      "  InsecureRequestWarning)\n",
      "C:\\ProgramData\\Anaconda3\\lib\\site-packages\\urllib3\\connectionpool.py:858: InsecureRequestWarning: Unverified HTTPS request is being made. Adding certificate verification is strongly advised. See: https://urllib3.readthedocs.io/en/latest/advanced-usage.html#ssl-warnings\n",
      "  InsecureRequestWarning)\n"
     ]
    },
    {
     "name": "stdout",
     "output_type": "stream",
     "text": [
      "51\n"
     ]
    },
    {
     "name": "stderr",
     "output_type": "stream",
     "text": [
      "C:\\ProgramData\\Anaconda3\\lib\\site-packages\\urllib3\\connectionpool.py:858: InsecureRequestWarning: Unverified HTTPS request is being made. Adding certificate verification is strongly advised. See: https://urllib3.readthedocs.io/en/latest/advanced-usage.html#ssl-warnings\n",
      "  InsecureRequestWarning)\n"
     ]
    },
    {
     "name": "stdout",
     "output_type": "stream",
     "text": [
      "52\n"
     ]
    },
    {
     "name": "stderr",
     "output_type": "stream",
     "text": [
      "C:\\ProgramData\\Anaconda3\\lib\\site-packages\\urllib3\\connectionpool.py:858: InsecureRequestWarning: Unverified HTTPS request is being made. Adding certificate verification is strongly advised. See: https://urllib3.readthedocs.io/en/latest/advanced-usage.html#ssl-warnings\n",
      "  InsecureRequestWarning)\n"
     ]
    },
    {
     "name": "stdout",
     "output_type": "stream",
     "text": [
      "53\n"
     ]
    },
    {
     "name": "stderr",
     "output_type": "stream",
     "text": [
      "C:\\ProgramData\\Anaconda3\\lib\\site-packages\\urllib3\\connectionpool.py:858: InsecureRequestWarning: Unverified HTTPS request is being made. Adding certificate verification is strongly advised. See: https://urllib3.readthedocs.io/en/latest/advanced-usage.html#ssl-warnings\n",
      "  InsecureRequestWarning)\n"
     ]
    },
    {
     "name": "stdout",
     "output_type": "stream",
     "text": [
      "54\n"
     ]
    },
    {
     "name": "stderr",
     "output_type": "stream",
     "text": [
      "C:\\ProgramData\\Anaconda3\\lib\\site-packages\\urllib3\\connectionpool.py:858: InsecureRequestWarning: Unverified HTTPS request is being made. Adding certificate verification is strongly advised. See: https://urllib3.readthedocs.io/en/latest/advanced-usage.html#ssl-warnings\n",
      "  InsecureRequestWarning)\n"
     ]
    },
    {
     "name": "stdout",
     "output_type": "stream",
     "text": [
      "55\n"
     ]
    },
    {
     "name": "stderr",
     "output_type": "stream",
     "text": [
      "C:\\ProgramData\\Anaconda3\\lib\\site-packages\\urllib3\\connectionpool.py:858: InsecureRequestWarning: Unverified HTTPS request is being made. Adding certificate verification is strongly advised. See: https://urllib3.readthedocs.io/en/latest/advanced-usage.html#ssl-warnings\n",
      "  InsecureRequestWarning)\n"
     ]
    },
    {
     "name": "stdout",
     "output_type": "stream",
     "text": [
      "56\n"
     ]
    },
    {
     "name": "stderr",
     "output_type": "stream",
     "text": [
      "C:\\ProgramData\\Anaconda3\\lib\\site-packages\\urllib3\\connectionpool.py:858: InsecureRequestWarning: Unverified HTTPS request is being made. Adding certificate verification is strongly advised. See: https://urllib3.readthedocs.io/en/latest/advanced-usage.html#ssl-warnings\n",
      "  InsecureRequestWarning)\n"
     ]
    },
    {
     "name": "stdout",
     "output_type": "stream",
     "text": [
      "57\n"
     ]
    },
    {
     "name": "stderr",
     "output_type": "stream",
     "text": [
      "C:\\ProgramData\\Anaconda3\\lib\\site-packages\\urllib3\\connectionpool.py:858: InsecureRequestWarning: Unverified HTTPS request is being made. Adding certificate verification is strongly advised. See: https://urllib3.readthedocs.io/en/latest/advanced-usage.html#ssl-warnings\n",
      "  InsecureRequestWarning)\n"
     ]
    },
    {
     "name": "stdout",
     "output_type": "stream",
     "text": [
      "58\n"
     ]
    },
    {
     "name": "stderr",
     "output_type": "stream",
     "text": [
      "C:\\ProgramData\\Anaconda3\\lib\\site-packages\\urllib3\\connectionpool.py:858: InsecureRequestWarning: Unverified HTTPS request is being made. Adding certificate verification is strongly advised. See: https://urllib3.readthedocs.io/en/latest/advanced-usage.html#ssl-warnings\n",
      "  InsecureRequestWarning)\n",
      "C:\\ProgramData\\Anaconda3\\lib\\site-packages\\urllib3\\connectionpool.py:858: InsecureRequestWarning: Unverified HTTPS request is being made. Adding certificate verification is strongly advised. See: https://urllib3.readthedocs.io/en/latest/advanced-usage.html#ssl-warnings\n",
      "  InsecureRequestWarning)\n"
     ]
    },
    {
     "name": "stdout",
     "output_type": "stream",
     "text": [
      "59\n"
     ]
    },
    {
     "name": "stderr",
     "output_type": "stream",
     "text": [
      "C:\\ProgramData\\Anaconda3\\lib\\site-packages\\urllib3\\connectionpool.py:858: InsecureRequestWarning: Unverified HTTPS request is being made. Adding certificate verification is strongly advised. See: https://urllib3.readthedocs.io/en/latest/advanced-usage.html#ssl-warnings\n",
      "  InsecureRequestWarning)\n"
     ]
    },
    {
     "name": "stdout",
     "output_type": "stream",
     "text": [
      "60\n"
     ]
    },
    {
     "name": "stderr",
     "output_type": "stream",
     "text": [
      "C:\\ProgramData\\Anaconda3\\lib\\site-packages\\urllib3\\connectionpool.py:858: InsecureRequestWarning: Unverified HTTPS request is being made. Adding certificate verification is strongly advised. See: https://urllib3.readthedocs.io/en/latest/advanced-usage.html#ssl-warnings\n",
      "  InsecureRequestWarning)\n"
     ]
    },
    {
     "name": "stdout",
     "output_type": "stream",
     "text": [
      "61\n"
     ]
    },
    {
     "name": "stderr",
     "output_type": "stream",
     "text": [
      "C:\\ProgramData\\Anaconda3\\lib\\site-packages\\urllib3\\connectionpool.py:858: InsecureRequestWarning: Unverified HTTPS request is being made. Adding certificate verification is strongly advised. See: https://urllib3.readthedocs.io/en/latest/advanced-usage.html#ssl-warnings\n",
      "  InsecureRequestWarning)\n",
      "C:\\ProgramData\\Anaconda3\\lib\\site-packages\\urllib3\\connectionpool.py:858: InsecureRequestWarning: Unverified HTTPS request is being made. Adding certificate verification is strongly advised. See: https://urllib3.readthedocs.io/en/latest/advanced-usage.html#ssl-warnings\n",
      "  InsecureRequestWarning)\n"
     ]
    },
    {
     "name": "stdout",
     "output_type": "stream",
     "text": [
      "62\n"
     ]
    },
    {
     "name": "stderr",
     "output_type": "stream",
     "text": [
      "C:\\ProgramData\\Anaconda3\\lib\\site-packages\\urllib3\\connectionpool.py:858: InsecureRequestWarning: Unverified HTTPS request is being made. Adding certificate verification is strongly advised. See: https://urllib3.readthedocs.io/en/latest/advanced-usage.html#ssl-warnings\n",
      "  InsecureRequestWarning)\n"
     ]
    },
    {
     "name": "stdout",
     "output_type": "stream",
     "text": [
      "63\n"
     ]
    },
    {
     "name": "stderr",
     "output_type": "stream",
     "text": [
      "C:\\ProgramData\\Anaconda3\\lib\\site-packages\\urllib3\\connectionpool.py:858: InsecureRequestWarning: Unverified HTTPS request is being made. Adding certificate verification is strongly advised. See: https://urllib3.readthedocs.io/en/latest/advanced-usage.html#ssl-warnings\n",
      "  InsecureRequestWarning)\n"
     ]
    },
    {
     "name": "stdout",
     "output_type": "stream",
     "text": [
      "64\n"
     ]
    },
    {
     "name": "stderr",
     "output_type": "stream",
     "text": [
      "C:\\ProgramData\\Anaconda3\\lib\\site-packages\\urllib3\\connectionpool.py:858: InsecureRequestWarning: Unverified HTTPS request is being made. Adding certificate verification is strongly advised. See: https://urllib3.readthedocs.io/en/latest/advanced-usage.html#ssl-warnings\n",
      "  InsecureRequestWarning)\n"
     ]
    },
    {
     "name": "stdout",
     "output_type": "stream",
     "text": [
      "65\n"
     ]
    },
    {
     "name": "stderr",
     "output_type": "stream",
     "text": [
      "C:\\ProgramData\\Anaconda3\\lib\\site-packages\\urllib3\\connectionpool.py:858: InsecureRequestWarning: Unverified HTTPS request is being made. Adding certificate verification is strongly advised. See: https://urllib3.readthedocs.io/en/latest/advanced-usage.html#ssl-warnings\n",
      "  InsecureRequestWarning)\n"
     ]
    },
    {
     "name": "stdout",
     "output_type": "stream",
     "text": [
      "66\n"
     ]
    },
    {
     "name": "stderr",
     "output_type": "stream",
     "text": [
      "C:\\ProgramData\\Anaconda3\\lib\\site-packages\\urllib3\\connectionpool.py:858: InsecureRequestWarning: Unverified HTTPS request is being made. Adding certificate verification is strongly advised. See: https://urllib3.readthedocs.io/en/latest/advanced-usage.html#ssl-warnings\n",
      "  InsecureRequestWarning)\n"
     ]
    },
    {
     "name": "stdout",
     "output_type": "stream",
     "text": [
      "break\n",
      "i\n",
      "i\n",
      "i\n",
      "i\n",
      "i\n",
      "i\n",
      "i\n",
      "i\n",
      "i\n"
     ]
    },
    {
     "name": "stderr",
     "output_type": "stream",
     "text": [
      "C:\\ProgramData\\Anaconda3\\lib\\site-packages\\urllib3\\connectionpool.py:858: InsecureRequestWarning: Unverified HTTPS request is being made. Adding certificate verification is strongly advised. See: https://urllib3.readthedocs.io/en/latest/advanced-usage.html#ssl-warnings\n",
      "  InsecureRequestWarning)\n"
     ]
    },
    {
     "name": "stdout",
     "output_type": "stream",
     "text": [
      "68\n"
     ]
    },
    {
     "name": "stderr",
     "output_type": "stream",
     "text": [
      "C:\\ProgramData\\Anaconda3\\lib\\site-packages\\urllib3\\connectionpool.py:858: InsecureRequestWarning: Unverified HTTPS request is being made. Adding certificate verification is strongly advised. See: https://urllib3.readthedocs.io/en/latest/advanced-usage.html#ssl-warnings\n",
      "  InsecureRequestWarning)\n"
     ]
    },
    {
     "name": "stdout",
     "output_type": "stream",
     "text": [
      "69\n"
     ]
    },
    {
     "name": "stderr",
     "output_type": "stream",
     "text": [
      "C:\\ProgramData\\Anaconda3\\lib\\site-packages\\urllib3\\connectionpool.py:858: InsecureRequestWarning: Unverified HTTPS request is being made. Adding certificate verification is strongly advised. See: https://urllib3.readthedocs.io/en/latest/advanced-usage.html#ssl-warnings\n",
      "  InsecureRequestWarning)\n"
     ]
    },
    {
     "name": "stdout",
     "output_type": "stream",
     "text": [
      "70\n"
     ]
    },
    {
     "name": "stderr",
     "output_type": "stream",
     "text": [
      "C:\\ProgramData\\Anaconda3\\lib\\site-packages\\urllib3\\connectionpool.py:858: InsecureRequestWarning: Unverified HTTPS request is being made. Adding certificate verification is strongly advised. See: https://urllib3.readthedocs.io/en/latest/advanced-usage.html#ssl-warnings\n",
      "  InsecureRequestWarning)\n"
     ]
    },
    {
     "name": "stdout",
     "output_type": "stream",
     "text": [
      "71\n"
     ]
    },
    {
     "name": "stderr",
     "output_type": "stream",
     "text": [
      "C:\\ProgramData\\Anaconda3\\lib\\site-packages\\urllib3\\connectionpool.py:858: InsecureRequestWarning: Unverified HTTPS request is being made. Adding certificate verification is strongly advised. See: https://urllib3.readthedocs.io/en/latest/advanced-usage.html#ssl-warnings\n",
      "  InsecureRequestWarning)\n"
     ]
    },
    {
     "name": "stdout",
     "output_type": "stream",
     "text": [
      "72\n"
     ]
    },
    {
     "name": "stderr",
     "output_type": "stream",
     "text": [
      "C:\\ProgramData\\Anaconda3\\lib\\site-packages\\urllib3\\connectionpool.py:858: InsecureRequestWarning: Unverified HTTPS request is being made. Adding certificate verification is strongly advised. See: https://urllib3.readthedocs.io/en/latest/advanced-usage.html#ssl-warnings\n",
      "  InsecureRequestWarning)\n"
     ]
    },
    {
     "name": "stdout",
     "output_type": "stream",
     "text": [
      "73\n"
     ]
    },
    {
     "name": "stderr",
     "output_type": "stream",
     "text": [
      "C:\\ProgramData\\Anaconda3\\lib\\site-packages\\urllib3\\connectionpool.py:858: InsecureRequestWarning: Unverified HTTPS request is being made. Adding certificate verification is strongly advised. See: https://urllib3.readthedocs.io/en/latest/advanced-usage.html#ssl-warnings\n",
      "  InsecureRequestWarning)\n"
     ]
    },
    {
     "name": "stdout",
     "output_type": "stream",
     "text": [
      "74\n"
     ]
    },
    {
     "name": "stderr",
     "output_type": "stream",
     "text": [
      "C:\\ProgramData\\Anaconda3\\lib\\site-packages\\urllib3\\connectionpool.py:858: InsecureRequestWarning: Unverified HTTPS request is being made. Adding certificate verification is strongly advised. See: https://urllib3.readthedocs.io/en/latest/advanced-usage.html#ssl-warnings\n",
      "  InsecureRequestWarning)\n"
     ]
    },
    {
     "name": "stdout",
     "output_type": "stream",
     "text": [
      "75\n"
     ]
    },
    {
     "name": "stderr",
     "output_type": "stream",
     "text": [
      "C:\\ProgramData\\Anaconda3\\lib\\site-packages\\urllib3\\connectionpool.py:858: InsecureRequestWarning: Unverified HTTPS request is being made. Adding certificate verification is strongly advised. See: https://urllib3.readthedocs.io/en/latest/advanced-usage.html#ssl-warnings\n",
      "  InsecureRequestWarning)\n"
     ]
    },
    {
     "name": "stdout",
     "output_type": "stream",
     "text": [
      "76\n"
     ]
    },
    {
     "name": "stderr",
     "output_type": "stream",
     "text": [
      "C:\\ProgramData\\Anaconda3\\lib\\site-packages\\urllib3\\connectionpool.py:858: InsecureRequestWarning: Unverified HTTPS request is being made. Adding certificate verification is strongly advised. See: https://urllib3.readthedocs.io/en/latest/advanced-usage.html#ssl-warnings\n",
      "  InsecureRequestWarning)\n"
     ]
    },
    {
     "name": "stdout",
     "output_type": "stream",
     "text": [
      "77\n"
     ]
    },
    {
     "name": "stderr",
     "output_type": "stream",
     "text": [
      "C:\\ProgramData\\Anaconda3\\lib\\site-packages\\urllib3\\connectionpool.py:858: InsecureRequestWarning: Unverified HTTPS request is being made. Adding certificate verification is strongly advised. See: https://urllib3.readthedocs.io/en/latest/advanced-usage.html#ssl-warnings\n",
      "  InsecureRequestWarning)\n"
     ]
    },
    {
     "name": "stdout",
     "output_type": "stream",
     "text": [
      "78\n"
     ]
    },
    {
     "name": "stderr",
     "output_type": "stream",
     "text": [
      "C:\\ProgramData\\Anaconda3\\lib\\site-packages\\urllib3\\connectionpool.py:858: InsecureRequestWarning: Unverified HTTPS request is being made. Adding certificate verification is strongly advised. See: https://urllib3.readthedocs.io/en/latest/advanced-usage.html#ssl-warnings\n",
      "  InsecureRequestWarning)\n"
     ]
    },
    {
     "name": "stdout",
     "output_type": "stream",
     "text": [
      "79\n"
     ]
    },
    {
     "name": "stderr",
     "output_type": "stream",
     "text": [
      "C:\\ProgramData\\Anaconda3\\lib\\site-packages\\urllib3\\connectionpool.py:858: InsecureRequestWarning: Unverified HTTPS request is being made. Adding certificate verification is strongly advised. See: https://urllib3.readthedocs.io/en/latest/advanced-usage.html#ssl-warnings\n",
      "  InsecureRequestWarning)\n"
     ]
    },
    {
     "name": "stdout",
     "output_type": "stream",
     "text": [
      "80\n"
     ]
    },
    {
     "name": "stderr",
     "output_type": "stream",
     "text": [
      "C:\\ProgramData\\Anaconda3\\lib\\site-packages\\urllib3\\connectionpool.py:858: InsecureRequestWarning: Unverified HTTPS request is being made. Adding certificate verification is strongly advised. See: https://urllib3.readthedocs.io/en/latest/advanced-usage.html#ssl-warnings\n",
      "  InsecureRequestWarning)\n"
     ]
    },
    {
     "name": "stdout",
     "output_type": "stream",
     "text": [
      "81\n"
     ]
    },
    {
     "name": "stderr",
     "output_type": "stream",
     "text": [
      "C:\\ProgramData\\Anaconda3\\lib\\site-packages\\urllib3\\connectionpool.py:858: InsecureRequestWarning: Unverified HTTPS request is being made. Adding certificate verification is strongly advised. See: https://urllib3.readthedocs.io/en/latest/advanced-usage.html#ssl-warnings\n",
      "  InsecureRequestWarning)\n",
      "C:\\ProgramData\\Anaconda3\\lib\\site-packages\\urllib3\\connectionpool.py:858: InsecureRequestWarning: Unverified HTTPS request is being made. Adding certificate verification is strongly advised. See: https://urllib3.readthedocs.io/en/latest/advanced-usage.html#ssl-warnings\n",
      "  InsecureRequestWarning)\n"
     ]
    },
    {
     "name": "stdout",
     "output_type": "stream",
     "text": [
      "82\n"
     ]
    },
    {
     "name": "stderr",
     "output_type": "stream",
     "text": [
      "C:\\ProgramData\\Anaconda3\\lib\\site-packages\\urllib3\\connectionpool.py:858: InsecureRequestWarning: Unverified HTTPS request is being made. Adding certificate verification is strongly advised. See: https://urllib3.readthedocs.io/en/latest/advanced-usage.html#ssl-warnings\n",
      "  InsecureRequestWarning)\n"
     ]
    },
    {
     "name": "stdout",
     "output_type": "stream",
     "text": [
      "83\n"
     ]
    },
    {
     "name": "stderr",
     "output_type": "stream",
     "text": [
      "C:\\ProgramData\\Anaconda3\\lib\\site-packages\\urllib3\\connectionpool.py:858: InsecureRequestWarning: Unverified HTTPS request is being made. Adding certificate verification is strongly advised. See: https://urllib3.readthedocs.io/en/latest/advanced-usage.html#ssl-warnings\n",
      "  InsecureRequestWarning)\n"
     ]
    },
    {
     "name": "stdout",
     "output_type": "stream",
     "text": [
      "84\n",
      "i\n",
      "i\n",
      "i\n",
      "i\n",
      "i\n",
      "i\n",
      "i\n"
     ]
    },
    {
     "name": "stderr",
     "output_type": "stream",
     "text": [
      "C:\\ProgramData\\Anaconda3\\lib\\site-packages\\urllib3\\connectionpool.py:858: InsecureRequestWarning: Unverified HTTPS request is being made. Adding certificate verification is strongly advised. See: https://urllib3.readthedocs.io/en/latest/advanced-usage.html#ssl-warnings\n",
      "  InsecureRequestWarning)\n"
     ]
    },
    {
     "name": "stdout",
     "output_type": "stream",
     "text": [
      "85\n"
     ]
    },
    {
     "name": "stderr",
     "output_type": "stream",
     "text": [
      "C:\\ProgramData\\Anaconda3\\lib\\site-packages\\urllib3\\connectionpool.py:858: InsecureRequestWarning: Unverified HTTPS request is being made. Adding certificate verification is strongly advised. See: https://urllib3.readthedocs.io/en/latest/advanced-usage.html#ssl-warnings\n",
      "  InsecureRequestWarning)\n"
     ]
    },
    {
     "name": "stdout",
     "output_type": "stream",
     "text": [
      "86\n"
     ]
    },
    {
     "name": "stderr",
     "output_type": "stream",
     "text": [
      "C:\\ProgramData\\Anaconda3\\lib\\site-packages\\urllib3\\connectionpool.py:858: InsecureRequestWarning: Unverified HTTPS request is being made. Adding certificate verification is strongly advised. See: https://urllib3.readthedocs.io/en/latest/advanced-usage.html#ssl-warnings\n",
      "  InsecureRequestWarning)\n"
     ]
    },
    {
     "name": "stdout",
     "output_type": "stream",
     "text": [
      "87\n"
     ]
    },
    {
     "name": "stderr",
     "output_type": "stream",
     "text": [
      "C:\\ProgramData\\Anaconda3\\lib\\site-packages\\urllib3\\connectionpool.py:858: InsecureRequestWarning: Unverified HTTPS request is being made. Adding certificate verification is strongly advised. See: https://urllib3.readthedocs.io/en/latest/advanced-usage.html#ssl-warnings\n",
      "  InsecureRequestWarning)\n"
     ]
    },
    {
     "name": "stdout",
     "output_type": "stream",
     "text": [
      "88\n"
     ]
    },
    {
     "name": "stderr",
     "output_type": "stream",
     "text": [
      "C:\\ProgramData\\Anaconda3\\lib\\site-packages\\urllib3\\connectionpool.py:858: InsecureRequestWarning: Unverified HTTPS request is being made. Adding certificate verification is strongly advised. See: https://urllib3.readthedocs.io/en/latest/advanced-usage.html#ssl-warnings\n",
      "  InsecureRequestWarning)\n"
     ]
    },
    {
     "name": "stdout",
     "output_type": "stream",
     "text": [
      "89\n"
     ]
    },
    {
     "name": "stderr",
     "output_type": "stream",
     "text": [
      "C:\\ProgramData\\Anaconda3\\lib\\site-packages\\urllib3\\connectionpool.py:858: InsecureRequestWarning: Unverified HTTPS request is being made. Adding certificate verification is strongly advised. See: https://urllib3.readthedocs.io/en/latest/advanced-usage.html#ssl-warnings\n",
      "  InsecureRequestWarning)\n"
     ]
    },
    {
     "name": "stdout",
     "output_type": "stream",
     "text": [
      "90\n"
     ]
    },
    {
     "name": "stderr",
     "output_type": "stream",
     "text": [
      "C:\\ProgramData\\Anaconda3\\lib\\site-packages\\urllib3\\connectionpool.py:858: InsecureRequestWarning: Unverified HTTPS request is being made. Adding certificate verification is strongly advised. See: https://urllib3.readthedocs.io/en/latest/advanced-usage.html#ssl-warnings\n",
      "  InsecureRequestWarning)\n"
     ]
    },
    {
     "name": "stdout",
     "output_type": "stream",
     "text": [
      "91\n"
     ]
    },
    {
     "name": "stderr",
     "output_type": "stream",
     "text": [
      "C:\\ProgramData\\Anaconda3\\lib\\site-packages\\urllib3\\connectionpool.py:858: InsecureRequestWarning: Unverified HTTPS request is being made. Adding certificate verification is strongly advised. See: https://urllib3.readthedocs.io/en/latest/advanced-usage.html#ssl-warnings\n",
      "  InsecureRequestWarning)\n"
     ]
    },
    {
     "name": "stdout",
     "output_type": "stream",
     "text": [
      "92\n"
     ]
    },
    {
     "name": "stderr",
     "output_type": "stream",
     "text": [
      "C:\\ProgramData\\Anaconda3\\lib\\site-packages\\urllib3\\connectionpool.py:858: InsecureRequestWarning: Unverified HTTPS request is being made. Adding certificate verification is strongly advised. See: https://urllib3.readthedocs.io/en/latest/advanced-usage.html#ssl-warnings\n",
      "  InsecureRequestWarning)\n"
     ]
    },
    {
     "name": "stdout",
     "output_type": "stream",
     "text": [
      "93\n"
     ]
    },
    {
     "name": "stderr",
     "output_type": "stream",
     "text": [
      "C:\\ProgramData\\Anaconda3\\lib\\site-packages\\urllib3\\connectionpool.py:858: InsecureRequestWarning: Unverified HTTPS request is being made. Adding certificate verification is strongly advised. See: https://urllib3.readthedocs.io/en/latest/advanced-usage.html#ssl-warnings\n",
      "  InsecureRequestWarning)\n"
     ]
    },
    {
     "name": "stdout",
     "output_type": "stream",
     "text": [
      "94\n"
     ]
    },
    {
     "name": "stderr",
     "output_type": "stream",
     "text": [
      "C:\\ProgramData\\Anaconda3\\lib\\site-packages\\urllib3\\connectionpool.py:858: InsecureRequestWarning: Unverified HTTPS request is being made. Adding certificate verification is strongly advised. See: https://urllib3.readthedocs.io/en/latest/advanced-usage.html#ssl-warnings\n",
      "  InsecureRequestWarning)\n"
     ]
    },
    {
     "name": "stdout",
     "output_type": "stream",
     "text": [
      "95\n"
     ]
    },
    {
     "name": "stderr",
     "output_type": "stream",
     "text": [
      "C:\\ProgramData\\Anaconda3\\lib\\site-packages\\urllib3\\connectionpool.py:858: InsecureRequestWarning: Unverified HTTPS request is being made. Adding certificate verification is strongly advised. See: https://urllib3.readthedocs.io/en/latest/advanced-usage.html#ssl-warnings\n",
      "  InsecureRequestWarning)\n"
     ]
    },
    {
     "name": "stdout",
     "output_type": "stream",
     "text": [
      "96\n"
     ]
    },
    {
     "name": "stderr",
     "output_type": "stream",
     "text": [
      "C:\\ProgramData\\Anaconda3\\lib\\site-packages\\urllib3\\connectionpool.py:858: InsecureRequestWarning: Unverified HTTPS request is being made. Adding certificate verification is strongly advised. See: https://urllib3.readthedocs.io/en/latest/advanced-usage.html#ssl-warnings\n",
      "  InsecureRequestWarning)\n"
     ]
    },
    {
     "name": "stdout",
     "output_type": "stream",
     "text": [
      "97\n"
     ]
    },
    {
     "name": "stderr",
     "output_type": "stream",
     "text": [
      "C:\\ProgramData\\Anaconda3\\lib\\site-packages\\urllib3\\connectionpool.py:858: InsecureRequestWarning: Unverified HTTPS request is being made. Adding certificate verification is strongly advised. See: https://urllib3.readthedocs.io/en/latest/advanced-usage.html#ssl-warnings\n",
      "  InsecureRequestWarning)\n"
     ]
    },
    {
     "name": "stdout",
     "output_type": "stream",
     "text": [
      "98\n"
     ]
    },
    {
     "name": "stderr",
     "output_type": "stream",
     "text": [
      "C:\\ProgramData\\Anaconda3\\lib\\site-packages\\urllib3\\connectionpool.py:858: InsecureRequestWarning: Unverified HTTPS request is being made. Adding certificate verification is strongly advised. See: https://urllib3.readthedocs.io/en/latest/advanced-usage.html#ssl-warnings\n",
      "  InsecureRequestWarning)\n"
     ]
    },
    {
     "name": "stdout",
     "output_type": "stream",
     "text": [
      "99\n"
     ]
    },
    {
     "name": "stderr",
     "output_type": "stream",
     "text": [
      "C:\\ProgramData\\Anaconda3\\lib\\site-packages\\urllib3\\connectionpool.py:858: InsecureRequestWarning: Unverified HTTPS request is being made. Adding certificate verification is strongly advised. See: https://urllib3.readthedocs.io/en/latest/advanced-usage.html#ssl-warnings\n",
      "  InsecureRequestWarning)\n"
     ]
    },
    {
     "name": "stdout",
     "output_type": "stream",
     "text": [
      "100\n"
     ]
    },
    {
     "name": "stderr",
     "output_type": "stream",
     "text": [
      "C:\\ProgramData\\Anaconda3\\lib\\site-packages\\urllib3\\connectionpool.py:858: InsecureRequestWarning: Unverified HTTPS request is being made. Adding certificate verification is strongly advised. See: https://urllib3.readthedocs.io/en/latest/advanced-usage.html#ssl-warnings\n",
      "  InsecureRequestWarning)\n"
     ]
    },
    {
     "name": "stdout",
     "output_type": "stream",
     "text": [
      "101\n"
     ]
    },
    {
     "name": "stderr",
     "output_type": "stream",
     "text": [
      "C:\\ProgramData\\Anaconda3\\lib\\site-packages\\urllib3\\connectionpool.py:858: InsecureRequestWarning: Unverified HTTPS request is being made. Adding certificate verification is strongly advised. See: https://urllib3.readthedocs.io/en/latest/advanced-usage.html#ssl-warnings\n",
      "  InsecureRequestWarning)\n"
     ]
    },
    {
     "name": "stdout",
     "output_type": "stream",
     "text": [
      "102\n"
     ]
    },
    {
     "name": "stderr",
     "output_type": "stream",
     "text": [
      "C:\\ProgramData\\Anaconda3\\lib\\site-packages\\urllib3\\connectionpool.py:858: InsecureRequestWarning: Unverified HTTPS request is being made. Adding certificate verification is strongly advised. See: https://urllib3.readthedocs.io/en/latest/advanced-usage.html#ssl-warnings\n",
      "  InsecureRequestWarning)\n"
     ]
    },
    {
     "name": "stdout",
     "output_type": "stream",
     "text": [
      "103\n",
      "i\n",
      "i\n",
      "i\n",
      "i\n",
      "i\n",
      "i\n"
     ]
    },
    {
     "name": "stderr",
     "output_type": "stream",
     "text": [
      "C:\\ProgramData\\Anaconda3\\lib\\site-packages\\urllib3\\connectionpool.py:858: InsecureRequestWarning: Unverified HTTPS request is being made. Adding certificate verification is strongly advised. See: https://urllib3.readthedocs.io/en/latest/advanced-usage.html#ssl-warnings\n",
      "  InsecureRequestWarning)\n"
     ]
    },
    {
     "name": "stdout",
     "output_type": "stream",
     "text": [
      "104\n"
     ]
    },
    {
     "name": "stderr",
     "output_type": "stream",
     "text": [
      "C:\\ProgramData\\Anaconda3\\lib\\site-packages\\urllib3\\connectionpool.py:858: InsecureRequestWarning: Unverified HTTPS request is being made. Adding certificate verification is strongly advised. See: https://urllib3.readthedocs.io/en/latest/advanced-usage.html#ssl-warnings\n",
      "  InsecureRequestWarning)\n"
     ]
    },
    {
     "name": "stdout",
     "output_type": "stream",
     "text": [
      "105\n"
     ]
    },
    {
     "name": "stderr",
     "output_type": "stream",
     "text": [
      "C:\\ProgramData\\Anaconda3\\lib\\site-packages\\urllib3\\connectionpool.py:858: InsecureRequestWarning: Unverified HTTPS request is being made. Adding certificate verification is strongly advised. See: https://urllib3.readthedocs.io/en/latest/advanced-usage.html#ssl-warnings\n",
      "  InsecureRequestWarning)\n"
     ]
    },
    {
     "name": "stdout",
     "output_type": "stream",
     "text": [
      "106\n"
     ]
    },
    {
     "name": "stderr",
     "output_type": "stream",
     "text": [
      "C:\\ProgramData\\Anaconda3\\lib\\site-packages\\urllib3\\connectionpool.py:858: InsecureRequestWarning: Unverified HTTPS request is being made. Adding certificate verification is strongly advised. See: https://urllib3.readthedocs.io/en/latest/advanced-usage.html#ssl-warnings\n",
      "  InsecureRequestWarning)\n"
     ]
    },
    {
     "name": "stdout",
     "output_type": "stream",
     "text": [
      "107\n"
     ]
    },
    {
     "name": "stderr",
     "output_type": "stream",
     "text": [
      "C:\\ProgramData\\Anaconda3\\lib\\site-packages\\urllib3\\connectionpool.py:858: InsecureRequestWarning: Unverified HTTPS request is being made. Adding certificate verification is strongly advised. See: https://urllib3.readthedocs.io/en/latest/advanced-usage.html#ssl-warnings\n",
      "  InsecureRequestWarning)\n"
     ]
    },
    {
     "name": "stdout",
     "output_type": "stream",
     "text": [
      "108\n"
     ]
    },
    {
     "name": "stderr",
     "output_type": "stream",
     "text": [
      "C:\\ProgramData\\Anaconda3\\lib\\site-packages\\urllib3\\connectionpool.py:858: InsecureRequestWarning: Unverified HTTPS request is being made. Adding certificate verification is strongly advised. See: https://urllib3.readthedocs.io/en/latest/advanced-usage.html#ssl-warnings\n",
      "  InsecureRequestWarning)\n"
     ]
    },
    {
     "name": "stdout",
     "output_type": "stream",
     "text": [
      "109\n"
     ]
    },
    {
     "name": "stderr",
     "output_type": "stream",
     "text": [
      "C:\\ProgramData\\Anaconda3\\lib\\site-packages\\urllib3\\connectionpool.py:858: InsecureRequestWarning: Unverified HTTPS request is being made. Adding certificate verification is strongly advised. See: https://urllib3.readthedocs.io/en/latest/advanced-usage.html#ssl-warnings\n",
      "  InsecureRequestWarning)\n"
     ]
    },
    {
     "name": "stdout",
     "output_type": "stream",
     "text": [
      "110\n"
     ]
    },
    {
     "name": "stderr",
     "output_type": "stream",
     "text": [
      "C:\\ProgramData\\Anaconda3\\lib\\site-packages\\urllib3\\connectionpool.py:858: InsecureRequestWarning: Unverified HTTPS request is being made. Adding certificate verification is strongly advised. See: https://urllib3.readthedocs.io/en/latest/advanced-usage.html#ssl-warnings\n",
      "  InsecureRequestWarning)\n"
     ]
    },
    {
     "name": "stdout",
     "output_type": "stream",
     "text": [
      "111\n"
     ]
    },
    {
     "name": "stderr",
     "output_type": "stream",
     "text": [
      "C:\\ProgramData\\Anaconda3\\lib\\site-packages\\urllib3\\connectionpool.py:858: InsecureRequestWarning: Unverified HTTPS request is being made. Adding certificate verification is strongly advised. See: https://urllib3.readthedocs.io/en/latest/advanced-usage.html#ssl-warnings\n",
      "  InsecureRequestWarning)\n"
     ]
    },
    {
     "name": "stdout",
     "output_type": "stream",
     "text": [
      "112\n"
     ]
    },
    {
     "name": "stderr",
     "output_type": "stream",
     "text": [
      "C:\\ProgramData\\Anaconda3\\lib\\site-packages\\urllib3\\connectionpool.py:858: InsecureRequestWarning: Unverified HTTPS request is being made. Adding certificate verification is strongly advised. See: https://urllib3.readthedocs.io/en/latest/advanced-usage.html#ssl-warnings\n",
      "  InsecureRequestWarning)\n",
      "C:\\ProgramData\\Anaconda3\\lib\\site-packages\\urllib3\\connectionpool.py:858: InsecureRequestWarning: Unverified HTTPS request is being made. Adding certificate verification is strongly advised. See: https://urllib3.readthedocs.io/en/latest/advanced-usage.html#ssl-warnings\n",
      "  InsecureRequestWarning)\n"
     ]
    },
    {
     "name": "stdout",
     "output_type": "stream",
     "text": [
      "113\n"
     ]
    },
    {
     "name": "stderr",
     "output_type": "stream",
     "text": [
      "C:\\ProgramData\\Anaconda3\\lib\\site-packages\\urllib3\\connectionpool.py:858: InsecureRequestWarning: Unverified HTTPS request is being made. Adding certificate verification is strongly advised. See: https://urllib3.readthedocs.io/en/latest/advanced-usage.html#ssl-warnings\n",
      "  InsecureRequestWarning)\n"
     ]
    },
    {
     "name": "stdout",
     "output_type": "stream",
     "text": [
      "114\n"
     ]
    },
    {
     "name": "stderr",
     "output_type": "stream",
     "text": [
      "C:\\ProgramData\\Anaconda3\\lib\\site-packages\\urllib3\\connectionpool.py:858: InsecureRequestWarning: Unverified HTTPS request is being made. Adding certificate verification is strongly advised. See: https://urllib3.readthedocs.io/en/latest/advanced-usage.html#ssl-warnings\n",
      "  InsecureRequestWarning)\n"
     ]
    },
    {
     "name": "stdout",
     "output_type": "stream",
     "text": [
      "115\n"
     ]
    },
    {
     "name": "stderr",
     "output_type": "stream",
     "text": [
      "C:\\ProgramData\\Anaconda3\\lib\\site-packages\\urllib3\\connectionpool.py:858: InsecureRequestWarning: Unverified HTTPS request is being made. Adding certificate verification is strongly advised. See: https://urllib3.readthedocs.io/en/latest/advanced-usage.html#ssl-warnings\n",
      "  InsecureRequestWarning)\n"
     ]
    },
    {
     "name": "stdout",
     "output_type": "stream",
     "text": [
      "116\n"
     ]
    },
    {
     "name": "stderr",
     "output_type": "stream",
     "text": [
      "C:\\ProgramData\\Anaconda3\\lib\\site-packages\\urllib3\\connectionpool.py:858: InsecureRequestWarning: Unverified HTTPS request is being made. Adding certificate verification is strongly advised. See: https://urllib3.readthedocs.io/en/latest/advanced-usage.html#ssl-warnings\n",
      "  InsecureRequestWarning)\n"
     ]
    },
    {
     "name": "stdout",
     "output_type": "stream",
     "text": [
      "117\n"
     ]
    },
    {
     "name": "stderr",
     "output_type": "stream",
     "text": [
      "C:\\ProgramData\\Anaconda3\\lib\\site-packages\\urllib3\\connectionpool.py:858: InsecureRequestWarning: Unverified HTTPS request is being made. Adding certificate verification is strongly advised. See: https://urllib3.readthedocs.io/en/latest/advanced-usage.html#ssl-warnings\n",
      "  InsecureRequestWarning)\n"
     ]
    },
    {
     "name": "stdout",
     "output_type": "stream",
     "text": [
      "118\n"
     ]
    },
    {
     "name": "stderr",
     "output_type": "stream",
     "text": [
      "C:\\ProgramData\\Anaconda3\\lib\\site-packages\\urllib3\\connectionpool.py:858: InsecureRequestWarning: Unverified HTTPS request is being made. Adding certificate verification is strongly advised. See: https://urllib3.readthedocs.io/en/latest/advanced-usage.html#ssl-warnings\n",
      "  InsecureRequestWarning)\n"
     ]
    },
    {
     "name": "stdout",
     "output_type": "stream",
     "text": [
      "119\n"
     ]
    },
    {
     "name": "stderr",
     "output_type": "stream",
     "text": [
      "C:\\ProgramData\\Anaconda3\\lib\\site-packages\\urllib3\\connectionpool.py:858: InsecureRequestWarning: Unverified HTTPS request is being made. Adding certificate verification is strongly advised. See: https://urllib3.readthedocs.io/en/latest/advanced-usage.html#ssl-warnings\n",
      "  InsecureRequestWarning)\n"
     ]
    },
    {
     "name": "stdout",
     "output_type": "stream",
     "text": [
      "120\n"
     ]
    },
    {
     "name": "stderr",
     "output_type": "stream",
     "text": [
      "C:\\ProgramData\\Anaconda3\\lib\\site-packages\\urllib3\\connectionpool.py:858: InsecureRequestWarning: Unverified HTTPS request is being made. Adding certificate verification is strongly advised. See: https://urllib3.readthedocs.io/en/latest/advanced-usage.html#ssl-warnings\n",
      "  InsecureRequestWarning)\n"
     ]
    },
    {
     "name": "stdout",
     "output_type": "stream",
     "text": [
      "121\n"
     ]
    },
    {
     "name": "stderr",
     "output_type": "stream",
     "text": [
      "C:\\ProgramData\\Anaconda3\\lib\\site-packages\\urllib3\\connectionpool.py:858: InsecureRequestWarning: Unverified HTTPS request is being made. Adding certificate verification is strongly advised. See: https://urllib3.readthedocs.io/en/latest/advanced-usage.html#ssl-warnings\n",
      "  InsecureRequestWarning)\n"
     ]
    },
    {
     "name": "stdout",
     "output_type": "stream",
     "text": [
      "122\n"
     ]
    },
    {
     "name": "stderr",
     "output_type": "stream",
     "text": [
      "C:\\ProgramData\\Anaconda3\\lib\\site-packages\\urllib3\\connectionpool.py:858: InsecureRequestWarning: Unverified HTTPS request is being made. Adding certificate verification is strongly advised. See: https://urllib3.readthedocs.io/en/latest/advanced-usage.html#ssl-warnings\n",
      "  InsecureRequestWarning)\n"
     ]
    },
    {
     "name": "stdout",
     "output_type": "stream",
     "text": [
      "123\n"
     ]
    },
    {
     "name": "stderr",
     "output_type": "stream",
     "text": [
      "C:\\ProgramData\\Anaconda3\\lib\\site-packages\\urllib3\\connectionpool.py:858: InsecureRequestWarning: Unverified HTTPS request is being made. Adding certificate verification is strongly advised. See: https://urllib3.readthedocs.io/en/latest/advanced-usage.html#ssl-warnings\n",
      "  InsecureRequestWarning)\n"
     ]
    },
    {
     "name": "stdout",
     "output_type": "stream",
     "text": [
      "124\n"
     ]
    },
    {
     "name": "stderr",
     "output_type": "stream",
     "text": [
      "C:\\ProgramData\\Anaconda3\\lib\\site-packages\\urllib3\\connectionpool.py:858: InsecureRequestWarning: Unverified HTTPS request is being made. Adding certificate verification is strongly advised. See: https://urllib3.readthedocs.io/en/latest/advanced-usage.html#ssl-warnings\n",
      "  InsecureRequestWarning)\n"
     ]
    },
    {
     "name": "stdout",
     "output_type": "stream",
     "text": [
      "125\n"
     ]
    },
    {
     "name": "stderr",
     "output_type": "stream",
     "text": [
      "C:\\ProgramData\\Anaconda3\\lib\\site-packages\\urllib3\\connectionpool.py:858: InsecureRequestWarning: Unverified HTTPS request is being made. Adding certificate verification is strongly advised. See: https://urllib3.readthedocs.io/en/latest/advanced-usage.html#ssl-warnings\n",
      "  InsecureRequestWarning)\n"
     ]
    },
    {
     "name": "stdout",
     "output_type": "stream",
     "text": [
      "126\n"
     ]
    },
    {
     "name": "stderr",
     "output_type": "stream",
     "text": [
      "C:\\ProgramData\\Anaconda3\\lib\\site-packages\\urllib3\\connectionpool.py:858: InsecureRequestWarning: Unverified HTTPS request is being made. Adding certificate verification is strongly advised. See: https://urllib3.readthedocs.io/en/latest/advanced-usage.html#ssl-warnings\n",
      "  InsecureRequestWarning)\n"
     ]
    },
    {
     "name": "stdout",
     "output_type": "stream",
     "text": [
      "127\n"
     ]
    },
    {
     "name": "stderr",
     "output_type": "stream",
     "text": [
      "C:\\ProgramData\\Anaconda3\\lib\\site-packages\\urllib3\\connectionpool.py:858: InsecureRequestWarning: Unverified HTTPS request is being made. Adding certificate verification is strongly advised. See: https://urllib3.readthedocs.io/en/latest/advanced-usage.html#ssl-warnings\n",
      "  InsecureRequestWarning)\n"
     ]
    },
    {
     "name": "stdout",
     "output_type": "stream",
     "text": [
      "128\n"
     ]
    },
    {
     "name": "stderr",
     "output_type": "stream",
     "text": [
      "C:\\ProgramData\\Anaconda3\\lib\\site-packages\\urllib3\\connectionpool.py:858: InsecureRequestWarning: Unverified HTTPS request is being made. Adding certificate verification is strongly advised. See: https://urllib3.readthedocs.io/en/latest/advanced-usage.html#ssl-warnings\n",
      "  InsecureRequestWarning)\n"
     ]
    },
    {
     "name": "stdout",
     "output_type": "stream",
     "text": [
      "129\n"
     ]
    },
    {
     "name": "stderr",
     "output_type": "stream",
     "text": [
      "C:\\ProgramData\\Anaconda3\\lib\\site-packages\\urllib3\\connectionpool.py:858: InsecureRequestWarning: Unverified HTTPS request is being made. Adding certificate verification is strongly advised. See: https://urllib3.readthedocs.io/en/latest/advanced-usage.html#ssl-warnings\n",
      "  InsecureRequestWarning)\n"
     ]
    },
    {
     "name": "stdout",
     "output_type": "stream",
     "text": [
      "130\n"
     ]
    },
    {
     "name": "stderr",
     "output_type": "stream",
     "text": [
      "C:\\ProgramData\\Anaconda3\\lib\\site-packages\\urllib3\\connectionpool.py:858: InsecureRequestWarning: Unverified HTTPS request is being made. Adding certificate verification is strongly advised. See: https://urllib3.readthedocs.io/en/latest/advanced-usage.html#ssl-warnings\n",
      "  InsecureRequestWarning)\n"
     ]
    },
    {
     "name": "stdout",
     "output_type": "stream",
     "text": [
      "131\n"
     ]
    },
    {
     "name": "stderr",
     "output_type": "stream",
     "text": [
      "C:\\ProgramData\\Anaconda3\\lib\\site-packages\\urllib3\\connectionpool.py:858: InsecureRequestWarning: Unverified HTTPS request is being made. Adding certificate verification is strongly advised. See: https://urllib3.readthedocs.io/en/latest/advanced-usage.html#ssl-warnings\n",
      "  InsecureRequestWarning)\n"
     ]
    },
    {
     "name": "stdout",
     "output_type": "stream",
     "text": [
      "132\n"
     ]
    },
    {
     "name": "stderr",
     "output_type": "stream",
     "text": [
      "C:\\ProgramData\\Anaconda3\\lib\\site-packages\\urllib3\\connectionpool.py:858: InsecureRequestWarning: Unverified HTTPS request is being made. Adding certificate verification is strongly advised. See: https://urllib3.readthedocs.io/en/latest/advanced-usage.html#ssl-warnings\n",
      "  InsecureRequestWarning)\n"
     ]
    },
    {
     "name": "stdout",
     "output_type": "stream",
     "text": [
      "133\n"
     ]
    },
    {
     "name": "stderr",
     "output_type": "stream",
     "text": [
      "C:\\ProgramData\\Anaconda3\\lib\\site-packages\\urllib3\\connectionpool.py:858: InsecureRequestWarning: Unverified HTTPS request is being made. Adding certificate verification is strongly advised. See: https://urllib3.readthedocs.io/en/latest/advanced-usage.html#ssl-warnings\n",
      "  InsecureRequestWarning)\n"
     ]
    },
    {
     "name": "stdout",
     "output_type": "stream",
     "text": [
      "134\n"
     ]
    },
    {
     "name": "stderr",
     "output_type": "stream",
     "text": [
      "C:\\ProgramData\\Anaconda3\\lib\\site-packages\\urllib3\\connectionpool.py:858: InsecureRequestWarning: Unverified HTTPS request is being made. Adding certificate verification is strongly advised. See: https://urllib3.readthedocs.io/en/latest/advanced-usage.html#ssl-warnings\n",
      "  InsecureRequestWarning)\n"
     ]
    },
    {
     "name": "stdout",
     "output_type": "stream",
     "text": [
      "135\n"
     ]
    },
    {
     "name": "stderr",
     "output_type": "stream",
     "text": [
      "C:\\ProgramData\\Anaconda3\\lib\\site-packages\\urllib3\\connectionpool.py:858: InsecureRequestWarning: Unverified HTTPS request is being made. Adding certificate verification is strongly advised. See: https://urllib3.readthedocs.io/en/latest/advanced-usage.html#ssl-warnings\n",
      "  InsecureRequestWarning)\n"
     ]
    },
    {
     "name": "stdout",
     "output_type": "stream",
     "text": [
      "136\n"
     ]
    },
    {
     "name": "stderr",
     "output_type": "stream",
     "text": [
      "C:\\ProgramData\\Anaconda3\\lib\\site-packages\\urllib3\\connectionpool.py:858: InsecureRequestWarning: Unverified HTTPS request is being made. Adding certificate verification is strongly advised. See: https://urllib3.readthedocs.io/en/latest/advanced-usage.html#ssl-warnings\n",
      "  InsecureRequestWarning)\n"
     ]
    },
    {
     "name": "stdout",
     "output_type": "stream",
     "text": [
      "137\n"
     ]
    },
    {
     "name": "stderr",
     "output_type": "stream",
     "text": [
      "C:\\ProgramData\\Anaconda3\\lib\\site-packages\\urllib3\\connectionpool.py:858: InsecureRequestWarning: Unverified HTTPS request is being made. Adding certificate verification is strongly advised. See: https://urllib3.readthedocs.io/en/latest/advanced-usage.html#ssl-warnings\n",
      "  InsecureRequestWarning)\n"
     ]
    },
    {
     "name": "stdout",
     "output_type": "stream",
     "text": [
      "138\n",
      "i\n"
     ]
    },
    {
     "name": "stderr",
     "output_type": "stream",
     "text": [
      "C:\\ProgramData\\Anaconda3\\lib\\site-packages\\urllib3\\connectionpool.py:858: InsecureRequestWarning: Unverified HTTPS request is being made. Adding certificate verification is strongly advised. See: https://urllib3.readthedocs.io/en/latest/advanced-usage.html#ssl-warnings\n",
      "  InsecureRequestWarning)\n"
     ]
    },
    {
     "name": "stdout",
     "output_type": "stream",
     "text": [
      "139\n"
     ]
    },
    {
     "name": "stderr",
     "output_type": "stream",
     "text": [
      "C:\\ProgramData\\Anaconda3\\lib\\site-packages\\urllib3\\connectionpool.py:858: InsecureRequestWarning: Unverified HTTPS request is being made. Adding certificate verification is strongly advised. See: https://urllib3.readthedocs.io/en/latest/advanced-usage.html#ssl-warnings\n",
      "  InsecureRequestWarning)\n"
     ]
    },
    {
     "name": "stdout",
     "output_type": "stream",
     "text": [
      "140\n"
     ]
    },
    {
     "name": "stderr",
     "output_type": "stream",
     "text": [
      "C:\\ProgramData\\Anaconda3\\lib\\site-packages\\urllib3\\connectionpool.py:858: InsecureRequestWarning: Unverified HTTPS request is being made. Adding certificate verification is strongly advised. See: https://urllib3.readthedocs.io/en/latest/advanced-usage.html#ssl-warnings\n",
      "  InsecureRequestWarning)\n"
     ]
    },
    {
     "name": "stdout",
     "output_type": "stream",
     "text": [
      "141\n"
     ]
    },
    {
     "name": "stderr",
     "output_type": "stream",
     "text": [
      "C:\\ProgramData\\Anaconda3\\lib\\site-packages\\urllib3\\connectionpool.py:858: InsecureRequestWarning: Unverified HTTPS request is being made. Adding certificate verification is strongly advised. See: https://urllib3.readthedocs.io/en/latest/advanced-usage.html#ssl-warnings\n",
      "  InsecureRequestWarning)\n",
      "C:\\ProgramData\\Anaconda3\\lib\\site-packages\\urllib3\\connectionpool.py:858: InsecureRequestWarning: Unverified HTTPS request is being made. Adding certificate verification is strongly advised. See: https://urllib3.readthedocs.io/en/latest/advanced-usage.html#ssl-warnings\n",
      "  InsecureRequestWarning)\n"
     ]
    },
    {
     "name": "stdout",
     "output_type": "stream",
     "text": [
      "break\n"
     ]
    },
    {
     "name": "stderr",
     "output_type": "stream",
     "text": [
      "C:\\ProgramData\\Anaconda3\\lib\\site-packages\\urllib3\\connectionpool.py:858: InsecureRequestWarning: Unverified HTTPS request is being made. Adding certificate verification is strongly advised. See: https://urllib3.readthedocs.io/en/latest/advanced-usage.html#ssl-warnings\n",
      "  InsecureRequestWarning)\n"
     ]
    },
    {
     "name": "stdout",
     "output_type": "stream",
     "text": [
      "143\n"
     ]
    },
    {
     "name": "stderr",
     "output_type": "stream",
     "text": [
      "C:\\ProgramData\\Anaconda3\\lib\\site-packages\\urllib3\\connectionpool.py:858: InsecureRequestWarning: Unverified HTTPS request is being made. Adding certificate verification is strongly advised. See: https://urllib3.readthedocs.io/en/latest/advanced-usage.html#ssl-warnings\n",
      "  InsecureRequestWarning)\n"
     ]
    },
    {
     "name": "stdout",
     "output_type": "stream",
     "text": [
      "144\n"
     ]
    },
    {
     "name": "stderr",
     "output_type": "stream",
     "text": [
      "C:\\ProgramData\\Anaconda3\\lib\\site-packages\\urllib3\\connectionpool.py:858: InsecureRequestWarning: Unverified HTTPS request is being made. Adding certificate verification is strongly advised. See: https://urllib3.readthedocs.io/en/latest/advanced-usage.html#ssl-warnings\n",
      "  InsecureRequestWarning)\n"
     ]
    },
    {
     "name": "stdout",
     "output_type": "stream",
     "text": [
      "145\n"
     ]
    },
    {
     "name": "stderr",
     "output_type": "stream",
     "text": [
      "C:\\ProgramData\\Anaconda3\\lib\\site-packages\\urllib3\\connectionpool.py:858: InsecureRequestWarning: Unverified HTTPS request is being made. Adding certificate verification is strongly advised. See: https://urllib3.readthedocs.io/en/latest/advanced-usage.html#ssl-warnings\n",
      "  InsecureRequestWarning)\n"
     ]
    },
    {
     "name": "stdout",
     "output_type": "stream",
     "text": [
      "break\n"
     ]
    },
    {
     "name": "stderr",
     "output_type": "stream",
     "text": [
      "C:\\ProgramData\\Anaconda3\\lib\\site-packages\\urllib3\\connectionpool.py:858: InsecureRequestWarning: Unverified HTTPS request is being made. Adding certificate verification is strongly advised. See: https://urllib3.readthedocs.io/en/latest/advanced-usage.html#ssl-warnings\n",
      "  InsecureRequestWarning)\n"
     ]
    },
    {
     "name": "stdout",
     "output_type": "stream",
     "text": [
      "147\n"
     ]
    },
    {
     "name": "stderr",
     "output_type": "stream",
     "text": [
      "C:\\ProgramData\\Anaconda3\\lib\\site-packages\\urllib3\\connectionpool.py:858: InsecureRequestWarning: Unverified HTTPS request is being made. Adding certificate verification is strongly advised. See: https://urllib3.readthedocs.io/en/latest/advanced-usage.html#ssl-warnings\n",
      "  InsecureRequestWarning)\n"
     ]
    },
    {
     "name": "stdout",
     "output_type": "stream",
     "text": [
      "148\n"
     ]
    },
    {
     "name": "stderr",
     "output_type": "stream",
     "text": [
      "C:\\ProgramData\\Anaconda3\\lib\\site-packages\\urllib3\\connectionpool.py:858: InsecureRequestWarning: Unverified HTTPS request is being made. Adding certificate verification is strongly advised. See: https://urllib3.readthedocs.io/en/latest/advanced-usage.html#ssl-warnings\n",
      "  InsecureRequestWarning)\n"
     ]
    },
    {
     "name": "stdout",
     "output_type": "stream",
     "text": [
      "149\n"
     ]
    },
    {
     "name": "stderr",
     "output_type": "stream",
     "text": [
      "C:\\ProgramData\\Anaconda3\\lib\\site-packages\\urllib3\\connectionpool.py:858: InsecureRequestWarning: Unverified HTTPS request is being made. Adding certificate verification is strongly advised. See: https://urllib3.readthedocs.io/en/latest/advanced-usage.html#ssl-warnings\n",
      "  InsecureRequestWarning)\n"
     ]
    },
    {
     "name": "stdout",
     "output_type": "stream",
     "text": [
      "150\n"
     ]
    },
    {
     "name": "stderr",
     "output_type": "stream",
     "text": [
      "C:\\ProgramData\\Anaconda3\\lib\\site-packages\\urllib3\\connectionpool.py:858: InsecureRequestWarning: Unverified HTTPS request is being made. Adding certificate verification is strongly advised. See: https://urllib3.readthedocs.io/en/latest/advanced-usage.html#ssl-warnings\n",
      "  InsecureRequestWarning)\n"
     ]
    },
    {
     "name": "stdout",
     "output_type": "stream",
     "text": [
      "151\n"
     ]
    },
    {
     "name": "stderr",
     "output_type": "stream",
     "text": [
      "C:\\ProgramData\\Anaconda3\\lib\\site-packages\\urllib3\\connectionpool.py:858: InsecureRequestWarning: Unverified HTTPS request is being made. Adding certificate verification is strongly advised. See: https://urllib3.readthedocs.io/en/latest/advanced-usage.html#ssl-warnings\n",
      "  InsecureRequestWarning)\n"
     ]
    },
    {
     "name": "stdout",
     "output_type": "stream",
     "text": [
      "152\n"
     ]
    },
    {
     "name": "stderr",
     "output_type": "stream",
     "text": [
      "C:\\ProgramData\\Anaconda3\\lib\\site-packages\\urllib3\\connectionpool.py:858: InsecureRequestWarning: Unverified HTTPS request is being made. Adding certificate verification is strongly advised. See: https://urllib3.readthedocs.io/en/latest/advanced-usage.html#ssl-warnings\n",
      "  InsecureRequestWarning)\n",
      "C:\\ProgramData\\Anaconda3\\lib\\site-packages\\urllib3\\connectionpool.py:858: InsecureRequestWarning: Unverified HTTPS request is being made. Adding certificate verification is strongly advised. See: https://urllib3.readthedocs.io/en/latest/advanced-usage.html#ssl-warnings\n",
      "  InsecureRequestWarning)\n"
     ]
    },
    {
     "name": "stdout",
     "output_type": "stream",
     "text": [
      "153\n"
     ]
    },
    {
     "name": "stderr",
     "output_type": "stream",
     "text": [
      "C:\\ProgramData\\Anaconda3\\lib\\site-packages\\urllib3\\connectionpool.py:858: InsecureRequestWarning: Unverified HTTPS request is being made. Adding certificate verification is strongly advised. See: https://urllib3.readthedocs.io/en/latest/advanced-usage.html#ssl-warnings\n",
      "  InsecureRequestWarning)\n"
     ]
    },
    {
     "name": "stdout",
     "output_type": "stream",
     "text": [
      "154\n"
     ]
    },
    {
     "name": "stderr",
     "output_type": "stream",
     "text": [
      "C:\\ProgramData\\Anaconda3\\lib\\site-packages\\urllib3\\connectionpool.py:858: InsecureRequestWarning: Unverified HTTPS request is being made. Adding certificate verification is strongly advised. See: https://urllib3.readthedocs.io/en/latest/advanced-usage.html#ssl-warnings\n",
      "  InsecureRequestWarning)\n"
     ]
    },
    {
     "name": "stdout",
     "output_type": "stream",
     "text": [
      "155\n"
     ]
    },
    {
     "name": "stderr",
     "output_type": "stream",
     "text": [
      "C:\\ProgramData\\Anaconda3\\lib\\site-packages\\urllib3\\connectionpool.py:858: InsecureRequestWarning: Unverified HTTPS request is being made. Adding certificate verification is strongly advised. See: https://urllib3.readthedocs.io/en/latest/advanced-usage.html#ssl-warnings\n",
      "  InsecureRequestWarning)\n"
     ]
    },
    {
     "name": "stdout",
     "output_type": "stream",
     "text": [
      "156\n"
     ]
    },
    {
     "name": "stderr",
     "output_type": "stream",
     "text": [
      "C:\\ProgramData\\Anaconda3\\lib\\site-packages\\urllib3\\connectionpool.py:858: InsecureRequestWarning: Unverified HTTPS request is being made. Adding certificate verification is strongly advised. See: https://urllib3.readthedocs.io/en/latest/advanced-usage.html#ssl-warnings\n",
      "  InsecureRequestWarning)\n"
     ]
    },
    {
     "name": "stdout",
     "output_type": "stream",
     "text": [
      "157\n"
     ]
    },
    {
     "name": "stderr",
     "output_type": "stream",
     "text": [
      "C:\\ProgramData\\Anaconda3\\lib\\site-packages\\urllib3\\connectionpool.py:858: InsecureRequestWarning: Unverified HTTPS request is being made. Adding certificate verification is strongly advised. See: https://urllib3.readthedocs.io/en/latest/advanced-usage.html#ssl-warnings\n",
      "  InsecureRequestWarning)\n"
     ]
    },
    {
     "name": "stdout",
     "output_type": "stream",
     "text": [
      "158\n"
     ]
    },
    {
     "name": "stderr",
     "output_type": "stream",
     "text": [
      "C:\\ProgramData\\Anaconda3\\lib\\site-packages\\urllib3\\connectionpool.py:858: InsecureRequestWarning: Unverified HTTPS request is being made. Adding certificate verification is strongly advised. See: https://urllib3.readthedocs.io/en/latest/advanced-usage.html#ssl-warnings\n",
      "  InsecureRequestWarning)\n"
     ]
    },
    {
     "name": "stdout",
     "output_type": "stream",
     "text": [
      "159\n"
     ]
    },
    {
     "name": "stderr",
     "output_type": "stream",
     "text": [
      "C:\\ProgramData\\Anaconda3\\lib\\site-packages\\urllib3\\connectionpool.py:858: InsecureRequestWarning: Unverified HTTPS request is being made. Adding certificate verification is strongly advised. See: https://urllib3.readthedocs.io/en/latest/advanced-usage.html#ssl-warnings\n",
      "  InsecureRequestWarning)\n"
     ]
    },
    {
     "name": "stdout",
     "output_type": "stream",
     "text": [
      "160\n",
      "i\n",
      "i\n"
     ]
    },
    {
     "name": "stderr",
     "output_type": "stream",
     "text": [
      "C:\\ProgramData\\Anaconda3\\lib\\site-packages\\urllib3\\connectionpool.py:858: InsecureRequestWarning: Unverified HTTPS request is being made. Adding certificate verification is strongly advised. See: https://urllib3.readthedocs.io/en/latest/advanced-usage.html#ssl-warnings\n",
      "  InsecureRequestWarning)\n"
     ]
    },
    {
     "name": "stdout",
     "output_type": "stream",
     "text": [
      "161\n"
     ]
    },
    {
     "name": "stderr",
     "output_type": "stream",
     "text": [
      "C:\\ProgramData\\Anaconda3\\lib\\site-packages\\urllib3\\connectionpool.py:858: InsecureRequestWarning: Unverified HTTPS request is being made. Adding certificate verification is strongly advised. See: https://urllib3.readthedocs.io/en/latest/advanced-usage.html#ssl-warnings\n",
      "  InsecureRequestWarning)\n"
     ]
    },
    {
     "name": "stdout",
     "output_type": "stream",
     "text": [
      "162\n"
     ]
    },
    {
     "name": "stderr",
     "output_type": "stream",
     "text": [
      "C:\\ProgramData\\Anaconda3\\lib\\site-packages\\urllib3\\connectionpool.py:858: InsecureRequestWarning: Unverified HTTPS request is being made. Adding certificate verification is strongly advised. See: https://urllib3.readthedocs.io/en/latest/advanced-usage.html#ssl-warnings\n",
      "  InsecureRequestWarning)\n"
     ]
    },
    {
     "name": "stdout",
     "output_type": "stream",
     "text": [
      "163\n"
     ]
    },
    {
     "name": "stderr",
     "output_type": "stream",
     "text": [
      "C:\\ProgramData\\Anaconda3\\lib\\site-packages\\urllib3\\connectionpool.py:858: InsecureRequestWarning: Unverified HTTPS request is being made. Adding certificate verification is strongly advised. See: https://urllib3.readthedocs.io/en/latest/advanced-usage.html#ssl-warnings\n",
      "  InsecureRequestWarning)\n"
     ]
    },
    {
     "name": "stdout",
     "output_type": "stream",
     "text": [
      "164\n"
     ]
    },
    {
     "name": "stderr",
     "output_type": "stream",
     "text": [
      "C:\\ProgramData\\Anaconda3\\lib\\site-packages\\urllib3\\connectionpool.py:858: InsecureRequestWarning: Unverified HTTPS request is being made. Adding certificate verification is strongly advised. See: https://urllib3.readthedocs.io/en/latest/advanced-usage.html#ssl-warnings\n",
      "  InsecureRequestWarning)\n"
     ]
    },
    {
     "name": "stdout",
     "output_type": "stream",
     "text": [
      "165\n"
     ]
    },
    {
     "name": "stderr",
     "output_type": "stream",
     "text": [
      "C:\\ProgramData\\Anaconda3\\lib\\site-packages\\urllib3\\connectionpool.py:858: InsecureRequestWarning: Unverified HTTPS request is being made. Adding certificate verification is strongly advised. See: https://urllib3.readthedocs.io/en/latest/advanced-usage.html#ssl-warnings\n",
      "  InsecureRequestWarning)\n"
     ]
    },
    {
     "name": "stdout",
     "output_type": "stream",
     "text": [
      "166\n"
     ]
    },
    {
     "name": "stderr",
     "output_type": "stream",
     "text": [
      "C:\\ProgramData\\Anaconda3\\lib\\site-packages\\urllib3\\connectionpool.py:858: InsecureRequestWarning: Unverified HTTPS request is being made. Adding certificate verification is strongly advised. See: https://urllib3.readthedocs.io/en/latest/advanced-usage.html#ssl-warnings\n",
      "  InsecureRequestWarning)\n"
     ]
    },
    {
     "name": "stdout",
     "output_type": "stream",
     "text": [
      "167\n"
     ]
    },
    {
     "name": "stderr",
     "output_type": "stream",
     "text": [
      "C:\\ProgramData\\Anaconda3\\lib\\site-packages\\urllib3\\connectionpool.py:858: InsecureRequestWarning: Unverified HTTPS request is being made. Adding certificate verification is strongly advised. See: https://urllib3.readthedocs.io/en/latest/advanced-usage.html#ssl-warnings\n",
      "  InsecureRequestWarning)\n"
     ]
    },
    {
     "name": "stdout",
     "output_type": "stream",
     "text": [
      "168\n"
     ]
    },
    {
     "name": "stderr",
     "output_type": "stream",
     "text": [
      "C:\\ProgramData\\Anaconda3\\lib\\site-packages\\urllib3\\connectionpool.py:858: InsecureRequestWarning: Unverified HTTPS request is being made. Adding certificate verification is strongly advised. See: https://urllib3.readthedocs.io/en/latest/advanced-usage.html#ssl-warnings\n",
      "  InsecureRequestWarning)\n"
     ]
    },
    {
     "name": "stdout",
     "output_type": "stream",
     "text": [
      "169\n"
     ]
    },
    {
     "name": "stderr",
     "output_type": "stream",
     "text": [
      "C:\\ProgramData\\Anaconda3\\lib\\site-packages\\urllib3\\connectionpool.py:858: InsecureRequestWarning: Unverified HTTPS request is being made. Adding certificate verification is strongly advised. See: https://urllib3.readthedocs.io/en/latest/advanced-usage.html#ssl-warnings\n",
      "  InsecureRequestWarning)\n"
     ]
    },
    {
     "name": "stdout",
     "output_type": "stream",
     "text": [
      "170\n"
     ]
    },
    {
     "name": "stderr",
     "output_type": "stream",
     "text": [
      "C:\\ProgramData\\Anaconda3\\lib\\site-packages\\urllib3\\connectionpool.py:858: InsecureRequestWarning: Unverified HTTPS request is being made. Adding certificate verification is strongly advised. See: https://urllib3.readthedocs.io/en/latest/advanced-usage.html#ssl-warnings\n",
      "  InsecureRequestWarning)\n"
     ]
    },
    {
     "name": "stdout",
     "output_type": "stream",
     "text": [
      "171\n"
     ]
    },
    {
     "name": "stderr",
     "output_type": "stream",
     "text": [
      "C:\\ProgramData\\Anaconda3\\lib\\site-packages\\urllib3\\connectionpool.py:858: InsecureRequestWarning: Unverified HTTPS request is being made. Adding certificate verification is strongly advised. See: https://urllib3.readthedocs.io/en/latest/advanced-usage.html#ssl-warnings\n",
      "  InsecureRequestWarning)\n"
     ]
    },
    {
     "name": "stdout",
     "output_type": "stream",
     "text": [
      "172\n"
     ]
    },
    {
     "name": "stderr",
     "output_type": "stream",
     "text": [
      "C:\\ProgramData\\Anaconda3\\lib\\site-packages\\urllib3\\connectionpool.py:858: InsecureRequestWarning: Unverified HTTPS request is being made. Adding certificate verification is strongly advised. See: https://urllib3.readthedocs.io/en/latest/advanced-usage.html#ssl-warnings\n",
      "  InsecureRequestWarning)\n"
     ]
    },
    {
     "name": "stdout",
     "output_type": "stream",
     "text": [
      "173\n"
     ]
    },
    {
     "name": "stderr",
     "output_type": "stream",
     "text": [
      "C:\\ProgramData\\Anaconda3\\lib\\site-packages\\urllib3\\connectionpool.py:858: InsecureRequestWarning: Unverified HTTPS request is being made. Adding certificate verification is strongly advised. See: https://urllib3.readthedocs.io/en/latest/advanced-usage.html#ssl-warnings\n",
      "  InsecureRequestWarning)\n"
     ]
    },
    {
     "name": "stdout",
     "output_type": "stream",
     "text": [
      "174\n"
     ]
    },
    {
     "name": "stderr",
     "output_type": "stream",
     "text": [
      "C:\\ProgramData\\Anaconda3\\lib\\site-packages\\urllib3\\connectionpool.py:858: InsecureRequestWarning: Unverified HTTPS request is being made. Adding certificate verification is strongly advised. See: https://urllib3.readthedocs.io/en/latest/advanced-usage.html#ssl-warnings\n",
      "  InsecureRequestWarning)\n"
     ]
    },
    {
     "name": "stdout",
     "output_type": "stream",
     "text": [
      "175\n"
     ]
    },
    {
     "name": "stderr",
     "output_type": "stream",
     "text": [
      "C:\\ProgramData\\Anaconda3\\lib\\site-packages\\urllib3\\connectionpool.py:858: InsecureRequestWarning: Unverified HTTPS request is being made. Adding certificate verification is strongly advised. See: https://urllib3.readthedocs.io/en/latest/advanced-usage.html#ssl-warnings\n",
      "  InsecureRequestWarning)\n"
     ]
    },
    {
     "name": "stdout",
     "output_type": "stream",
     "text": [
      "176\n"
     ]
    },
    {
     "name": "stderr",
     "output_type": "stream",
     "text": [
      "C:\\ProgramData\\Anaconda3\\lib\\site-packages\\urllib3\\connectionpool.py:858: InsecureRequestWarning: Unverified HTTPS request is being made. Adding certificate verification is strongly advised. See: https://urllib3.readthedocs.io/en/latest/advanced-usage.html#ssl-warnings\n",
      "  InsecureRequestWarning)\n"
     ]
    },
    {
     "name": "stdout",
     "output_type": "stream",
     "text": [
      "177\n"
     ]
    },
    {
     "name": "stderr",
     "output_type": "stream",
     "text": [
      "C:\\ProgramData\\Anaconda3\\lib\\site-packages\\urllib3\\connectionpool.py:858: InsecureRequestWarning: Unverified HTTPS request is being made. Adding certificate verification is strongly advised. See: https://urllib3.readthedocs.io/en/latest/advanced-usage.html#ssl-warnings\n",
      "  InsecureRequestWarning)\n"
     ]
    },
    {
     "name": "stdout",
     "output_type": "stream",
     "text": [
      "178\n"
     ]
    },
    {
     "name": "stderr",
     "output_type": "stream",
     "text": [
      "C:\\ProgramData\\Anaconda3\\lib\\site-packages\\urllib3\\connectionpool.py:858: InsecureRequestWarning: Unverified HTTPS request is being made. Adding certificate verification is strongly advised. See: https://urllib3.readthedocs.io/en/latest/advanced-usage.html#ssl-warnings\n",
      "  InsecureRequestWarning)\n"
     ]
    },
    {
     "name": "stdout",
     "output_type": "stream",
     "text": [
      "179\n"
     ]
    },
    {
     "name": "stderr",
     "output_type": "stream",
     "text": [
      "C:\\ProgramData\\Anaconda3\\lib\\site-packages\\urllib3\\connectionpool.py:858: InsecureRequestWarning: Unverified HTTPS request is being made. Adding certificate verification is strongly advised. See: https://urllib3.readthedocs.io/en/latest/advanced-usage.html#ssl-warnings\n",
      "  InsecureRequestWarning)\n"
     ]
    },
    {
     "name": "stdout",
     "output_type": "stream",
     "text": [
      "180\n"
     ]
    },
    {
     "name": "stderr",
     "output_type": "stream",
     "text": [
      "C:\\ProgramData\\Anaconda3\\lib\\site-packages\\urllib3\\connectionpool.py:858: InsecureRequestWarning: Unverified HTTPS request is being made. Adding certificate verification is strongly advised. See: https://urllib3.readthedocs.io/en/latest/advanced-usage.html#ssl-warnings\n",
      "  InsecureRequestWarning)\n"
     ]
    },
    {
     "name": "stdout",
     "output_type": "stream",
     "text": [
      "181\n"
     ]
    },
    {
     "name": "stderr",
     "output_type": "stream",
     "text": [
      "C:\\ProgramData\\Anaconda3\\lib\\site-packages\\urllib3\\connectionpool.py:858: InsecureRequestWarning: Unverified HTTPS request is being made. Adding certificate verification is strongly advised. See: https://urllib3.readthedocs.io/en/latest/advanced-usage.html#ssl-warnings\n",
      "  InsecureRequestWarning)\n"
     ]
    },
    {
     "name": "stdout",
     "output_type": "stream",
     "text": [
      "182\n"
     ]
    },
    {
     "name": "stderr",
     "output_type": "stream",
     "text": [
      "C:\\ProgramData\\Anaconda3\\lib\\site-packages\\urllib3\\connectionpool.py:858: InsecureRequestWarning: Unverified HTTPS request is being made. Adding certificate verification is strongly advised. See: https://urllib3.readthedocs.io/en/latest/advanced-usage.html#ssl-warnings\n",
      "  InsecureRequestWarning)\n"
     ]
    },
    {
     "name": "stdout",
     "output_type": "stream",
     "text": [
      "183\n"
     ]
    },
    {
     "name": "stderr",
     "output_type": "stream",
     "text": [
      "C:\\ProgramData\\Anaconda3\\lib\\site-packages\\urllib3\\connectionpool.py:858: InsecureRequestWarning: Unverified HTTPS request is being made. Adding certificate verification is strongly advised. See: https://urllib3.readthedocs.io/en/latest/advanced-usage.html#ssl-warnings\n",
      "  InsecureRequestWarning)\n"
     ]
    },
    {
     "name": "stdout",
     "output_type": "stream",
     "text": [
      "184\n"
     ]
    },
    {
     "name": "stderr",
     "output_type": "stream",
     "text": [
      "C:\\ProgramData\\Anaconda3\\lib\\site-packages\\urllib3\\connectionpool.py:858: InsecureRequestWarning: Unverified HTTPS request is being made. Adding certificate verification is strongly advised. See: https://urllib3.readthedocs.io/en/latest/advanced-usage.html#ssl-warnings\n",
      "  InsecureRequestWarning)\n",
      "C:\\ProgramData\\Anaconda3\\lib\\site-packages\\urllib3\\connectionpool.py:858: InsecureRequestWarning: Unverified HTTPS request is being made. Adding certificate verification is strongly advised. See: https://urllib3.readthedocs.io/en/latest/advanced-usage.html#ssl-warnings\n",
      "  InsecureRequestWarning)\n"
     ]
    },
    {
     "name": "stdout",
     "output_type": "stream",
     "text": [
      "185\n"
     ]
    },
    {
     "name": "stderr",
     "output_type": "stream",
     "text": [
      "C:\\ProgramData\\Anaconda3\\lib\\site-packages\\urllib3\\connectionpool.py:858: InsecureRequestWarning: Unverified HTTPS request is being made. Adding certificate verification is strongly advised. See: https://urllib3.readthedocs.io/en/latest/advanced-usage.html#ssl-warnings\n",
      "  InsecureRequestWarning)\n"
     ]
    },
    {
     "name": "stdout",
     "output_type": "stream",
     "text": [
      "186\n"
     ]
    },
    {
     "name": "stderr",
     "output_type": "stream",
     "text": [
      "C:\\ProgramData\\Anaconda3\\lib\\site-packages\\urllib3\\connectionpool.py:858: InsecureRequestWarning: Unverified HTTPS request is being made. Adding certificate verification is strongly advised. See: https://urllib3.readthedocs.io/en/latest/advanced-usage.html#ssl-warnings\n",
      "  InsecureRequestWarning)\n"
     ]
    },
    {
     "name": "stdout",
     "output_type": "stream",
     "text": [
      "187\n",
      "i\n",
      "i\n",
      "i\n",
      "i\n",
      "i\n",
      "i\n",
      "i\n",
      "i\n",
      "i\n"
     ]
    },
    {
     "name": "stderr",
     "output_type": "stream",
     "text": [
      "C:\\ProgramData\\Anaconda3\\lib\\site-packages\\urllib3\\connectionpool.py:858: InsecureRequestWarning: Unverified HTTPS request is being made. Adding certificate verification is strongly advised. See: https://urllib3.readthedocs.io/en/latest/advanced-usage.html#ssl-warnings\n",
      "  InsecureRequestWarning)\n"
     ]
    },
    {
     "name": "stdout",
     "output_type": "stream",
     "text": [
      "188\n"
     ]
    },
    {
     "name": "stderr",
     "output_type": "stream",
     "text": [
      "C:\\ProgramData\\Anaconda3\\lib\\site-packages\\urllib3\\connectionpool.py:858: InsecureRequestWarning: Unverified HTTPS request is being made. Adding certificate verification is strongly advised. See: https://urllib3.readthedocs.io/en/latest/advanced-usage.html#ssl-warnings\n",
      "  InsecureRequestWarning)\n"
     ]
    },
    {
     "name": "stdout",
     "output_type": "stream",
     "text": [
      "189\n"
     ]
    },
    {
     "name": "stderr",
     "output_type": "stream",
     "text": [
      "C:\\ProgramData\\Anaconda3\\lib\\site-packages\\urllib3\\connectionpool.py:858: InsecureRequestWarning: Unverified HTTPS request is being made. Adding certificate verification is strongly advised. See: https://urllib3.readthedocs.io/en/latest/advanced-usage.html#ssl-warnings\n",
      "  InsecureRequestWarning)\n"
     ]
    },
    {
     "name": "stdout",
     "output_type": "stream",
     "text": [
      "190\n"
     ]
    },
    {
     "name": "stderr",
     "output_type": "stream",
     "text": [
      "C:\\ProgramData\\Anaconda3\\lib\\site-packages\\urllib3\\connectionpool.py:858: InsecureRequestWarning: Unverified HTTPS request is being made. Adding certificate verification is strongly advised. See: https://urllib3.readthedocs.io/en/latest/advanced-usage.html#ssl-warnings\n",
      "  InsecureRequestWarning)\n"
     ]
    },
    {
     "name": "stdout",
     "output_type": "stream",
     "text": [
      "191\n"
     ]
    },
    {
     "name": "stderr",
     "output_type": "stream",
     "text": [
      "C:\\ProgramData\\Anaconda3\\lib\\site-packages\\urllib3\\connectionpool.py:858: InsecureRequestWarning: Unverified HTTPS request is being made. Adding certificate verification is strongly advised. See: https://urllib3.readthedocs.io/en/latest/advanced-usage.html#ssl-warnings\n",
      "  InsecureRequestWarning)\n"
     ]
    },
    {
     "name": "stdout",
     "output_type": "stream",
     "text": [
      "192\n"
     ]
    },
    {
     "name": "stderr",
     "output_type": "stream",
     "text": [
      "C:\\ProgramData\\Anaconda3\\lib\\site-packages\\urllib3\\connectionpool.py:858: InsecureRequestWarning: Unverified HTTPS request is being made. Adding certificate verification is strongly advised. See: https://urllib3.readthedocs.io/en/latest/advanced-usage.html#ssl-warnings\n",
      "  InsecureRequestWarning)\n"
     ]
    },
    {
     "name": "stdout",
     "output_type": "stream",
     "text": [
      "193\n"
     ]
    },
    {
     "name": "stderr",
     "output_type": "stream",
     "text": [
      "C:\\ProgramData\\Anaconda3\\lib\\site-packages\\urllib3\\connectionpool.py:858: InsecureRequestWarning: Unverified HTTPS request is being made. Adding certificate verification is strongly advised. See: https://urllib3.readthedocs.io/en/latest/advanced-usage.html#ssl-warnings\n",
      "  InsecureRequestWarning)\n"
     ]
    },
    {
     "name": "stdout",
     "output_type": "stream",
     "text": [
      "194\n"
     ]
    },
    {
     "name": "stderr",
     "output_type": "stream",
     "text": [
      "C:\\ProgramData\\Anaconda3\\lib\\site-packages\\urllib3\\connectionpool.py:858: InsecureRequestWarning: Unverified HTTPS request is being made. Adding certificate verification is strongly advised. See: https://urllib3.readthedocs.io/en/latest/advanced-usage.html#ssl-warnings\n",
      "  InsecureRequestWarning)\n"
     ]
    },
    {
     "name": "stdout",
     "output_type": "stream",
     "text": [
      "195\n"
     ]
    },
    {
     "name": "stderr",
     "output_type": "stream",
     "text": [
      "C:\\ProgramData\\Anaconda3\\lib\\site-packages\\urllib3\\connectionpool.py:858: InsecureRequestWarning: Unverified HTTPS request is being made. Adding certificate verification is strongly advised. See: https://urllib3.readthedocs.io/en/latest/advanced-usage.html#ssl-warnings\n",
      "  InsecureRequestWarning)\n"
     ]
    },
    {
     "name": "stdout",
     "output_type": "stream",
     "text": [
      "196\n"
     ]
    },
    {
     "name": "stderr",
     "output_type": "stream",
     "text": [
      "C:\\ProgramData\\Anaconda3\\lib\\site-packages\\urllib3\\connectionpool.py:858: InsecureRequestWarning: Unverified HTTPS request is being made. Adding certificate verification is strongly advised. See: https://urllib3.readthedocs.io/en/latest/advanced-usage.html#ssl-warnings\n",
      "  InsecureRequestWarning)\n"
     ]
    },
    {
     "name": "stdout",
     "output_type": "stream",
     "text": [
      "197\n"
     ]
    },
    {
     "name": "stderr",
     "output_type": "stream",
     "text": [
      "C:\\ProgramData\\Anaconda3\\lib\\site-packages\\urllib3\\connectionpool.py:858: InsecureRequestWarning: Unverified HTTPS request is being made. Adding certificate verification is strongly advised. See: https://urllib3.readthedocs.io/en/latest/advanced-usage.html#ssl-warnings\n",
      "  InsecureRequestWarning)\n"
     ]
    },
    {
     "name": "stdout",
     "output_type": "stream",
     "text": [
      "198\n"
     ]
    },
    {
     "name": "stderr",
     "output_type": "stream",
     "text": [
      "C:\\ProgramData\\Anaconda3\\lib\\site-packages\\urllib3\\connectionpool.py:858: InsecureRequestWarning: Unverified HTTPS request is being made. Adding certificate verification is strongly advised. See: https://urllib3.readthedocs.io/en/latest/advanced-usage.html#ssl-warnings\n",
      "  InsecureRequestWarning)\n"
     ]
    },
    {
     "name": "stdout",
     "output_type": "stream",
     "text": [
      "199\n"
     ]
    },
    {
     "name": "stderr",
     "output_type": "stream",
     "text": [
      "C:\\ProgramData\\Anaconda3\\lib\\site-packages\\urllib3\\connectionpool.py:858: InsecureRequestWarning: Unverified HTTPS request is being made. Adding certificate verification is strongly advised. See: https://urllib3.readthedocs.io/en/latest/advanced-usage.html#ssl-warnings\n",
      "  InsecureRequestWarning)\n",
      "C:\\ProgramData\\Anaconda3\\lib\\site-packages\\urllib3\\connectionpool.py:858: InsecureRequestWarning: Unverified HTTPS request is being made. Adding certificate verification is strongly advised. See: https://urllib3.readthedocs.io/en/latest/advanced-usage.html#ssl-warnings\n",
      "  InsecureRequestWarning)\n"
     ]
    },
    {
     "name": "stdout",
     "output_type": "stream",
     "text": [
      "200\n"
     ]
    },
    {
     "name": "stderr",
     "output_type": "stream",
     "text": [
      "C:\\ProgramData\\Anaconda3\\lib\\site-packages\\urllib3\\connectionpool.py:858: InsecureRequestWarning: Unverified HTTPS request is being made. Adding certificate verification is strongly advised. See: https://urllib3.readthedocs.io/en/latest/advanced-usage.html#ssl-warnings\n",
      "  InsecureRequestWarning)\n"
     ]
    },
    {
     "name": "stdout",
     "output_type": "stream",
     "text": [
      "201\n"
     ]
    },
    {
     "name": "stderr",
     "output_type": "stream",
     "text": [
      "C:\\ProgramData\\Anaconda3\\lib\\site-packages\\urllib3\\connectionpool.py:858: InsecureRequestWarning: Unverified HTTPS request is being made. Adding certificate verification is strongly advised. See: https://urllib3.readthedocs.io/en/latest/advanced-usage.html#ssl-warnings\n",
      "  InsecureRequestWarning)\n"
     ]
    },
    {
     "name": "stdout",
     "output_type": "stream",
     "text": [
      "202\n"
     ]
    },
    {
     "name": "stderr",
     "output_type": "stream",
     "text": [
      "C:\\ProgramData\\Anaconda3\\lib\\site-packages\\urllib3\\connectionpool.py:858: InsecureRequestWarning: Unverified HTTPS request is being made. Adding certificate verification is strongly advised. See: https://urllib3.readthedocs.io/en/latest/advanced-usage.html#ssl-warnings\n",
      "  InsecureRequestWarning)\n"
     ]
    },
    {
     "name": "stdout",
     "output_type": "stream",
     "text": [
      "203\n"
     ]
    },
    {
     "name": "stderr",
     "output_type": "stream",
     "text": [
      "C:\\ProgramData\\Anaconda3\\lib\\site-packages\\urllib3\\connectionpool.py:858: InsecureRequestWarning: Unverified HTTPS request is being made. Adding certificate verification is strongly advised. See: https://urllib3.readthedocs.io/en/latest/advanced-usage.html#ssl-warnings\n",
      "  InsecureRequestWarning)\n"
     ]
    },
    {
     "name": "stdout",
     "output_type": "stream",
     "text": [
      "204\n"
     ]
    },
    {
     "name": "stderr",
     "output_type": "stream",
     "text": [
      "C:\\ProgramData\\Anaconda3\\lib\\site-packages\\urllib3\\connectionpool.py:858: InsecureRequestWarning: Unverified HTTPS request is being made. Adding certificate verification is strongly advised. See: https://urllib3.readthedocs.io/en/latest/advanced-usage.html#ssl-warnings\n",
      "  InsecureRequestWarning)\n"
     ]
    },
    {
     "name": "stdout",
     "output_type": "stream",
     "text": [
      "205\n"
     ]
    },
    {
     "name": "stderr",
     "output_type": "stream",
     "text": [
      "C:\\ProgramData\\Anaconda3\\lib\\site-packages\\urllib3\\connectionpool.py:858: InsecureRequestWarning: Unverified HTTPS request is being made. Adding certificate verification is strongly advised. See: https://urllib3.readthedocs.io/en/latest/advanced-usage.html#ssl-warnings\n",
      "  InsecureRequestWarning)\n"
     ]
    },
    {
     "name": "stdout",
     "output_type": "stream",
     "text": [
      "206\n"
     ]
    },
    {
     "name": "stderr",
     "output_type": "stream",
     "text": [
      "C:\\ProgramData\\Anaconda3\\lib\\site-packages\\urllib3\\connectionpool.py:858: InsecureRequestWarning: Unverified HTTPS request is being made. Adding certificate verification is strongly advised. See: https://urllib3.readthedocs.io/en/latest/advanced-usage.html#ssl-warnings\n",
      "  InsecureRequestWarning)\n"
     ]
    },
    {
     "name": "stdout",
     "output_type": "stream",
     "text": [
      "207\n"
     ]
    },
    {
     "name": "stderr",
     "output_type": "stream",
     "text": [
      "C:\\ProgramData\\Anaconda3\\lib\\site-packages\\urllib3\\connectionpool.py:858: InsecureRequestWarning: Unverified HTTPS request is being made. Adding certificate verification is strongly advised. See: https://urllib3.readthedocs.io/en/latest/advanced-usage.html#ssl-warnings\n",
      "  InsecureRequestWarning)\n"
     ]
    },
    {
     "name": "stdout",
     "output_type": "stream",
     "text": [
      "208\n"
     ]
    },
    {
     "name": "stderr",
     "output_type": "stream",
     "text": [
      "C:\\ProgramData\\Anaconda3\\lib\\site-packages\\urllib3\\connectionpool.py:858: InsecureRequestWarning: Unverified HTTPS request is being made. Adding certificate verification is strongly advised. See: https://urllib3.readthedocs.io/en/latest/advanced-usage.html#ssl-warnings\n",
      "  InsecureRequestWarning)\n"
     ]
    },
    {
     "name": "stdout",
     "output_type": "stream",
     "text": [
      "209\n"
     ]
    },
    {
     "name": "stderr",
     "output_type": "stream",
     "text": [
      "C:\\ProgramData\\Anaconda3\\lib\\site-packages\\urllib3\\connectionpool.py:858: InsecureRequestWarning: Unverified HTTPS request is being made. Adding certificate verification is strongly advised. See: https://urllib3.readthedocs.io/en/latest/advanced-usage.html#ssl-warnings\n",
      "  InsecureRequestWarning)\n"
     ]
    },
    {
     "name": "stdout",
     "output_type": "stream",
     "text": [
      "210\n"
     ]
    },
    {
     "name": "stderr",
     "output_type": "stream",
     "text": [
      "C:\\ProgramData\\Anaconda3\\lib\\site-packages\\urllib3\\connectionpool.py:858: InsecureRequestWarning: Unverified HTTPS request is being made. Adding certificate verification is strongly advised. See: https://urllib3.readthedocs.io/en/latest/advanced-usage.html#ssl-warnings\n",
      "  InsecureRequestWarning)\n"
     ]
    },
    {
     "name": "stdout",
     "output_type": "stream",
     "text": [
      "211\n"
     ]
    },
    {
     "name": "stderr",
     "output_type": "stream",
     "text": [
      "C:\\ProgramData\\Anaconda3\\lib\\site-packages\\urllib3\\connectionpool.py:858: InsecureRequestWarning: Unverified HTTPS request is being made. Adding certificate verification is strongly advised. See: https://urllib3.readthedocs.io/en/latest/advanced-usage.html#ssl-warnings\n",
      "  InsecureRequestWarning)\n"
     ]
    },
    {
     "name": "stdout",
     "output_type": "stream",
     "text": [
      "212\n"
     ]
    },
    {
     "name": "stderr",
     "output_type": "stream",
     "text": [
      "C:\\ProgramData\\Anaconda3\\lib\\site-packages\\urllib3\\connectionpool.py:858: InsecureRequestWarning: Unverified HTTPS request is being made. Adding certificate verification is strongly advised. See: https://urllib3.readthedocs.io/en/latest/advanced-usage.html#ssl-warnings\n",
      "  InsecureRequestWarning)\n"
     ]
    },
    {
     "name": "stdout",
     "output_type": "stream",
     "text": [
      "213\n"
     ]
    },
    {
     "name": "stderr",
     "output_type": "stream",
     "text": [
      "C:\\ProgramData\\Anaconda3\\lib\\site-packages\\urllib3\\connectionpool.py:858: InsecureRequestWarning: Unverified HTTPS request is being made. Adding certificate verification is strongly advised. See: https://urllib3.readthedocs.io/en/latest/advanced-usage.html#ssl-warnings\n",
      "  InsecureRequestWarning)\n"
     ]
    },
    {
     "name": "stdout",
     "output_type": "stream",
     "text": [
      "214\n"
     ]
    },
    {
     "name": "stderr",
     "output_type": "stream",
     "text": [
      "C:\\ProgramData\\Anaconda3\\lib\\site-packages\\urllib3\\connectionpool.py:858: InsecureRequestWarning: Unverified HTTPS request is being made. Adding certificate verification is strongly advised. See: https://urllib3.readthedocs.io/en/latest/advanced-usage.html#ssl-warnings\n",
      "  InsecureRequestWarning)\n"
     ]
    },
    {
     "name": "stdout",
     "output_type": "stream",
     "text": [
      "215\n"
     ]
    },
    {
     "name": "stderr",
     "output_type": "stream",
     "text": [
      "C:\\ProgramData\\Anaconda3\\lib\\site-packages\\urllib3\\connectionpool.py:858: InsecureRequestWarning: Unverified HTTPS request is being made. Adding certificate verification is strongly advised. See: https://urllib3.readthedocs.io/en/latest/advanced-usage.html#ssl-warnings\n",
      "  InsecureRequestWarning)\n"
     ]
    },
    {
     "name": "stdout",
     "output_type": "stream",
     "text": [
      "216\n"
     ]
    },
    {
     "name": "stderr",
     "output_type": "stream",
     "text": [
      "C:\\ProgramData\\Anaconda3\\lib\\site-packages\\urllib3\\connectionpool.py:858: InsecureRequestWarning: Unverified HTTPS request is being made. Adding certificate verification is strongly advised. See: https://urllib3.readthedocs.io/en/latest/advanced-usage.html#ssl-warnings\n",
      "  InsecureRequestWarning)\n"
     ]
    },
    {
     "name": "stdout",
     "output_type": "stream",
     "text": [
      "217\n"
     ]
    },
    {
     "name": "stderr",
     "output_type": "stream",
     "text": [
      "C:\\ProgramData\\Anaconda3\\lib\\site-packages\\urllib3\\connectionpool.py:858: InsecureRequestWarning: Unverified HTTPS request is being made. Adding certificate verification is strongly advised. See: https://urllib3.readthedocs.io/en/latest/advanced-usage.html#ssl-warnings\n",
      "  InsecureRequestWarning)\n"
     ]
    },
    {
     "name": "stdout",
     "output_type": "stream",
     "text": [
      "218\n"
     ]
    },
    {
     "name": "stderr",
     "output_type": "stream",
     "text": [
      "C:\\ProgramData\\Anaconda3\\lib\\site-packages\\urllib3\\connectionpool.py:858: InsecureRequestWarning: Unverified HTTPS request is being made. Adding certificate verification is strongly advised. See: https://urllib3.readthedocs.io/en/latest/advanced-usage.html#ssl-warnings\n",
      "  InsecureRequestWarning)\n"
     ]
    },
    {
     "name": "stdout",
     "output_type": "stream",
     "text": [
      "219\n"
     ]
    },
    {
     "name": "stderr",
     "output_type": "stream",
     "text": [
      "C:\\ProgramData\\Anaconda3\\lib\\site-packages\\urllib3\\connectionpool.py:858: InsecureRequestWarning: Unverified HTTPS request is being made. Adding certificate verification is strongly advised. See: https://urllib3.readthedocs.io/en/latest/advanced-usage.html#ssl-warnings\n",
      "  InsecureRequestWarning)\n"
     ]
    },
    {
     "name": "stdout",
     "output_type": "stream",
     "text": [
      "220\n"
     ]
    },
    {
     "name": "stderr",
     "output_type": "stream",
     "text": [
      "C:\\ProgramData\\Anaconda3\\lib\\site-packages\\urllib3\\connectionpool.py:858: InsecureRequestWarning: Unverified HTTPS request is being made. Adding certificate verification is strongly advised. See: https://urllib3.readthedocs.io/en/latest/advanced-usage.html#ssl-warnings\n",
      "  InsecureRequestWarning)\n"
     ]
    },
    {
     "name": "stdout",
     "output_type": "stream",
     "text": [
      "221\n"
     ]
    },
    {
     "name": "stderr",
     "output_type": "stream",
     "text": [
      "C:\\ProgramData\\Anaconda3\\lib\\site-packages\\urllib3\\connectionpool.py:858: InsecureRequestWarning: Unverified HTTPS request is being made. Adding certificate verification is strongly advised. See: https://urllib3.readthedocs.io/en/latest/advanced-usage.html#ssl-warnings\n",
      "  InsecureRequestWarning)\n"
     ]
    },
    {
     "name": "stdout",
     "output_type": "stream",
     "text": [
      "222\n"
     ]
    },
    {
     "name": "stderr",
     "output_type": "stream",
     "text": [
      "C:\\ProgramData\\Anaconda3\\lib\\site-packages\\urllib3\\connectionpool.py:858: InsecureRequestWarning: Unverified HTTPS request is being made. Adding certificate verification is strongly advised. See: https://urllib3.readthedocs.io/en/latest/advanced-usage.html#ssl-warnings\n",
      "  InsecureRequestWarning)\n"
     ]
    },
    {
     "name": "stdout",
     "output_type": "stream",
     "text": [
      "223\n"
     ]
    },
    {
     "name": "stderr",
     "output_type": "stream",
     "text": [
      "C:\\ProgramData\\Anaconda3\\lib\\site-packages\\urllib3\\connectionpool.py:858: InsecureRequestWarning: Unverified HTTPS request is being made. Adding certificate verification is strongly advised. See: https://urllib3.readthedocs.io/en/latest/advanced-usage.html#ssl-warnings\n",
      "  InsecureRequestWarning)\n"
     ]
    },
    {
     "name": "stdout",
     "output_type": "stream",
     "text": [
      "224\n"
     ]
    },
    {
     "name": "stderr",
     "output_type": "stream",
     "text": [
      "C:\\ProgramData\\Anaconda3\\lib\\site-packages\\urllib3\\connectionpool.py:858: InsecureRequestWarning: Unverified HTTPS request is being made. Adding certificate verification is strongly advised. See: https://urllib3.readthedocs.io/en/latest/advanced-usage.html#ssl-warnings\n",
      "  InsecureRequestWarning)\n"
     ]
    },
    {
     "name": "stdout",
     "output_type": "stream",
     "text": [
      "225\n"
     ]
    },
    {
     "name": "stderr",
     "output_type": "stream",
     "text": [
      "C:\\ProgramData\\Anaconda3\\lib\\site-packages\\urllib3\\connectionpool.py:858: InsecureRequestWarning: Unverified HTTPS request is being made. Adding certificate verification is strongly advised. See: https://urllib3.readthedocs.io/en/latest/advanced-usage.html#ssl-warnings\n",
      "  InsecureRequestWarning)\n"
     ]
    },
    {
     "name": "stdout",
     "output_type": "stream",
     "text": [
      "226\n"
     ]
    },
    {
     "name": "stderr",
     "output_type": "stream",
     "text": [
      "C:\\ProgramData\\Anaconda3\\lib\\site-packages\\urllib3\\connectionpool.py:858: InsecureRequestWarning: Unverified HTTPS request is being made. Adding certificate verification is strongly advised. See: https://urllib3.readthedocs.io/en/latest/advanced-usage.html#ssl-warnings\n",
      "  InsecureRequestWarning)\n"
     ]
    },
    {
     "name": "stdout",
     "output_type": "stream",
     "text": [
      "227\n"
     ]
    },
    {
     "name": "stderr",
     "output_type": "stream",
     "text": [
      "C:\\ProgramData\\Anaconda3\\lib\\site-packages\\urllib3\\connectionpool.py:858: InsecureRequestWarning: Unverified HTTPS request is being made. Adding certificate verification is strongly advised. See: https://urllib3.readthedocs.io/en/latest/advanced-usage.html#ssl-warnings\n",
      "  InsecureRequestWarning)\n"
     ]
    },
    {
     "name": "stdout",
     "output_type": "stream",
     "text": [
      "228\n"
     ]
    },
    {
     "name": "stderr",
     "output_type": "stream",
     "text": [
      "C:\\ProgramData\\Anaconda3\\lib\\site-packages\\urllib3\\connectionpool.py:858: InsecureRequestWarning: Unverified HTTPS request is being made. Adding certificate verification is strongly advised. See: https://urllib3.readthedocs.io/en/latest/advanced-usage.html#ssl-warnings\n",
      "  InsecureRequestWarning)\n"
     ]
    },
    {
     "name": "stdout",
     "output_type": "stream",
     "text": [
      "229\n"
     ]
    },
    {
     "name": "stderr",
     "output_type": "stream",
     "text": [
      "C:\\ProgramData\\Anaconda3\\lib\\site-packages\\urllib3\\connectionpool.py:858: InsecureRequestWarning: Unverified HTTPS request is being made. Adding certificate verification is strongly advised. See: https://urllib3.readthedocs.io/en/latest/advanced-usage.html#ssl-warnings\n",
      "  InsecureRequestWarning)\n"
     ]
    },
    {
     "name": "stdout",
     "output_type": "stream",
     "text": [
      "230\n"
     ]
    },
    {
     "name": "stderr",
     "output_type": "stream",
     "text": [
      "C:\\ProgramData\\Anaconda3\\lib\\site-packages\\urllib3\\connectionpool.py:858: InsecureRequestWarning: Unverified HTTPS request is being made. Adding certificate verification is strongly advised. See: https://urllib3.readthedocs.io/en/latest/advanced-usage.html#ssl-warnings\n",
      "  InsecureRequestWarning)\n"
     ]
    },
    {
     "name": "stdout",
     "output_type": "stream",
     "text": [
      "231\n"
     ]
    },
    {
     "name": "stderr",
     "output_type": "stream",
     "text": [
      "C:\\ProgramData\\Anaconda3\\lib\\site-packages\\urllib3\\connectionpool.py:858: InsecureRequestWarning: Unverified HTTPS request is being made. Adding certificate verification is strongly advised. See: https://urllib3.readthedocs.io/en/latest/advanced-usage.html#ssl-warnings\n",
      "  InsecureRequestWarning)\n"
     ]
    },
    {
     "name": "stdout",
     "output_type": "stream",
     "text": [
      "232\n"
     ]
    },
    {
     "name": "stderr",
     "output_type": "stream",
     "text": [
      "C:\\ProgramData\\Anaconda3\\lib\\site-packages\\urllib3\\connectionpool.py:858: InsecureRequestWarning: Unverified HTTPS request is being made. Adding certificate verification is strongly advised. See: https://urllib3.readthedocs.io/en/latest/advanced-usage.html#ssl-warnings\n",
      "  InsecureRequestWarning)\n"
     ]
    },
    {
     "name": "stdout",
     "output_type": "stream",
     "text": [
      "233\n"
     ]
    },
    {
     "name": "stderr",
     "output_type": "stream",
     "text": [
      "C:\\ProgramData\\Anaconda3\\lib\\site-packages\\urllib3\\connectionpool.py:858: InsecureRequestWarning: Unverified HTTPS request is being made. Adding certificate verification is strongly advised. See: https://urllib3.readthedocs.io/en/latest/advanced-usage.html#ssl-warnings\n",
      "  InsecureRequestWarning)\n"
     ]
    },
    {
     "name": "stdout",
     "output_type": "stream",
     "text": [
      "234\n"
     ]
    },
    {
     "name": "stderr",
     "output_type": "stream",
     "text": [
      "C:\\ProgramData\\Anaconda3\\lib\\site-packages\\urllib3\\connectionpool.py:858: InsecureRequestWarning: Unverified HTTPS request is being made. Adding certificate verification is strongly advised. See: https://urllib3.readthedocs.io/en/latest/advanced-usage.html#ssl-warnings\n",
      "  InsecureRequestWarning)\n"
     ]
    },
    {
     "name": "stdout",
     "output_type": "stream",
     "text": [
      "235\n"
     ]
    },
    {
     "name": "stderr",
     "output_type": "stream",
     "text": [
      "C:\\ProgramData\\Anaconda3\\lib\\site-packages\\urllib3\\connectionpool.py:858: InsecureRequestWarning: Unverified HTTPS request is being made. Adding certificate verification is strongly advised. See: https://urllib3.readthedocs.io/en/latest/advanced-usage.html#ssl-warnings\n",
      "  InsecureRequestWarning)\n"
     ]
    },
    {
     "name": "stdout",
     "output_type": "stream",
     "text": [
      "236\n"
     ]
    },
    {
     "name": "stderr",
     "output_type": "stream",
     "text": [
      "C:\\ProgramData\\Anaconda3\\lib\\site-packages\\urllib3\\connectionpool.py:858: InsecureRequestWarning: Unverified HTTPS request is being made. Adding certificate verification is strongly advised. See: https://urllib3.readthedocs.io/en/latest/advanced-usage.html#ssl-warnings\n",
      "  InsecureRequestWarning)\n"
     ]
    },
    {
     "name": "stdout",
     "output_type": "stream",
     "text": [
      "237\n"
     ]
    },
    {
     "name": "stderr",
     "output_type": "stream",
     "text": [
      "C:\\ProgramData\\Anaconda3\\lib\\site-packages\\urllib3\\connectionpool.py:858: InsecureRequestWarning: Unverified HTTPS request is being made. Adding certificate verification is strongly advised. See: https://urllib3.readthedocs.io/en/latest/advanced-usage.html#ssl-warnings\n",
      "  InsecureRequestWarning)\n"
     ]
    },
    {
     "name": "stdout",
     "output_type": "stream",
     "text": [
      "238\n"
     ]
    },
    {
     "name": "stderr",
     "output_type": "stream",
     "text": [
      "C:\\ProgramData\\Anaconda3\\lib\\site-packages\\urllib3\\connectionpool.py:858: InsecureRequestWarning: Unverified HTTPS request is being made. Adding certificate verification is strongly advised. See: https://urllib3.readthedocs.io/en/latest/advanced-usage.html#ssl-warnings\n",
      "  InsecureRequestWarning)\n"
     ]
    },
    {
     "name": "stdout",
     "output_type": "stream",
     "text": [
      "239\n"
     ]
    },
    {
     "name": "stderr",
     "output_type": "stream",
     "text": [
      "C:\\ProgramData\\Anaconda3\\lib\\site-packages\\urllib3\\connectionpool.py:858: InsecureRequestWarning: Unverified HTTPS request is being made. Adding certificate verification is strongly advised. See: https://urllib3.readthedocs.io/en/latest/advanced-usage.html#ssl-warnings\n",
      "  InsecureRequestWarning)\n"
     ]
    },
    {
     "name": "stdout",
     "output_type": "stream",
     "text": [
      "240\n"
     ]
    },
    {
     "name": "stderr",
     "output_type": "stream",
     "text": [
      "C:\\ProgramData\\Anaconda3\\lib\\site-packages\\urllib3\\connectionpool.py:858: InsecureRequestWarning: Unverified HTTPS request is being made. Adding certificate verification is strongly advised. See: https://urllib3.readthedocs.io/en/latest/advanced-usage.html#ssl-warnings\n",
      "  InsecureRequestWarning)\n"
     ]
    },
    {
     "name": "stdout",
     "output_type": "stream",
     "text": [
      "241\n"
     ]
    },
    {
     "name": "stderr",
     "output_type": "stream",
     "text": [
      "C:\\ProgramData\\Anaconda3\\lib\\site-packages\\urllib3\\connectionpool.py:858: InsecureRequestWarning: Unverified HTTPS request is being made. Adding certificate verification is strongly advised. See: https://urllib3.readthedocs.io/en/latest/advanced-usage.html#ssl-warnings\n",
      "  InsecureRequestWarning)\n"
     ]
    },
    {
     "name": "stdout",
     "output_type": "stream",
     "text": [
      "242\n"
     ]
    },
    {
     "name": "stderr",
     "output_type": "stream",
     "text": [
      "C:\\ProgramData\\Anaconda3\\lib\\site-packages\\urllib3\\connectionpool.py:858: InsecureRequestWarning: Unverified HTTPS request is being made. Adding certificate verification is strongly advised. See: https://urllib3.readthedocs.io/en/latest/advanced-usage.html#ssl-warnings\n",
      "  InsecureRequestWarning)\n"
     ]
    },
    {
     "name": "stdout",
     "output_type": "stream",
     "text": [
      "243\n"
     ]
    },
    {
     "name": "stderr",
     "output_type": "stream",
     "text": [
      "C:\\ProgramData\\Anaconda3\\lib\\site-packages\\urllib3\\connectionpool.py:858: InsecureRequestWarning: Unverified HTTPS request is being made. Adding certificate verification is strongly advised. See: https://urllib3.readthedocs.io/en/latest/advanced-usage.html#ssl-warnings\n",
      "  InsecureRequestWarning)\n"
     ]
    },
    {
     "name": "stdout",
     "output_type": "stream",
     "text": [
      "244\n"
     ]
    },
    {
     "name": "stderr",
     "output_type": "stream",
     "text": [
      "C:\\ProgramData\\Anaconda3\\lib\\site-packages\\urllib3\\connectionpool.py:858: InsecureRequestWarning: Unverified HTTPS request is being made. Adding certificate verification is strongly advised. See: https://urllib3.readthedocs.io/en/latest/advanced-usage.html#ssl-warnings\n",
      "  InsecureRequestWarning)\n"
     ]
    },
    {
     "name": "stdout",
     "output_type": "stream",
     "text": [
      "245\n"
     ]
    },
    {
     "name": "stderr",
     "output_type": "stream",
     "text": [
      "C:\\ProgramData\\Anaconda3\\lib\\site-packages\\urllib3\\connectionpool.py:858: InsecureRequestWarning: Unverified HTTPS request is being made. Adding certificate verification is strongly advised. See: https://urllib3.readthedocs.io/en/latest/advanced-usage.html#ssl-warnings\n",
      "  InsecureRequestWarning)\n"
     ]
    },
    {
     "name": "stdout",
     "output_type": "stream",
     "text": [
      "246\n"
     ]
    },
    {
     "name": "stderr",
     "output_type": "stream",
     "text": [
      "C:\\ProgramData\\Anaconda3\\lib\\site-packages\\urllib3\\connectionpool.py:858: InsecureRequestWarning: Unverified HTTPS request is being made. Adding certificate verification is strongly advised. See: https://urllib3.readthedocs.io/en/latest/advanced-usage.html#ssl-warnings\n",
      "  InsecureRequestWarning)\n"
     ]
    },
    {
     "name": "stdout",
     "output_type": "stream",
     "text": [
      "247\n"
     ]
    },
    {
     "name": "stderr",
     "output_type": "stream",
     "text": [
      "C:\\ProgramData\\Anaconda3\\lib\\site-packages\\urllib3\\connectionpool.py:858: InsecureRequestWarning: Unverified HTTPS request is being made. Adding certificate verification is strongly advised. See: https://urllib3.readthedocs.io/en/latest/advanced-usage.html#ssl-warnings\n",
      "  InsecureRequestWarning)\n"
     ]
    },
    {
     "name": "stdout",
     "output_type": "stream",
     "text": [
      "248\n"
     ]
    },
    {
     "name": "stderr",
     "output_type": "stream",
     "text": [
      "C:\\ProgramData\\Anaconda3\\lib\\site-packages\\urllib3\\connectionpool.py:858: InsecureRequestWarning: Unverified HTTPS request is being made. Adding certificate verification is strongly advised. See: https://urllib3.readthedocs.io/en/latest/advanced-usage.html#ssl-warnings\n",
      "  InsecureRequestWarning)\n"
     ]
    },
    {
     "name": "stdout",
     "output_type": "stream",
     "text": [
      "249\n"
     ]
    },
    {
     "name": "stderr",
     "output_type": "stream",
     "text": [
      "C:\\ProgramData\\Anaconda3\\lib\\site-packages\\urllib3\\connectionpool.py:858: InsecureRequestWarning: Unverified HTTPS request is being made. Adding certificate verification is strongly advised. See: https://urllib3.readthedocs.io/en/latest/advanced-usage.html#ssl-warnings\n",
      "  InsecureRequestWarning)\n"
     ]
    },
    {
     "name": "stdout",
     "output_type": "stream",
     "text": [
      "250\n"
     ]
    },
    {
     "name": "stderr",
     "output_type": "stream",
     "text": [
      "C:\\ProgramData\\Anaconda3\\lib\\site-packages\\urllib3\\connectionpool.py:858: InsecureRequestWarning: Unverified HTTPS request is being made. Adding certificate verification is strongly advised. See: https://urllib3.readthedocs.io/en/latest/advanced-usage.html#ssl-warnings\n",
      "  InsecureRequestWarning)\n"
     ]
    },
    {
     "name": "stdout",
     "output_type": "stream",
     "text": [
      "251\n"
     ]
    },
    {
     "name": "stderr",
     "output_type": "stream",
     "text": [
      "C:\\ProgramData\\Anaconda3\\lib\\site-packages\\urllib3\\connectionpool.py:858: InsecureRequestWarning: Unverified HTTPS request is being made. Adding certificate verification is strongly advised. See: https://urllib3.readthedocs.io/en/latest/advanced-usage.html#ssl-warnings\n",
      "  InsecureRequestWarning)\n"
     ]
    },
    {
     "name": "stdout",
     "output_type": "stream",
     "text": [
      "252\n"
     ]
    },
    {
     "name": "stderr",
     "output_type": "stream",
     "text": [
      "C:\\ProgramData\\Anaconda3\\lib\\site-packages\\urllib3\\connectionpool.py:858: InsecureRequestWarning: Unverified HTTPS request is being made. Adding certificate verification is strongly advised. See: https://urllib3.readthedocs.io/en/latest/advanced-usage.html#ssl-warnings\n",
      "  InsecureRequestWarning)\n"
     ]
    },
    {
     "name": "stdout",
     "output_type": "stream",
     "text": [
      "253\n"
     ]
    },
    {
     "name": "stderr",
     "output_type": "stream",
     "text": [
      "C:\\ProgramData\\Anaconda3\\lib\\site-packages\\urllib3\\connectionpool.py:858: InsecureRequestWarning: Unverified HTTPS request is being made. Adding certificate verification is strongly advised. See: https://urllib3.readthedocs.io/en/latest/advanced-usage.html#ssl-warnings\n",
      "  InsecureRequestWarning)\n"
     ]
    },
    {
     "name": "stdout",
     "output_type": "stream",
     "text": [
      "254\n"
     ]
    },
    {
     "name": "stderr",
     "output_type": "stream",
     "text": [
      "C:\\ProgramData\\Anaconda3\\lib\\site-packages\\urllib3\\connectionpool.py:858: InsecureRequestWarning: Unverified HTTPS request is being made. Adding certificate verification is strongly advised. See: https://urllib3.readthedocs.io/en/latest/advanced-usage.html#ssl-warnings\n",
      "  InsecureRequestWarning)\n"
     ]
    },
    {
     "name": "stdout",
     "output_type": "stream",
     "text": [
      "255\n"
     ]
    },
    {
     "name": "stderr",
     "output_type": "stream",
     "text": [
      "C:\\ProgramData\\Anaconda3\\lib\\site-packages\\urllib3\\connectionpool.py:858: InsecureRequestWarning: Unverified HTTPS request is being made. Adding certificate verification is strongly advised. See: https://urllib3.readthedocs.io/en/latest/advanced-usage.html#ssl-warnings\n",
      "  InsecureRequestWarning)\n"
     ]
    },
    {
     "name": "stdout",
     "output_type": "stream",
     "text": [
      "256\n"
     ]
    },
    {
     "name": "stderr",
     "output_type": "stream",
     "text": [
      "C:\\ProgramData\\Anaconda3\\lib\\site-packages\\urllib3\\connectionpool.py:858: InsecureRequestWarning: Unverified HTTPS request is being made. Adding certificate verification is strongly advised. See: https://urllib3.readthedocs.io/en/latest/advanced-usage.html#ssl-warnings\n",
      "  InsecureRequestWarning)\n"
     ]
    },
    {
     "name": "stdout",
     "output_type": "stream",
     "text": [
      "257\n"
     ]
    },
    {
     "name": "stderr",
     "output_type": "stream",
     "text": [
      "C:\\ProgramData\\Anaconda3\\lib\\site-packages\\urllib3\\connectionpool.py:858: InsecureRequestWarning: Unverified HTTPS request is being made. Adding certificate verification is strongly advised. See: https://urllib3.readthedocs.io/en/latest/advanced-usage.html#ssl-warnings\n",
      "  InsecureRequestWarning)\n"
     ]
    },
    {
     "name": "stdout",
     "output_type": "stream",
     "text": [
      "258\n"
     ]
    },
    {
     "name": "stderr",
     "output_type": "stream",
     "text": [
      "C:\\ProgramData\\Anaconda3\\lib\\site-packages\\urllib3\\connectionpool.py:858: InsecureRequestWarning: Unverified HTTPS request is being made. Adding certificate verification is strongly advised. See: https://urllib3.readthedocs.io/en/latest/advanced-usage.html#ssl-warnings\n",
      "  InsecureRequestWarning)\n"
     ]
    },
    {
     "name": "stdout",
     "output_type": "stream",
     "text": [
      "259\n"
     ]
    },
    {
     "name": "stderr",
     "output_type": "stream",
     "text": [
      "C:\\ProgramData\\Anaconda3\\lib\\site-packages\\urllib3\\connectionpool.py:858: InsecureRequestWarning: Unverified HTTPS request is being made. Adding certificate verification is strongly advised. See: https://urllib3.readthedocs.io/en/latest/advanced-usage.html#ssl-warnings\n",
      "  InsecureRequestWarning)\n"
     ]
    },
    {
     "name": "stdout",
     "output_type": "stream",
     "text": [
      "260\n"
     ]
    },
    {
     "name": "stderr",
     "output_type": "stream",
     "text": [
      "C:\\ProgramData\\Anaconda3\\lib\\site-packages\\urllib3\\connectionpool.py:858: InsecureRequestWarning: Unverified HTTPS request is being made. Adding certificate verification is strongly advised. See: https://urllib3.readthedocs.io/en/latest/advanced-usage.html#ssl-warnings\n",
      "  InsecureRequestWarning)\n"
     ]
    },
    {
     "name": "stdout",
     "output_type": "stream",
     "text": [
      "261\n"
     ]
    },
    {
     "name": "stderr",
     "output_type": "stream",
     "text": [
      "C:\\ProgramData\\Anaconda3\\lib\\site-packages\\urllib3\\connectionpool.py:858: InsecureRequestWarning: Unverified HTTPS request is being made. Adding certificate verification is strongly advised. See: https://urllib3.readthedocs.io/en/latest/advanced-usage.html#ssl-warnings\n",
      "  InsecureRequestWarning)\n"
     ]
    },
    {
     "name": "stdout",
     "output_type": "stream",
     "text": [
      "262\n"
     ]
    },
    {
     "name": "stderr",
     "output_type": "stream",
     "text": [
      "C:\\ProgramData\\Anaconda3\\lib\\site-packages\\urllib3\\connectionpool.py:858: InsecureRequestWarning: Unverified HTTPS request is being made. Adding certificate verification is strongly advised. See: https://urllib3.readthedocs.io/en/latest/advanced-usage.html#ssl-warnings\n",
      "  InsecureRequestWarning)\n"
     ]
    },
    {
     "name": "stdout",
     "output_type": "stream",
     "text": [
      "263\n"
     ]
    },
    {
     "name": "stderr",
     "output_type": "stream",
     "text": [
      "C:\\ProgramData\\Anaconda3\\lib\\site-packages\\urllib3\\connectionpool.py:858: InsecureRequestWarning: Unverified HTTPS request is being made. Adding certificate verification is strongly advised. See: https://urllib3.readthedocs.io/en/latest/advanced-usage.html#ssl-warnings\n",
      "  InsecureRequestWarning)\n"
     ]
    },
    {
     "name": "stdout",
     "output_type": "stream",
     "text": [
      "264\n"
     ]
    },
    {
     "name": "stderr",
     "output_type": "stream",
     "text": [
      "C:\\ProgramData\\Anaconda3\\lib\\site-packages\\urllib3\\connectionpool.py:858: InsecureRequestWarning: Unverified HTTPS request is being made. Adding certificate verification is strongly advised. See: https://urllib3.readthedocs.io/en/latest/advanced-usage.html#ssl-warnings\n",
      "  InsecureRequestWarning)\n"
     ]
    },
    {
     "name": "stdout",
     "output_type": "stream",
     "text": [
      "265\n"
     ]
    },
    {
     "name": "stderr",
     "output_type": "stream",
     "text": [
      "C:\\ProgramData\\Anaconda3\\lib\\site-packages\\urllib3\\connectionpool.py:858: InsecureRequestWarning: Unverified HTTPS request is being made. Adding certificate verification is strongly advised. See: https://urllib3.readthedocs.io/en/latest/advanced-usage.html#ssl-warnings\n",
      "  InsecureRequestWarning)\n"
     ]
    },
    {
     "name": "stdout",
     "output_type": "stream",
     "text": [
      "266\n"
     ]
    },
    {
     "name": "stderr",
     "output_type": "stream",
     "text": [
      "C:\\ProgramData\\Anaconda3\\lib\\site-packages\\urllib3\\connectionpool.py:858: InsecureRequestWarning: Unverified HTTPS request is being made. Adding certificate verification is strongly advised. See: https://urllib3.readthedocs.io/en/latest/advanced-usage.html#ssl-warnings\n",
      "  InsecureRequestWarning)\n"
     ]
    },
    {
     "name": "stdout",
     "output_type": "stream",
     "text": [
      "267\n"
     ]
    },
    {
     "name": "stderr",
     "output_type": "stream",
     "text": [
      "C:\\ProgramData\\Anaconda3\\lib\\site-packages\\urllib3\\connectionpool.py:858: InsecureRequestWarning: Unverified HTTPS request is being made. Adding certificate verification is strongly advised. See: https://urllib3.readthedocs.io/en/latest/advanced-usage.html#ssl-warnings\n",
      "  InsecureRequestWarning)\n",
      "C:\\ProgramData\\Anaconda3\\lib\\site-packages\\urllib3\\connectionpool.py:858: InsecureRequestWarning: Unverified HTTPS request is being made. Adding certificate verification is strongly advised. See: https://urllib3.readthedocs.io/en/latest/advanced-usage.html#ssl-warnings\n",
      "  InsecureRequestWarning)\n"
     ]
    },
    {
     "name": "stdout",
     "output_type": "stream",
     "text": [
      "268\n"
     ]
    },
    {
     "name": "stderr",
     "output_type": "stream",
     "text": [
      "C:\\ProgramData\\Anaconda3\\lib\\site-packages\\urllib3\\connectionpool.py:858: InsecureRequestWarning: Unverified HTTPS request is being made. Adding certificate verification is strongly advised. See: https://urllib3.readthedocs.io/en/latest/advanced-usage.html#ssl-warnings\n",
      "  InsecureRequestWarning)\n"
     ]
    },
    {
     "name": "stdout",
     "output_type": "stream",
     "text": [
      "269\n"
     ]
    },
    {
     "name": "stderr",
     "output_type": "stream",
     "text": [
      "C:\\ProgramData\\Anaconda3\\lib\\site-packages\\urllib3\\connectionpool.py:858: InsecureRequestWarning: Unverified HTTPS request is being made. Adding certificate verification is strongly advised. See: https://urllib3.readthedocs.io/en/latest/advanced-usage.html#ssl-warnings\n",
      "  InsecureRequestWarning)\n"
     ]
    },
    {
     "name": "stdout",
     "output_type": "stream",
     "text": [
      "270\n"
     ]
    },
    {
     "name": "stderr",
     "output_type": "stream",
     "text": [
      "C:\\ProgramData\\Anaconda3\\lib\\site-packages\\urllib3\\connectionpool.py:858: InsecureRequestWarning: Unverified HTTPS request is being made. Adding certificate verification is strongly advised. See: https://urllib3.readthedocs.io/en/latest/advanced-usage.html#ssl-warnings\n",
      "  InsecureRequestWarning)\n"
     ]
    },
    {
     "name": "stdout",
     "output_type": "stream",
     "text": [
      "271\n"
     ]
    },
    {
     "name": "stderr",
     "output_type": "stream",
     "text": [
      "C:\\ProgramData\\Anaconda3\\lib\\site-packages\\urllib3\\connectionpool.py:858: InsecureRequestWarning: Unverified HTTPS request is being made. Adding certificate verification is strongly advised. See: https://urllib3.readthedocs.io/en/latest/advanced-usage.html#ssl-warnings\n",
      "  InsecureRequestWarning)\n"
     ]
    },
    {
     "name": "stdout",
     "output_type": "stream",
     "text": [
      "272\n"
     ]
    },
    {
     "name": "stderr",
     "output_type": "stream",
     "text": [
      "C:\\ProgramData\\Anaconda3\\lib\\site-packages\\urllib3\\connectionpool.py:858: InsecureRequestWarning: Unverified HTTPS request is being made. Adding certificate verification is strongly advised. See: https://urllib3.readthedocs.io/en/latest/advanced-usage.html#ssl-warnings\n",
      "  InsecureRequestWarning)\n"
     ]
    },
    {
     "name": "stdout",
     "output_type": "stream",
     "text": [
      "273\n"
     ]
    },
    {
     "name": "stderr",
     "output_type": "stream",
     "text": [
      "C:\\ProgramData\\Anaconda3\\lib\\site-packages\\urllib3\\connectionpool.py:858: InsecureRequestWarning: Unverified HTTPS request is being made. Adding certificate verification is strongly advised. See: https://urllib3.readthedocs.io/en/latest/advanced-usage.html#ssl-warnings\n",
      "  InsecureRequestWarning)\n"
     ]
    },
    {
     "name": "stdout",
     "output_type": "stream",
     "text": [
      "274\n"
     ]
    },
    {
     "name": "stderr",
     "output_type": "stream",
     "text": [
      "C:\\ProgramData\\Anaconda3\\lib\\site-packages\\urllib3\\connectionpool.py:858: InsecureRequestWarning: Unverified HTTPS request is being made. Adding certificate verification is strongly advised. See: https://urllib3.readthedocs.io/en/latest/advanced-usage.html#ssl-warnings\n",
      "  InsecureRequestWarning)\n"
     ]
    },
    {
     "name": "stdout",
     "output_type": "stream",
     "text": [
      "275\n"
     ]
    },
    {
     "name": "stderr",
     "output_type": "stream",
     "text": [
      "C:\\ProgramData\\Anaconda3\\lib\\site-packages\\urllib3\\connectionpool.py:858: InsecureRequestWarning: Unverified HTTPS request is being made. Adding certificate verification is strongly advised. See: https://urllib3.readthedocs.io/en/latest/advanced-usage.html#ssl-warnings\n",
      "  InsecureRequestWarning)\n"
     ]
    },
    {
     "name": "stdout",
     "output_type": "stream",
     "text": [
      "276\n"
     ]
    },
    {
     "name": "stderr",
     "output_type": "stream",
     "text": [
      "C:\\ProgramData\\Anaconda3\\lib\\site-packages\\urllib3\\connectionpool.py:858: InsecureRequestWarning: Unverified HTTPS request is being made. Adding certificate verification is strongly advised. See: https://urllib3.readthedocs.io/en/latest/advanced-usage.html#ssl-warnings\n",
      "  InsecureRequestWarning)\n"
     ]
    },
    {
     "name": "stdout",
     "output_type": "stream",
     "text": [
      "277\n"
     ]
    },
    {
     "name": "stderr",
     "output_type": "stream",
     "text": [
      "C:\\ProgramData\\Anaconda3\\lib\\site-packages\\urllib3\\connectionpool.py:858: InsecureRequestWarning: Unverified HTTPS request is being made. Adding certificate verification is strongly advised. See: https://urllib3.readthedocs.io/en/latest/advanced-usage.html#ssl-warnings\n",
      "  InsecureRequestWarning)\n"
     ]
    },
    {
     "name": "stdout",
     "output_type": "stream",
     "text": [
      "278\n"
     ]
    },
    {
     "name": "stderr",
     "output_type": "stream",
     "text": [
      "C:\\ProgramData\\Anaconda3\\lib\\site-packages\\urllib3\\connectionpool.py:858: InsecureRequestWarning: Unverified HTTPS request is being made. Adding certificate verification is strongly advised. See: https://urllib3.readthedocs.io/en/latest/advanced-usage.html#ssl-warnings\n",
      "  InsecureRequestWarning)\n"
     ]
    },
    {
     "name": "stdout",
     "output_type": "stream",
     "text": [
      "279\n"
     ]
    },
    {
     "name": "stderr",
     "output_type": "stream",
     "text": [
      "C:\\ProgramData\\Anaconda3\\lib\\site-packages\\urllib3\\connectionpool.py:858: InsecureRequestWarning: Unverified HTTPS request is being made. Adding certificate verification is strongly advised. See: https://urllib3.readthedocs.io/en/latest/advanced-usage.html#ssl-warnings\n",
      "  InsecureRequestWarning)\n"
     ]
    },
    {
     "name": "stdout",
     "output_type": "stream",
     "text": [
      "280\n"
     ]
    },
    {
     "name": "stderr",
     "output_type": "stream",
     "text": [
      "C:\\ProgramData\\Anaconda3\\lib\\site-packages\\urllib3\\connectionpool.py:858: InsecureRequestWarning: Unverified HTTPS request is being made. Adding certificate verification is strongly advised. See: https://urllib3.readthedocs.io/en/latest/advanced-usage.html#ssl-warnings\n",
      "  InsecureRequestWarning)\n"
     ]
    },
    {
     "name": "stdout",
     "output_type": "stream",
     "text": [
      "281\n"
     ]
    },
    {
     "name": "stderr",
     "output_type": "stream",
     "text": [
      "C:\\ProgramData\\Anaconda3\\lib\\site-packages\\urllib3\\connectionpool.py:858: InsecureRequestWarning: Unverified HTTPS request is being made. Adding certificate verification is strongly advised. See: https://urllib3.readthedocs.io/en/latest/advanced-usage.html#ssl-warnings\n",
      "  InsecureRequestWarning)\n"
     ]
    },
    {
     "name": "stdout",
     "output_type": "stream",
     "text": [
      "282\n"
     ]
    },
    {
     "name": "stderr",
     "output_type": "stream",
     "text": [
      "C:\\ProgramData\\Anaconda3\\lib\\site-packages\\urllib3\\connectionpool.py:858: InsecureRequestWarning: Unverified HTTPS request is being made. Adding certificate verification is strongly advised. See: https://urllib3.readthedocs.io/en/latest/advanced-usage.html#ssl-warnings\n",
      "  InsecureRequestWarning)\n"
     ]
    },
    {
     "name": "stdout",
     "output_type": "stream",
     "text": [
      "283\n"
     ]
    },
    {
     "name": "stderr",
     "output_type": "stream",
     "text": [
      "C:\\ProgramData\\Anaconda3\\lib\\site-packages\\urllib3\\connectionpool.py:858: InsecureRequestWarning: Unverified HTTPS request is being made. Adding certificate verification is strongly advised. See: https://urllib3.readthedocs.io/en/latest/advanced-usage.html#ssl-warnings\n",
      "  InsecureRequestWarning)\n"
     ]
    },
    {
     "name": "stdout",
     "output_type": "stream",
     "text": [
      "284\n"
     ]
    },
    {
     "name": "stderr",
     "output_type": "stream",
     "text": [
      "C:\\ProgramData\\Anaconda3\\lib\\site-packages\\urllib3\\connectionpool.py:858: InsecureRequestWarning: Unverified HTTPS request is being made. Adding certificate verification is strongly advised. See: https://urllib3.readthedocs.io/en/latest/advanced-usage.html#ssl-warnings\n",
      "  InsecureRequestWarning)\n"
     ]
    },
    {
     "name": "stdout",
     "output_type": "stream",
     "text": [
      "285\n"
     ]
    },
    {
     "name": "stderr",
     "output_type": "stream",
     "text": [
      "C:\\ProgramData\\Anaconda3\\lib\\site-packages\\urllib3\\connectionpool.py:858: InsecureRequestWarning: Unverified HTTPS request is being made. Adding certificate verification is strongly advised. See: https://urllib3.readthedocs.io/en/latest/advanced-usage.html#ssl-warnings\n",
      "  InsecureRequestWarning)\n"
     ]
    },
    {
     "name": "stdout",
     "output_type": "stream",
     "text": [
      "286\n"
     ]
    },
    {
     "name": "stderr",
     "output_type": "stream",
     "text": [
      "C:\\ProgramData\\Anaconda3\\lib\\site-packages\\urllib3\\connectionpool.py:858: InsecureRequestWarning: Unverified HTTPS request is being made. Adding certificate verification is strongly advised. See: https://urllib3.readthedocs.io/en/latest/advanced-usage.html#ssl-warnings\n",
      "  InsecureRequestWarning)\n"
     ]
    },
    {
     "name": "stdout",
     "output_type": "stream",
     "text": [
      "287\n"
     ]
    },
    {
     "name": "stderr",
     "output_type": "stream",
     "text": [
      "C:\\ProgramData\\Anaconda3\\lib\\site-packages\\urllib3\\connectionpool.py:858: InsecureRequestWarning: Unverified HTTPS request is being made. Adding certificate verification is strongly advised. See: https://urllib3.readthedocs.io/en/latest/advanced-usage.html#ssl-warnings\n",
      "  InsecureRequestWarning)\n"
     ]
    },
    {
     "name": "stdout",
     "output_type": "stream",
     "text": [
      "288\n"
     ]
    },
    {
     "name": "stderr",
     "output_type": "stream",
     "text": [
      "C:\\ProgramData\\Anaconda3\\lib\\site-packages\\urllib3\\connectionpool.py:858: InsecureRequestWarning: Unverified HTTPS request is being made. Adding certificate verification is strongly advised. See: https://urllib3.readthedocs.io/en/latest/advanced-usage.html#ssl-warnings\n",
      "  InsecureRequestWarning)\n"
     ]
    },
    {
     "name": "stdout",
     "output_type": "stream",
     "text": [
      "289\n"
     ]
    },
    {
     "name": "stderr",
     "output_type": "stream",
     "text": [
      "C:\\ProgramData\\Anaconda3\\lib\\site-packages\\urllib3\\connectionpool.py:858: InsecureRequestWarning: Unverified HTTPS request is being made. Adding certificate verification is strongly advised. See: https://urllib3.readthedocs.io/en/latest/advanced-usage.html#ssl-warnings\n",
      "  InsecureRequestWarning)\n"
     ]
    },
    {
     "name": "stdout",
     "output_type": "stream",
     "text": [
      "290\n"
     ]
    },
    {
     "name": "stderr",
     "output_type": "stream",
     "text": [
      "C:\\ProgramData\\Anaconda3\\lib\\site-packages\\urllib3\\connectionpool.py:858: InsecureRequestWarning: Unverified HTTPS request is being made. Adding certificate verification is strongly advised. See: https://urllib3.readthedocs.io/en/latest/advanced-usage.html#ssl-warnings\n",
      "  InsecureRequestWarning)\n"
     ]
    },
    {
     "name": "stdout",
     "output_type": "stream",
     "text": [
      "291\n"
     ]
    },
    {
     "name": "stderr",
     "output_type": "stream",
     "text": [
      "C:\\ProgramData\\Anaconda3\\lib\\site-packages\\urllib3\\connectionpool.py:858: InsecureRequestWarning: Unverified HTTPS request is being made. Adding certificate verification is strongly advised. See: https://urllib3.readthedocs.io/en/latest/advanced-usage.html#ssl-warnings\n",
      "  InsecureRequestWarning)\n"
     ]
    },
    {
     "name": "stdout",
     "output_type": "stream",
     "text": [
      "292\n"
     ]
    },
    {
     "name": "stderr",
     "output_type": "stream",
     "text": [
      "C:\\ProgramData\\Anaconda3\\lib\\site-packages\\urllib3\\connectionpool.py:858: InsecureRequestWarning: Unverified HTTPS request is being made. Adding certificate verification is strongly advised. See: https://urllib3.readthedocs.io/en/latest/advanced-usage.html#ssl-warnings\n",
      "  InsecureRequestWarning)\n"
     ]
    },
    {
     "name": "stdout",
     "output_type": "stream",
     "text": [
      "293\n"
     ]
    },
    {
     "name": "stderr",
     "output_type": "stream",
     "text": [
      "C:\\ProgramData\\Anaconda3\\lib\\site-packages\\urllib3\\connectionpool.py:858: InsecureRequestWarning: Unverified HTTPS request is being made. Adding certificate verification is strongly advised. See: https://urllib3.readthedocs.io/en/latest/advanced-usage.html#ssl-warnings\n",
      "  InsecureRequestWarning)\n"
     ]
    },
    {
     "name": "stdout",
     "output_type": "stream",
     "text": [
      "294\n"
     ]
    },
    {
     "name": "stderr",
     "output_type": "stream",
     "text": [
      "C:\\ProgramData\\Anaconda3\\lib\\site-packages\\urllib3\\connectionpool.py:858: InsecureRequestWarning: Unverified HTTPS request is being made. Adding certificate verification is strongly advised. See: https://urllib3.readthedocs.io/en/latest/advanced-usage.html#ssl-warnings\n",
      "  InsecureRequestWarning)\n"
     ]
    },
    {
     "name": "stdout",
     "output_type": "stream",
     "text": [
      "295\n"
     ]
    },
    {
     "name": "stderr",
     "output_type": "stream",
     "text": [
      "C:\\ProgramData\\Anaconda3\\lib\\site-packages\\urllib3\\connectionpool.py:858: InsecureRequestWarning: Unverified HTTPS request is being made. Adding certificate verification is strongly advised. See: https://urllib3.readthedocs.io/en/latest/advanced-usage.html#ssl-warnings\n",
      "  InsecureRequestWarning)\n"
     ]
    },
    {
     "name": "stdout",
     "output_type": "stream",
     "text": [
      "296\n"
     ]
    },
    {
     "name": "stderr",
     "output_type": "stream",
     "text": [
      "C:\\ProgramData\\Anaconda3\\lib\\site-packages\\urllib3\\connectionpool.py:858: InsecureRequestWarning: Unverified HTTPS request is being made. Adding certificate verification is strongly advised. See: https://urllib3.readthedocs.io/en/latest/advanced-usage.html#ssl-warnings\n",
      "  InsecureRequestWarning)\n"
     ]
    },
    {
     "name": "stdout",
     "output_type": "stream",
     "text": [
      "297\n"
     ]
    },
    {
     "name": "stderr",
     "output_type": "stream",
     "text": [
      "C:\\ProgramData\\Anaconda3\\lib\\site-packages\\urllib3\\connectionpool.py:858: InsecureRequestWarning: Unverified HTTPS request is being made. Adding certificate verification is strongly advised. See: https://urllib3.readthedocs.io/en/latest/advanced-usage.html#ssl-warnings\n",
      "  InsecureRequestWarning)\n"
     ]
    },
    {
     "name": "stdout",
     "output_type": "stream",
     "text": [
      "298\n"
     ]
    },
    {
     "name": "stderr",
     "output_type": "stream",
     "text": [
      "C:\\ProgramData\\Anaconda3\\lib\\site-packages\\urllib3\\connectionpool.py:858: InsecureRequestWarning: Unverified HTTPS request is being made. Adding certificate verification is strongly advised. See: https://urllib3.readthedocs.io/en/latest/advanced-usage.html#ssl-warnings\n",
      "  InsecureRequestWarning)\n"
     ]
    },
    {
     "name": "stdout",
     "output_type": "stream",
     "text": [
      "299\n"
     ]
    },
    {
     "name": "stderr",
     "output_type": "stream",
     "text": [
      "C:\\ProgramData\\Anaconda3\\lib\\site-packages\\urllib3\\connectionpool.py:858: InsecureRequestWarning: Unverified HTTPS request is being made. Adding certificate verification is strongly advised. See: https://urllib3.readthedocs.io/en/latest/advanced-usage.html#ssl-warnings\n",
      "  InsecureRequestWarning)\n"
     ]
    },
    {
     "name": "stdout",
     "output_type": "stream",
     "text": [
      "break\n"
     ]
    },
    {
     "name": "stderr",
     "output_type": "stream",
     "text": [
      "C:\\ProgramData\\Anaconda3\\lib\\site-packages\\urllib3\\connectionpool.py:858: InsecureRequestWarning: Unverified HTTPS request is being made. Adding certificate verification is strongly advised. See: https://urllib3.readthedocs.io/en/latest/advanced-usage.html#ssl-warnings\n",
      "  InsecureRequestWarning)\n"
     ]
    },
    {
     "name": "stdout",
     "output_type": "stream",
     "text": [
      "301\n"
     ]
    },
    {
     "name": "stderr",
     "output_type": "stream",
     "text": [
      "C:\\ProgramData\\Anaconda3\\lib\\site-packages\\urllib3\\connectionpool.py:858: InsecureRequestWarning: Unverified HTTPS request is being made. Adding certificate verification is strongly advised. See: https://urllib3.readthedocs.io/en/latest/advanced-usage.html#ssl-warnings\n",
      "  InsecureRequestWarning)\n"
     ]
    },
    {
     "name": "stdout",
     "output_type": "stream",
     "text": [
      "302\n"
     ]
    },
    {
     "name": "stderr",
     "output_type": "stream",
     "text": [
      "C:\\ProgramData\\Anaconda3\\lib\\site-packages\\urllib3\\connectionpool.py:858: InsecureRequestWarning: Unverified HTTPS request is being made. Adding certificate verification is strongly advised. See: https://urllib3.readthedocs.io/en/latest/advanced-usage.html#ssl-warnings\n",
      "  InsecureRequestWarning)\n"
     ]
    },
    {
     "name": "stdout",
     "output_type": "stream",
     "text": [
      "303\n"
     ]
    },
    {
     "name": "stderr",
     "output_type": "stream",
     "text": [
      "C:\\ProgramData\\Anaconda3\\lib\\site-packages\\urllib3\\connectionpool.py:858: InsecureRequestWarning: Unverified HTTPS request is being made. Adding certificate verification is strongly advised. See: https://urllib3.readthedocs.io/en/latest/advanced-usage.html#ssl-warnings\n",
      "  InsecureRequestWarning)\n"
     ]
    },
    {
     "name": "stdout",
     "output_type": "stream",
     "text": [
      "304\n"
     ]
    },
    {
     "name": "stderr",
     "output_type": "stream",
     "text": [
      "C:\\ProgramData\\Anaconda3\\lib\\site-packages\\urllib3\\connectionpool.py:858: InsecureRequestWarning: Unverified HTTPS request is being made. Adding certificate verification is strongly advised. See: https://urllib3.readthedocs.io/en/latest/advanced-usage.html#ssl-warnings\n",
      "  InsecureRequestWarning)\n"
     ]
    },
    {
     "name": "stdout",
     "output_type": "stream",
     "text": [
      "305\n"
     ]
    },
    {
     "name": "stderr",
     "output_type": "stream",
     "text": [
      "C:\\ProgramData\\Anaconda3\\lib\\site-packages\\urllib3\\connectionpool.py:858: InsecureRequestWarning: Unverified HTTPS request is being made. Adding certificate verification is strongly advised. See: https://urllib3.readthedocs.io/en/latest/advanced-usage.html#ssl-warnings\n",
      "  InsecureRequestWarning)\n"
     ]
    },
    {
     "name": "stdout",
     "output_type": "stream",
     "text": [
      "306\n"
     ]
    },
    {
     "name": "stderr",
     "output_type": "stream",
     "text": [
      "C:\\ProgramData\\Anaconda3\\lib\\site-packages\\urllib3\\connectionpool.py:858: InsecureRequestWarning: Unverified HTTPS request is being made. Adding certificate verification is strongly advised. See: https://urllib3.readthedocs.io/en/latest/advanced-usage.html#ssl-warnings\n",
      "  InsecureRequestWarning)\n"
     ]
    },
    {
     "name": "stdout",
     "output_type": "stream",
     "text": [
      "307\n"
     ]
    },
    {
     "name": "stderr",
     "output_type": "stream",
     "text": [
      "C:\\ProgramData\\Anaconda3\\lib\\site-packages\\urllib3\\connectionpool.py:858: InsecureRequestWarning: Unverified HTTPS request is being made. Adding certificate verification is strongly advised. See: https://urllib3.readthedocs.io/en/latest/advanced-usage.html#ssl-warnings\n",
      "  InsecureRequestWarning)\n"
     ]
    },
    {
     "name": "stdout",
     "output_type": "stream",
     "text": [
      "308\n"
     ]
    },
    {
     "name": "stderr",
     "output_type": "stream",
     "text": [
      "C:\\ProgramData\\Anaconda3\\lib\\site-packages\\urllib3\\connectionpool.py:858: InsecureRequestWarning: Unverified HTTPS request is being made. Adding certificate verification is strongly advised. See: https://urllib3.readthedocs.io/en/latest/advanced-usage.html#ssl-warnings\n",
      "  InsecureRequestWarning)\n"
     ]
    },
    {
     "name": "stdout",
     "output_type": "stream",
     "text": [
      "309\n"
     ]
    },
    {
     "name": "stderr",
     "output_type": "stream",
     "text": [
      "C:\\ProgramData\\Anaconda3\\lib\\site-packages\\urllib3\\connectionpool.py:858: InsecureRequestWarning: Unverified HTTPS request is being made. Adding certificate verification is strongly advised. See: https://urllib3.readthedocs.io/en/latest/advanced-usage.html#ssl-warnings\n",
      "  InsecureRequestWarning)\n"
     ]
    },
    {
     "name": "stdout",
     "output_type": "stream",
     "text": [
      "310\n"
     ]
    },
    {
     "name": "stderr",
     "output_type": "stream",
     "text": [
      "C:\\ProgramData\\Anaconda3\\lib\\site-packages\\urllib3\\connectionpool.py:858: InsecureRequestWarning: Unverified HTTPS request is being made. Adding certificate verification is strongly advised. See: https://urllib3.readthedocs.io/en/latest/advanced-usage.html#ssl-warnings\n",
      "  InsecureRequestWarning)\n"
     ]
    },
    {
     "name": "stdout",
     "output_type": "stream",
     "text": [
      "311\n"
     ]
    },
    {
     "name": "stderr",
     "output_type": "stream",
     "text": [
      "C:\\ProgramData\\Anaconda3\\lib\\site-packages\\urllib3\\connectionpool.py:858: InsecureRequestWarning: Unverified HTTPS request is being made. Adding certificate verification is strongly advised. See: https://urllib3.readthedocs.io/en/latest/advanced-usage.html#ssl-warnings\n",
      "  InsecureRequestWarning)\n"
     ]
    },
    {
     "name": "stdout",
     "output_type": "stream",
     "text": [
      "312\n"
     ]
    },
    {
     "name": "stderr",
     "output_type": "stream",
     "text": [
      "C:\\ProgramData\\Anaconda3\\lib\\site-packages\\urllib3\\connectionpool.py:858: InsecureRequestWarning: Unverified HTTPS request is being made. Adding certificate verification is strongly advised. See: https://urllib3.readthedocs.io/en/latest/advanced-usage.html#ssl-warnings\n",
      "  InsecureRequestWarning)\n"
     ]
    },
    {
     "name": "stdout",
     "output_type": "stream",
     "text": [
      "313\n"
     ]
    },
    {
     "name": "stderr",
     "output_type": "stream",
     "text": [
      "C:\\ProgramData\\Anaconda3\\lib\\site-packages\\urllib3\\connectionpool.py:858: InsecureRequestWarning: Unverified HTTPS request is being made. Adding certificate verification is strongly advised. See: https://urllib3.readthedocs.io/en/latest/advanced-usage.html#ssl-warnings\n",
      "  InsecureRequestWarning)\n"
     ]
    },
    {
     "name": "stdout",
     "output_type": "stream",
     "text": [
      "314\n"
     ]
    },
    {
     "name": "stderr",
     "output_type": "stream",
     "text": [
      "C:\\ProgramData\\Anaconda3\\lib\\site-packages\\urllib3\\connectionpool.py:858: InsecureRequestWarning: Unverified HTTPS request is being made. Adding certificate verification is strongly advised. See: https://urllib3.readthedocs.io/en/latest/advanced-usage.html#ssl-warnings\n",
      "  InsecureRequestWarning)\n"
     ]
    },
    {
     "name": "stdout",
     "output_type": "stream",
     "text": [
      "315\n"
     ]
    },
    {
     "name": "stderr",
     "output_type": "stream",
     "text": [
      "C:\\ProgramData\\Anaconda3\\lib\\site-packages\\urllib3\\connectionpool.py:858: InsecureRequestWarning: Unverified HTTPS request is being made. Adding certificate verification is strongly advised. See: https://urllib3.readthedocs.io/en/latest/advanced-usage.html#ssl-warnings\n",
      "  InsecureRequestWarning)\n"
     ]
    },
    {
     "name": "stdout",
     "output_type": "stream",
     "text": [
      "316\n"
     ]
    },
    {
     "name": "stderr",
     "output_type": "stream",
     "text": [
      "C:\\ProgramData\\Anaconda3\\lib\\site-packages\\urllib3\\connectionpool.py:858: InsecureRequestWarning: Unverified HTTPS request is being made. Adding certificate verification is strongly advised. See: https://urllib3.readthedocs.io/en/latest/advanced-usage.html#ssl-warnings\n",
      "  InsecureRequestWarning)\n"
     ]
    },
    {
     "name": "stdout",
     "output_type": "stream",
     "text": [
      "317\n"
     ]
    },
    {
     "name": "stderr",
     "output_type": "stream",
     "text": [
      "C:\\ProgramData\\Anaconda3\\lib\\site-packages\\urllib3\\connectionpool.py:858: InsecureRequestWarning: Unverified HTTPS request is being made. Adding certificate verification is strongly advised. See: https://urllib3.readthedocs.io/en/latest/advanced-usage.html#ssl-warnings\n",
      "  InsecureRequestWarning)\n"
     ]
    },
    {
     "name": "stdout",
     "output_type": "stream",
     "text": [
      "318\n"
     ]
    },
    {
     "name": "stderr",
     "output_type": "stream",
     "text": [
      "C:\\ProgramData\\Anaconda3\\lib\\site-packages\\urllib3\\connectionpool.py:858: InsecureRequestWarning: Unverified HTTPS request is being made. Adding certificate verification is strongly advised. See: https://urllib3.readthedocs.io/en/latest/advanced-usage.html#ssl-warnings\n",
      "  InsecureRequestWarning)\n"
     ]
    },
    {
     "name": "stdout",
     "output_type": "stream",
     "text": [
      "319\n"
     ]
    },
    {
     "name": "stderr",
     "output_type": "stream",
     "text": [
      "C:\\ProgramData\\Anaconda3\\lib\\site-packages\\urllib3\\connectionpool.py:858: InsecureRequestWarning: Unverified HTTPS request is being made. Adding certificate verification is strongly advised. See: https://urllib3.readthedocs.io/en/latest/advanced-usage.html#ssl-warnings\n",
      "  InsecureRequestWarning)\n"
     ]
    },
    {
     "name": "stdout",
     "output_type": "stream",
     "text": [
      "320\n"
     ]
    },
    {
     "name": "stderr",
     "output_type": "stream",
     "text": [
      "C:\\ProgramData\\Anaconda3\\lib\\site-packages\\urllib3\\connectionpool.py:858: InsecureRequestWarning: Unverified HTTPS request is being made. Adding certificate verification is strongly advised. See: https://urllib3.readthedocs.io/en/latest/advanced-usage.html#ssl-warnings\n",
      "  InsecureRequestWarning)\n"
     ]
    },
    {
     "name": "stdout",
     "output_type": "stream",
     "text": [
      "321\n"
     ]
    },
    {
     "name": "stderr",
     "output_type": "stream",
     "text": [
      "C:\\ProgramData\\Anaconda3\\lib\\site-packages\\urllib3\\connectionpool.py:858: InsecureRequestWarning: Unverified HTTPS request is being made. Adding certificate verification is strongly advised. See: https://urllib3.readthedocs.io/en/latest/advanced-usage.html#ssl-warnings\n",
      "  InsecureRequestWarning)\n"
     ]
    },
    {
     "name": "stdout",
     "output_type": "stream",
     "text": [
      "322\n"
     ]
    },
    {
     "name": "stderr",
     "output_type": "stream",
     "text": [
      "C:\\ProgramData\\Anaconda3\\lib\\site-packages\\urllib3\\connectionpool.py:858: InsecureRequestWarning: Unverified HTTPS request is being made. Adding certificate verification is strongly advised. See: https://urllib3.readthedocs.io/en/latest/advanced-usage.html#ssl-warnings\n",
      "  InsecureRequestWarning)\n"
     ]
    },
    {
     "name": "stdout",
     "output_type": "stream",
     "text": [
      "323\n"
     ]
    },
    {
     "name": "stderr",
     "output_type": "stream",
     "text": [
      "C:\\ProgramData\\Anaconda3\\lib\\site-packages\\urllib3\\connectionpool.py:858: InsecureRequestWarning: Unverified HTTPS request is being made. Adding certificate verification is strongly advised. See: https://urllib3.readthedocs.io/en/latest/advanced-usage.html#ssl-warnings\n",
      "  InsecureRequestWarning)\n"
     ]
    },
    {
     "name": "stdout",
     "output_type": "stream",
     "text": [
      "324\n"
     ]
    },
    {
     "name": "stderr",
     "output_type": "stream",
     "text": [
      "C:\\ProgramData\\Anaconda3\\lib\\site-packages\\urllib3\\connectionpool.py:858: InsecureRequestWarning: Unverified HTTPS request is being made. Adding certificate verification is strongly advised. See: https://urllib3.readthedocs.io/en/latest/advanced-usage.html#ssl-warnings\n",
      "  InsecureRequestWarning)\n"
     ]
    },
    {
     "name": "stdout",
     "output_type": "stream",
     "text": [
      "325\n"
     ]
    },
    {
     "name": "stderr",
     "output_type": "stream",
     "text": [
      "C:\\ProgramData\\Anaconda3\\lib\\site-packages\\urllib3\\connectionpool.py:858: InsecureRequestWarning: Unverified HTTPS request is being made. Adding certificate verification is strongly advised. See: https://urllib3.readthedocs.io/en/latest/advanced-usage.html#ssl-warnings\n",
      "  InsecureRequestWarning)\n"
     ]
    },
    {
     "name": "stdout",
     "output_type": "stream",
     "text": [
      "326\n"
     ]
    },
    {
     "name": "stderr",
     "output_type": "stream",
     "text": [
      "C:\\ProgramData\\Anaconda3\\lib\\site-packages\\urllib3\\connectionpool.py:858: InsecureRequestWarning: Unverified HTTPS request is being made. Adding certificate verification is strongly advised. See: https://urllib3.readthedocs.io/en/latest/advanced-usage.html#ssl-warnings\n",
      "  InsecureRequestWarning)\n"
     ]
    },
    {
     "name": "stdout",
     "output_type": "stream",
     "text": [
      "327\n"
     ]
    },
    {
     "name": "stderr",
     "output_type": "stream",
     "text": [
      "C:\\ProgramData\\Anaconda3\\lib\\site-packages\\urllib3\\connectionpool.py:858: InsecureRequestWarning: Unverified HTTPS request is being made. Adding certificate verification is strongly advised. See: https://urllib3.readthedocs.io/en/latest/advanced-usage.html#ssl-warnings\n",
      "  InsecureRequestWarning)\n"
     ]
    },
    {
     "name": "stdout",
     "output_type": "stream",
     "text": [
      "328\n"
     ]
    },
    {
     "name": "stderr",
     "output_type": "stream",
     "text": [
      "C:\\ProgramData\\Anaconda3\\lib\\site-packages\\urllib3\\connectionpool.py:858: InsecureRequestWarning: Unverified HTTPS request is being made. Adding certificate verification is strongly advised. See: https://urllib3.readthedocs.io/en/latest/advanced-usage.html#ssl-warnings\n",
      "  InsecureRequestWarning)\n"
     ]
    },
    {
     "name": "stdout",
     "output_type": "stream",
     "text": [
      "329\n"
     ]
    },
    {
     "name": "stderr",
     "output_type": "stream",
     "text": [
      "C:\\ProgramData\\Anaconda3\\lib\\site-packages\\urllib3\\connectionpool.py:858: InsecureRequestWarning: Unverified HTTPS request is being made. Adding certificate verification is strongly advised. See: https://urllib3.readthedocs.io/en/latest/advanced-usage.html#ssl-warnings\n",
      "  InsecureRequestWarning)\n"
     ]
    },
    {
     "name": "stdout",
     "output_type": "stream",
     "text": [
      "330\n"
     ]
    },
    {
     "name": "stderr",
     "output_type": "stream",
     "text": [
      "C:\\ProgramData\\Anaconda3\\lib\\site-packages\\urllib3\\connectionpool.py:858: InsecureRequestWarning: Unverified HTTPS request is being made. Adding certificate verification is strongly advised. See: https://urllib3.readthedocs.io/en/latest/advanced-usage.html#ssl-warnings\n",
      "  InsecureRequestWarning)\n"
     ]
    },
    {
     "name": "stdout",
     "output_type": "stream",
     "text": [
      "331\n"
     ]
    },
    {
     "name": "stderr",
     "output_type": "stream",
     "text": [
      "C:\\ProgramData\\Anaconda3\\lib\\site-packages\\urllib3\\connectionpool.py:858: InsecureRequestWarning: Unverified HTTPS request is being made. Adding certificate verification is strongly advised. See: https://urllib3.readthedocs.io/en/latest/advanced-usage.html#ssl-warnings\n",
      "  InsecureRequestWarning)\n"
     ]
    },
    {
     "name": "stdout",
     "output_type": "stream",
     "text": [
      "332\n"
     ]
    },
    {
     "name": "stderr",
     "output_type": "stream",
     "text": [
      "C:\\ProgramData\\Anaconda3\\lib\\site-packages\\urllib3\\connectionpool.py:858: InsecureRequestWarning: Unverified HTTPS request is being made. Adding certificate verification is strongly advised. See: https://urllib3.readthedocs.io/en/latest/advanced-usage.html#ssl-warnings\n",
      "  InsecureRequestWarning)\n"
     ]
    },
    {
     "name": "stdout",
     "output_type": "stream",
     "text": [
      "333\n"
     ]
    },
    {
     "name": "stderr",
     "output_type": "stream",
     "text": [
      "C:\\ProgramData\\Anaconda3\\lib\\site-packages\\urllib3\\connectionpool.py:858: InsecureRequestWarning: Unverified HTTPS request is being made. Adding certificate verification is strongly advised. See: https://urllib3.readthedocs.io/en/latest/advanced-usage.html#ssl-warnings\n",
      "  InsecureRequestWarning)\n"
     ]
    },
    {
     "name": "stdout",
     "output_type": "stream",
     "text": [
      "334\n"
     ]
    },
    {
     "name": "stderr",
     "output_type": "stream",
     "text": [
      "C:\\ProgramData\\Anaconda3\\lib\\site-packages\\urllib3\\connectionpool.py:858: InsecureRequestWarning: Unverified HTTPS request is being made. Adding certificate verification is strongly advised. See: https://urllib3.readthedocs.io/en/latest/advanced-usage.html#ssl-warnings\n",
      "  InsecureRequestWarning)\n"
     ]
    },
    {
     "name": "stdout",
     "output_type": "stream",
     "text": [
      "335\n"
     ]
    },
    {
     "name": "stderr",
     "output_type": "stream",
     "text": [
      "C:\\ProgramData\\Anaconda3\\lib\\site-packages\\urllib3\\connectionpool.py:858: InsecureRequestWarning: Unverified HTTPS request is being made. Adding certificate verification is strongly advised. See: https://urllib3.readthedocs.io/en/latest/advanced-usage.html#ssl-warnings\n",
      "  InsecureRequestWarning)\n"
     ]
    },
    {
     "name": "stdout",
     "output_type": "stream",
     "text": [
      "336\n"
     ]
    },
    {
     "name": "stderr",
     "output_type": "stream",
     "text": [
      "C:\\ProgramData\\Anaconda3\\lib\\site-packages\\urllib3\\connectionpool.py:858: InsecureRequestWarning: Unverified HTTPS request is being made. Adding certificate verification is strongly advised. See: https://urllib3.readthedocs.io/en/latest/advanced-usage.html#ssl-warnings\n",
      "  InsecureRequestWarning)\n"
     ]
    },
    {
     "name": "stdout",
     "output_type": "stream",
     "text": [
      "337\n"
     ]
    },
    {
     "name": "stderr",
     "output_type": "stream",
     "text": [
      "C:\\ProgramData\\Anaconda3\\lib\\site-packages\\urllib3\\connectionpool.py:858: InsecureRequestWarning: Unverified HTTPS request is being made. Adding certificate verification is strongly advised. See: https://urllib3.readthedocs.io/en/latest/advanced-usage.html#ssl-warnings\n",
      "  InsecureRequestWarning)\n"
     ]
    },
    {
     "name": "stdout",
     "output_type": "stream",
     "text": [
      "338\n"
     ]
    },
    {
     "name": "stderr",
     "output_type": "stream",
     "text": [
      "C:\\ProgramData\\Anaconda3\\lib\\site-packages\\urllib3\\connectionpool.py:858: InsecureRequestWarning: Unverified HTTPS request is being made. Adding certificate verification is strongly advised. See: https://urllib3.readthedocs.io/en/latest/advanced-usage.html#ssl-warnings\n",
      "  InsecureRequestWarning)\n"
     ]
    },
    {
     "name": "stdout",
     "output_type": "stream",
     "text": [
      "339\n"
     ]
    },
    {
     "name": "stderr",
     "output_type": "stream",
     "text": [
      "C:\\ProgramData\\Anaconda3\\lib\\site-packages\\urllib3\\connectionpool.py:858: InsecureRequestWarning: Unverified HTTPS request is being made. Adding certificate verification is strongly advised. See: https://urllib3.readthedocs.io/en/latest/advanced-usage.html#ssl-warnings\n",
      "  InsecureRequestWarning)\n"
     ]
    },
    {
     "name": "stdout",
     "output_type": "stream",
     "text": [
      "340\n"
     ]
    },
    {
     "name": "stderr",
     "output_type": "stream",
     "text": [
      "C:\\ProgramData\\Anaconda3\\lib\\site-packages\\urllib3\\connectionpool.py:858: InsecureRequestWarning: Unverified HTTPS request is being made. Adding certificate verification is strongly advised. See: https://urllib3.readthedocs.io/en/latest/advanced-usage.html#ssl-warnings\n",
      "  InsecureRequestWarning)\n"
     ]
    },
    {
     "name": "stdout",
     "output_type": "stream",
     "text": [
      "341\n"
     ]
    },
    {
     "name": "stderr",
     "output_type": "stream",
     "text": [
      "C:\\ProgramData\\Anaconda3\\lib\\site-packages\\urllib3\\connectionpool.py:858: InsecureRequestWarning: Unverified HTTPS request is being made. Adding certificate verification is strongly advised. See: https://urllib3.readthedocs.io/en/latest/advanced-usage.html#ssl-warnings\n",
      "  InsecureRequestWarning)\n"
     ]
    },
    {
     "name": "stdout",
     "output_type": "stream",
     "text": [
      "342\n"
     ]
    },
    {
     "name": "stderr",
     "output_type": "stream",
     "text": [
      "C:\\ProgramData\\Anaconda3\\lib\\site-packages\\urllib3\\connectionpool.py:858: InsecureRequestWarning: Unverified HTTPS request is being made. Adding certificate verification is strongly advised. See: https://urllib3.readthedocs.io/en/latest/advanced-usage.html#ssl-warnings\n",
      "  InsecureRequestWarning)\n"
     ]
    },
    {
     "name": "stdout",
     "output_type": "stream",
     "text": [
      "343\n"
     ]
    },
    {
     "name": "stderr",
     "output_type": "stream",
     "text": [
      "C:\\ProgramData\\Anaconda3\\lib\\site-packages\\urllib3\\connectionpool.py:858: InsecureRequestWarning: Unverified HTTPS request is being made. Adding certificate verification is strongly advised. See: https://urllib3.readthedocs.io/en/latest/advanced-usage.html#ssl-warnings\n",
      "  InsecureRequestWarning)\n"
     ]
    },
    {
     "name": "stdout",
     "output_type": "stream",
     "text": [
      "344\n"
     ]
    },
    {
     "name": "stderr",
     "output_type": "stream",
     "text": [
      "C:\\ProgramData\\Anaconda3\\lib\\site-packages\\urllib3\\connectionpool.py:858: InsecureRequestWarning: Unverified HTTPS request is being made. Adding certificate verification is strongly advised. See: https://urllib3.readthedocs.io/en/latest/advanced-usage.html#ssl-warnings\n",
      "  InsecureRequestWarning)\n"
     ]
    },
    {
     "name": "stdout",
     "output_type": "stream",
     "text": [
      "345\n"
     ]
    },
    {
     "name": "stderr",
     "output_type": "stream",
     "text": [
      "C:\\ProgramData\\Anaconda3\\lib\\site-packages\\urllib3\\connectionpool.py:858: InsecureRequestWarning: Unverified HTTPS request is being made. Adding certificate verification is strongly advised. See: https://urllib3.readthedocs.io/en/latest/advanced-usage.html#ssl-warnings\n",
      "  InsecureRequestWarning)\n",
      "C:\\ProgramData\\Anaconda3\\lib\\site-packages\\urllib3\\connectionpool.py:858: InsecureRequestWarning: Unverified HTTPS request is being made. Adding certificate verification is strongly advised. See: https://urllib3.readthedocs.io/en/latest/advanced-usage.html#ssl-warnings\n",
      "  InsecureRequestWarning)\n"
     ]
    },
    {
     "name": "stdout",
     "output_type": "stream",
     "text": [
      "346\n"
     ]
    },
    {
     "name": "stderr",
     "output_type": "stream",
     "text": [
      "C:\\ProgramData\\Anaconda3\\lib\\site-packages\\urllib3\\connectionpool.py:858: InsecureRequestWarning: Unverified HTTPS request is being made. Adding certificate verification is strongly advised. See: https://urllib3.readthedocs.io/en/latest/advanced-usage.html#ssl-warnings\n",
      "  InsecureRequestWarning)\n"
     ]
    },
    {
     "name": "stdout",
     "output_type": "stream",
     "text": [
      "347\n"
     ]
    },
    {
     "name": "stderr",
     "output_type": "stream",
     "text": [
      "C:\\ProgramData\\Anaconda3\\lib\\site-packages\\urllib3\\connectionpool.py:858: InsecureRequestWarning: Unverified HTTPS request is being made. Adding certificate verification is strongly advised. See: https://urllib3.readthedocs.io/en/latest/advanced-usage.html#ssl-warnings\n",
      "  InsecureRequestWarning)\n"
     ]
    },
    {
     "name": "stdout",
     "output_type": "stream",
     "text": [
      "348\n"
     ]
    }
   ],
   "source": [
    "from bs4 import BeautifulSoup\n",
    "import requests\n",
    "import pandas as pd\n",
    "import os\n",
    "import time\n",
    "\n",
    "mainpath = \"D:/Archivos Jordan Rodriguez/Retos/11.SrMD/04.Scraping/\"\n",
    "filename = \"r_larepublico\"\n",
    "fullpath = os.path.join(mainpath,filename)\n",
    "\n",
    "titulo = []\n",
    "resumen = []\n",
    "fecha = []\n",
    "noticia = []\n",
    "proxies = {\"https\": \"https://pxsis.sunat.peru:8080\"}\n",
    "for i in range(len(data)):\n",
    "    url = data[\"url\"][i]\n",
    "    y = None\n",
    "    while not y:\n",
    "        try:\n",
    "            req = requests.get(url, proxies = proxies, verify = False)\n",
    "            y = 5\n",
    "        except:\n",
    "            time.sleep(5)\n",
    "            print('i')\n",
    "    status_code = req.status_code\n",
    "    if status_code == 200:\n",
    "        print(i)\n",
    "        html = BeautifulSoup(req.text, \"html.parser\")\n",
    "        header=html.find('div',class_=\"post-internal_head\")\n",
    "        try:\n",
    "            titulo.append(header.find('h1',class_=\"post-internal_title\").getText())\n",
    "            resumen.append(header.find('div',class_=\"post-internal_text\").getText())\n",
    "        except:\n",
    "            titulo.append('No encontrado')\n",
    "            resumen.append('No encontrado')\n",
    "        #cabecera = header.find('div',class_=\"post-internal_head\")\n",
    "        try:\n",
    "            fecha.append(header.find('p',class_=\"post-internal_date\").getText())\n",
    "        except:\n",
    "            fecha.append('No encontrado')\n",
    "\n",
    "        #cfecha=html.find('div',class_=\"post-internal_list-social atm_List-social\")\n",
    "        #fecha = cfecha.find('p')\n",
    "        #cuerpo del articulo\n",
    "        try:\n",
    "            contenido=html.find('div',class_=\"col-16-md col-16-sm PostInternalBlockLeft__right\")\n",
    "            texto = contenido.find_all('p')\n",
    "        except:\n",
    "            text = 'No encontrado'\n",
    "        index = []\n",
    "        \n",
    "        for i,entrada in enumerate(texto):\n",
    "            index.append(entrada.getText())\n",
    "        noticia.append(\" \".join(index))\n",
    "    else:\n",
    "        print(\"break\")\n",
    "        time.sleep(10)\n",
    "        pass\n",
    "                \n",
    "MD_2 = pd.DataFrame({\n",
    "    \"Título\": titulo,\n",
    "    \"Resumen\": resumen,\n",
    "    \"Fecha\": fecha,\n",
    "    \"Contenido\": noticia\n",
    "    })\n",
    "\n",
    "MD_2.to_excel(fullpath + \"365a_.xlsx\")\n",
    "print('Culminó')"
   ]
  },
  {
   "cell_type": "markdown",
   "metadata": {},
   "source": [
    "# 01. Text Mining"
   ]
  },
  {
   "cell_type": "code",
   "execution_count": 92,
   "metadata": {},
   "outputs": [],
   "source": [
    "import pandas as pd\n",
    "import os\n",
    "\n",
    "mainpath = \"D:/Archivos Jordan Rodriguez/Retos/11.SrMD/04.Scraping/\"\n",
    "filename = \"r_larepublico365a_.xlsx\"\n",
    "fullpath = os.path.join(mainpath,filename)"
   ]
  },
  {
   "cell_type": "code",
   "execution_count": 93,
   "metadata": {},
   "outputs": [
    {
     "data": {
      "text/html": [
       "<div>\n",
       "<style scoped>\n",
       "    .dataframe tbody tr th:only-of-type {\n",
       "        vertical-align: middle;\n",
       "    }\n",
       "\n",
       "    .dataframe tbody tr th {\n",
       "        vertical-align: top;\n",
       "    }\n",
       "\n",
       "    .dataframe thead th {\n",
       "        text-align: right;\n",
       "    }\n",
       "</style>\n",
       "<table border=\"1\" class=\"dataframe\">\n",
       "  <thead>\n",
       "    <tr style=\"text-align: right;\">\n",
       "      <th></th>\n",
       "      <th>Título</th>\n",
       "      <th>Resumen</th>\n",
       "      <th>Fecha</th>\n",
       "      <th>Contenido</th>\n",
       "    </tr>\n",
       "  </thead>\n",
       "  <tbody>\n",
       "    <tr>\n",
       "      <th>0</th>\n",
       "      <td>\\n\\tFacebook: Mauricio Diez Canseco presenta a...</td>\n",
       "      <td>\\n Mauricio Diez Canseco hizo una sesión de fo...</td>\n",
       "      <td>\\n\\t\\t6 Jun 2018 | 19:49 h\\t\\t\\n\\t</td>\n",
       "      <td>A pocos días de celebrar el Día del Padre, el ...</td>\n",
       "    </tr>\n",
       "    <tr>\n",
       "      <th>1</th>\n",
       "      <td>\\n\\tHija mayor de Mauricio Diez Canseco sube f...</td>\n",
       "      <td>\\n Kathie Huidobro fue el primer matrimonio de...</td>\n",
       "      <td>\\n\\t\\t23 May 2018 | 13:11 h\\t\\t\\n\\t</td>\n",
       "      <td>Hija mayor de Mauricio Diez Canseco subió un p...</td>\n",
       "    </tr>\n",
       "    <tr>\n",
       "      <th>2</th>\n",
       "      <td>\\n\\tHija de Mauricio Diez Canseco remece Insta...</td>\n",
       "      <td>\\n Camila, la engreída de Mauricio Diez Cansec...</td>\n",
       "      <td>\\n\\t\\t6 Ene 2018 | 14:22 h\\t\\t\\n\\t</td>\n",
       "      <td>No pertenece a la farándula local, pero el hec...</td>\n",
       "    </tr>\n",
       "    <tr>\n",
       "      <th>3</th>\n",
       "      <td>\\n\\tInstagram: Hija de Mauricio Diez Canseco p...</td>\n",
       "      <td>\\n \"La que puede, puede y la que no, que aplau...</td>\n",
       "      <td>\\n\\t\\t7 May 2018 | 9:56 h\\t\\t\\n\\t</td>\n",
       "      <td>La hija de Mauricio Diez Canseco está causando...</td>\n",
       "    </tr>\n",
       "    <tr>\n",
       "      <th>4</th>\n",
       "      <td>Instagram: hija de Mauricio Diez Canseco caut...</td>\n",
       "      <td>\\n</td>\n",
       "      <td>No encontrado</td>\n",
       "      <td>La hija de Mauricio Diez Canseco está causando...</td>\n",
       "    </tr>\n",
       "  </tbody>\n",
       "</table>\n",
       "</div>"
      ],
      "text/plain": [
       "                                              Título  \\\n",
       "0  \\n\\tFacebook: Mauricio Diez Canseco presenta a...   \n",
       "1  \\n\\tHija mayor de Mauricio Diez Canseco sube f...   \n",
       "2  \\n\\tHija de Mauricio Diez Canseco remece Insta...   \n",
       "3  \\n\\tInstagram: Hija de Mauricio Diez Canseco p...   \n",
       "4   Instagram: hija de Mauricio Diez Canseco caut...   \n",
       "\n",
       "                                             Resumen  \\\n",
       "0  \\n Mauricio Diez Canseco hizo una sesión de fo...   \n",
       "1  \\n Kathie Huidobro fue el primer matrimonio de...   \n",
       "2  \\n Camila, la engreída de Mauricio Diez Cansec...   \n",
       "3  \\n \"La que puede, puede y la que no, que aplau...   \n",
       "4                                                 \\n   \n",
       "\n",
       "                                 Fecha  \\\n",
       "0   \\n\\t\\t6 Jun 2018 | 19:49 h\\t\\t\\n\\t   \n",
       "1  \\n\\t\\t23 May 2018 | 13:11 h\\t\\t\\n\\t   \n",
       "2   \\n\\t\\t6 Ene 2018 | 14:22 h\\t\\t\\n\\t   \n",
       "3    \\n\\t\\t7 May 2018 | 9:56 h\\t\\t\\n\\t   \n",
       "4                        No encontrado   \n",
       "\n",
       "                                           Contenido  \n",
       "0  A pocos días de celebrar el Día del Padre, el ...  \n",
       "1  Hija mayor de Mauricio Diez Canseco subió un p...  \n",
       "2  No pertenece a la farándula local, pero el hec...  \n",
       "3  La hija de Mauricio Diez Canseco está causando...  \n",
       "4  La hija de Mauricio Diez Canseco está causando...  "
      ]
     },
     "execution_count": 93,
     "metadata": {},
     "output_type": "execute_result"
    }
   ],
   "source": [
    "MD_2= pd.read_excel(fullpath,dtype='str')\n",
    "MD_2.head()"
   ]
  },
  {
   "cell_type": "code",
   "execution_count": 36,
   "metadata": {},
   "outputs": [],
   "source": [
    "#Definir una función para obtener el promedio de palabras.\n",
    "def avg_word(sentece):\n",
    "    words = sentece.split()\n",
    "    if len(words)!= 0:\n",
    "        return (sum(len(word) for word in words)/len(words))\n",
    "    else:\n",
    "        1"
   ]
  },
  {
   "cell_type": "code",
   "execution_count": 37,
   "metadata": {},
   "outputs": [
    {
     "data": {
      "text/plain": [
       "pandas.core.series.Series"
      ]
     },
     "execution_count": 37,
     "metadata": {},
     "output_type": "execute_result"
    }
   ],
   "source": [
    "type(MD_2['Contenido'])"
   ]
  },
  {
   "cell_type": "code",
   "execution_count": 39,
   "metadata": {},
   "outputs": [],
   "source": [
    "MD_2['word_count'] = MD_2['Contenido'].apply(lambda x: len(str(x).split(\" \"))) #Número de palabras\n",
    "MD_2['char_count'] = MD_2['Contenido'].str.len() #número de caracteres\n",
    "#MD_2['avg_word'] = MD_2['Contenido'].apply(lambda x: avg_word(x)) #promedio de palabras\n"
   ]
  },
  {
   "cell_type": "markdown",
   "metadata": {},
   "source": [
    "### 01.01.StopWords"
   ]
  },
  {
   "cell_type": "code",
   "execution_count": 40,
   "metadata": {},
   "outputs": [],
   "source": [
    "from nltk.corpus import stopwords"
   ]
  },
  {
   "cell_type": "code",
   "execution_count": 43,
   "metadata": {},
   "outputs": [],
   "source": [
    "import nltk\n",
    "#nltk.download()"
   ]
  },
  {
   "cell_type": "code",
   "execution_count": 45,
   "metadata": {
    "collapsed": true
   },
   "outputs": [
    {
     "ename": "AttributeError",
     "evalue": "'float' object has no attribute 'split'",
     "output_type": "error",
     "traceback": [
      "\u001b[1;31m---------------------------------------------------------------------------\u001b[0m",
      "\u001b[1;31mAttributeError\u001b[0m                            Traceback (most recent call last)",
      "\u001b[1;32m<ipython-input-45-157df0e427cc>\u001b[0m in \u001b[0;36m<module>\u001b[1;34m()\u001b[0m\n\u001b[0;32m      1\u001b[0m \u001b[0mstop\u001b[0m \u001b[1;33m=\u001b[0m \u001b[0mstopwords\u001b[0m\u001b[1;33m.\u001b[0m\u001b[0mwords\u001b[0m\u001b[1;33m(\u001b[0m\u001b[1;34m'spanish'\u001b[0m\u001b[1;33m)\u001b[0m\u001b[1;33m\u001b[0m\u001b[0m\n\u001b[1;32m----> 2\u001b[1;33m \u001b[0mMD_2\u001b[0m\u001b[1;33m[\u001b[0m\u001b[1;34m'stopword'\u001b[0m\u001b[1;33m]\u001b[0m\u001b[1;33m=\u001b[0m\u001b[0mMD_2\u001b[0m\u001b[1;33m[\u001b[0m\u001b[1;34m'Contenido'\u001b[0m\u001b[1;33m]\u001b[0m\u001b[1;33m.\u001b[0m\u001b[0mapply\u001b[0m\u001b[1;33m(\u001b[0m\u001b[1;32mlambda\u001b[0m \u001b[0mx\u001b[0m\u001b[1;33m:\u001b[0m \u001b[0mlen\u001b[0m\u001b[1;33m(\u001b[0m\u001b[1;33m[\u001b[0m\u001b[0mx\u001b[0m \u001b[1;32mfor\u001b[0m \u001b[0mx\u001b[0m \u001b[1;32min\u001b[0m \u001b[0mx\u001b[0m\u001b[1;33m.\u001b[0m\u001b[0msplit\u001b[0m\u001b[1;33m(\u001b[0m\u001b[1;33m)\u001b[0m \u001b[1;32mif\u001b[0m \u001b[0mx\u001b[0m \u001b[1;32min\u001b[0m \u001b[0mstop\u001b[0m\u001b[1;33m]\u001b[0m\u001b[1;33m)\u001b[0m\u001b[1;33m)\u001b[0m\u001b[1;33m\u001b[0m\u001b[0m\n\u001b[0m",
      "\u001b[1;32mC:\\ProgramData\\Anaconda3\\lib\\site-packages\\pandas\\core\\series.py\u001b[0m in \u001b[0;36mapply\u001b[1;34m(self, func, convert_dtype, args, **kwds)\u001b[0m\n\u001b[0;32m   3190\u001b[0m             \u001b[1;32melse\u001b[0m\u001b[1;33m:\u001b[0m\u001b[1;33m\u001b[0m\u001b[0m\n\u001b[0;32m   3191\u001b[0m                 \u001b[0mvalues\u001b[0m \u001b[1;33m=\u001b[0m \u001b[0mself\u001b[0m\u001b[1;33m.\u001b[0m\u001b[0mastype\u001b[0m\u001b[1;33m(\u001b[0m\u001b[0mobject\u001b[0m\u001b[1;33m)\u001b[0m\u001b[1;33m.\u001b[0m\u001b[0mvalues\u001b[0m\u001b[1;33m\u001b[0m\u001b[0m\n\u001b[1;32m-> 3192\u001b[1;33m                 \u001b[0mmapped\u001b[0m \u001b[1;33m=\u001b[0m \u001b[0mlib\u001b[0m\u001b[1;33m.\u001b[0m\u001b[0mmap_infer\u001b[0m\u001b[1;33m(\u001b[0m\u001b[0mvalues\u001b[0m\u001b[1;33m,\u001b[0m \u001b[0mf\u001b[0m\u001b[1;33m,\u001b[0m \u001b[0mconvert\u001b[0m\u001b[1;33m=\u001b[0m\u001b[0mconvert_dtype\u001b[0m\u001b[1;33m)\u001b[0m\u001b[1;33m\u001b[0m\u001b[0m\n\u001b[0m\u001b[0;32m   3193\u001b[0m \u001b[1;33m\u001b[0m\u001b[0m\n\u001b[0;32m   3194\u001b[0m         \u001b[1;32mif\u001b[0m \u001b[0mlen\u001b[0m\u001b[1;33m(\u001b[0m\u001b[0mmapped\u001b[0m\u001b[1;33m)\u001b[0m \u001b[1;32mand\u001b[0m \u001b[0misinstance\u001b[0m\u001b[1;33m(\u001b[0m\u001b[0mmapped\u001b[0m\u001b[1;33m[\u001b[0m\u001b[1;36m0\u001b[0m\u001b[1;33m]\u001b[0m\u001b[1;33m,\u001b[0m \u001b[0mSeries\u001b[0m\u001b[1;33m)\u001b[0m\u001b[1;33m:\u001b[0m\u001b[1;33m\u001b[0m\u001b[0m\n",
      "\u001b[1;32mpandas/_libs/src\\inference.pyx\u001b[0m in \u001b[0;36mpandas._libs.lib.map_infer\u001b[1;34m()\u001b[0m\n",
      "\u001b[1;32m<ipython-input-45-157df0e427cc>\u001b[0m in \u001b[0;36m<lambda>\u001b[1;34m(x)\u001b[0m\n\u001b[0;32m      1\u001b[0m \u001b[0mstop\u001b[0m \u001b[1;33m=\u001b[0m \u001b[0mstopwords\u001b[0m\u001b[1;33m.\u001b[0m\u001b[0mwords\u001b[0m\u001b[1;33m(\u001b[0m\u001b[1;34m'spanish'\u001b[0m\u001b[1;33m)\u001b[0m\u001b[1;33m\u001b[0m\u001b[0m\n\u001b[1;32m----> 2\u001b[1;33m \u001b[0mMD_2\u001b[0m\u001b[1;33m[\u001b[0m\u001b[1;34m'stopword'\u001b[0m\u001b[1;33m]\u001b[0m\u001b[1;33m=\u001b[0m\u001b[0mMD_2\u001b[0m\u001b[1;33m[\u001b[0m\u001b[1;34m'Contenido'\u001b[0m\u001b[1;33m]\u001b[0m\u001b[1;33m.\u001b[0m\u001b[0mapply\u001b[0m\u001b[1;33m(\u001b[0m\u001b[1;32mlambda\u001b[0m \u001b[0mx\u001b[0m\u001b[1;33m:\u001b[0m \u001b[0mlen\u001b[0m\u001b[1;33m(\u001b[0m\u001b[1;33m[\u001b[0m\u001b[0mx\u001b[0m \u001b[1;32mfor\u001b[0m \u001b[0mx\u001b[0m \u001b[1;32min\u001b[0m \u001b[0mx\u001b[0m\u001b[1;33m.\u001b[0m\u001b[0msplit\u001b[0m\u001b[1;33m(\u001b[0m\u001b[1;33m)\u001b[0m \u001b[1;32mif\u001b[0m \u001b[0mx\u001b[0m \u001b[1;32min\u001b[0m \u001b[0mstop\u001b[0m\u001b[1;33m]\u001b[0m\u001b[1;33m)\u001b[0m\u001b[1;33m)\u001b[0m\u001b[1;33m\u001b[0m\u001b[0m\n\u001b[0m",
      "\u001b[1;31mAttributeError\u001b[0m: 'float' object has no attribute 'split'"
     ]
    }
   ],
   "source": [
    "stop = stopwords.words('spanish')\n",
    "MD_2['stopword']=MD_2['Contenido'].apply(lambda x: len([x for x in x.split() if x in stop])) "
   ]
  },
  {
   "cell_type": "markdown",
   "metadata": {},
   "source": [
    "### 01.02.Caracteres especiales"
   ]
  },
  {
   "cell_type": "code",
   "execution_count": 68,
   "metadata": {},
   "outputs": [],
   "source": [
    "MD_2['hashtag']= MD_2['Contenido'].apply(lambda x: len([x for x in x.split() if x.startswith('#')])).head()"
   ]
  },
  {
   "cell_type": "markdown",
   "metadata": {},
   "source": [
    "### 01.03.Número de numéricos"
   ]
  },
  {
   "cell_type": "code",
   "execution_count": 304,
   "metadata": {},
   "outputs": [],
   "source": [
    "MD_2['numeric']= MD_2['Contenido'].apply(lambda x: len([x for x in x.split() if x.isdigit()])).head()"
   ]
  },
  {
   "cell_type": "markdown",
   "metadata": {},
   "source": [
    "### 01.04.Número de mayúsculas"
   ]
  },
  {
   "cell_type": "code",
   "execution_count": 305,
   "metadata": {},
   "outputs": [],
   "source": [
    "MD_2['upper']= MD_2['Contenido'].apply(lambda x: len([x for x in x.split() if x.isupper()])).head()"
   ]
  },
  {
   "cell_type": "code",
   "execution_count": 306,
   "metadata": {
    "collapsed": true
   },
   "outputs": [
    {
     "data": {
      "text/html": [
       "<div>\n",
       "<style scoped>\n",
       "    .dataframe tbody tr th:only-of-type {\n",
       "        vertical-align: middle;\n",
       "    }\n",
       "\n",
       "    .dataframe tbody tr th {\n",
       "        vertical-align: top;\n",
       "    }\n",
       "\n",
       "    .dataframe thead th {\n",
       "        text-align: right;\n",
       "    }\n",
       "</style>\n",
       "<table border=\"1\" class=\"dataframe\">\n",
       "  <thead>\n",
       "    <tr style=\"text-align: right;\">\n",
       "      <th></th>\n",
       "      <th>Título</th>\n",
       "      <th>Resumen</th>\n",
       "      <th>Fecha</th>\n",
       "      <th>Contenido</th>\n",
       "      <th>word count</th>\n",
       "      <th>word_count</th>\n",
       "      <th>char_count</th>\n",
       "      <th>avg_word</th>\n",
       "      <th>stopword</th>\n",
       "      <th>hashtag</th>\n",
       "      <th>numeric</th>\n",
       "      <th>upper</th>\n",
       "    </tr>\n",
       "  </thead>\n",
       "  <tbody>\n",
       "    <tr>\n",
       "      <th>0</th>\n",
       "      <td>\\n\\tFacebook: Mauricio Diez Canseco presenta a...</td>\n",
       "      <td>\\n Mauricio Diez Canseco hizo una sesión de fo...</td>\n",
       "      <td>\\n\\t\\t6 Jun 2018 | 19:49 h\\t\\t\\n\\t</td>\n",
       "      <td>A pocos días de celebrar el Día del Padre, el ...</td>\n",
       "      <td>577</td>\n",
       "      <td>577</td>\n",
       "      <td>3248</td>\n",
       "      <td>4.690141</td>\n",
       "      <td>256</td>\n",
       "      <td>0.0</td>\n",
       "      <td>0.0</td>\n",
       "      <td>6.0</td>\n",
       "    </tr>\n",
       "    <tr>\n",
       "      <th>1</th>\n",
       "      <td>\\n\\tHija mayor de Mauricio Diez Canseco sube f...</td>\n",
       "      <td>\\n Kathie Huidobro fue el primer matrimonio de...</td>\n",
       "      <td>\\n\\t\\t23 May 2018 | 13:11 h\\t\\t\\n\\t</td>\n",
       "      <td>Hija mayor de Mauricio Diez Canseco subió un p...</td>\n",
       "      <td>783</td>\n",
       "      <td>783</td>\n",
       "      <td>3962</td>\n",
       "      <td>4.079897</td>\n",
       "      <td>392</td>\n",
       "      <td>0.0</td>\n",
       "      <td>0.0</td>\n",
       "      <td>4.0</td>\n",
       "    </tr>\n",
       "    <tr>\n",
       "      <th>2</th>\n",
       "      <td>\\n\\tHija de Mauricio Diez Canseco remece Insta...</td>\n",
       "      <td>\\n Camila, la engreída de Mauricio Diez Cansec...</td>\n",
       "      <td>\\n\\t\\t6 Ene 2018 | 14:22 h\\t\\t\\n\\t</td>\n",
       "      <td>No pertenece a la farándula local, pero el hec...</td>\n",
       "      <td>561</td>\n",
       "      <td>561</td>\n",
       "      <td>2998</td>\n",
       "      <td>4.454212</td>\n",
       "      <td>246</td>\n",
       "      <td>0.0</td>\n",
       "      <td>6.0</td>\n",
       "      <td>6.0</td>\n",
       "    </tr>\n",
       "    <tr>\n",
       "      <th>3</th>\n",
       "      <td>\\n\\tInstagram: Hija de Mauricio Diez Canseco p...</td>\n",
       "      <td>\\n \"La que puede, puede y la que no, que aplau...</td>\n",
       "      <td>\\n\\t\\t7 May 2018 | 9:56 h\\t\\t\\n\\t</td>\n",
       "      <td>La hija de Mauricio Diez Canseco está causando...</td>\n",
       "      <td>475</td>\n",
       "      <td>475</td>\n",
       "      <td>2624</td>\n",
       "      <td>4.570213</td>\n",
       "      <td>212</td>\n",
       "      <td>2.0</td>\n",
       "      <td>6.0</td>\n",
       "      <td>4.0</td>\n",
       "    </tr>\n",
       "    <tr>\n",
       "      <th>4</th>\n",
       "      <td>Instagram: hija de Mauricio Diez Canseco caut...</td>\n",
       "      <td>\\n</td>\n",
       "      <td>No encontrado</td>\n",
       "      <td>La hija de Mauricio Diez Canseco está causando...</td>\n",
       "      <td>475</td>\n",
       "      <td>475</td>\n",
       "      <td>2624</td>\n",
       "      <td>4.570213</td>\n",
       "      <td>212</td>\n",
       "      <td>2.0</td>\n",
       "      <td>6.0</td>\n",
       "      <td>4.0</td>\n",
       "    </tr>\n",
       "  </tbody>\n",
       "</table>\n",
       "</div>"
      ],
      "text/plain": [
       "                                              Título  \\\n",
       "0  \\n\\tFacebook: Mauricio Diez Canseco presenta a...   \n",
       "1  \\n\\tHija mayor de Mauricio Diez Canseco sube f...   \n",
       "2  \\n\\tHija de Mauricio Diez Canseco remece Insta...   \n",
       "3  \\n\\tInstagram: Hija de Mauricio Diez Canseco p...   \n",
       "4   Instagram: hija de Mauricio Diez Canseco caut...   \n",
       "\n",
       "                                             Resumen  \\\n",
       "0  \\n Mauricio Diez Canseco hizo una sesión de fo...   \n",
       "1  \\n Kathie Huidobro fue el primer matrimonio de...   \n",
       "2  \\n Camila, la engreída de Mauricio Diez Cansec...   \n",
       "3  \\n \"La que puede, puede y la que no, que aplau...   \n",
       "4                                                 \\n   \n",
       "\n",
       "                                 Fecha  \\\n",
       "0   \\n\\t\\t6 Jun 2018 | 19:49 h\\t\\t\\n\\t   \n",
       "1  \\n\\t\\t23 May 2018 | 13:11 h\\t\\t\\n\\t   \n",
       "2   \\n\\t\\t6 Ene 2018 | 14:22 h\\t\\t\\n\\t   \n",
       "3    \\n\\t\\t7 May 2018 | 9:56 h\\t\\t\\n\\t   \n",
       "4                        No encontrado   \n",
       "\n",
       "                                           Contenido  word count  word_count  \\\n",
       "0  A pocos días de celebrar el Día del Padre, el ...         577         577   \n",
       "1  Hija mayor de Mauricio Diez Canseco subió un p...         783         783   \n",
       "2  No pertenece a la farándula local, pero el hec...         561         561   \n",
       "3  La hija de Mauricio Diez Canseco está causando...         475         475   \n",
       "4  La hija de Mauricio Diez Canseco está causando...         475         475   \n",
       "\n",
       "   char_count  avg_word  stopword  hashtag  numeric  upper  \n",
       "0        3248  4.690141       256      0.0      0.0    6.0  \n",
       "1        3962  4.079897       392      0.0      0.0    4.0  \n",
       "2        2998  4.454212       246      0.0      6.0    6.0  \n",
       "3        2624  4.570213       212      2.0      6.0    4.0  \n",
       "4        2624  4.570213       212      2.0      6.0    4.0  "
      ]
     },
     "execution_count": 306,
     "metadata": {},
     "output_type": "execute_result"
    }
   ],
   "source": [
    "MD_2.head()"
   ]
  },
  {
   "cell_type": "markdown",
   "metadata": {},
   "source": [
    "# 02.Preprocesamiento básico"
   ]
  },
  {
   "cell_type": "markdown",
   "metadata": {},
   "source": [
    "### 02.01 Minúscula"
   ]
  },
  {
   "cell_type": "code",
   "execution_count": 94,
   "metadata": {},
   "outputs": [],
   "source": [
    "MD_2['Contenido_2'] = MD_2['Contenido'].apply(lambda x: \" \".join(x.lower() for x in x.split()))"
   ]
  },
  {
   "cell_type": "markdown",
   "metadata": {},
   "source": [
    "### 02.02 Remover puntuaciones"
   ]
  },
  {
   "cell_type": "code",
   "execution_count": 95,
   "metadata": {},
   "outputs": [],
   "source": [
    "MD_2['Contenido_2'] = MD_2['Contenido_2'].str.replace('[^\\w\\s]','')"
   ]
  },
  {
   "cell_type": "markdown",
   "metadata": {},
   "source": [
    "### 02.03 Remover StopWords"
   ]
  },
  {
   "cell_type": "code",
   "execution_count": 96,
   "metadata": {},
   "outputs": [],
   "source": [
    "from nltk.corpus import stopwords\n",
    "stop = stopwords.words('spanish')\n",
    "MD_2['Contenido_2'] = MD_2['Contenido_2'].apply(lambda x: \" \".join(x for x in x.split() if x not in stop))"
   ]
  },
  {
   "cell_type": "markdown",
   "metadata": {},
   "source": [
    "### 02.04 Remover de palabras comunes"
   ]
  },
  {
   "cell_type": "code",
   "execution_count": 82,
   "metadata": {},
   "outputs": [],
   "source": [
    "freq = pd.Series(' '.join(MD_2['Contenido_2']).split()).value_counts()[:10]"
   ]
  },
  {
   "cell_type": "code",
   "execution_count": 83,
   "metadata": {},
   "outputs": [],
   "source": [
    "freq = list(freq.index)\n",
    "MD_2['Contenido_2']=MD_2['Contenido_2'].apply(lambda x: \" \".join(x for x in x.split() if x not in freq))"
   ]
  },
  {
   "cell_type": "markdown",
   "metadata": {},
   "source": [
    "### 02.05 Remover palabras raras"
   ]
  },
  {
   "cell_type": "code",
   "execution_count": 97,
   "metadata": {
    "scrolled": true
   },
   "outputs": [],
   "source": [
    "freq = pd.Series(' '.join(MD_2['Contenido_2']).split()).value_counts()[-30:]"
   ]
  },
  {
   "cell_type": "code",
   "execution_count": 98,
   "metadata": {},
   "outputs": [],
   "source": [
    "freq = list(freq.index)\n",
    "MD_2['Contenido_2'] = MD_2['Contenido_2'].apply(lambda x: \" \".join(x for x in x.split() if x not in freq))"
   ]
  },
  {
   "cell_type": "code",
   "execution_count": 99,
   "metadata": {},
   "outputs": [
    {
     "data": {
      "text/plain": [
       "['facebook', 'año', 'además', 'video', 'así', 'día', 'años', 'día']"
      ]
     },
     "execution_count": 99,
     "metadata": {},
     "output_type": "execute_result"
    }
   ],
   "source": [
    "#Listado de palabras raras\n",
    "raras = list(['facebook','año','además','video','así','día','años','día'])\n",
    "raras"
   ]
  },
  {
   "cell_type": "code",
   "execution_count": 100,
   "metadata": {},
   "outputs": [],
   "source": [
    "MD_2['Contenido_2'] = MD_2['Contenido_2'].apply(lambda x: \" \".join(x for x in x.split() if x not in raras))"
   ]
  },
  {
   "cell_type": "markdown",
   "metadata": {},
   "source": [
    "### 02.06 Correcciones ortográficas"
   ]
  },
  {
   "cell_type": "code",
   "execution_count": 1,
   "metadata": {},
   "outputs": [],
   "source": [
    "from textblob import TextBlob "
   ]
  },
  {
   "cell_type": "markdown",
   "metadata": {},
   "source": [
    "# Nube de palabras\n"
   ]
  },
  {
   "cell_type": "code",
   "execution_count": 106,
   "metadata": {},
   "outputs": [
    {
     "ename": "TypeError",
     "evalue": "'str' object is not callable",
     "output_type": "error",
     "traceback": [
      "\u001b[1;31m---------------------------------------------------------------------------\u001b[0m",
      "\u001b[1;31mTypeError\u001b[0m                                 Traceback (most recent call last)",
      "\u001b[1;32m<ipython-input-106-b3a4f416957b>\u001b[0m in \u001b[0;36m<module>\u001b[1;34m()\u001b[0m\n\u001b[0;32m     49\u001b[0m \u001b[0mplt\u001b[0m\u001b[1;33m.\u001b[0m\u001b[0mtitle\u001b[0m\u001b[1;33m(\u001b[0m\u001b[1;34m\"Custom colors\"\u001b[0m\u001b[1;33m)\u001b[0m\u001b[1;33m\u001b[0m\u001b[0m\n\u001b[0;32m     50\u001b[0m \u001b[1;31m#plt.imshow(wc.recolor(color_func=grey_color_func, random_state=3),interpolation=\"bilinear\")\u001b[0m\u001b[1;33m\u001b[0m\u001b[1;33m\u001b[0m\u001b[0m\n\u001b[1;32m---> 51\u001b[1;33m \u001b[0mplt\u001b[0m\u001b[1;33m.\u001b[0m\u001b[0mimshow\u001b[0m\u001b[1;33m(\u001b[0m\u001b[0mwc\u001b[0m\u001b[1;33m.\u001b[0m\u001b[0mrecolor\u001b[0m\u001b[1;33m(\u001b[0m\u001b[0mcolor_func\u001b[0m\u001b[1;33m=\u001b[0m\u001b[1;34m'hsl(0,100%,100%)'\u001b[0m\u001b[1;33m,\u001b[0m \u001b[0mrandom_state\u001b[0m\u001b[1;33m=\u001b[0m\u001b[1;36m3\u001b[0m\u001b[1;33m)\u001b[0m\u001b[1;33m,\u001b[0m\u001b[0minterpolation\u001b[0m\u001b[1;33m=\u001b[0m\u001b[1;34m\"bilinear\"\u001b[0m\u001b[1;33m)\u001b[0m\u001b[1;33m\u001b[0m\u001b[0m\n\u001b[0m\u001b[0;32m     52\u001b[0m \u001b[0mwc\u001b[0m\u001b[1;33m.\u001b[0m\u001b[0mto_file\u001b[0m\u001b[1;33m(\u001b[0m\u001b[1;34m\"a_new_hope.png\"\u001b[0m\u001b[1;33m)\u001b[0m\u001b[1;33m\u001b[0m\u001b[0m\n\u001b[0;32m     53\u001b[0m \u001b[0mplt\u001b[0m\u001b[1;33m.\u001b[0m\u001b[0maxis\u001b[0m\u001b[1;33m(\u001b[0m\u001b[1;34m\"off\"\u001b[0m\u001b[1;33m)\u001b[0m\u001b[1;33m\u001b[0m\u001b[0m\n",
      "\u001b[1;32mC:\\ProgramData\\Anaconda3\\lib\\site-packages\\wordcloud\\wordcloud.py\u001b[0m in \u001b[0;36mrecolor\u001b[1;34m(self, random_state, color_func, colormap)\u001b[0m\n\u001b[0;32m    673\u001b[0m                                     font_path=self.font_path))\n\u001b[0;32m    674\u001b[0m                         \u001b[1;32mfor\u001b[0m \u001b[0mword_freq\u001b[0m\u001b[1;33m,\u001b[0m \u001b[0mfont_size\u001b[0m\u001b[1;33m,\u001b[0m \u001b[0mposition\u001b[0m\u001b[1;33m,\u001b[0m \u001b[0morientation\u001b[0m\u001b[1;33m,\u001b[0m \u001b[0m_\u001b[0m\u001b[1;33m\u001b[0m\u001b[0m\n\u001b[1;32m--> 675\u001b[1;33m                         in self.layout_]\n\u001b[0m\u001b[0;32m    676\u001b[0m         \u001b[1;32mreturn\u001b[0m \u001b[0mself\u001b[0m\u001b[1;33m\u001b[0m\u001b[0m\n\u001b[0;32m    677\u001b[0m \u001b[1;33m\u001b[0m\u001b[0m\n",
      "\u001b[1;32mC:\\ProgramData\\Anaconda3\\lib\\site-packages\\wordcloud\\wordcloud.py\u001b[0m in \u001b[0;36m<listcomp>\u001b[1;34m(.0)\u001b[0m\n\u001b[0;32m    672\u001b[0m                                     \u001b[0mrandom_state\u001b[0m\u001b[1;33m=\u001b[0m\u001b[0mrandom_state\u001b[0m\u001b[1;33m,\u001b[0m\u001b[1;33m\u001b[0m\u001b[0m\n\u001b[0;32m    673\u001b[0m                                     font_path=self.font_path))\n\u001b[1;32m--> 674\u001b[1;33m                         \u001b[1;32mfor\u001b[0m \u001b[0mword_freq\u001b[0m\u001b[1;33m,\u001b[0m \u001b[0mfont_size\u001b[0m\u001b[1;33m,\u001b[0m \u001b[0mposition\u001b[0m\u001b[1;33m,\u001b[0m \u001b[0morientation\u001b[0m\u001b[1;33m,\u001b[0m \u001b[0m_\u001b[0m\u001b[1;33m\u001b[0m\u001b[0m\n\u001b[0m\u001b[0;32m    675\u001b[0m                         in self.layout_]\n\u001b[0;32m    676\u001b[0m         \u001b[1;32mreturn\u001b[0m \u001b[0mself\u001b[0m\u001b[1;33m\u001b[0m\u001b[0m\n",
      "\u001b[1;31mTypeError\u001b[0m: 'str' object is not callable"
     ]
    },
    {
     "data": {
      "image/png": "[encoded data removed]",
      "text/plain": [
       "<Figure size 432x288 with 1 Axes>"
      ]
     },
     "metadata": {},
     "output_type": "display_data"
    }
   ],
   "source": [
    "#!/usr/bin/env python\n",
    "\"\"\"\n",
    "Using custom colors\n",
    "===================\n",
    "Using the recolor method and custom coloring functions.\n",
    "\"\"\"\n",
    "\n",
    "import numpy as np\n",
    "from PIL import Image\n",
    "from os import path\n",
    "import matplotlib.pyplot as plt\n",
    "import os\n",
    "import random\n",
    "\n",
    "from wordcloud import WordCloud, STOPWORDS\n",
    "\n",
    "\n",
    "def grey_color_func(word, font_size, position, orientation, random_state=None,\n",
    "                    **kwargs):\n",
    "    return \"hsl(0, 0%%, %d%%)\" % random.randint(80, 100)\n",
    "\n",
    "\n",
    "# get data directory (using getcwd() is needed to support running example in generated IPython notebook)\n",
    "d = path.dirname(__file__) if \"__file__\" in locals() else os.getcwd()\n",
    "\n",
    "# read the mask image taken from\n",
    "# http://www.stencilry.org/stencils/movies/star%20wars/storm-trooper.gif\n",
    "mask = np.array(Image.open(path.join(d, \"stormtrooper_mask.png\")))\n",
    "\n",
    "# movie script of \"a new hope\"\n",
    "# http://www.imsdb.com/scripts/Star-Wars-A-New-Hope.html\n",
    "# May the lawyers deem this fair use.\n",
    "text = \" \".join( MD_2['Contenido_2'])\n",
    "#text = open(path.join(d, 'a_new_hope.txt')).read()\n",
    "\n",
    "# pre-processing the text a little bit\n",
    "#text = text.replace(\"HAN\", \"Han\")\n",
    "#text = text.replace(\"LUKE'S\", \"Luke\")\n",
    "\n",
    "# adding movie script specific stopwords\n",
    "stopwords = set(STOPWORDS)\n",
    "stopwords.add(\"int\")\n",
    "stopwords.add(\"ext\")\n",
    "\n",
    "wc = WordCloud(max_words=1000, mask=mask, stopwords=stopwords, margin=10,\n",
    "               random_state=1).generate(text)\n",
    "# store default colored image\n",
    "default_colors = wc.to_array()\n",
    "plt.title(\"Custom colors\")\n",
    "plt.imshow(wc.recolor(color_func=grey_color_func, random_state=3),interpolation=\"bilinear\",)\n",
    "#plt.imshow(wc.recolor(color_func='hsl(0,100%,100%)', random_state=3),interpolation=\"bilinear\")\n",
    "wc.to_file(\"a_new_hope.png\")\n",
    "plt.axis(\"off\")\n",
    "plt.figure()\n",
    "plt.title(\"Default colors\")\n",
    "plt.imshow(default_colors, interpolation=\"bilinear\")\n",
    "plt.axis(\"off\")\n",
    "plt.show()"
   ]
  },
  {
   "cell_type": "code",
   "execution_count": 107,
   "metadata": {},
   "outputs": [
    {
     "data": {
      "image/png": "[encoded data removed]",
      "text/plain": [
       "<Figure size 432x288 with 1 Axes>"
      ]
     },
     "metadata": {},
     "output_type": "display_data"
    }
   ],
   "source": [
    "#!/usr/bin/env python\n",
    "\"\"\"\n",
    "Colored by Group Example\n",
    "========================\n",
    "Generating a word cloud that assigns colors to words based on\n",
    "a predefined mapping from colors to words\n",
    "\"\"\"\n",
    "\n",
    "from wordcloud import (WordCloud, get_single_color_func)\n",
    "import matplotlib.pyplot as plt\n",
    "\n",
    "\n",
    "class SimpleGroupedColorFunc(object):\n",
    "    \"\"\"Create a color function object which assigns EXACT colors\n",
    "       to certain words based on the color to words mapping\n",
    "       Parameters\n",
    "       ----------\n",
    "       color_to_words : dict(str -> list(str))\n",
    "         A dictionary that maps a color to the list of words.\n",
    "       default_color : str\n",
    "         Color that will be assigned to a word that's not a member\n",
    "         of any value from color_to_words.\n",
    "    \"\"\"\n",
    "\n",
    "    def __init__(self, color_to_words, default_color):\n",
    "        self.word_to_color = {word: color\n",
    "                              for (color, words) in color_to_words.items()\n",
    "                              for word in words}\n",
    "\n",
    "        self.default_color = default_color\n",
    "\n",
    "    def __call__(self, word, **kwargs):\n",
    "        return self.word_to_color.get(word, self.default_color)\n",
    "\n",
    "\n",
    "class GroupedColorFunc(object):\n",
    "    \"\"\"Create a color function object which assigns DIFFERENT SHADES of\n",
    "       specified colors to certain words based on the color to words mapping.\n",
    "       Uses wordcloud.get_single_color_func\n",
    "       Parameters\n",
    "       ----------\n",
    "       color_to_words : dict(str -> list(str))\n",
    "         A dictionary that maps a color to the list of words.\n",
    "       default_color : str\n",
    "         Color that will be assigned to a word that's not a member\n",
    "         of any value from color_to_words.\n",
    "    \"\"\"\n",
    "\n",
    "    def __init__(self, color_to_words, default_color):\n",
    "        self.color_func_to_words = [\n",
    "            (get_single_color_func(color), set(words))\n",
    "            for (color, words) in color_to_words.items()]\n",
    "\n",
    "        self.default_color_func = get_single_color_func(default_color)\n",
    "\n",
    "    def get_color_func(self, word):\n",
    "        \"\"\"Returns a single_color_func associated with the word\"\"\"\n",
    "        try:\n",
    "            color_func = next(\n",
    "                color_func for (color_func, words) in self.color_func_to_words\n",
    "                if word in words)\n",
    "        except StopIteration:\n",
    "            color_func = self.default_color_func\n",
    "\n",
    "        return color_func\n",
    "\n",
    "    def __call__(self, word, **kwargs):\n",
    "        return self.get_color_func(word)(word, **kwargs)\n",
    "\n",
    "\n",
    "text = \"\"\"The Zen of Python, by Tim Peters\n",
    "Beautiful is better than ugly.\n",
    "Explicit is better than implicit.\n",
    "Simple is better than complex.\n",
    "Complex is better than complicated.\n",
    "Flat is better than nested.\n",
    "Sparse is better than dense.\n",
    "Readability counts.\n",
    "Special cases aren't special enough to break the rules.\n",
    "Although practicality beats purity.\n",
    "Errors should never pass silently.\n",
    "Unless explicitly silenced.\n",
    "In the face of ambiguity, refuse the temptation to guess.\n",
    "There should be one-- and preferably only one --obvious way to do it.\n",
    "Although that way may not be obvious at first unless you're Dutch.\n",
    "Now is better than never.\n",
    "Although never is often better than *right* now.\n",
    "If the implementation is hard to explain, it's a bad idea.\n",
    "If the implementation is easy to explain, it may be a good idea.\n",
    "Namespaces are one honking great idea -- let's do more of those!\"\"\"\n",
    "\n",
    "# Since the text is small collocations are turned off and text is lower-cased\n",
    "wc = WordCloud(collocations=False).generate(text.lower())\n",
    "\n",
    "color_to_words = {\n",
    "    # words below will be colored with a green single color function\n",
    "    '#00ff00': ['beautiful', 'explicit', 'simple', 'sparse',\n",
    "                'readability', 'rules', 'practicality',\n",
    "                'explicitly', 'one', 'now', 'easy', 'obvious', 'better'],\n",
    "    # will be colored with a red single color function\n",
    "    'red': ['ugly', 'implicit', 'complex', 'complicated', 'nested',\n",
    "            'dense', 'special', 'errors', 'silently', 'ambiguity',\n",
    "            'guess', 'hard']\n",
    "}\n",
    "\n",
    "# Words that are not in any of the color_to_words values\n",
    "# will be colored with a grey single color function\n",
    "default_color = 'grey'\n",
    "\n",
    "# Create a color function with single tone\n",
    "# grouped_color_func = SimpleGroupedColorFunc(color_to_words, default_color)\n",
    "\n",
    "# Create a color function with multiple tones\n",
    "grouped_color_func = GroupedColorFunc(color_to_words, default_color)\n",
    "\n",
    "# Apply our color function\n",
    "wc.recolor(color_func=grouped_color_func)\n",
    "\n",
    "# Plot\n",
    "plt.figure()\n",
    "plt.imshow(wc, interpolation=\"bilinear\")\n",
    "plt.axis(\"off\")\n",
    "plt.show()"
   ]
  },
  {
   "cell_type": "code",
   "execution_count": null,
   "metadata": {},
   "outputs": [],
   "source": [
    "from os import path\n",
    "from PIL import Image\n",
    "import numpy as np\n",
    "import matplotlib.pyplot as plt\n",
    "import os\n",
    "\n",
    "from wordcloud import WordCloud, STOPWORDS, ImageColorGenerator\n",
    "\n",
    "# get data directory (using getcwd() is needed to support running example in generated IPython notebook)\n",
    "d = path.dirname(__file__) if \"__file__\" in locals() else os.getcwd()\n",
    "\n",
    "# Read the whole text.\n",
    "text = open(path.join(d, 'alice.txt')).read()\n",
    "\n",
    "# read the mask / color image taken from\n",
    "# http://jirkavinse.deviantart.com/art/quot-Real-Life-quot-Alice-282261010\n",
    "alice_coloring = np.array(Image.open(path.join(d, \"alice_color.png\")))\n",
    "stopwords = set(STOPWORDS)\n",
    "stopwords.add(\"said\")\n",
    "\n",
    "wc = WordCloud(background_color=\"white\", max_words=2000, mask=alice_coloring,\n",
    "               stopwords=stopwords, max_font_size=40, random_state=42)\n",
    "# generate word cloud\n",
    "wc.generate(text)\n",
    "\n",
    "# create coloring from image\n",
    "image_colors = ImageColorGenerator(alice_coloring)\n",
    "\n",
    "# show\n",
    "fig, axes = plt.subplots(1, 3)\n",
    "axes[0].imshow(wc, interpolation=\"bilinear\")\n",
    "# recolor wordcloud and show\n",
    "# we could also give color_func=image_colors directly in the constructor\n",
    "axes[1].imshow(wc.recolor(color_func=image_colors), interpolation=\"bilinear\")\n",
    "axes[2].imshow(alice_coloring, cmap=plt.cm.gray, interpolation=\"bilinear\")\n",
    "for ax in axes:\n",
    "    ax.set_axis_off()\n",
    "plt.show()"
   ]
  }
 ],
 "metadata": {
  "kernelspec": {
   "display_name": "Python 3",
   "language": "python",
   "name": "python3"
  },
  "language_info": {
   "codemirror_mode": {
    "name": "ipython",
    "version": 3
   },
   "file_extension": ".py",
   "mimetype": "text/x-python",
   "name": "python",
   "nbconvert_exporter": "python",
   "pygments_lexer": "ipython3",
   "version": "3.6.5"
  }
 },
 "nbformat": 4,
 "nbformat_minor": 2
}
