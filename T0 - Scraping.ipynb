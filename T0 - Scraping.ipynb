{
 "cells": [
  {
   "cell_type": "code",
   "execution_count": 1,
   "metadata": {},
   "outputs": [],
   "source": [
    "from bs4 import BeautifulSoup\n",
    "import requests\n",
    "import pandas as pd\n",
    "import os"
   ]
  },
  {
   "cell_type": "code",
   "execution_count": 2,
   "metadata": {},
   "outputs": [],
   "source": [
    "mainpath = \"D:/Archivos Jordan Rodriguez/Retos/11.SrMD/04.Scraping/\"\n",
    "filename = \"md.csv\"\n",
    "fullpath = os.path.join(mainpath,filename)"
   ]
  },
  {
   "cell_type": "code",
   "execution_count": 3,
   "metadata": {},
   "outputs": [
    {
     "data": {
      "text/html": [
       "<div>\n",
       "<style scoped>\n",
       "    .dataframe tbody tr th:only-of-type {\n",
       "        vertical-align: middle;\n",
       "    }\n",
       "\n",
       "    .dataframe tbody tr th {\n",
       "        vertical-align: top;\n",
       "    }\n",
       "\n",
       "    .dataframe thead th {\n",
       "        text-align: right;\n",
       "    }\n",
       "</style>\n",
       "<table border=\"1\" class=\"dataframe\">\n",
       "  <thead>\n",
       "    <tr style=\"text-align: right;\">\n",
       "      <th></th>\n",
       "      <th>sitio</th>\n",
       "      <th>url</th>\n",
       "    </tr>\n",
       "  </thead>\n",
       "  <tbody>\n",
       "    <tr>\n",
       "      <th>0</th>\n",
       "      <td>rpp</td>\n",
       "      <td>http://www.rpp.com.pe/2014-09-10-relacion-de-m...</td>\n",
       "    </tr>\n",
       "    <tr>\n",
       "      <th>1</th>\n",
       "      <td>rpp</td>\n",
       "      <td>http://www.rpp.com.pe/2014-09-30-mauricio-diez...</td>\n",
       "    </tr>\n",
       "    <tr>\n",
       "      <th>2</th>\n",
       "      <td>rpp</td>\n",
       "      <td>https://rpp.pe/famosos/celebridades/mauricio-d...</td>\n",
       "    </tr>\n",
       "    <tr>\n",
       "      <th>3</th>\n",
       "      <td>rpp</td>\n",
       "      <td>https://rpp.pe/famosos/chollywood/brad-pizza-f...</td>\n",
       "    </tr>\n",
       "    <tr>\n",
       "      <th>4</th>\n",
       "      <td>rpp</td>\n",
       "      <td>https://rpp.pe/famosos/chollywood/leslie-casti...</td>\n",
       "    </tr>\n",
       "  </tbody>\n",
       "</table>\n",
       "</div>"
      ],
      "text/plain": [
       "  sitio                                                url\n",
       "0   rpp  http://www.rpp.com.pe/2014-09-10-relacion-de-m...\n",
       "1   rpp  http://www.rpp.com.pe/2014-09-30-mauricio-diez...\n",
       "2   rpp  https://rpp.pe/famosos/celebridades/mauricio-d...\n",
       "3   rpp  https://rpp.pe/famosos/chollywood/brad-pizza-f...\n",
       "4   rpp  https://rpp.pe/famosos/chollywood/leslie-casti..."
      ]
     },
     "execution_count": 3,
     "metadata": {},
     "output_type": "execute_result"
    }
   ],
   "source": [
    "data = pd.read_csv(fullpath,sep=';')\n",
    "data.head()"
   ]
  },
  {
   "cell_type": "code",
   "execution_count": 35,
   "metadata": {},
   "outputs": [
    {
     "name": "stdout",
     "output_type": "stream",
     "text": [
      "0\n",
      "1\n",
      "2\n",
      "3\n",
      "4\n",
      "5\n",
      "6\n"
     ]
    }
   ],
   "source": [
    "titulo = []\n",
    "resumen = []\n",
    "fecha = []\n",
    "noticia = []\n",
    "for i in range(len(data)):\n",
    "    url = data[\"url\"][i]\n",
    "    req = requests.get(url)\n",
    "    status_code = req.status_code\n",
    "    if status_code == 200:\n",
    "        print(i)\n",
    "        html = BeautifulSoup(req.text, \"html.parser\")\n",
    "        header = html.find('header',class_='story-header')\n",
    "        titulo.append(header.find('h1',itemprop='headline').getText())\n",
    "        resumen.append(header.find('div',class_='sumary').getText())\n",
    "        fecha.append(header.find('time').getText())\n",
    "\n",
    "        #Identifica el cuerpo del artículo\n",
    "        contenido = html.find('div',itemprop = 'articleBody')\n",
    "        texto = contenido.find_all('p')\n",
    "        index = []\n",
    "        for i,entrada in enumerate(texto):\n",
    "           index.append(entrada.getText())\n",
    "        noticia.append(\" \".join(index))\n",
    "    else:\n",
    "        print(\"break\")\n",
    "        break\n",
    "        \n",
    "MD = pd.DataFrame({\n",
    "    \"Título\": titulo,\n",
    "    \"Fecha\": fecha,\n",
    "    \"Resumen\": resumen,\n",
    "    \"Contenido\": noticia\n",
    "    })\n",
    "\n",
    "MD.to_excel(fullpath + \"scra_.xlsx\")"
   ]
  },
  {
   "cell_type": "code",
   "execution_count": 5,
   "metadata": {},
   "outputs": [
    {
     "data": {
      "text/html": [
       "<div>\n",
       "<style scoped>\n",
       "    .dataframe tbody tr th:only-of-type {\n",
       "        vertical-align: middle;\n",
       "    }\n",
       "\n",
       "    .dataframe tbody tr th {\n",
       "        vertical-align: top;\n",
       "    }\n",
       "\n",
       "    .dataframe thead th {\n",
       "        text-align: right;\n",
       "    }\n",
       "</style>\n",
       "<table border=\"1\" class=\"dataframe\">\n",
       "  <thead>\n",
       "    <tr style=\"text-align: right;\">\n",
       "      <th></th>\n",
       "      <th>Título</th>\n",
       "      <th>Fecha</th>\n",
       "      <th>Resumen</th>\n",
       "      <th>Contenido</th>\n",
       "    </tr>\n",
       "  </thead>\n",
       "  <tbody>\n",
       "  </tbody>\n",
       "</table>\n",
       "</div>"
      ],
      "text/plain": [
       "Empty DataFrame\n",
       "Columns: [Título, Fecha, Resumen, Contenido]\n",
       "Index: []"
      ]
     },
     "execution_count": 5,
     "metadata": {},
     "output_type": "execute_result"
    }
   ],
   "source": [
    "MD"
   ]
  },
  {
   "cell_type": "code",
   "execution_count": 36,
   "metadata": {},
   "outputs": [],
   "source": [
    "\n",
    "url = \"https://trome.pe/espectaculos/instagram-mauricio-diez-canseco-hija-celulitits-piernas-responde-fotos-90191\"\n",
    "req = requests.get(url)"
   ]
  },
  {
   "cell_type": "code",
   "execution_count": 50,
   "metadata": {},
   "outputs": [
    {
     "data": {
      "text/plain": [
       "'Camila Diez Canseco  tiene 20 años pero no es ajena a las críticas. En su cuenta Instagram, la hija de Mauricio Diez Canseco tiene que soportar algunos comentarios fuera de lugar sobre su padre, su cuerpo y estilo de vida. Esta vez, vía  Instagram, Camila Diez Canseco recordó uno de sus viajes al Caribe y compartió una fotografía en la playa. Luciendo un bikini rosado en la foto, la hija de Mauricio Diez Canseco parece extrañar el verano. Pero lo que llama la atención es un comentario que recibió  Camila Diez Canseco en su cuenta Instagram. La hija del dueño de la cadena Rústica tuvo que leer que alguien jugara con la celulitis que aparecía en su pierna. Camila Diez Canseco, hija de Mauricio Diez Canseco  Camila Diez Canseco, hija de Mauricio Diez Canseco \"¿Veo celulitis o es el reflejo del agua? Jajaja\", se lee en el comentario en  Instagram. Rápidamente, la hija de Mauricio Diez Canseco respondió: \"Es celulitis, soy humana y también tengo moretones\". La sinceridad con la que respondió la pregunta del usuario en  Instagram fue aplaudida por sus seguidores. Muchos señalaron que la celulitis es un problema normal entre hombres y mujeres, y eso no quiere decir que por eso Camila Diez Canseco debe tapar su cuerpo. \"Estás divina solo las piconas opinan lo contrario\" \"Tu cuerpo te debe gustar a ti y no a los demás, muy linda\" \"Tener celulitis es normal, es lo más hermoso de una mujer\" \"La belleza de la mujer no está en detalles insignificantes , más al contrario está en la determinación, libertad y amor propio en autoestima que siente cada persona\" \"Enanez mental aquel que ve en una mujer la celulitis y más patético si viene de una mujer\"  Camila Diez Canseco, hija de Mauricio Diez Canseco  Camila Diez Canseco, hija de Mauricio Diez Canseco Si te interesó lo que acabas de leer, puedes seguir nuestras últimas publicaciones por Facebook, Twitter, y puedes suscribirte aquí a nuestro newsletter.'"
      ]
     },
     "execution_count": 50,
     "metadata": {},
     "output_type": "execute_result"
    }
   ],
   "source": [
    "html = BeautifulSoup(req.text, \"html.parser\")\n",
    "header = html.find('article',id='article-default')\n",
    "titulo = header.find('h1',class_=\"news-title \").getText()\n",
    "\n",
    "contenido = html.find('div',class_='news-body clearfix')\n",
    "texto = contenido.find_all('p')\n",
    "\n",
    "index = []\n",
    "for i,entrada in enumerate(texto):\n",
    "    index.append(entrada.getText())\n",
    "noticia = \" \".join(index)\n",
    "noticia"
   ]
  },
  {
   "cell_type": "code",
   "execution_count": 160,
   "metadata": {},
   "outputs": [
    {
     "data": {
      "text/html": [
       "<div>\n",
       "<style scoped>\n",
       "    .dataframe tbody tr th:only-of-type {\n",
       "        vertical-align: middle;\n",
       "    }\n",
       "\n",
       "    .dataframe tbody tr th {\n",
       "        vertical-align: top;\n",
       "    }\n",
       "\n",
       "    .dataframe thead th {\n",
       "        text-align: right;\n",
       "    }\n",
       "</style>\n",
       "<table border=\"1\" class=\"dataframe\">\n",
       "  <thead>\n",
       "    <tr style=\"text-align: right;\">\n",
       "      <th></th>\n",
       "      <th>Título</th>\n",
       "      <th>Fecha</th>\n",
       "      <th>Resumen</th>\n",
       "      <th>Contenido</th>\n",
       "    </tr>\n",
       "  </thead>\n",
       "  <tbody>\n",
       "    <tr>\n",
       "      <th>0</th>\n",
       "      <td>Mauricio Diez Canseco vuelve a la televisión e...</td>\n",
       "      <td>07 de agosto del 2014 - 7:24 AM\\t</td>\n",
       "      <td>El popular ´Brad Pizza´ regresa a la pantalla ...</td>\n",
       "      <td>“Construyendo esperanza”, es el nombre del pro...</td>\n",
       "    </tr>\n",
       "  </tbody>\n",
       "</table>\n",
       "</div>"
      ],
      "text/plain": [
       "                                              Título  \\\n",
       "0  Mauricio Diez Canseco vuelve a la televisión e...   \n",
       "\n",
       "                               Fecha  \\\n",
       "0  07 de agosto del 2014 - 7:24 AM\\t   \n",
       "\n",
       "                                             Resumen  \\\n",
       "0  El popular ´Brad Pizza´ regresa a la pantalla ...   \n",
       "\n",
       "                                           Contenido  \n",
       "0  “Construyendo esperanza”, es el nombre del pro...  "
      ]
     },
     "execution_count": 160,
     "metadata": {},
     "output_type": "execute_result"
    }
   ],
   "source": [
    "#Para RPP Noticias\n",
    "#Se extrae el código html de la url solicitada\n",
    "html = BeautifulSoup(req.text, \"html.parser\")\n",
    "#Identifica la cabecera que contiene la información del título, el resumen y la fecha\n",
    "header = html.find('article',id_='article-default')\n",
    "titulo.append(header.find('h1',class_=\"news-title \"))\n",
    "resumen = header.find('div',class_='sumary').getText()\n",
    "fecha = header.find('time').getText()\n",
    "\n",
    "#Identifica el cuerpo del artículo\n",
    "contenido = html.find('div',itemprop = 'articleBody')\n",
    "texto = contenido.find_all('p')\n",
    "index = []\n",
    "for i,entrada in enumerate(texto):\n",
    "   index.append(entrada.getText())\n",
    "noticia = \" \".join(index)\n",
    "\n",
    "#Creamos el data frame de los resultados\n",
    "MD = pd.DataFrame({\n",
    "    \"Título\": titulo,\n",
    "    \"Fecha\": fecha,\n",
    "    \"Resumen\": resumen,\n",
    "    \"Contenido\": noticia\n",
    "    }, index = [0])\n",
    "MD\n"
   ]
  }
 ],
 "metadata": {
  "kernelspec": {
   "display_name": "Python 3",
   "language": "python",
   "name": "python3"
  },
  "language_info": {
   "codemirror_mode": {
    "name": "ipython",
    "version": 3
   },
   "file_extension": ".py",
   "mimetype": "text/x-python",
   "name": "python",
   "nbconvert_exporter": "python",
   "pygments_lexer": "ipython3",
   "version": "3.6.5"
  }
 },
 "nbformat": 4,
 "nbformat_minor": 2
}
